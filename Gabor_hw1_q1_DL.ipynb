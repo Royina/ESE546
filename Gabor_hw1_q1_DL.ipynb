{
  "nbformat": 4,
  "nbformat_minor": 0,
  "metadata": {
    "colab": {
      "provenance": []
    },
    "kernelspec": {
      "name": "python3",
      "display_name": "Python 3"
    },
    "language_info": {
      "name": "python"
    }
  },
  "cells": [
    {
      "cell_type": "code",
      "execution_count": 1,
      "metadata": {
        "colab": {
          "base_uri": "https://localhost:8080/"
        },
        "id": "tpB43DCmiI2J",
        "outputId": "80a6da62-54a9-44eb-d59e-a041c6ecd169"
      },
      "outputs": [
        {
          "output_type": "stream",
          "name": "stderr",
          "text": [
            "/usr/local/lib/python3.10/dist-packages/sklearn/datasets/_openml.py:968: FutureWarning: The default value of `parser` will change from `'liac-arff'` to `'auto'` in 1.4. You can set `parser='auto'` to silence this warning. Therefore, an `ImportError` will be raised from 1.4 if the dataset is dense and pandas is not installed. Note that the pandas parser may return different data types. See the Notes Section in fetch_openml's API doc for details.\n",
            "  warn(\n"
          ]
        }
      ],
      "source": [
        "from sklearn.datasets import fetch_openml\n",
        "from sklearn.model_selection import train_test_split\n",
        "\n",
        "ds = fetch_openml ('mnist_784', as_frame = False )"
      ]
    },
    {
      "cell_type": "code",
      "source": [
        "import matplotlib.pyplot as plt\n",
        "import pandas as pd\n",
        "df = pd.DataFrame({'Images':list(ds.data), 'Target': ds.target})"
      ],
      "metadata": {
        "id": "6Q25JwXXiM1t"
      },
      "execution_count": 2,
      "outputs": []
    },
    {
      "cell_type": "code",
      "source": [
        "import cv2\n",
        "import numpy as np\n",
        "from sklearn.svm import SVC\n",
        "from sklearn.metrics import confusion_matrix, ConfusionMatrixDisplay\n",
        "from sklearn.model_selection import GridSearchCV"
      ],
      "metadata": {
        "id": "o2ElAxyZiTvo"
      },
      "execution_count": 3,
      "outputs": []
    },
    {
      "cell_type": "code",
      "source": [
        "train_idx = []\n",
        "val_idx = []\n",
        "for category in df.Target.unique():\n",
        "    train_idx += df[df.Target==category].sample(100).index.to_list()\n",
        "    val_idx += df[((~(df.index.isin(train_idx)))&(df.Target==category))].sample(100).index.to_list()\n",
        "train_df = df[df.index.isin(train_idx)]\n",
        "val_df = df[df.index.isin(val_idx)]\n",
        "train_df.reset_index(drop=True, inplace=True)\n",
        "val_df.reset_index(drop=True, inplace=True)\n",
        "print(train_df.shape, val_df.shape)\n",
        "train_df.Target.value_counts(), val_df.Target.value_counts()"
      ],
      "metadata": {
        "colab": {
          "base_uri": "https://localhost:8080/"
        },
        "id": "vaYe3k30ifL-",
        "outputId": "d056623c-84e3-4ab4-b07b-3499b76e5c23"
      },
      "execution_count": 4,
      "outputs": [
        {
          "output_type": "stream",
          "name": "stdout",
          "text": [
            "(1000, 2) (1000, 2)\n"
          ]
        },
        {
          "output_type": "execute_result",
          "data": {
            "text/plain": [
              "(4    100\n",
              " 8    100\n",
              " 1    100\n",
              " 9    100\n",
              " 6    100\n",
              " 3    100\n",
              " 2    100\n",
              " 7    100\n",
              " 5    100\n",
              " 0    100\n",
              " Name: Target, dtype: int64,\n",
              " 8    100\n",
              " 6    100\n",
              " 5    100\n",
              " 3    100\n",
              " 2    100\n",
              " 9    100\n",
              " 7    100\n",
              " 4    100\n",
              " 0    100\n",
              " 1    100\n",
              " Name: Target, dtype: int64)"
            ]
          },
          "metadata": {},
          "execution_count": 4
        }
      ]
    },
    {
      "cell_type": "code",
      "source": [
        "train_df['Final_Img'] = train_df.Images.apply(lambda x: cv2.resize(x.reshape((28,28)),(14,14)).flatten())\n",
        "val_df['Final_Img'] = val_df.Images.apply(lambda x: cv2.resize(x.reshape((28,28)),(14,14)).flatten())\n",
        "x = np.stack(train_df.Final_Img)\n",
        "y = train_df.Target\n",
        "x_test = np.stack(val_df.Final_Img)\n",
        "y_test = val_df.Target\n",
        "train_df.shape, x.shape, y.shape, val_df.shape, x_test.shape, y_test.shape"
      ],
      "metadata": {
        "colab": {
          "base_uri": "https://localhost:8080/"
        },
        "id": "Zpcq-eqaihxG",
        "outputId": "2a79eb31-e2cc-420e-8b04-2f0533b542b8"
      },
      "execution_count": 5,
      "outputs": [
        {
          "output_type": "stream",
          "name": "stderr",
          "text": [
            "<ipython-input-5-7d56a3136100>:1: SettingWithCopyWarning: \n",
            "A value is trying to be set on a copy of a slice from a DataFrame.\n",
            "Try using .loc[row_indexer,col_indexer] = value instead\n",
            "\n",
            "See the caveats in the documentation: https://pandas.pydata.org/pandas-docs/stable/user_guide/indexing.html#returning-a-view-versus-a-copy\n",
            "  train_df['Final_Img'] = train_df.Images.apply(lambda x: cv2.resize(x.reshape((28,28)),(14,14)).flatten())\n",
            "<ipython-input-5-7d56a3136100>:2: SettingWithCopyWarning: \n",
            "A value is trying to be set on a copy of a slice from a DataFrame.\n",
            "Try using .loc[row_indexer,col_indexer] = value instead\n",
            "\n",
            "See the caveats in the documentation: https://pandas.pydata.org/pandas-docs/stable/user_guide/indexing.html#returning-a-view-versus-a-copy\n",
            "  val_df['Final_Img'] = val_df.Images.apply(lambda x: cv2.resize(x.reshape((28,28)),(14,14)).flatten())\n"
          ]
        },
        {
          "output_type": "execute_result",
          "data": {
            "text/plain": [
              "((1000, 3), (1000, 196), (1000,), (1000, 3), (1000, 196), (1000,))"
            ]
          },
          "metadata": {},
          "execution_count": 5
        }
      ]
    },
    {
      "cell_type": "code",
      "source": [
        "plt.imshow(x[0].reshape((14,14)))"
      ],
      "metadata": {
        "colab": {
          "base_uri": "https://localhost:8080/",
          "height": 448
        },
        "id": "TtY_obtIZ8sZ",
        "outputId": "8b271f56-8a11-4f5c-8b5d-fa5c91472427"
      },
      "execution_count": 6,
      "outputs": [
        {
          "output_type": "execute_result",
          "data": {
            "text/plain": [
              "<matplotlib.image.AxesImage at 0x7c8ac0c124a0>"
            ]
          },
          "metadata": {},
          "execution_count": 6
        },
        {
          "output_type": "display_data",
          "data": {
            "text/plain": [
              "<Figure size 640x480 with 1 Axes>"
            ],
            "image/png": "[encoded data removed]"
          },
          "metadata": {}
        }
      ]
    },
    {
      "cell_type": "code",
      "source": [
        "del train_df\n",
        "del val_df\n",
        "del train_idx\n",
        "del val_idx"
      ],
      "metadata": {
        "id": "88e3-BxnikTz"
      },
      "execution_count": 7,
      "outputs": []
    },
    {
      "cell_type": "code",
      "source": [
        "from skimage.filters import gabor_kernel, gabor"
      ],
      "metadata": {
        "id": "1G4UbVGoiqGd"
      },
      "execution_count": 8,
      "outputs": []
    },
    {
      "cell_type": "code",
      "source": [
        "image = x[0].reshape((14,14))\n",
        "image.shape"
      ],
      "metadata": {
        "colab": {
          "base_uri": "https://localhost:8080/"
        },
        "id": "J4vIYz_oivhG",
        "outputId": "66ca463d-ef28-470b-fe11-e61902b8c7d7"
      },
      "execution_count": 9,
      "outputs": [
        {
          "output_type": "execute_result",
          "data": {
            "text/plain": [
              "(14, 14)"
            ]
          },
          "metadata": {},
          "execution_count": 9
        }
      ]
    },
    {
      "cell_type": "code",
      "source": [
        "freq, theta, bandwidth = 0.05, 0, 0.3\n",
        "gk = gabor_kernel(frequency = freq, theta = theta, bandwidth = bandwidth)\n",
        "coeff_real, _ = gabor(image, frequency=freq, theta = theta,\n",
        "                      bandwidth = bandwidth)\n",
        "coeff_real.shape"
      ],
      "metadata": {
        "colab": {
          "base_uri": "https://localhost:8080/"
        },
        "id": "i4ZseskZiysP",
        "outputId": "b5b205b5-41fa-4646-b85d-ae398d2f5e13"
      },
      "execution_count": 10,
      "outputs": [
        {
          "output_type": "execute_result",
          "data": {
            "text/plain": [
              "(14, 14)"
            ]
          },
          "metadata": {},
          "execution_count": 10
        }
      ]
    },
    {
      "cell_type": "code",
      "source": [
        "theta = np.arange(0, np.pi, np.pi/4)\n",
        "frequency = np.arange(0.05, 0.5, 0.15)\n",
        "bandwidth = np.arange(0.3, 1, 0.3)\n",
        "theta, frequency, bandwidth"
      ],
      "metadata": {
        "colab": {
          "base_uri": "https://localhost:8080/"
        },
        "id": "SihUPw8nismf",
        "outputId": "3f724458-4925-492c-9f76-f71a3c22a8e8"
      },
      "execution_count": 11,
      "outputs": [
        {
          "output_type": "execute_result",
          "data": {
            "text/plain": [
              "(array([0.        , 0.78539816, 1.57079633, 2.35619449]),\n",
              " array([0.05, 0.2 , 0.35]),\n",
              " array([0.3, 0.6, 0.9]))"
            ]
          },
          "metadata": {},
          "execution_count": 11
        }
      ]
    },
    {
      "cell_type": "code",
      "source": [
        "196*36+196"
      ],
      "metadata": {
        "colab": {
          "base_uri": "https://localhost:8080/"
        },
        "id": "YbdodGK6jaYC",
        "outputId": "ca9712bf-bc1a-4896-877a-9b8b9a888ee9"
      },
      "execution_count": 12,
      "outputs": [
        {
          "output_type": "execute_result",
          "data": {
            "text/plain": [
              "7252"
            ]
          },
          "metadata": {},
          "execution_count": 12
        }
      ]
    },
    {
      "cell_type": "code",
      "source": [
        "np.save('x_train.npy', x)\n",
        "np.save('y_train.npy', y)\n",
        "np.save('x_test.npy', x_test)\n",
        "np.save('y_test.npy', y_test)"
      ],
      "metadata": {
        "id": "F-xqkaJwa8Iz"
      },
      "execution_count": 13,
      "outputs": []
    },
    {
      "cell_type": "code",
      "source": [
        "%%time\n",
        "x_gabor = []\n",
        "x_test_gabor = []\n",
        "count=0\n",
        "for i in range(x.shape[0]):\n",
        "    count += 1\n",
        "    input = []\n",
        "    t_input = []\n",
        "    image = x[i].reshape((14,14))\n",
        "    t_image = x_test[i].reshape((14,14))\n",
        "    for t in theta:\n",
        "        for f in frequency:\n",
        "            for b in bandwidth:\n",
        "                # print(t,f,b)\n",
        "                gk = gabor_kernel(frequency = f, theta = t, bandwidth = b)\n",
        "                coeff_real, _ = gabor(image, frequency=f, theta = t,\n",
        "                      bandwidth = b)\n",
        "                input += [coeff_real.reshape((196))]\n",
        "\n",
        "                t_coeff_real, _ = gabor(t_image, frequency=f, theta = t,\n",
        "                      bandwidth = b)\n",
        "                t_input += [t_coeff_real.reshape((196))]\n",
        "    x_gabor += [input]\n",
        "    x_test_gabor += [t_input]\n",
        "\n",
        "    if count%100 == 0:\n",
        "      print(count)\n"
      ],
      "metadata": {
        "colab": {
          "base_uri": "https://localhost:8080/"
        },
        "id": "-AyVQffTjFWZ",
        "outputId": "557b7acb-16dd-4b01-e6c2-9da5396838f5"
      },
      "execution_count": 21,
      "outputs": [
        {
          "output_type": "stream",
          "name": "stdout",
          "text": [
            "100\n",
            "200\n",
            "300\n",
            "400\n",
            "500\n",
            "600\n",
            "700\n",
            "800\n",
            "900\n",
            "1000\n",
            "CPU times: user 1h 35min 21s, sys: 7min 42s, total: 1h 43min 4s\n",
            "Wall time: 1h 43min 16s\n"
          ]
        }
      ]
    },
    {
      "cell_type": "code",
      "source": [
        "x_gabor = np.array(x_gabor).reshape((x.shape[0], -1))\n",
        "x_test_gabor = np.array(x_test_gabor).reshape((x.shape[0], -1))\n",
        "x_gabor.shape, x_test_gabor.shape"
      ],
      "metadata": {
        "colab": {
          "base_uri": "https://localhost:8080/"
        },
        "id": "1mrvQZZF1Dpq",
        "outputId": "2c755ae5-7f99-4d90-89a9-049a774dd823"
      },
      "execution_count": 22,
      "outputs": [
        {
          "output_type": "execute_result",
          "data": {
            "text/plain": [
              "((1000, 7056), (1000, 7056))"
            ]
          },
          "metadata": {},
          "execution_count": 22
        }
      ]
    },
    {
      "cell_type": "code",
      "source": [
        "x_test_gabor[0,:]"
      ],
      "metadata": {
        "colab": {
          "base_uri": "https://localhost:8080/"
        },
        "id": "nmfaGOcJ0hg8",
        "outputId": "20573462-d6f5-41d5-e4b5-52f8435ffac6"
      },
      "execution_count": 23,
      "outputs": [
        {
          "output_type": "execute_result",
          "data": {
            "text/plain": [
              "array([-0.0320522 , -0.02901002, -0.02070705, ...,  0.26600616,\n",
              "       -0.42739144, -0.26240871])"
            ]
          },
          "metadata": {},
          "execution_count": 23
        }
      ]
    },
    {
      "cell_type": "code",
      "source": [
        "x_gabor[0,:]"
      ],
      "metadata": {
        "colab": {
          "base_uri": "https://localhost:8080/"
        },
        "id": "QnTuqQ5f0yD3",
        "outputId": "e7c8411e-6cfe-4e4a-e7fc-bb778f477aed"
      },
      "execution_count": 24,
      "outputs": [
        {
          "output_type": "execute_result",
          "data": {
            "text/plain": [
              "array([-3.72893474e-02, -2.20773216e-02, -3.79125342e-03, ...,\n",
              "        4.26717715e+00, -7.17931903e-01, -7.48719786e-01])"
            ]
          },
          "metadata": {},
          "execution_count": 24
        }
      ]
    },
    {
      "cell_type": "code",
      "source": [
        "np.save('Gabor_train_x_samples.npy', x_gabor)\n",
        "np.save('Gabor_train_y_samples.npy', y)\n",
        "np.save('Gabor_test_x_samples.npy', x_test_gabor)\n",
        "np.save('Gabor_test_y_samples.npy', y_test)"
      ],
      "metadata": {
        "id": "esTuOWux9YtB"
      },
      "execution_count": 25,
      "outputs": []
    },
    {
      "cell_type": "code",
      "source": [
        "### try scaling the input\n",
        "from sklearn.preprocessing import StandardScaler\n",
        "scaler = StandardScaler()\n",
        "X = scaler.fit_transform(x_gabor)\n",
        "X_test = scaler.transform(x_test_gabor)\n",
        "X.shape, X_test.shape"
      ],
      "metadata": {
        "colab": {
          "base_uri": "https://localhost:8080/"
        },
        "id": "OaIe9SpRD4li",
        "outputId": "c020644f-1c77-445a-af1b-988d9f3b6ad0"
      },
      "execution_count": 26,
      "outputs": [
        {
          "output_type": "execute_result",
          "data": {
            "text/plain": [
              "((1000, 7056), (1000, 7056))"
            ]
          },
          "metadata": {},
          "execution_count": 26
        }
      ]
    },
    {
      "cell_type": "code",
      "source": [
        "print(X.shape, X[827][:10])\n",
        "print(X_test.shape, X_test[827][:10])"
      ],
      "metadata": {
        "colab": {
          "base_uri": "https://localhost:8080/"
        },
        "id": "zL-cja61D6TH",
        "outputId": "fa5434ce-2665-4e8d-e7b9-40a99c515060"
      },
      "execution_count": 27,
      "outputs": [
        {
          "output_type": "stream",
          "name": "stdout",
          "text": [
            "(1000, 7056) [-0.33041446 -0.57216865 -0.92958287 -0.27347249  0.0839441   0.07694404\n",
            "  0.24440795  0.60377212  0.17981851 -0.09267731]\n",
            "(1000, 7056) [-1.21646746 -1.39156933 -1.42938191 -1.28138961 -0.44126882  0.30821698\n",
            "  1.04946994  1.33714799  1.31225484  1.19979982]\n"
          ]
        }
      ]
    },
    {
      "cell_type": "code",
      "source": [
        "print(X.shape, X[0][:10])\n",
        "print(X_test.shape, X_test[0][:10])"
      ],
      "metadata": {
        "colab": {
          "base_uri": "https://localhost:8080/"
        },
        "id": "LVsHFnAYar4b",
        "outputId": "a62467b8-006d-4219-c0bb-7eff72b27782"
      },
      "execution_count": 28,
      "outputs": [
        {
          "output_type": "stream",
          "name": "stdout",
          "text": [
            "(1000, 7056) [-0.35562012  0.5167303   1.41600316  1.28913036  0.6189284  -0.01393248\n",
            " -0.52657766 -0.04955422  0.45615573  0.8244076 ]\n",
            "(1000, 7056) [ 0.11595467 -0.16807763 -0.60930352 -1.06784412 -1.03535447 -1.03677068\n",
            " -0.76007446 -0.36374823 -0.35139719 -0.35546763]\n"
          ]
        }
      ]
    },
    {
      "cell_type": "code",
      "source": [
        "parameters = {'kernel':['linear', 'rbf'],\n",
        "              'C':[0.25, 0.5, 0.75, 1, 10],\n",
        "              'gamma': ['scale', 'auto']}\n",
        "svc = SVC()\n",
        "clf_gs = GridSearchCV(svc, parameters)\n",
        "clf_gs.fit(X, y)"
      ],
      "metadata": {
        "colab": {
          "base_uri": "https://localhost:8080/",
          "height": 117
        },
        "id": "W-OidwkRlE5u",
        "outputId": "a5660a72-b1af-498a-fe59-d5417cee2bba"
      },
      "execution_count": 29,
      "outputs": [
        {
          "output_type": "execute_result",
          "data": {
            "text/plain": [
              "GridSearchCV(estimator=SVC(),\n",
              "             param_grid={'C': [0.25, 0.5, 0.75, 1, 10],\n",
              "                         'gamma': ['scale', 'auto'],\n",
              "                         'kernel': ['linear', 'rbf']})"
            ],
            "text/html": [
              "<style>#sk-container-id-1 {color: black;background-color: white;}#sk-container-id-1 pre{padding: 0;}#sk-container-id-1 div.sk-toggleable {background-color: white;}#sk-container-id-1 label.sk-toggleable__label {cursor: pointer;display: block;width: 100%;margin-bottom: 0;padding: 0.3em;box-sizing: border-box;text-align: center;}#sk-container-id-1 label.sk-toggleable__label-arrow:before {content: \"▸\";float: left;margin-right: 0.25em;color: #696969;}#sk-container-id-1 label.sk-toggleable__label-arrow:hover:before {color: black;}#sk-container-id-1 div.sk-estimator:hover label.sk-toggleable__label-arrow:before {color: black;}#sk-container-id-1 div.sk-toggleable__content {max-height: 0;max-width: 0;overflow: hidden;text-align: left;background-color: #f0f8ff;}#sk-container-id-1 div.sk-toggleable__content pre {margin: 0.2em;color: black;border-radius: 0.25em;background-color: #f0f8ff;}#sk-container-id-1 input.sk-toggleable__control:checked~div.sk-toggleable__content {max-height: 200px;max-width: 100%;overflow: auto;}#sk-container-id-1 input.sk-toggleable__control:checked~label.sk-toggleable__label-arrow:before {content: \"▾\";}#sk-container-id-1 div.sk-estimator input.sk-toggleable__control:checked~label.sk-toggleable__label {background-color: #d4ebff;}#sk-container-id-1 div.sk-label input.sk-toggleable__control:checked~label.sk-toggleable__label {background-color: #d4ebff;}#sk-container-id-1 input.sk-hidden--visually {border: 0;clip: rect(1px 1px 1px 1px);clip: rect(1px, 1px, 1px, 1px);height: 1px;margin: -1px;overflow: hidden;padding: 0;position: absolute;width: 1px;}#sk-container-id-1 div.sk-estimator {font-family: monospace;background-color: #f0f8ff;border: 1px dotted black;border-radius: 0.25em;box-sizing: border-box;margin-bottom: 0.5em;}#sk-container-id-1 div.sk-estimator:hover {background-color: #d4ebff;}#sk-container-id-1 div.sk-parallel-item::after {content: \"\";width: 100%;border-bottom: 1px solid gray;flex-grow: 1;}#sk-container-id-1 div.sk-label:hover label.sk-toggleable__label {background-color: #d4ebff;}#sk-container-id-1 div.sk-serial::before {content: \"\";position: absolute;border-left: 1px solid gray;box-sizing: border-box;top: 0;bottom: 0;left: 50%;z-index: 0;}#sk-container-id-1 div.sk-serial {display: flex;flex-direction: column;align-items: center;background-color: white;padding-right: 0.2em;padding-left: 0.2em;position: relative;}#sk-container-id-1 div.sk-item {position: relative;z-index: 1;}#sk-container-id-1 div.sk-parallel {display: flex;align-items: stretch;justify-content: center;background-color: white;position: relative;}#sk-container-id-1 div.sk-item::before, #sk-container-id-1 div.sk-parallel-item::before {content: \"\";position: absolute;border-left: 1px solid gray;box-sizing: border-box;top: 0;bottom: 0;left: 50%;z-index: -1;}#sk-container-id-1 div.sk-parallel-item {display: flex;flex-direction: column;z-index: 1;position: relative;background-color: white;}#sk-container-id-1 div.sk-parallel-item:first-child::after {align-self: flex-end;width: 50%;}#sk-container-id-1 div.sk-parallel-item:last-child::after {align-self: flex-start;width: 50%;}#sk-container-id-1 div.sk-parallel-item:only-child::after {width: 0;}#sk-container-id-1 div.sk-dashed-wrapped {border: 1px dashed gray;margin: 0 0.4em 0.5em 0.4em;box-sizing: border-box;padding-bottom: 0.4em;background-color: white;}#sk-container-id-1 div.sk-label label {font-family: monospace;font-weight: bold;display: inline-block;line-height: 1.2em;}#sk-container-id-1 div.sk-label-container {text-align: center;}#sk-container-id-1 div.sk-container {/* jupyter's `normalize.less` sets `[hidden] { display: none; }` but bootstrap.min.css set `[hidden] { display: none !important; }` so we also need the `!important` here to be able to override the default hidden behavior on the sphinx rendered scikit-learn.org. See: https://github.com/scikit-learn/scikit-learn/issues/21755 */display: inline-block !important;position: relative;}#sk-container-id-1 div.sk-text-repr-fallback {display: none;}</style><div id=\"sk-container-id-1\" class=\"sk-top-container\"><div class=\"sk-text-repr-fallback\"><pre>GridSearchCV(estimator=SVC(),\n",
              "             param_grid={&#x27;C&#x27;: [0.25, 0.5, 0.75, 1, 10],\n",
              "                         &#x27;gamma&#x27;: [&#x27;scale&#x27;, &#x27;auto&#x27;],\n",
              "                         &#x27;kernel&#x27;: [&#x27;linear&#x27;, &#x27;rbf&#x27;]})</pre><b>In a Jupyter environment, please rerun this cell to show the HTML representation or trust the notebook. <br />On GitHub, the HTML representation is unable to render, please try loading this page with nbviewer.org.</b></div><div class=\"sk-container\" hidden><div class=\"sk-item sk-dashed-wrapped\"><div class=\"sk-label-container\"><div class=\"sk-label sk-toggleable\"><input class=\"sk-toggleable__control sk-hidden--visually\" id=\"sk-estimator-id-1\" type=\"checkbox\" ><label for=\"sk-estimator-id-1\" class=\"sk-toggleable__label sk-toggleable__label-arrow\">GridSearchCV</label><div class=\"sk-toggleable__content\"><pre>GridSearchCV(estimator=SVC(),\n",
              "             param_grid={&#x27;C&#x27;: [0.25, 0.5, 0.75, 1, 10],\n",
              "                         &#x27;gamma&#x27;: [&#x27;scale&#x27;, &#x27;auto&#x27;],\n",
              "                         &#x27;kernel&#x27;: [&#x27;linear&#x27;, &#x27;rbf&#x27;]})</pre></div></div></div><div class=\"sk-parallel\"><div class=\"sk-parallel-item\"><div class=\"sk-item\"><div class=\"sk-label-container\"><div class=\"sk-label sk-toggleable\"><input class=\"sk-toggleable__control sk-hidden--visually\" id=\"sk-estimator-id-2\" type=\"checkbox\" ><label for=\"sk-estimator-id-2\" class=\"sk-toggleable__label sk-toggleable__label-arrow\">estimator: SVC</label><div class=\"sk-toggleable__content\"><pre>SVC()</pre></div></div></div><div class=\"sk-serial\"><div class=\"sk-item\"><div class=\"sk-estimator sk-toggleable\"><input class=\"sk-toggleable__control sk-hidden--visually\" id=\"sk-estimator-id-3\" type=\"checkbox\" ><label for=\"sk-estimator-id-3\" class=\"sk-toggleable__label sk-toggleable__label-arrow\">SVC</label><div class=\"sk-toggleable__content\"><pre>SVC()</pre></div></div></div></div></div></div></div></div></div></div>"
            ]
          },
          "metadata": {},
          "execution_count": 29
        }
      ]
    },
    {
      "cell_type": "code",
      "source": [
        "pd.DataFrame(clf_gs.cv_results_)"
      ],
      "metadata": {
        "colab": {
          "base_uri": "https://localhost:8080/",
          "height": 1000
        },
        "id": "nOqQa7We_5NJ",
        "outputId": "11d4e073-0d66-4f88-a5c1-3875a8df1e91"
      },
      "execution_count": 30,
      "outputs": [
        {
          "output_type": "execute_result",
          "data": {
            "text/plain": [
              "    mean_fit_time  std_fit_time  mean_score_time  std_score_time param_C  \\\n",
              "0        0.869475      0.041860         0.396456        0.023379    0.25   \n",
              "1        2.545533      0.123344         1.301127        0.049606    0.25   \n",
              "2        0.831881      0.012040         0.416295        0.017761    0.25   \n",
              "3        2.516485      0.118239         1.319110        0.070142    0.25   \n",
              "4        0.865657      0.012682         0.431511        0.018432     0.5   \n",
              "5        2.151021      0.061734         1.272342        0.093025     0.5   \n",
              "6        0.835679      0.013421         0.407554        0.028765     0.5   \n",
              "7        2.066118      0.048754         1.207497        0.066405     0.5   \n",
              "8        0.897841      0.046047         0.438129        0.022378    0.75   \n",
              "9        1.994023      0.082243         1.158604        0.039404    0.75   \n",
              "10       0.868871      0.053640         0.419207        0.024406    0.75   \n",
              "11       1.956837      0.087765         1.173832        0.050767    0.75   \n",
              "12       0.873374      0.036523         0.396986        0.022878       1   \n",
              "13       2.021075      0.114562         1.158317        0.080200       1   \n",
              "14       0.814057      0.008979         0.379868        0.017928       1   \n",
              "15       1.952610      0.044966         1.180721        0.073657       1   \n",
              "16       0.885027      0.031971         0.403800        0.024330      10   \n",
              "17       2.085040      0.094705         1.140591        0.071661      10   \n",
              "18       0.865818      0.049547         0.420956        0.027835      10   \n",
              "19       2.108627      0.112077         1.137646        0.066029      10   \n",
              "\n",
              "   param_gamma param_kernel  \\\n",
              "0        scale       linear   \n",
              "1        scale          rbf   \n",
              "2         auto       linear   \n",
              "3         auto          rbf   \n",
              "4        scale       linear   \n",
              "5        scale          rbf   \n",
              "6         auto       linear   \n",
              "7         auto          rbf   \n",
              "8        scale       linear   \n",
              "9        scale          rbf   \n",
              "10        auto       linear   \n",
              "11        auto          rbf   \n",
              "12       scale       linear   \n",
              "13       scale          rbf   \n",
              "14        auto       linear   \n",
              "15        auto          rbf   \n",
              "16       scale       linear   \n",
              "17       scale          rbf   \n",
              "18        auto       linear   \n",
              "19        auto          rbf   \n",
              "\n",
              "                                               params  split0_test_score  \\\n",
              "0   {'C': 0.25, 'gamma': 'scale', 'kernel': 'linear'}              0.835   \n",
              "1      {'C': 0.25, 'gamma': 'scale', 'kernel': 'rbf'}              0.805   \n",
              "2    {'C': 0.25, 'gamma': 'auto', 'kernel': 'linear'}              0.835   \n",
              "3       {'C': 0.25, 'gamma': 'auto', 'kernel': 'rbf'}              0.805   \n",
              "4    {'C': 0.5, 'gamma': 'scale', 'kernel': 'linear'}              0.835   \n",
              "5       {'C': 0.5, 'gamma': 'scale', 'kernel': 'rbf'}              0.870   \n",
              "6     {'C': 0.5, 'gamma': 'auto', 'kernel': 'linear'}              0.835   \n",
              "7        {'C': 0.5, 'gamma': 'auto', 'kernel': 'rbf'}              0.870   \n",
              "8   {'C': 0.75, 'gamma': 'scale', 'kernel': 'linear'}              0.835   \n",
              "9      {'C': 0.75, 'gamma': 'scale', 'kernel': 'rbf'}              0.890   \n",
              "10   {'C': 0.75, 'gamma': 'auto', 'kernel': 'linear'}              0.835   \n",
              "11      {'C': 0.75, 'gamma': 'auto', 'kernel': 'rbf'}              0.890   \n",
              "12     {'C': 1, 'gamma': 'scale', 'kernel': 'linear'}              0.835   \n",
              "13        {'C': 1, 'gamma': 'scale', 'kernel': 'rbf'}              0.890   \n",
              "14      {'C': 1, 'gamma': 'auto', 'kernel': 'linear'}              0.835   \n",
              "15         {'C': 1, 'gamma': 'auto', 'kernel': 'rbf'}              0.890   \n",
              "16    {'C': 10, 'gamma': 'scale', 'kernel': 'linear'}              0.835   \n",
              "17       {'C': 10, 'gamma': 'scale', 'kernel': 'rbf'}              0.900   \n",
              "18     {'C': 10, 'gamma': 'auto', 'kernel': 'linear'}              0.835   \n",
              "19        {'C': 10, 'gamma': 'auto', 'kernel': 'rbf'}              0.900   \n",
              "\n",
              "    split1_test_score  split2_test_score  split3_test_score  \\\n",
              "0               0.845              0.860              0.855   \n",
              "1               0.825              0.855              0.865   \n",
              "2               0.845              0.860              0.855   \n",
              "3               0.825              0.855              0.865   \n",
              "4               0.845              0.860              0.855   \n",
              "5               0.885              0.895              0.900   \n",
              "6               0.845              0.860              0.855   \n",
              "7               0.885              0.895              0.900   \n",
              "8               0.845              0.860              0.855   \n",
              "9               0.885              0.925              0.925   \n",
              "10              0.845              0.860              0.855   \n",
              "11              0.885              0.925              0.925   \n",
              "12              0.845              0.860              0.855   \n",
              "13              0.880              0.930              0.925   \n",
              "14              0.845              0.860              0.855   \n",
              "15              0.880              0.930              0.925   \n",
              "16              0.845              0.860              0.855   \n",
              "17              0.895              0.925              0.905   \n",
              "18              0.845              0.860              0.855   \n",
              "19              0.895              0.925              0.905   \n",
              "\n",
              "    split4_test_score  mean_test_score  std_test_score  rank_test_score  \n",
              "0               0.860            0.851        0.009695                9  \n",
              "1               0.855            0.841        0.022450               19  \n",
              "2               0.860            0.851        0.009695                9  \n",
              "3               0.855            0.841        0.022450               19  \n",
              "4               0.860            0.851        0.009695                9  \n",
              "5               0.885            0.887        0.010296                7  \n",
              "6               0.860            0.851        0.009695                9  \n",
              "7               0.885            0.887        0.010296                7  \n",
              "8               0.860            0.851        0.009695                9  \n",
              "9               0.885            0.902        0.018868                5  \n",
              "10              0.860            0.851        0.009695                9  \n",
              "11              0.885            0.902        0.018868                5  \n",
              "12              0.860            0.851        0.009695                9  \n",
              "13              0.895            0.904        0.019849                3  \n",
              "14              0.860            0.851        0.009695                9  \n",
              "15              0.895            0.904        0.019849                3  \n",
              "16              0.860            0.851        0.009695                9  \n",
              "17              0.900            0.905        0.010488                1  \n",
              "18              0.860            0.851        0.009695                9  \n",
              "19              0.900            0.905        0.010488                1  "
            ],
            "text/html": [
              "\n",
              "  <div id=\"df-f120c731-4007-446a-85d5-d74788cebc4e\" class=\"colab-df-container\">\n",
              "    <div>\n",
              "<style scoped>\n",
              "    .dataframe tbody tr th:only-of-type {\n",
              "        vertical-align: middle;\n",
              "    }\n",
              "\n",
              "    .dataframe tbody tr th {\n",
              "        vertical-align: top;\n",
              "    }\n",
              "\n",
              "    .dataframe thead th {\n",
              "        text-align: right;\n",
              "    }\n",
              "</style>\n",
              "<table border=\"1\" class=\"dataframe\">\n",
              "  <thead>\n",
              "    <tr style=\"text-align: right;\">\n",
              "      <th></th>\n",
              "      <th>mean_fit_time</th>\n",
              "      <th>std_fit_time</th>\n",
              "      <th>mean_score_time</th>\n",
              "      <th>std_score_time</th>\n",
              "      <th>param_C</th>\n",
              "      <th>param_gamma</th>\n",
              "      <th>param_kernel</th>\n",
              "      <th>params</th>\n",
              "      <th>split0_test_score</th>\n",
              "      <th>split1_test_score</th>\n",
              "      <th>split2_test_score</th>\n",
              "      <th>split3_test_score</th>\n",
              "      <th>split4_test_score</th>\n",
              "      <th>mean_test_score</th>\n",
              "      <th>std_test_score</th>\n",
              "      <th>rank_test_score</th>\n",
              "    </tr>\n",
              "  </thead>\n",
              "  <tbody>\n",
              "    <tr>\n",
              "      <th>0</th>\n",
              "      <td>0.869475</td>\n",
              "      <td>0.041860</td>\n",
              "      <td>0.396456</td>\n",
              "      <td>0.023379</td>\n",
              "      <td>0.25</td>\n",
              "      <td>scale</td>\n",
              "      <td>linear</td>\n",
              "      <td>{'C': 0.25, 'gamma': 'scale', 'kernel': 'linear'}</td>\n",
              "      <td>0.835</td>\n",
              "      <td>0.845</td>\n",
              "      <td>0.860</td>\n",
              "      <td>0.855</td>\n",
              "      <td>0.860</td>\n",
              "      <td>0.851</td>\n",
              "      <td>0.009695</td>\n",
              "      <td>9</td>\n",
              "    </tr>\n",
              "    <tr>\n",
              "      <th>1</th>\n",
              "      <td>2.545533</td>\n",
              "      <td>0.123344</td>\n",
              "      <td>1.301127</td>\n",
              "      <td>0.049606</td>\n",
              "      <td>0.25</td>\n",
              "      <td>scale</td>\n",
              "      <td>rbf</td>\n",
              "      <td>{'C': 0.25, 'gamma': 'scale', 'kernel': 'rbf'}</td>\n",
              "      <td>0.805</td>\n",
              "      <td>0.825</td>\n",
              "      <td>0.855</td>\n",
              "      <td>0.865</td>\n",
              "      <td>0.855</td>\n",
              "      <td>0.841</td>\n",
              "      <td>0.022450</td>\n",
              "      <td>19</td>\n",
              "    </tr>\n",
              "    <tr>\n",
              "      <th>2</th>\n",
              "      <td>0.831881</td>\n",
              "      <td>0.012040</td>\n",
              "      <td>0.416295</td>\n",
              "      <td>0.017761</td>\n",
              "      <td>0.25</td>\n",
              "      <td>auto</td>\n",
              "      <td>linear</td>\n",
              "      <td>{'C': 0.25, 'gamma': 'auto', 'kernel': 'linear'}</td>\n",
              "      <td>0.835</td>\n",
              "      <td>0.845</td>\n",
              "      <td>0.860</td>\n",
              "      <td>0.855</td>\n",
              "      <td>0.860</td>\n",
              "      <td>0.851</td>\n",
              "      <td>0.009695</td>\n",
              "      <td>9</td>\n",
              "    </tr>\n",
              "    <tr>\n",
              "      <th>3</th>\n",
              "      <td>2.516485</td>\n",
              "      <td>0.118239</td>\n",
              "      <td>1.319110</td>\n",
              "      <td>0.070142</td>\n",
              "      <td>0.25</td>\n",
              "      <td>auto</td>\n",
              "      <td>rbf</td>\n",
              "      <td>{'C': 0.25, 'gamma': 'auto', 'kernel': 'rbf'}</td>\n",
              "      <td>0.805</td>\n",
              "      <td>0.825</td>\n",
              "      <td>0.855</td>\n",
              "      <td>0.865</td>\n",
              "      <td>0.855</td>\n",
              "      <td>0.841</td>\n",
              "      <td>0.022450</td>\n",
              "      <td>19</td>\n",
              "    </tr>\n",
              "    <tr>\n",
              "      <th>4</th>\n",
              "      <td>0.865657</td>\n",
              "      <td>0.012682</td>\n",
              "      <td>0.431511</td>\n",
              "      <td>0.018432</td>\n",
              "      <td>0.5</td>\n",
              "      <td>scale</td>\n",
              "      <td>linear</td>\n",
              "      <td>{'C': 0.5, 'gamma': 'scale', 'kernel': 'linear'}</td>\n",
              "      <td>0.835</td>\n",
              "      <td>0.845</td>\n",
              "      <td>0.860</td>\n",
              "      <td>0.855</td>\n",
              "      <td>0.860</td>\n",
              "      <td>0.851</td>\n",
              "      <td>0.009695</td>\n",
              "      <td>9</td>\n",
              "    </tr>\n",
              "    <tr>\n",
              "      <th>5</th>\n",
              "      <td>2.151021</td>\n",
              "      <td>0.061734</td>\n",
              "      <td>1.272342</td>\n",
              "      <td>0.093025</td>\n",
              "      <td>0.5</td>\n",
              "      <td>scale</td>\n",
              "      <td>rbf</td>\n",
              "      <td>{'C': 0.5, 'gamma': 'scale', 'kernel': 'rbf'}</td>\n",
              "      <td>0.870</td>\n",
              "      <td>0.885</td>\n",
              "      <td>0.895</td>\n",
              "      <td>0.900</td>\n",
              "      <td>0.885</td>\n",
              "      <td>0.887</td>\n",
              "      <td>0.010296</td>\n",
              "      <td>7</td>\n",
              "    </tr>\n",
              "    <tr>\n",
              "      <th>6</th>\n",
              "      <td>0.835679</td>\n",
              "      <td>0.013421</td>\n",
              "      <td>0.407554</td>\n",
              "      <td>0.028765</td>\n",
              "      <td>0.5</td>\n",
              "      <td>auto</td>\n",
              "      <td>linear</td>\n",
              "      <td>{'C': 0.5, 'gamma': 'auto', 'kernel': 'linear'}</td>\n",
              "      <td>0.835</td>\n",
              "      <td>0.845</td>\n",
              "      <td>0.860</td>\n",
              "      <td>0.855</td>\n",
              "      <td>0.860</td>\n",
              "      <td>0.851</td>\n",
              "      <td>0.009695</td>\n",
              "      <td>9</td>\n",
              "    </tr>\n",
              "    <tr>\n",
              "      <th>7</th>\n",
              "      <td>2.066118</td>\n",
              "      <td>0.048754</td>\n",
              "      <td>1.207497</td>\n",
              "      <td>0.066405</td>\n",
              "      <td>0.5</td>\n",
              "      <td>auto</td>\n",
              "      <td>rbf</td>\n",
              "      <td>{'C': 0.5, 'gamma': 'auto', 'kernel': 'rbf'}</td>\n",
              "      <td>0.870</td>\n",
              "      <td>0.885</td>\n",
              "      <td>0.895</td>\n",
              "      <td>0.900</td>\n",
              "      <td>0.885</td>\n",
              "      <td>0.887</td>\n",
              "      <td>0.010296</td>\n",
              "      <td>7</td>\n",
              "    </tr>\n",
              "    <tr>\n",
              "      <th>8</th>\n",
              "      <td>0.897841</td>\n",
              "      <td>0.046047</td>\n",
              "      <td>0.438129</td>\n",
              "      <td>0.022378</td>\n",
              "      <td>0.75</td>\n",
              "      <td>scale</td>\n",
              "      <td>linear</td>\n",
              "      <td>{'C': 0.75, 'gamma': 'scale', 'kernel': 'linear'}</td>\n",
              "      <td>0.835</td>\n",
              "      <td>0.845</td>\n",
              "      <td>0.860</td>\n",
              "      <td>0.855</td>\n",
              "      <td>0.860</td>\n",
              "      <td>0.851</td>\n",
              "      <td>0.009695</td>\n",
              "      <td>9</td>\n",
              "    </tr>\n",
              "    <tr>\n",
              "      <th>9</th>\n",
              "      <td>1.994023</td>\n",
              "      <td>0.082243</td>\n",
              "      <td>1.158604</td>\n",
              "      <td>0.039404</td>\n",
              "      <td>0.75</td>\n",
              "      <td>scale</td>\n",
              "      <td>rbf</td>\n",
              "      <td>{'C': 0.75, 'gamma': 'scale', 'kernel': 'rbf'}</td>\n",
              "      <td>0.890</td>\n",
              "      <td>0.885</td>\n",
              "      <td>0.925</td>\n",
              "      <td>0.925</td>\n",
              "      <td>0.885</td>\n",
              "      <td>0.902</td>\n",
              "      <td>0.018868</td>\n",
              "      <td>5</td>\n",
              "    </tr>\n",
              "    <tr>\n",
              "      <th>10</th>\n",
              "      <td>0.868871</td>\n",
              "      <td>0.053640</td>\n",
              "      <td>0.419207</td>\n",
              "      <td>0.024406</td>\n",
              "      <td>0.75</td>\n",
              "      <td>auto</td>\n",
              "      <td>linear</td>\n",
              "      <td>{'C': 0.75, 'gamma': 'auto', 'kernel': 'linear'}</td>\n",
              "      <td>0.835</td>\n",
              "      <td>0.845</td>\n",
              "      <td>0.860</td>\n",
              "      <td>0.855</td>\n",
              "      <td>0.860</td>\n",
              "      <td>0.851</td>\n",
              "      <td>0.009695</td>\n",
              "      <td>9</td>\n",
              "    </tr>\n",
              "    <tr>\n",
              "      <th>11</th>\n",
              "      <td>1.956837</td>\n",
              "      <td>0.087765</td>\n",
              "      <td>1.173832</td>\n",
              "      <td>0.050767</td>\n",
              "      <td>0.75</td>\n",
              "      <td>auto</td>\n",
              "      <td>rbf</td>\n",
              "      <td>{'C': 0.75, 'gamma': 'auto', 'kernel': 'rbf'}</td>\n",
              "      <td>0.890</td>\n",
              "      <td>0.885</td>\n",
              "      <td>0.925</td>\n",
              "      <td>0.925</td>\n",
              "      <td>0.885</td>\n",
              "      <td>0.902</td>\n",
              "      <td>0.018868</td>\n",
              "      <td>5</td>\n",
              "    </tr>\n",
              "    <tr>\n",
              "      <th>12</th>\n",
              "      <td>0.873374</td>\n",
              "      <td>0.036523</td>\n",
              "      <td>0.396986</td>\n",
              "      <td>0.022878</td>\n",
              "      <td>1</td>\n",
              "      <td>scale</td>\n",
              "      <td>linear</td>\n",
              "      <td>{'C': 1, 'gamma': 'scale', 'kernel': 'linear'}</td>\n",
              "      <td>0.835</td>\n",
              "      <td>0.845</td>\n",
              "      <td>0.860</td>\n",
              "      <td>0.855</td>\n",
              "      <td>0.860</td>\n",
              "      <td>0.851</td>\n",
              "      <td>0.009695</td>\n",
              "      <td>9</td>\n",
              "    </tr>\n",
              "    <tr>\n",
              "      <th>13</th>\n",
              "      <td>2.021075</td>\n",
              "      <td>0.114562</td>\n",
              "      <td>1.158317</td>\n",
              "      <td>0.080200</td>\n",
              "      <td>1</td>\n",
              "      <td>scale</td>\n",
              "      <td>rbf</td>\n",
              "      <td>{'C': 1, 'gamma': 'scale', 'kernel': 'rbf'}</td>\n",
              "      <td>0.890</td>\n",
              "      <td>0.880</td>\n",
              "      <td>0.930</td>\n",
              "      <td>0.925</td>\n",
              "      <td>0.895</td>\n",
              "      <td>0.904</td>\n",
              "      <td>0.019849</td>\n",
              "      <td>3</td>\n",
              "    </tr>\n",
              "    <tr>\n",
              "      <th>14</th>\n",
              "      <td>0.814057</td>\n",
              "      <td>0.008979</td>\n",
              "      <td>0.379868</td>\n",
              "      <td>0.017928</td>\n",
              "      <td>1</td>\n",
              "      <td>auto</td>\n",
              "      <td>linear</td>\n",
              "      <td>{'C': 1, 'gamma': 'auto', 'kernel': 'linear'}</td>\n",
              "      <td>0.835</td>\n",
              "      <td>0.845</td>\n",
              "      <td>0.860</td>\n",
              "      <td>0.855</td>\n",
              "      <td>0.860</td>\n",
              "      <td>0.851</td>\n",
              "      <td>0.009695</td>\n",
              "      <td>9</td>\n",
              "    </tr>\n",
              "    <tr>\n",
              "      <th>15</th>\n",
              "      <td>1.952610</td>\n",
              "      <td>0.044966</td>\n",
              "      <td>1.180721</td>\n",
              "      <td>0.073657</td>\n",
              "      <td>1</td>\n",
              "      <td>auto</td>\n",
              "      <td>rbf</td>\n",
              "      <td>{'C': 1, 'gamma': 'auto', 'kernel': 'rbf'}</td>\n",
              "      <td>0.890</td>\n",
              "      <td>0.880</td>\n",
              "      <td>0.930</td>\n",
              "      <td>0.925</td>\n",
              "      <td>0.895</td>\n",
              "      <td>0.904</td>\n",
              "      <td>0.019849</td>\n",
              "      <td>3</td>\n",
              "    </tr>\n",
              "    <tr>\n",
              "      <th>16</th>\n",
              "      <td>0.885027</td>\n",
              "      <td>0.031971</td>\n",
              "      <td>0.403800</td>\n",
              "      <td>0.024330</td>\n",
              "      <td>10</td>\n",
              "      <td>scale</td>\n",
              "      <td>linear</td>\n",
              "      <td>{'C': 10, 'gamma': 'scale', 'kernel': 'linear'}</td>\n",
              "      <td>0.835</td>\n",
              "      <td>0.845</td>\n",
              "      <td>0.860</td>\n",
              "      <td>0.855</td>\n",
              "      <td>0.860</td>\n",
              "      <td>0.851</td>\n",
              "      <td>0.009695</td>\n",
              "      <td>9</td>\n",
              "    </tr>\n",
              "    <tr>\n",
              "      <th>17</th>\n",
              "      <td>2.085040</td>\n",
              "      <td>0.094705</td>\n",
              "      <td>1.140591</td>\n",
              "      <td>0.071661</td>\n",
              "      <td>10</td>\n",
              "      <td>scale</td>\n",
              "      <td>rbf</td>\n",
              "      <td>{'C': 10, 'gamma': 'scale', 'kernel': 'rbf'}</td>\n",
              "      <td>0.900</td>\n",
              "      <td>0.895</td>\n",
              "      <td>0.925</td>\n",
              "      <td>0.905</td>\n",
              "      <td>0.900</td>\n",
              "      <td>0.905</td>\n",
              "      <td>0.010488</td>\n",
              "      <td>1</td>\n",
              "    </tr>\n",
              "    <tr>\n",
              "      <th>18</th>\n",
              "      <td>0.865818</td>\n",
              "      <td>0.049547</td>\n",
              "      <td>0.420956</td>\n",
              "      <td>0.027835</td>\n",
              "      <td>10</td>\n",
              "      <td>auto</td>\n",
              "      <td>linear</td>\n",
              "      <td>{'C': 10, 'gamma': 'auto', 'kernel': 'linear'}</td>\n",
              "      <td>0.835</td>\n",
              "      <td>0.845</td>\n",
              "      <td>0.860</td>\n",
              "      <td>0.855</td>\n",
              "      <td>0.860</td>\n",
              "      <td>0.851</td>\n",
              "      <td>0.009695</td>\n",
              "      <td>9</td>\n",
              "    </tr>\n",
              "    <tr>\n",
              "      <th>19</th>\n",
              "      <td>2.108627</td>\n",
              "      <td>0.112077</td>\n",
              "      <td>1.137646</td>\n",
              "      <td>0.066029</td>\n",
              "      <td>10</td>\n",
              "      <td>auto</td>\n",
              "      <td>rbf</td>\n",
              "      <td>{'C': 10, 'gamma': 'auto', 'kernel': 'rbf'}</td>\n",
              "      <td>0.900</td>\n",
              "      <td>0.895</td>\n",
              "      <td>0.925</td>\n",
              "      <td>0.905</td>\n",
              "      <td>0.900</td>\n",
              "      <td>0.905</td>\n",
              "      <td>0.010488</td>\n",
              "      <td>1</td>\n",
              "    </tr>\n",
              "  </tbody>\n",
              "</table>\n",
              "</div>\n",
              "    <div class=\"colab-df-buttons\">\n",
              "\n",
              "  <div class=\"colab-df-container\">\n",
              "    <button class=\"colab-df-convert\" onclick=\"convertToInteractive('df-f120c731-4007-446a-85d5-d74788cebc4e')\"\n",
              "            title=\"Convert this dataframe to an interactive table.\"\n",
              "            style=\"display:none;\">\n",
              "\n",
              "  <svg xmlns=\"http://www.w3.org/2000/svg\" height=\"24px\" viewBox=\"0 -960 960 960\">\n",
              "    <path d=\"M120-120v-720h720v720H120Zm60-500h600v-160H180v160Zm220 220h160v-160H400v160Zm0 220h160v-160H400v160ZM180-400h160v-160H180v160Zm440 0h160v-160H620v160ZM180-180h160v-160H180v160Zm440 0h160v-160H620v160Z\"/>\n",
              "  </svg>\n",
              "    </button>\n",
              "\n",
              "  <style>\n",
              "    .colab-df-container {\n",
              "      display:flex;\n",
              "      gap: 12px;\n",
              "    }\n",
              "\n",
              "    .colab-df-convert {\n",
              "      background-color: #E8F0FE;\n",
              "      border: none;\n",
              "      border-radius: 50%;\n",
              "      cursor: pointer;\n",
              "      display: none;\n",
              "      fill: #1967D2;\n",
              "      height: 32px;\n",
              "      padding: 0 0 0 0;\n",
              "      width: 32px;\n",
              "    }\n",
              "\n",
              "    .colab-df-convert:hover {\n",
              "      background-color: #E2EBFA;\n",
              "      box-shadow: 0px 1px 2px rgba(60, 64, 67, 0.3), 0px 1px 3px 1px rgba(60, 64, 67, 0.15);\n",
              "      fill: #174EA6;\n",
              "    }\n",
              "\n",
              "    .colab-df-buttons div {\n",
              "      margin-bottom: 4px;\n",
              "    }\n",
              "\n",
              "    [theme=dark] .colab-df-convert {\n",
              "      background-color: #3B4455;\n",
              "      fill: #D2E3FC;\n",
              "    }\n",
              "\n",
              "    [theme=dark] .colab-df-convert:hover {\n",
              "      background-color: #434B5C;\n",
              "      box-shadow: 0px 1px 3px 1px rgba(0, 0, 0, 0.15);\n",
              "      filter: drop-shadow(0px 1px 2px rgba(0, 0, 0, 0.3));\n",
              "      fill: #FFFFFF;\n",
              "    }\n",
              "  </style>\n",
              "\n",
              "    <script>\n",
              "      const buttonEl =\n",
              "        document.querySelector('#df-f120c731-4007-446a-85d5-d74788cebc4e button.colab-df-convert');\n",
              "      buttonEl.style.display =\n",
              "        google.colab.kernel.accessAllowed ? 'block' : 'none';\n",
              "\n",
              "      async function convertToInteractive(key) {\n",
              "        const element = document.querySelector('#df-f120c731-4007-446a-85d5-d74788cebc4e');\n",
              "        const dataTable =\n",
              "          await google.colab.kernel.invokeFunction('convertToInteractive',\n",
              "                                                    [key], {});\n",
              "        if (!dataTable) return;\n",
              "\n",
              "        const docLinkHtml = 'Like what you see? Visit the ' +\n",
              "          '<a target=\"_blank\" href=https://colab.research.google.com/notebooks/data_table.ipynb>data table notebook</a>'\n",
              "          + ' to learn more about interactive tables.';\n",
              "        element.innerHTML = '';\n",
              "        dataTable['output_type'] = 'display_data';\n",
              "        await google.colab.output.renderOutput(dataTable, element);\n",
              "        const docLink = document.createElement('div');\n",
              "        docLink.innerHTML = docLinkHtml;\n",
              "        element.appendChild(docLink);\n",
              "      }\n",
              "    </script>\n",
              "  </div>\n",
              "\n",
              "\n",
              "<div id=\"df-0ff3b1de-cd30-4a06-9eac-b8ba5e244237\">\n",
              "  <button class=\"colab-df-quickchart\" onclick=\"quickchart('df-0ff3b1de-cd30-4a06-9eac-b8ba5e244237')\"\n",
              "            title=\"Suggest charts.\"\n",
              "            style=\"display:none;\">\n",
              "\n",
              "<svg xmlns=\"http://www.w3.org/2000/svg\" height=\"24px\"viewBox=\"0 0 24 24\"\n",
              "     width=\"24px\">\n",
              "    <g>\n",
              "        <path d=\"M19 3H5c-1.1 0-2 .9-2 2v14c0 1.1.9 2 2 2h14c1.1 0 2-.9 2-2V5c0-1.1-.9-2-2-2zM9 17H7v-7h2v7zm4 0h-2V7h2v10zm4 0h-2v-4h2v4z\"/>\n",
              "    </g>\n",
              "</svg>\n",
              "  </button>\n",
              "\n",
              "<style>\n",
              "  .colab-df-quickchart {\n",
              "      --bg-color: #E8F0FE;\n",
              "      --fill-color: #1967D2;\n",
              "      --hover-bg-color: #E2EBFA;\n",
              "      --hover-fill-color: #174EA6;\n",
              "      --disabled-fill-color: #AAA;\n",
              "      --disabled-bg-color: #DDD;\n",
              "  }\n",
              "\n",
              "  [theme=dark] .colab-df-quickchart {\n",
              "      --bg-color: #3B4455;\n",
              "      --fill-color: #D2E3FC;\n",
              "      --hover-bg-color: #434B5C;\n",
              "      --hover-fill-color: #FFFFFF;\n",
              "      --disabled-bg-color: #3B4455;\n",
              "      --disabled-fill-color: #666;\n",
              "  }\n",
              "\n",
              "  .colab-df-quickchart {\n",
              "    background-color: var(--bg-color);\n",
              "    border: none;\n",
              "    border-radius: 50%;\n",
              "    cursor: pointer;\n",
              "    display: none;\n",
              "    fill: var(--fill-color);\n",
              "    height: 32px;\n",
              "    padding: 0;\n",
              "    width: 32px;\n",
              "  }\n",
              "\n",
              "  .colab-df-quickchart:hover {\n",
              "    background-color: var(--hover-bg-color);\n",
              "    box-shadow: 0 1px 2px rgba(60, 64, 67, 0.3), 0 1px 3px 1px rgba(60, 64, 67, 0.15);\n",
              "    fill: var(--button-hover-fill-color);\n",
              "  }\n",
              "\n",
              "  .colab-df-quickchart-complete:disabled,\n",
              "  .colab-df-quickchart-complete:disabled:hover {\n",
              "    background-color: var(--disabled-bg-color);\n",
              "    fill: var(--disabled-fill-color);\n",
              "    box-shadow: none;\n",
              "  }\n",
              "\n",
              "  .colab-df-spinner {\n",
              "    border: 2px solid var(--fill-color);\n",
              "    border-color: transparent;\n",
              "    border-bottom-color: var(--fill-color);\n",
              "    animation:\n",
              "      spin 1s steps(1) infinite;\n",
              "  }\n",
              "\n",
              "  @keyframes spin {\n",
              "    0% {\n",
              "      border-color: transparent;\n",
              "      border-bottom-color: var(--fill-color);\n",
              "      border-left-color: var(--fill-color);\n",
              "    }\n",
              "    20% {\n",
              "      border-color: transparent;\n",
              "      border-left-color: var(--fill-color);\n",
              "      border-top-color: var(--fill-color);\n",
              "    }\n",
              "    30% {\n",
              "      border-color: transparent;\n",
              "      border-left-color: var(--fill-color);\n",
              "      border-top-color: var(--fill-color);\n",
              "      border-right-color: var(--fill-color);\n",
              "    }\n",
              "    40% {\n",
              "      border-color: transparent;\n",
              "      border-right-color: var(--fill-color);\n",
              "      border-top-color: var(--fill-color);\n",
              "    }\n",
              "    60% {\n",
              "      border-color: transparent;\n",
              "      border-right-color: var(--fill-color);\n",
              "    }\n",
              "    80% {\n",
              "      border-color: transparent;\n",
              "      border-right-color: var(--fill-color);\n",
              "      border-bottom-color: var(--fill-color);\n",
              "    }\n",
              "    90% {\n",
              "      border-color: transparent;\n",
              "      border-bottom-color: var(--fill-color);\n",
              "    }\n",
              "  }\n",
              "</style>\n",
              "\n",
              "  <script>\n",
              "    async function quickchart(key) {\n",
              "      const quickchartButtonEl =\n",
              "        document.querySelector('#' + key + ' button');\n",
              "      quickchartButtonEl.disabled = true;  // To prevent multiple clicks.\n",
              "      quickchartButtonEl.classList.add('colab-df-spinner');\n",
              "      try {\n",
              "        const charts = await google.colab.kernel.invokeFunction(\n",
              "            'suggestCharts', [key], {});\n",
              "      } catch (error) {\n",
              "        console.error('Error during call to suggestCharts:', error);\n",
              "      }\n",
              "      quickchartButtonEl.classList.remove('colab-df-spinner');\n",
              "      quickchartButtonEl.classList.add('colab-df-quickchart-complete');\n",
              "    }\n",
              "    (() => {\n",
              "      let quickchartButtonEl =\n",
              "        document.querySelector('#df-0ff3b1de-cd30-4a06-9eac-b8ba5e244237 button');\n",
              "      quickchartButtonEl.style.display =\n",
              "        google.colab.kernel.accessAllowed ? 'block' : 'none';\n",
              "    })();\n",
              "  </script>\n",
              "</div>\n",
              "    </div>\n",
              "  </div>\n"
            ]
          },
          "metadata": {},
          "execution_count": 30
        }
      ]
    },
    {
      "cell_type": "code",
      "source": [
        "clf_gs.best_score_, clf_gs.best_params_"
      ],
      "metadata": {
        "colab": {
          "base_uri": "https://localhost:8080/"
        },
        "id": "Z2iVOpJ1mbL3",
        "outputId": "0003720c-350c-4ef9-8fa9-f20f0c09a404"
      },
      "execution_count": 31,
      "outputs": [
        {
          "output_type": "execute_result",
          "data": {
            "text/plain": [
              "(0.905, {'C': 10, 'gamma': 'scale', 'kernel': 'rbf'})"
            ]
          },
          "metadata": {},
          "execution_count": 31
        }
      ]
    },
    {
      "cell_type": "code",
      "source": [
        "clf = SVC(gamma='scale', C=10, kernel = 'rbf')\n",
        "clf.fit(X, y)"
      ],
      "metadata": {
        "colab": {
          "base_uri": "https://localhost:8080/",
          "height": 74
        },
        "id": "xQaB6ac3mhD6",
        "outputId": "d191296c-c0dd-4aba-ad2a-b08dd5ebd01e"
      },
      "execution_count": 36,
      "outputs": [
        {
          "output_type": "execute_result",
          "data": {
            "text/plain": [
              "SVC(C=10)"
            ],
            "text/html": [
              "<style>#sk-container-id-3 {color: black;background-color: white;}#sk-container-id-3 pre{padding: 0;}#sk-container-id-3 div.sk-toggleable {background-color: white;}#sk-container-id-3 label.sk-toggleable__label {cursor: pointer;display: block;width: 100%;margin-bottom: 0;padding: 0.3em;box-sizing: border-box;text-align: center;}#sk-container-id-3 label.sk-toggleable__label-arrow:before {content: \"▸\";float: left;margin-right: 0.25em;color: #696969;}#sk-container-id-3 label.sk-toggleable__label-arrow:hover:before {color: black;}#sk-container-id-3 div.sk-estimator:hover label.sk-toggleable__label-arrow:before {color: black;}#sk-container-id-3 div.sk-toggleable__content {max-height: 0;max-width: 0;overflow: hidden;text-align: left;background-color: #f0f8ff;}#sk-container-id-3 div.sk-toggleable__content pre {margin: 0.2em;color: black;border-radius: 0.25em;background-color: #f0f8ff;}#sk-container-id-3 input.sk-toggleable__control:checked~div.sk-toggleable__content {max-height: 200px;max-width: 100%;overflow: auto;}#sk-container-id-3 input.sk-toggleable__control:checked~label.sk-toggleable__label-arrow:before {content: \"▾\";}#sk-container-id-3 div.sk-estimator input.sk-toggleable__control:checked~label.sk-toggleable__label {background-color: #d4ebff;}#sk-container-id-3 div.sk-label input.sk-toggleable__control:checked~label.sk-toggleable__label {background-color: #d4ebff;}#sk-container-id-3 input.sk-hidden--visually {border: 0;clip: rect(1px 1px 1px 1px);clip: rect(1px, 1px, 1px, 1px);height: 1px;margin: -1px;overflow: hidden;padding: 0;position: absolute;width: 1px;}#sk-container-id-3 div.sk-estimator {font-family: monospace;background-color: #f0f8ff;border: 1px dotted black;border-radius: 0.25em;box-sizing: border-box;margin-bottom: 0.5em;}#sk-container-id-3 div.sk-estimator:hover {background-color: #d4ebff;}#sk-container-id-3 div.sk-parallel-item::after {content: \"\";width: 100%;border-bottom: 1px solid gray;flex-grow: 1;}#sk-container-id-3 div.sk-label:hover label.sk-toggleable__label {background-color: #d4ebff;}#sk-container-id-3 div.sk-serial::before {content: \"\";position: absolute;border-left: 1px solid gray;box-sizing: border-box;top: 0;bottom: 0;left: 50%;z-index: 0;}#sk-container-id-3 div.sk-serial {display: flex;flex-direction: column;align-items: center;background-color: white;padding-right: 0.2em;padding-left: 0.2em;position: relative;}#sk-container-id-3 div.sk-item {position: relative;z-index: 1;}#sk-container-id-3 div.sk-parallel {display: flex;align-items: stretch;justify-content: center;background-color: white;position: relative;}#sk-container-id-3 div.sk-item::before, #sk-container-id-3 div.sk-parallel-item::before {content: \"\";position: absolute;border-left: 1px solid gray;box-sizing: border-box;top: 0;bottom: 0;left: 50%;z-index: -1;}#sk-container-id-3 div.sk-parallel-item {display: flex;flex-direction: column;z-index: 1;position: relative;background-color: white;}#sk-container-id-3 div.sk-parallel-item:first-child::after {align-self: flex-end;width: 50%;}#sk-container-id-3 div.sk-parallel-item:last-child::after {align-self: flex-start;width: 50%;}#sk-container-id-3 div.sk-parallel-item:only-child::after {width: 0;}#sk-container-id-3 div.sk-dashed-wrapped {border: 1px dashed gray;margin: 0 0.4em 0.5em 0.4em;box-sizing: border-box;padding-bottom: 0.4em;background-color: white;}#sk-container-id-3 div.sk-label label {font-family: monospace;font-weight: bold;display: inline-block;line-height: 1.2em;}#sk-container-id-3 div.sk-label-container {text-align: center;}#sk-container-id-3 div.sk-container {/* jupyter's `normalize.less` sets `[hidden] { display: none; }` but bootstrap.min.css set `[hidden] { display: none !important; }` so we also need the `!important` here to be able to override the default hidden behavior on the sphinx rendered scikit-learn.org. See: https://github.com/scikit-learn/scikit-learn/issues/21755 */display: inline-block !important;position: relative;}#sk-container-id-3 div.sk-text-repr-fallback {display: none;}</style><div id=\"sk-container-id-3\" class=\"sk-top-container\"><div class=\"sk-text-repr-fallback\"><pre>SVC(C=10)</pre><b>In a Jupyter environment, please rerun this cell to show the HTML representation or trust the notebook. <br />On GitHub, the HTML representation is unable to render, please try loading this page with nbviewer.org.</b></div><div class=\"sk-container\" hidden><div class=\"sk-item\"><div class=\"sk-estimator sk-toggleable\"><input class=\"sk-toggleable__control sk-hidden--visually\" id=\"sk-estimator-id-5\" type=\"checkbox\" checked><label for=\"sk-estimator-id-5\" class=\"sk-toggleable__label sk-toggleable__label-arrow\">SVC</label><div class=\"sk-toggleable__content\"><pre>SVC(C=10)</pre></div></div></div></div></div>"
            ]
          },
          "metadata": {},
          "execution_count": 36
        }
      ]
    },
    {
      "cell_type": "code",
      "source": [
        "clf.score(X, y)"
      ],
      "metadata": {
        "colab": {
          "base_uri": "https://localhost:8080/"
        },
        "id": "a-JPqgVaPV-Z",
        "outputId": "f56c9910-25e7-41d1-9068-f6704e39f120"
      },
      "execution_count": 38,
      "outputs": [
        {
          "output_type": "execute_result",
          "data": {
            "text/plain": [
              "1.0"
            ]
          },
          "metadata": {},
          "execution_count": 38
        }
      ]
    },
    {
      "cell_type": "code",
      "source": [
        "y_train_pred = clf.predict(X)\n",
        "cm = confusion_matrix(y, y_train_pred, labels=clf.classes_)\n",
        "disp = ConfusionMatrixDisplay(confusion_matrix=cm,\n",
        "                             display_labels=clf.classes_)\n",
        "disp.plot()\n",
        "plt.show()"
      ],
      "metadata": {
        "colab": {
          "base_uri": "https://localhost:8080/",
          "height": 455
        },
        "id": "sHb9RDjImoGX",
        "outputId": "5581413c-d093-40e0-93b9-6ff9c1c37169"
      },
      "execution_count": 42,
      "outputs": [
        {
          "output_type": "display_data",
          "data": {
            "text/plain": [
              "<Figure size 640x480 with 2 Axes>"
            ],
            "image/png": "[encoded data removed]"
          },
          "metadata": {}
        }
      ]
    },
    {
      "cell_type": "code",
      "source": [
        "clf.score(X_test, y_test)"
      ],
      "metadata": {
        "colab": {
          "base_uri": "https://localhost:8080/"
        },
        "id": "pcxXu8IGms5h",
        "outputId": "29adfdc8-8454-4291-e4ec-14751869d5c6"
      },
      "execution_count": 40,
      "outputs": [
        {
          "output_type": "execute_result",
          "data": {
            "text/plain": [
              "0.905"
            ]
          },
          "metadata": {},
          "execution_count": 40
        }
      ]
    },
    {
      "cell_type": "code",
      "source": [
        "y_pred = clf.predict(X_test)\n",
        "cm = confusion_matrix(y_test, y_pred, labels=clf.classes_)\n",
        "disp = ConfusionMatrixDisplay(confusion_matrix=cm,\n",
        "                             display_labels=clf.classes_)\n",
        "disp.plot()\n",
        "plt.show()"
      ],
      "metadata": {
        "colab": {
          "base_uri": "https://localhost:8080/",
          "height": 449
        },
        "id": "5KRJ_nZ6mxzl",
        "outputId": "2f001ad5-4d05-4293-ce8f-b72338f27a22"
      },
      "execution_count": 43,
      "outputs": [
        {
          "output_type": "display_data",
          "data": {
            "text/plain": [
              "<Figure size 640x480 with 2 Axes>"
            ],
            "image/png": "[encoded data removed]"
          },
          "metadata": {}
        }
      ]
    }
  ]
}