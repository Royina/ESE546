{
  "cells": [
    {
      "cell_type": "code",
      "execution_count": 1,
      "metadata": {
        "id": "WB7znsvhyuRH"
      },
      "outputs": [],
      "source": [
        "# torch and torchvision imports\n",
        "import torch\n",
        "import torchvision\n",
        "import torch.nn as nn\n",
        "import torchvision.transforms as transforms\n",
        "import torch.optim as optim\n",
        "import matplotlib.pyplot as plt\n",
        "\n",
        "device = torch.device('cuda' if torch.cuda.is_available() else 'cpu')"
      ]
    },
    {
      "cell_type": "code",
      "execution_count": 2,
      "metadata": {
        "colab": {
          "base_uri": "https://localhost:8080/"
        },
        "id": "WQJkYeBg-xiT",
        "outputId": "bec12392-bccc-4e00-de2e-7f3995687992"
      },
      "outputs": [
        {
          "data": {
            "text/plain": [
              "device(type='cuda')"
            ]
          },
          "execution_count": 2,
          "metadata": {},
          "output_type": "execute_result"
        }
      ],
      "source": [
        "device"
      ]
    },
    {
      "cell_type": "code",
      "execution_count": 3,
      "metadata": {
        "colab": {
          "base_uri": "https://localhost:8080/"
        },
        "id": "AaNQQai_wON0",
        "outputId": "1da25f72-4a2c-478c-ebb4-a2ffd954e9f4"
      },
      "outputs": [
        {
          "name": "stdout",
          "output_type": "stream",
          "text": [
            "Files already downloaded and verified\n",
            "Files already downloaded and verified\n"
          ]
        }
      ],
      "source": [
        "# Reading in the dataset\n",
        "transform = transforms.Compose(\n",
        "    [transforms.ToTensor(),\n",
        "     transforms.Normalize((0.5, 0.5, 0.5), (0.5, 0.5, 0.5))])\n",
        "\n",
        "trainset = torchvision.datasets.CIFAR10(root='./data', train=True,\n",
        "                                        download=True, transform=transform)\n",
        "trainloader = torch.utils.data.DataLoader(trainset, batch_size=128,\n",
        "                                          shuffle=True)\n",
        "\n",
        "testset = torchvision.datasets.CIFAR10(root='./data', train=False,\n",
        "                                       download=True, transform=transform)\n",
        "testloader = torch.utils.data.DataLoader(testset, batch_size=128,\n",
        "                                         shuffle=False)\n",
        "\n",
        "classes = ('plane', 'car', 'bird', 'cat',\n",
        "           'deer', 'dog', 'frog', 'horse', 'ship', 'truck')\n",
        "\n",
        "\n",
        "# Defining the model\n",
        "class View(nn.Module):\n",
        "    def __init__(self,o):\n",
        "        super().__init__()\n",
        "        self.o = o\n",
        "\n",
        "    def forward(self,x):\n",
        "        return x.view(-1, self.o)\n",
        "\n",
        "class allcnn_t(nn.Module):\n",
        "    def __init__(self, c1=96, c2= 192):\n",
        "        super().__init__()\n",
        "        d = 0.5\n",
        "\n",
        "        def convbn(ci,co,ksz,s=1,pz=0):\n",
        "            return nn.Sequential(\n",
        "                nn.Conv2d(ci,co,ksz,stride=s,padding=pz),\n",
        "                nn.ReLU(True),\n",
        "                nn.BatchNorm2d(co))\n",
        "\n",
        "        self.m = nn.Sequential(\n",
        "            nn.Dropout(0.2),\n",
        "            convbn(3,c1,3,1,1),\n",
        "            convbn(c1,c1,3,1,1),\n",
        "            convbn(c1,c1,3,2,1),\n",
        "            nn.Dropout(d),\n",
        "            convbn(c1,c2,3,1,1),\n",
        "            convbn(c2,c2,3,1,1),\n",
        "            convbn(c2,c2,3,2,1),\n",
        "            nn.Dropout(d),\n",
        "            convbn(c2,c2,3,1,1),\n",
        "            convbn(c2,c2,3,1,1),\n",
        "            convbn(c2,10,1,1),\n",
        "            nn.AvgPool2d(8),\n",
        "            View(10))\n",
        "\n",
        "        print('Num parameters: ', sum([p.numel() for p in self.m.parameters()]))\n",
        "\n",
        "    def forward(self, x):\n",
        "        return self.m(x)"
      ]
    },
    {
      "cell_type": "markdown",
      "metadata": {
        "id": "HaRYev7cQnwE"
      },
      "source": [
        "### Part 3.b."
      ]
    },
    {
      "cell_type": "markdown",
      "metadata": {},
      "source": [
        "### Learning Rate Finder"
      ]
    },
    {
      "cell_type": "code",
      "execution_count": 28,
      "metadata": {},
      "outputs": [],
      "source": [
        "def train(net, optimizer, criterion, train_loader, test_loader, epochs, model_name, plot):\n",
        "    model = net.to(device)\n",
        "    total_step = len(train_loader)\n",
        "    overall_step = 0\n",
        "    train_loss_values = []\n",
        "    train_error = []\n",
        "    learning_rate_list = []\n",
        "    correct = 0\n",
        "    total = 0\n",
        "    schedule_lr = 1e-5\n",
        "    # print(schedule_lr)\n",
        "    for i, (images, labels) in enumerate(train_loader):\n",
        "        # Move tensors to configured device\n",
        "        learning_rate_list.append(schedule_lr)\n",
        "        images = images.to(device)\n",
        "        labels = labels.to(device)\n",
        "        #Forward Pass\n",
        "        outputs = model(images)\n",
        "        loss = criterion(outputs, labels)\n",
        "        optimizer.zero_grad()\n",
        "        loss.backward()\n",
        "        _, predicted = torch.max(outputs.data, 1)\n",
        "        total = labels.size(0)\n",
        "        correct = (predicted == labels).sum().item()\n",
        "        optimizer.step()\n",
        "\n",
        "        print ('Epoch [{}/{}], Step [{}/{}], Learning Rate: {:.5f}, Loss: {:.4f}'.format(1, 1, i+1, total_step,schedule_lr, loss.item()))\n",
        "\n",
        "        # changing learning rate\n",
        "        schedule_lr = schedule_lr * 1.1\n",
        "\n",
        "        for op_params in optimizer.param_groups:\n",
        "            op_params['lr'] = schedule_lr\n",
        "\n",
        "        train_loss_values.append(loss.item())\n",
        "        train_error.append(100-100*correct/total)\n",
        "\n",
        "        if i == 100:\n",
        "            break\n",
        "\n",
        "        \n",
        "    return train_error,train_loss_values, learning_rate_list"
      ]
    },
    {
      "cell_type": "code",
      "execution_count": 36,
      "metadata": {},
      "outputs": [
        {
          "name": "stdout",
          "output_type": "stream",
          "text": [
            "Num parameters:  1667166\n",
            "Epoch [1/1], Step [1/391], Learning Rate: 0.00001, Loss: 2.3495\n",
            "Epoch [1/1], Step [2/391], Learning Rate: 0.00001, Loss: 2.3148\n",
            "Epoch [1/1], Step [3/391], Learning Rate: 0.00001, Loss: 2.3416\n",
            "Epoch [1/1], Step [4/391], Learning Rate: 0.00001, Loss: 2.3064\n",
            "Epoch [1/1], Step [5/391], Learning Rate: 0.00001, Loss: 2.2986\n",
            "Epoch [1/1], Step [6/391], Learning Rate: 0.00002, Loss: 2.3140\n",
            "Epoch [1/1], Step [7/391], Learning Rate: 0.00002, Loss: 2.3080\n",
            "Epoch [1/1], Step [8/391], Learning Rate: 0.00002, Loss: 2.3033\n",
            "Epoch [1/1], Step [9/391], Learning Rate: 0.00002, Loss: 2.3213\n",
            "Epoch [1/1], Step [10/391], Learning Rate: 0.00002, Loss: 2.3042\n",
            "Epoch [1/1], Step [11/391], Learning Rate: 0.00003, Loss: 2.2937\n",
            "Epoch [1/1], Step [12/391], Learning Rate: 0.00003, Loss: 2.3268\n",
            "Epoch [1/1], Step [13/391], Learning Rate: 0.00003, Loss: 2.2717\n",
            "Epoch [1/1], Step [14/391], Learning Rate: 0.00003, Loss: 2.3026\n",
            "Epoch [1/1], Step [15/391], Learning Rate: 0.00004, Loss: 2.2915\n",
            "Epoch [1/1], Step [16/391], Learning Rate: 0.00004, Loss: 2.3334\n",
            "Epoch [1/1], Step [17/391], Learning Rate: 0.00005, Loss: 2.3089\n",
            "Epoch [1/1], Step [18/391], Learning Rate: 0.00005, Loss: 2.3176\n",
            "Epoch [1/1], Step [19/391], Learning Rate: 0.00006, Loss: 2.3138\n",
            "Epoch [1/1], Step [20/391], Learning Rate: 0.00006, Loss: 2.3065\n",
            "Epoch [1/1], Step [21/391], Learning Rate: 0.00007, Loss: 2.3055\n",
            "Epoch [1/1], Step [22/391], Learning Rate: 0.00007, Loss: 2.3231\n",
            "Epoch [1/1], Step [23/391], Learning Rate: 0.00008, Loss: 2.3103\n",
            "Epoch [1/1], Step [24/391], Learning Rate: 0.00009, Loss: 2.2878\n",
            "Epoch [1/1], Step [25/391], Learning Rate: 0.00010, Loss: 2.3222\n",
            "Epoch [1/1], Step [26/391], Learning Rate: 0.00011, Loss: 2.3209\n",
            "Epoch [1/1], Step [27/391], Learning Rate: 0.00012, Loss: 2.2991\n",
            "Epoch [1/1], Step [28/391], Learning Rate: 0.00013, Loss: 2.2996\n",
            "Epoch [1/1], Step [29/391], Learning Rate: 0.00014, Loss: 2.3046\n",
            "Epoch [1/1], Step [30/391], Learning Rate: 0.00016, Loss: 2.3043\n",
            "Epoch [1/1], Step [31/391], Learning Rate: 0.00017, Loss: 2.2914\n",
            "Epoch [1/1], Step [32/391], Learning Rate: 0.00019, Loss: 2.3197\n",
            "Epoch [1/1], Step [33/391], Learning Rate: 0.00021, Loss: 2.2992\n",
            "Epoch [1/1], Step [34/391], Learning Rate: 0.00023, Loss: 2.2651\n",
            "Epoch [1/1], Step [35/391], Learning Rate: 0.00026, Loss: 2.3045\n",
            "Epoch [1/1], Step [36/391], Learning Rate: 0.00028, Loss: 2.2871\n",
            "Epoch [1/1], Step [37/391], Learning Rate: 0.00031, Loss: 2.2785\n",
            "Epoch [1/1], Step [38/391], Learning Rate: 0.00034, Loss: 2.2701\n",
            "Epoch [1/1], Step [39/391], Learning Rate: 0.00037, Loss: 2.2714\n",
            "Epoch [1/1], Step [40/391], Learning Rate: 0.00041, Loss: 2.2959\n",
            "Epoch [1/1], Step [41/391], Learning Rate: 0.00045, Loss: 2.2679\n",
            "Epoch [1/1], Step [42/391], Learning Rate: 0.00050, Loss: 2.2524\n",
            "Epoch [1/1], Step [43/391], Learning Rate: 0.00055, Loss: 2.2491\n",
            "Epoch [1/1], Step [44/391], Learning Rate: 0.00060, Loss: 2.2280\n",
            "Epoch [1/1], Step [45/391], Learning Rate: 0.00066, Loss: 2.2259\n",
            "Epoch [1/1], Step [46/391], Learning Rate: 0.00073, Loss: 2.2421\n",
            "Epoch [1/1], Step [47/391], Learning Rate: 0.00080, Loss: 2.2006\n",
            "Epoch [1/1], Step [48/391], Learning Rate: 0.00088, Loss: 2.2150\n",
            "Epoch [1/1], Step [49/391], Learning Rate: 0.00097, Loss: 2.1881\n",
            "Epoch [1/1], Step [50/391], Learning Rate: 0.00107, Loss: 2.2330\n",
            "Epoch [1/1], Step [51/391], Learning Rate: 0.00117, Loss: 2.2359\n",
            "Epoch [1/1], Step [52/391], Learning Rate: 0.00129, Loss: 2.2064\n",
            "Epoch [1/1], Step [53/391], Learning Rate: 0.00142, Loss: 2.1959\n",
            "Epoch [1/1], Step [54/391], Learning Rate: 0.00156, Loss: 2.1588\n",
            "Epoch [1/1], Step [55/391], Learning Rate: 0.00172, Loss: 2.1340\n",
            "Epoch [1/1], Step [56/391], Learning Rate: 0.00189, Loss: 2.1432\n",
            "Epoch [1/1], Step [57/391], Learning Rate: 0.00208, Loss: 2.1065\n",
            "Epoch [1/1], Step [58/391], Learning Rate: 0.00229, Loss: 2.0958\n",
            "Epoch [1/1], Step [59/391], Learning Rate: 0.00252, Loss: 2.1257\n",
            "Epoch [1/1], Step [60/391], Learning Rate: 0.00277, Loss: 2.0695\n",
            "Epoch [1/1], Step [61/391], Learning Rate: 0.00304, Loss: 2.1103\n",
            "Epoch [1/1], Step [62/391], Learning Rate: 0.00335, Loss: 2.0763\n",
            "Epoch [1/1], Step [63/391], Learning Rate: 0.00368, Loss: 2.0775\n",
            "Epoch [1/1], Step [64/391], Learning Rate: 0.00405, Loss: 1.9742\n",
            "Epoch [1/1], Step [65/391], Learning Rate: 0.00446, Loss: 2.0362\n",
            "Epoch [1/1], Step [66/391], Learning Rate: 0.00490, Loss: 2.1038\n",
            "Epoch [1/1], Step [67/391], Learning Rate: 0.00539, Loss: 2.0230\n",
            "Epoch [1/1], Step [68/391], Learning Rate: 0.00593, Loss: 1.9603\n",
            "Epoch [1/1], Step [69/391], Learning Rate: 0.00653, Loss: 1.9764\n",
            "Epoch [1/1], Step [70/391], Learning Rate: 0.00718, Loss: 2.0191\n",
            "Epoch [1/1], Step [71/391], Learning Rate: 0.00790, Loss: 1.9596\n",
            "Epoch [1/1], Step [72/391], Learning Rate: 0.00869, Loss: 1.9837\n",
            "Epoch [1/1], Step [73/391], Learning Rate: 0.00956, Loss: 1.9214\n",
            "Epoch [1/1], Step [74/391], Learning Rate: 0.01051, Loss: 1.9289\n",
            "Epoch [1/1], Step [75/391], Learning Rate: 0.01156, Loss: 1.9753\n",
            "Epoch [1/1], Step [76/391], Learning Rate: 0.01272, Loss: 1.9817\n",
            "Epoch [1/1], Step [77/391], Learning Rate: 0.01399, Loss: 1.9899\n",
            "Epoch [1/1], Step [78/391], Learning Rate: 0.01539, Loss: 2.0177\n",
            "Epoch [1/1], Step [79/391], Learning Rate: 0.01693, Loss: 1.9749\n",
            "Epoch [1/1], Step [80/391], Learning Rate: 0.01862, Loss: 1.9815\n",
            "Epoch [1/1], Step [81/391], Learning Rate: 0.02048, Loss: 1.8690\n",
            "Epoch [1/1], Step [82/391], Learning Rate: 0.02253, Loss: 1.9347\n",
            "Epoch [1/1], Step [83/391], Learning Rate: 0.02479, Loss: 1.9025\n",
            "Epoch [1/1], Step [84/391], Learning Rate: 0.02726, Loss: 1.8816\n",
            "Epoch [1/1], Step [85/391], Learning Rate: 0.02999, Loss: 1.9027\n",
            "Epoch [1/1], Step [86/391], Learning Rate: 0.03299, Loss: 1.8145\n",
            "Epoch [1/1], Step [87/391], Learning Rate: 0.03629, Loss: 1.8716\n",
            "Epoch [1/1], Step [88/391], Learning Rate: 0.03992, Loss: 1.7686\n",
            "Epoch [1/1], Step [89/391], Learning Rate: 0.04391, Loss: 1.8316\n",
            "Epoch [1/1], Step [90/391], Learning Rate: 0.04830, Loss: 1.7845\n",
            "Epoch [1/1], Step [91/391], Learning Rate: 0.05313, Loss: 1.8449\n",
            "Epoch [1/1], Step [92/391], Learning Rate: 0.05844, Loss: 1.9261\n",
            "Epoch [1/1], Step [93/391], Learning Rate: 0.06429, Loss: 1.8040\n",
            "Epoch [1/1], Step [94/391], Learning Rate: 0.07072, Loss: 1.7392\n",
            "Epoch [1/1], Step [95/391], Learning Rate: 0.07779, Loss: 1.8668\n",
            "Epoch [1/1], Step [96/391], Learning Rate: 0.08557, Loss: 1.8642\n",
            "Epoch [1/1], Step [97/391], Learning Rate: 0.09412, Loss: 1.9003\n",
            "Epoch [1/1], Step [98/391], Learning Rate: 0.10354, Loss: 1.6833\n",
            "Epoch [1/1], Step [99/391], Learning Rate: 0.11389, Loss: 1.9510\n",
            "Epoch [1/1], Step [100/391], Learning Rate: 0.12528, Loss: 1.8112\n",
            "Epoch [1/1], Step [101/391], Learning Rate: 0.13781, Loss: 1.9112\n"
          ]
        }
      ],
      "source": [
        "model = allcnn_t().to(device)\n",
        "epochs = 1\n",
        "criterion = nn.CrossEntropyLoss()\n",
        "optimizer = optim.SGD(model.parameters(), lr=1e-5, momentum=0.9, weight_decay=0.001, nesterov=True)\n",
        "train_error,train_loss_values, learning_rate_list= train(model, optimizer, criterion, trainloader, testloader, epochs, 'cnn_curve', True)"
      ]
    },
    {
      "cell_type": "code",
      "execution_count": 37,
      "metadata": {},
      "outputs": [],
      "source": [
        "## saving these for plotting val_error,val_loss_values,train_error,train_loss_values\n",
        "import numpy as np\n",
        "np.save('train_error.npy', np.array(train_error))\n",
        "np.save('train_loss_values.npy', np.array(train_loss_values))\n",
        "np.save('learning_rate_list.npy', np.array(learning_rate_list))"
      ]
    },
    {
      "cell_type": "code",
      "execution_count": 10,
      "metadata": {},
      "outputs": [],
      "source": [
        "torch.save(model, 'model1_100epoch_lr_hw4_part3b.pt')"
      ]
    },
    {
      "cell_type": "code",
      "execution_count": 8,
      "metadata": {},
      "outputs": [],
      "source": [
        "model = torch.load('model1_100epoch_lr_hw4_part3b.pt')"
      ]
    },
    {
      "cell_type": "code",
      "execution_count": 1,
      "metadata": {},
      "outputs": [
        {
          "data": {
            "text/plain": [
              "(101, 101, 101)"
            ]
          },
          "execution_count": 1,
          "metadata": {},
          "output_type": "execute_result"
        }
      ],
      "source": [
        "import numpy as np\n",
        "train_error = np.load('train_error.npy')\n",
        "train_loss_values = np.load('train_loss_values.npy')\n",
        "learning_rate_list = np.load('learning_rate_list.npy')\n",
        "len(train_error), len(train_loss_values), len(learning_rate_list)"
      ]
    },
    {
      "cell_type": "code",
      "execution_count": 2,
      "metadata": {},
      "outputs": [
        {
          "data": {
            "text/plain": [
              "[<matplotlib.lines.Line2D at 0x18f260c5760>]"
            ]
          },
          "execution_count": 2,
          "metadata": {},
          "output_type": "execute_result"
        },
        {
          "data": {
            "image/png": "[encoded data removed]",
            "text/plain": [
              "<Figure size 640x480 with 1 Axes>"
            ]
          },
          "metadata": {},
          "output_type": "display_data"
        }
      ],
      "source": [
        "import matplotlib.pyplot as plt\n",
        "plt.plot(np.log(learning_rate_list), train_loss_values)"
      ]
    },
    {
      "cell_type": "code",
      "execution_count": null,
      "metadata": {},
      "outputs": [
        {
          "data": {
            "text/plain": [
              "[<matplotlib.lines.Line2D at 0x2a3699d8940>]"
            ]
          },
          "metadata": {},
          "output_type": "display_data"
        },
        {
          "data": {
            "image/png": "[encoded data removed]",
            "text/plain": [
              "<Figure size 640x480 with 1 Axes>"
            ]
          },
          "metadata": {},
          "output_type": "display_data"
        }
      ],
      "source": [
        "import matplotlib.pyplot as plt\n",
        "plt.plot(train_loss_values)"
      ]
    },
    {
      "cell_type": "code",
      "execution_count": 38,
      "metadata": {},
      "outputs": [
        {
          "name": "stdout",
          "output_type": "stream",
          "text": [
            "Optimal learning rate corresponding to least training loss 1.683326005935669 is 0.10353578016395476 at index 97\n"
          ]
        }
      ],
      "source": [
        "## optimal learning rate\n",
        "lr_opt = learning_rate_list[np.array([train_loss_values]).argmin()]\n",
        "print('Optimal learning rate corresponding to least training loss {} is {} at index {}'.format(np.array([train_loss_values]).min(), lr_opt, np.array([train_loss_values]).argmin()))\n"
      ]
    },
    {
      "cell_type": "markdown",
      "metadata": {},
      "source": [
        "### 3.c"
      ]
    },
    {
      "cell_type": "markdown",
      "metadata": {},
      "source": [
        "##### Training the model based on learning rate scheduler after finding the optimal learning rate in 3.b"
      ]
    },
    {
      "cell_type": "code",
      "execution_count": 39,
      "metadata": {},
      "outputs": [],
      "source": [
        "lr_max = lr_opt / 10\n",
        "T = 100 * 391\n",
        "T_0 = T / 5\n",
        "def schedule_lr(epoch, itr):\n",
        "    t = epoch*391 + itr\n",
        "    if t <= T_0:\n",
        "        return (1e-4 + (t/T_0)*lr_max)\n",
        "    else:\n",
        "        return (1e-6 + (lr_max * (np.cos(np.pi/2*((t - T_0)/(T - T_0))))))"
      ]
    },
    {
      "cell_type": "code",
      "execution_count": 40,
      "metadata": {
        "id": "L6VZFN36-Qja"
      },
      "outputs": [],
      "source": [
        "# The training loop - changing the learning rate and weight decay as per suggestion given in the document\n",
        "\n",
        "def train(net, optimizer, criterion, train_loader, test_loader, epochs, model_name, plot):\n",
        "    model = net.to(device)\n",
        "    total_step = len(train_loader)\n",
        "    overall_step = 0\n",
        "    train_loss_values = []\n",
        "    train_error = []\n",
        "    val_loss_values = []\n",
        "    val_error = []\n",
        "    learning_rate_list = []\n",
        "    for epoch in range(epochs):\n",
        "        correct = 0\n",
        "        total = 0\n",
        "        running_loss = 0.0\n",
        "        # print(schedule_lr)\n",
        "        for i, (images, labels) in enumerate(train_loader):\n",
        "            # Move tensors to configured device\n",
        "            lr = schedule_lr(epoch, i)\n",
        "            learning_rate_list.append(lr)\n",
        "            for op_params in optimizer.param_groups:\n",
        "                op_params['lr'] = lr\n",
        "            images = images.to(device)\n",
        "            labels = labels.to(device)\n",
        "            #Forward Pass\n",
        "            outputs = model(images)\n",
        "            loss = criterion(outputs, labels)\n",
        "            optimizer.zero_grad()\n",
        "            loss.backward()\n",
        "            running_loss += loss.item()\n",
        "            _, predicted = torch.max(outputs.data, 1)\n",
        "            total += labels.size(0)\n",
        "            correct += (predicted == labels).sum().item()\n",
        "            optimizer.step()\n",
        "            if (i+1) % 100 == 0:\n",
        "              print ('Epoch [{}/{}], Step [{}/{}], Loss: {:.4f}, Learning Rate: {:.6f}'.format(epoch+1, epochs, i+1, total_step, running_loss/total, lr))\n",
        "            if plot:\n",
        "              info = { ('loss_' + model_name): loss.item() }\n",
        "\n",
        "              # for tag, value in info.items():\n",
        "              #   logger.scalar_summary(tag, value, overall_step+1)\n",
        "            train_loss_values.append(loss.item())\n",
        "            train_error.append(100-100*correct/total)\n",
        "\n",
        "        running_loss = 0.0\n",
        "\n",
        "        model.eval()\n",
        "        with torch.no_grad():\n",
        "            correct = 0\n",
        "            total = 0\n",
        "            for i, (images, labels) in enumerate(test_loader):\n",
        "                images = images.to(device)\n",
        "                labels = labels.to(device)\n",
        "                outputs = model(images)\n",
        "                loss = criterion(outputs, labels)\n",
        "                running_loss += loss.item()\n",
        "                _, predicted = torch.max(outputs.data, 1)\n",
        "                total += labels.size(0)\n",
        "                correct += (predicted == labels).sum().item()\n",
        "\n",
        "        print('Accuracy of the network on the test images: {} %'.format(100 * correct / total))\n",
        "        val_error.append(100-100*correct/total)\n",
        "        val_loss_values.append(running_loss)\n",
        "    return val_error,val_loss_values,train_error,train_loss_values, learning_rate_list"
      ]
    },
    {
      "cell_type": "code",
      "execution_count": 41,
      "metadata": {
        "colab": {
          "base_uri": "https://localhost:8080/"
        },
        "id": "OTuYfFAS-Qja",
        "outputId": "e426420d-8055-4424-da89-d61e386f9dc8"
      },
      "outputs": [
        {
          "name": "stdout",
          "output_type": "stream",
          "text": [
            "Epoch [1/100], Step [100/391], Loss: 0.0138, Learning Rate: 0.000231\n",
            "Epoch [1/100], Step [200/391], Loss: 0.0137, Learning Rate: 0.000363\n",
            "Epoch [1/100], Step [300/391], Loss: 0.0136, Learning Rate: 0.000496\n",
            "Accuracy of the network on the test images: 35.57 %\n",
            "Epoch [2/100], Step [100/391], Loss: 0.0125, Learning Rate: 0.000749\n",
            "Epoch [2/100], Step [200/391], Loss: 0.0124, Learning Rate: 0.000881\n",
            "Epoch [2/100], Step [300/391], Loss: 0.0123, Learning Rate: 0.001014\n",
            "Accuracy of the network on the test images: 46.1 %\n",
            "Epoch [3/100], Step [100/391], Loss: 0.0114, Learning Rate: 0.001266\n",
            "Epoch [3/100], Step [200/391], Loss: 0.0113, Learning Rate: 0.001399\n",
            "Epoch [3/100], Step [300/391], Loss: 0.0112, Learning Rate: 0.001531\n",
            "Accuracy of the network on the test images: 51.44 %\n",
            "Epoch [4/100], Step [100/391], Loss: 0.0103, Learning Rate: 0.001784\n",
            "Epoch [4/100], Step [200/391], Loss: 0.0103, Learning Rate: 0.001917\n",
            "Epoch [4/100], Step [300/391], Loss: 0.0102, Learning Rate: 0.002049\n",
            "Accuracy of the network on the test images: 56.27 %\n",
            "Epoch [5/100], Step [100/391], Loss: 0.0095, Learning Rate: 0.002302\n",
            "Epoch [5/100], Step [200/391], Loss: 0.0093, Learning Rate: 0.002434\n",
            "Epoch [5/100], Step [300/391], Loss: 0.0091, Learning Rate: 0.002567\n",
            "Accuracy of the network on the test images: 60.94 %\n",
            "Epoch [6/100], Step [100/391], Loss: 0.0084, Learning Rate: 0.002819\n",
            "Epoch [6/100], Step [200/391], Loss: 0.0082, Learning Rate: 0.002952\n",
            "Epoch [6/100], Step [300/391], Loss: 0.0081, Learning Rate: 0.003084\n",
            "Accuracy of the network on the test images: 64.63 %\n",
            "Epoch [7/100], Step [100/391], Loss: 0.0074, Learning Rate: 0.003337\n",
            "Epoch [7/100], Step [200/391], Loss: 0.0073, Learning Rate: 0.003470\n",
            "Epoch [7/100], Step [300/391], Loss: 0.0072, Learning Rate: 0.003602\n",
            "Accuracy of the network on the test images: 68.35 %\n",
            "Epoch [8/100], Step [100/391], Loss: 0.0065, Learning Rate: 0.003855\n",
            "Epoch [8/100], Step [200/391], Loss: 0.0064, Learning Rate: 0.003987\n",
            "Epoch [8/100], Step [300/391], Loss: 0.0064, Learning Rate: 0.004120\n",
            "Accuracy of the network on the test images: 70.66 %\n",
            "Epoch [9/100], Step [100/391], Loss: 0.0057, Learning Rate: 0.004373\n",
            "Epoch [9/100], Step [200/391], Loss: 0.0057, Learning Rate: 0.004505\n",
            "Epoch [9/100], Step [300/391], Loss: 0.0057, Learning Rate: 0.004637\n",
            "Accuracy of the network on the test images: 73.86 %\n",
            "Epoch [10/100], Step [100/391], Loss: 0.0051, Learning Rate: 0.004890\n",
            "Epoch [10/100], Step [200/391], Loss: 0.0051, Learning Rate: 0.005023\n",
            "Epoch [10/100], Step [300/391], Loss: 0.0050, Learning Rate: 0.005155\n",
            "Accuracy of the network on the test images: 76.3 %\n",
            "Epoch [11/100], Step [100/391], Loss: 0.0044, Learning Rate: 0.005408\n",
            "Epoch [11/100], Step [200/391], Loss: 0.0045, Learning Rate: 0.005540\n",
            "Epoch [11/100], Step [300/391], Loss: 0.0045, Learning Rate: 0.005673\n",
            "Accuracy of the network on the test images: 77.04 %\n",
            "Epoch [12/100], Step [100/391], Loss: 0.0039, Learning Rate: 0.005926\n",
            "Epoch [12/100], Step [200/391], Loss: 0.0040, Learning Rate: 0.006058\n",
            "Epoch [12/100], Step [300/391], Loss: 0.0040, Learning Rate: 0.006190\n",
            "Accuracy of the network on the test images: 78.52 %\n",
            "Epoch [13/100], Step [100/391], Loss: 0.0035, Learning Rate: 0.006443\n",
            "Epoch [13/100], Step [200/391], Loss: 0.0035, Learning Rate: 0.006576\n",
            "Epoch [13/100], Step [300/391], Loss: 0.0036, Learning Rate: 0.006708\n",
            "Accuracy of the network on the test images: 79.68 %\n",
            "Epoch [14/100], Step [100/391], Loss: 0.0031, Learning Rate: 0.006961\n",
            "Epoch [14/100], Step [200/391], Loss: 0.0031, Learning Rate: 0.007093\n",
            "Epoch [14/100], Step [300/391], Loss: 0.0032, Learning Rate: 0.007226\n",
            "Accuracy of the network on the test images: 80.76 %\n",
            "Epoch [15/100], Step [100/391], Loss: 0.0028, Learning Rate: 0.007479\n",
            "Epoch [15/100], Step [200/391], Loss: 0.0028, Learning Rate: 0.007611\n",
            "Epoch [15/100], Step [300/391], Loss: 0.0028, Learning Rate: 0.007743\n",
            "Accuracy of the network on the test images: 79.88 %\n",
            "Epoch [16/100], Step [100/391], Loss: 0.0024, Learning Rate: 0.007996\n",
            "Epoch [16/100], Step [200/391], Loss: 0.0025, Learning Rate: 0.008129\n",
            "Epoch [16/100], Step [300/391], Loss: 0.0026, Learning Rate: 0.008261\n",
            "Accuracy of the network on the test images: 82.61 %\n",
            "Epoch [17/100], Step [100/391], Loss: 0.0021, Learning Rate: 0.008514\n",
            "Epoch [17/100], Step [200/391], Loss: 0.0022, Learning Rate: 0.008646\n",
            "Epoch [17/100], Step [300/391], Loss: 0.0022, Learning Rate: 0.008779\n",
            "Accuracy of the network on the test images: 81.47 %\n",
            "Epoch [18/100], Step [100/391], Loss: 0.0018, Learning Rate: 0.009032\n",
            "Epoch [18/100], Step [200/391], Loss: 0.0019, Learning Rate: 0.009164\n",
            "Epoch [18/100], Step [300/391], Loss: 0.0020, Learning Rate: 0.009296\n",
            "Accuracy of the network on the test images: 79.96 %\n",
            "Epoch [19/100], Step [100/391], Loss: 0.0016, Learning Rate: 0.009549\n",
            "Epoch [19/100], Step [200/391], Loss: 0.0017, Learning Rate: 0.009682\n",
            "Epoch [19/100], Step [300/391], Loss: 0.0018, Learning Rate: 0.009814\n",
            "Accuracy of the network on the test images: 80.15 %\n",
            "Epoch [20/100], Step [100/391], Loss: 0.0015, Learning Rate: 0.010067\n",
            "Epoch [20/100], Step [200/391], Loss: 0.0015, Learning Rate: 0.010199\n",
            "Epoch [20/100], Step [300/391], Loss: 0.0016, Learning Rate: 0.010332\n",
            "Accuracy of the network on the test images: 82.12 %\n",
            "Epoch [21/100], Step [100/391], Loss: 0.0012, Learning Rate: 0.010354\n",
            "Epoch [21/100], Step [200/391], Loss: 0.0013, Learning Rate: 0.010354\n",
            "Epoch [21/100], Step [300/391], Loss: 0.0014, Learning Rate: 0.010353\n",
            "Accuracy of the network on the test images: 81.01 %\n",
            "Epoch [22/100], Step [100/391], Loss: 0.0010, Learning Rate: 0.010351\n",
            "Epoch [22/100], Step [200/391], Loss: 0.0011, Learning Rate: 0.010350\n",
            "Epoch [22/100], Step [300/391], Loss: 0.0012, Learning Rate: 0.010348\n",
            "Accuracy of the network on the test images: 82.83 %\n",
            "Epoch [23/100], Step [100/391], Loss: 0.0009, Learning Rate: 0.010344\n",
            "Epoch [23/100], Step [200/391], Loss: 0.0009, Learning Rate: 0.010342\n",
            "Epoch [23/100], Step [300/391], Loss: 0.0010, Learning Rate: 0.010339\n",
            "Accuracy of the network on the test images: 83.28 %\n",
            "Epoch [24/100], Step [100/391], Loss: 0.0007, Learning Rate: 0.010333\n",
            "Epoch [24/100], Step [200/391], Loss: 0.0008, Learning Rate: 0.010330\n",
            "Epoch [24/100], Step [300/391], Loss: 0.0009, Learning Rate: 0.010326\n",
            "Accuracy of the network on the test images: 82.9 %\n",
            "Epoch [25/100], Step [100/391], Loss: 0.0007, Learning Rate: 0.010318\n",
            "Epoch [25/100], Step [200/391], Loss: 0.0008, Learning Rate: 0.010314\n",
            "Epoch [25/100], Step [300/391], Loss: 0.0008, Learning Rate: 0.010309\n",
            "Accuracy of the network on the test images: 82.09 %\n",
            "Epoch [26/100], Step [100/391], Loss: 0.0006, Learning Rate: 0.010300\n",
            "Epoch [26/100], Step [200/391], Loss: 0.0006, Learning Rate: 0.010294\n",
            "Epoch [26/100], Step [300/391], Loss: 0.0006, Learning Rate: 0.010288\n",
            "Accuracy of the network on the test images: 83.11 %\n",
            "Epoch [27/100], Step [100/391], Loss: 0.0005, Learning Rate: 0.010277\n",
            "Epoch [27/100], Step [200/391], Loss: 0.0005, Learning Rate: 0.010270\n",
            "Epoch [27/100], Step [300/391], Loss: 0.0006, Learning Rate: 0.010263\n",
            "Accuracy of the network on the test images: 82.47 %\n",
            "Epoch [28/100], Step [100/391], Loss: 0.0005, Learning Rate: 0.010250\n",
            "Epoch [28/100], Step [200/391], Loss: 0.0005, Learning Rate: 0.010242\n",
            "Epoch [28/100], Step [300/391], Loss: 0.0005, Learning Rate: 0.010234\n",
            "Accuracy of the network on the test images: 83.81 %\n",
            "Epoch [29/100], Step [100/391], Loss: 0.0004, Learning Rate: 0.010219\n",
            "Epoch [29/100], Step [200/391], Loss: 0.0004, Learning Rate: 0.010210\n",
            "Epoch [29/100], Step [300/391], Loss: 0.0005, Learning Rate: 0.010202\n",
            "Accuracy of the network on the test images: 83.21 %\n",
            "Epoch [30/100], Step [100/391], Loss: 0.0005, Learning Rate: 0.010184\n",
            "Epoch [30/100], Step [200/391], Loss: 0.0005, Learning Rate: 0.010175\n",
            "Epoch [30/100], Step [300/391], Loss: 0.0005, Learning Rate: 0.010165\n",
            "Accuracy of the network on the test images: 83.54 %\n",
            "Epoch [31/100], Step [100/391], Loss: 0.0004, Learning Rate: 0.010145\n",
            "Epoch [31/100], Step [200/391], Loss: 0.0004, Learning Rate: 0.010135\n",
            "Epoch [31/100], Step [300/391], Loss: 0.0004, Learning Rate: 0.010124\n",
            "Accuracy of the network on the test images: 83.41 %\n",
            "Epoch [32/100], Step [100/391], Loss: 0.0003, Learning Rate: 0.010103\n",
            "Epoch [32/100], Step [200/391], Loss: 0.0003, Learning Rate: 0.010091\n",
            "Epoch [32/100], Step [300/391], Loss: 0.0003, Learning Rate: 0.010080\n",
            "Accuracy of the network on the test images: 82.18 %\n",
            "Epoch [33/100], Step [100/391], Loss: 0.0004, Learning Rate: 0.010056\n",
            "Epoch [33/100], Step [200/391], Loss: 0.0004, Learning Rate: 0.010044\n",
            "Epoch [33/100], Step [300/391], Loss: 0.0004, Learning Rate: 0.010031\n",
            "Accuracy of the network on the test images: 81.61 %\n",
            "Epoch [34/100], Step [100/391], Loss: 0.0004, Learning Rate: 0.010006\n",
            "Epoch [34/100], Step [200/391], Loss: 0.0004, Learning Rate: 0.009992\n",
            "Epoch [34/100], Step [300/391], Loss: 0.0004, Learning Rate: 0.009979\n",
            "Accuracy of the network on the test images: 82.63 %\n",
            "Epoch [35/100], Step [100/391], Loss: 0.0003, Learning Rate: 0.009952\n",
            "Epoch [35/100], Step [200/391], Loss: 0.0003, Learning Rate: 0.009937\n",
            "Epoch [35/100], Step [300/391], Loss: 0.0003, Learning Rate: 0.009923\n",
            "Accuracy of the network on the test images: 82.93 %\n",
            "Epoch [36/100], Step [100/391], Loss: 0.0003, Learning Rate: 0.009894\n",
            "Epoch [36/100], Step [200/391], Loss: 0.0003, Learning Rate: 0.009878\n",
            "Epoch [36/100], Step [300/391], Loss: 0.0003, Learning Rate: 0.009863\n",
            "Accuracy of the network on the test images: 83.82 %\n",
            "Epoch [37/100], Step [100/391], Loss: 0.0003, Learning Rate: 0.009832\n",
            "Epoch [37/100], Step [200/391], Loss: 0.0003, Learning Rate: 0.009815\n",
            "Epoch [37/100], Step [300/391], Loss: 0.0003, Learning Rate: 0.009799\n",
            "Accuracy of the network on the test images: 83.56 %\n",
            "Epoch [38/100], Step [100/391], Loss: 0.0003, Learning Rate: 0.009766\n",
            "Epoch [38/100], Step [200/391], Loss: 0.0003, Learning Rate: 0.009749\n",
            "Epoch [38/100], Step [300/391], Loss: 0.0003, Learning Rate: 0.009731\n",
            "Accuracy of the network on the test images: 82.72 %\n",
            "Epoch [39/100], Step [100/391], Loss: 0.0003, Learning Rate: 0.009697\n",
            "Epoch [39/100], Step [200/391], Loss: 0.0003, Learning Rate: 0.009678\n",
            "Epoch [39/100], Step [300/391], Loss: 0.0004, Learning Rate: 0.009660\n",
            "Accuracy of the network on the test images: 83.37 %\n",
            "Epoch [40/100], Step [100/391], Loss: 0.0003, Learning Rate: 0.009624\n",
            "Epoch [40/100], Step [200/391], Loss: 0.0003, Learning Rate: 0.009604\n",
            "Epoch [40/100], Step [300/391], Loss: 0.0003, Learning Rate: 0.009585\n",
            "Accuracy of the network on the test images: 82.73 %\n",
            "Epoch [41/100], Step [100/391], Loss: 0.0003, Learning Rate: 0.009547\n",
            "Epoch [41/100], Step [200/391], Loss: 0.0003, Learning Rate: 0.009526\n",
            "Epoch [41/100], Step [300/391], Loss: 0.0004, Learning Rate: 0.009506\n",
            "Accuracy of the network on the test images: 83.35 %\n",
            "Epoch [42/100], Step [100/391], Loss: 0.0003, Learning Rate: 0.009466\n",
            "Epoch [42/100], Step [200/391], Loss: 0.0003, Learning Rate: 0.009445\n",
            "Epoch [42/100], Step [300/391], Loss: 0.0003, Learning Rate: 0.009423\n",
            "Accuracy of the network on the test images: 82.75 %\n",
            "Epoch [43/100], Step [100/391], Loss: 0.0002, Learning Rate: 0.009382\n",
            "Epoch [43/100], Step [200/391], Loss: 0.0003, Learning Rate: 0.009360\n",
            "Epoch [43/100], Step [300/391], Loss: 0.0003, Learning Rate: 0.009337\n",
            "Accuracy of the network on the test images: 82.3 %\n",
            "Epoch [44/100], Step [100/391], Loss: 0.0003, Learning Rate: 0.009294\n",
            "Epoch [44/100], Step [200/391], Loss: 0.0003, Learning Rate: 0.009271\n",
            "Epoch [44/100], Step [300/391], Loss: 0.0003, Learning Rate: 0.009248\n",
            "Accuracy of the network on the test images: 82.91 %\n",
            "Epoch [45/100], Step [100/391], Loss: 0.0003, Learning Rate: 0.009203\n",
            "Epoch [45/100], Step [200/391], Loss: 0.0002, Learning Rate: 0.009179\n",
            "Epoch [45/100], Step [300/391], Loss: 0.0002, Learning Rate: 0.009154\n",
            "Accuracy of the network on the test images: 83.54 %\n",
            "Epoch [46/100], Step [100/391], Loss: 0.0002, Learning Rate: 0.009108\n",
            "Epoch [46/100], Step [200/391], Loss: 0.0002, Learning Rate: 0.009083\n",
            "Epoch [46/100], Step [300/391], Loss: 0.0002, Learning Rate: 0.009058\n",
            "Accuracy of the network on the test images: 82.73 %\n",
            "Epoch [47/100], Step [100/391], Loss: 0.0002, Learning Rate: 0.009009\n",
            "Epoch [47/100], Step [200/391], Loss: 0.0002, Learning Rate: 0.008983\n",
            "Epoch [47/100], Step [300/391], Loss: 0.0002, Learning Rate: 0.008957\n",
            "Accuracy of the network on the test images: 82.76 %\n",
            "Epoch [48/100], Step [100/391], Loss: 0.0003, Learning Rate: 0.008907\n",
            "Epoch [48/100], Step [200/391], Loss: 0.0003, Learning Rate: 0.008881\n",
            "Epoch [48/100], Step [300/391], Loss: 0.0003, Learning Rate: 0.008854\n",
            "Accuracy of the network on the test images: 82.52 %\n",
            "Epoch [49/100], Step [100/391], Loss: 0.0003, Learning Rate: 0.008802\n",
            "Epoch [49/100], Step [200/391], Loss: 0.0003, Learning Rate: 0.008774\n",
            "Epoch [49/100], Step [300/391], Loss: 0.0003, Learning Rate: 0.008747\n",
            "Accuracy of the network on the test images: 81.92 %\n",
            "Epoch [50/100], Step [100/391], Loss: 0.0002, Learning Rate: 0.008693\n",
            "Epoch [50/100], Step [200/391], Loss: 0.0002, Learning Rate: 0.008665\n",
            "Epoch [50/100], Step [300/391], Loss: 0.0003, Learning Rate: 0.008636\n",
            "Accuracy of the network on the test images: 81.78 %\n",
            "Epoch [51/100], Step [100/391], Loss: 0.0003, Learning Rate: 0.008581\n",
            "Epoch [51/100], Step [200/391], Loss: 0.0003, Learning Rate: 0.008552\n",
            "Epoch [51/100], Step [300/391], Loss: 0.0003, Learning Rate: 0.008522\n",
            "Accuracy of the network on the test images: 83.22 %\n",
            "Epoch [52/100], Step [100/391], Loss: 0.0002, Learning Rate: 0.008466\n",
            "Epoch [52/100], Step [200/391], Loss: 0.0002, Learning Rate: 0.008436\n",
            "Epoch [52/100], Step [300/391], Loss: 0.0002, Learning Rate: 0.008405\n",
            "Accuracy of the network on the test images: 82.93 %\n",
            "Epoch [53/100], Step [100/391], Loss: 0.0001, Learning Rate: 0.008347\n",
            "Epoch [53/100], Step [200/391], Loss: 0.0001, Learning Rate: 0.008316\n",
            "Epoch [53/100], Step [300/391], Loss: 0.0001, Learning Rate: 0.008285\n",
            "Accuracy of the network on the test images: 83.02 %\n",
            "Epoch [54/100], Step [100/391], Loss: 0.0001, Learning Rate: 0.008225\n",
            "Epoch [54/100], Step [200/391], Loss: 0.0001, Learning Rate: 0.008193\n",
            "Epoch [54/100], Step [300/391], Loss: 0.0001, Learning Rate: 0.008161\n",
            "Accuracy of the network on the test images: 84.28 %\n",
            "Epoch [55/100], Step [100/391], Loss: 0.0000, Learning Rate: 0.008100\n",
            "Epoch [55/100], Step [200/391], Loss: 0.0000, Learning Rate: 0.008067\n",
            "Epoch [55/100], Step [300/391], Loss: 0.0000, Learning Rate: 0.008035\n",
            "Accuracy of the network on the test images: 83.55 %\n",
            "Epoch [56/100], Step [100/391], Loss: 0.0000, Learning Rate: 0.007972\n",
            "Epoch [56/100], Step [200/391], Loss: 0.0000, Learning Rate: 0.007938\n",
            "Epoch [56/100], Step [300/391], Loss: 0.0000, Learning Rate: 0.007905\n",
            "Accuracy of the network on the test images: 83.81 %\n",
            "Epoch [57/100], Step [100/391], Loss: 0.0000, Learning Rate: 0.007840\n",
            "Epoch [57/100], Step [200/391], Loss: 0.0000, Learning Rate: 0.007806\n",
            "Epoch [57/100], Step [300/391], Loss: 0.0000, Learning Rate: 0.007772\n",
            "Accuracy of the network on the test images: 83.74 %\n",
            "Epoch [58/100], Step [100/391], Loss: 0.0000, Learning Rate: 0.007706\n",
            "Epoch [58/100], Step [200/391], Loss: 0.0000, Learning Rate: 0.007671\n",
            "Epoch [58/100], Step [300/391], Loss: 0.0000, Learning Rate: 0.007636\n",
            "Accuracy of the network on the test images: 83.39 %\n",
            "Epoch [59/100], Step [100/391], Loss: 0.0001, Learning Rate: 0.007569\n",
            "Epoch [59/100], Step [200/391], Loss: 0.0001, Learning Rate: 0.007533\n",
            "Epoch [59/100], Step [300/391], Loss: 0.0001, Learning Rate: 0.007497\n",
            "Accuracy of the network on the test images: 82.53 %\n",
            "Epoch [60/100], Step [100/391], Loss: 0.0002, Learning Rate: 0.007429\n",
            "Epoch [60/100], Step [200/391], Loss: 0.0004, Learning Rate: 0.007392\n",
            "Epoch [60/100], Step [300/391], Loss: 0.0005, Learning Rate: 0.007356\n",
            "Accuracy of the network on the test images: 80.52 %\n",
            "Epoch [61/100], Step [100/391], Loss: 0.0005, Learning Rate: 0.007286\n",
            "Epoch [61/100], Step [200/391], Loss: 0.0005, Learning Rate: 0.007249\n",
            "Epoch [61/100], Step [300/391], Loss: 0.0005, Learning Rate: 0.007211\n",
            "Accuracy of the network on the test images: 81.71 %\n",
            "Epoch [62/100], Step [100/391], Loss: 0.0004, Learning Rate: 0.007140\n",
            "Epoch [62/100], Step [200/391], Loss: 0.0005, Learning Rate: 0.007102\n",
            "Epoch [62/100], Step [300/391], Loss: 0.0005, Learning Rate: 0.007064\n",
            "Accuracy of the network on the test images: 81.85 %\n",
            "Epoch [63/100], Step [100/391], Loss: 0.0003, Learning Rate: 0.006991\n",
            "Epoch [63/100], Step [200/391], Loss: 0.0003, Learning Rate: 0.006953\n",
            "Epoch [63/100], Step [300/391], Loss: 0.0004, Learning Rate: 0.006914\n",
            "Accuracy of the network on the test images: 82.98 %\n",
            "Epoch [64/100], Step [100/391], Loss: 0.0002, Learning Rate: 0.006840\n",
            "Epoch [64/100], Step [200/391], Loss: 0.0003, Learning Rate: 0.006801\n",
            "Epoch [64/100], Step [300/391], Loss: 0.0002, Learning Rate: 0.006761\n",
            "Accuracy of the network on the test images: 82.03 %\n",
            "Epoch [65/100], Step [100/391], Loss: 0.0002, Learning Rate: 0.006686\n",
            "Epoch [65/100], Step [200/391], Loss: 0.0002, Learning Rate: 0.006646\n",
            "Epoch [65/100], Step [300/391], Loss: 0.0002, Learning Rate: 0.006606\n",
            "Accuracy of the network on the test images: 80.53 %\n",
            "Epoch [66/100], Step [100/391], Loss: 0.0002, Learning Rate: 0.006529\n",
            "Epoch [66/100], Step [200/391], Loss: 0.0002, Learning Rate: 0.006489\n",
            "Epoch [66/100], Step [300/391], Loss: 0.0002, Learning Rate: 0.006448\n",
            "Accuracy of the network on the test images: 83.32 %\n",
            "Epoch [67/100], Step [100/391], Loss: 0.0001, Learning Rate: 0.006370\n",
            "Epoch [67/100], Step [200/391], Loss: 0.0001, Learning Rate: 0.006329\n",
            "Epoch [67/100], Step [300/391], Loss: 0.0001, Learning Rate: 0.006288\n",
            "Accuracy of the network on the test images: 83.79 %\n",
            "Epoch [68/100], Step [100/391], Loss: 0.0000, Learning Rate: 0.006209\n",
            "Epoch [68/100], Step [200/391], Loss: 0.0000, Learning Rate: 0.006167\n",
            "Epoch [68/100], Step [300/391], Loss: 0.0000, Learning Rate: 0.006125\n",
            "Accuracy of the network on the test images: 84.14 %\n",
            "Epoch [69/100], Step [100/391], Loss: 0.0000, Learning Rate: 0.006045\n",
            "Epoch [69/100], Step [200/391], Loss: 0.0000, Learning Rate: 0.006003\n",
            "Epoch [69/100], Step [300/391], Loss: 0.0000, Learning Rate: 0.005960\n",
            "Accuracy of the network on the test images: 84.0 %\n",
            "Epoch [70/100], Step [100/391], Loss: 0.0000, Learning Rate: 0.005879\n",
            "Epoch [70/100], Step [200/391], Loss: 0.0000, Learning Rate: 0.005836\n",
            "Epoch [70/100], Step [300/391], Loss: 0.0000, Learning Rate: 0.005793\n",
            "Accuracy of the network on the test images: 83.72 %\n",
            "Epoch [71/100], Step [100/391], Loss: 0.0000, Learning Rate: 0.005710\n",
            "Epoch [71/100], Step [200/391], Loss: 0.0000, Learning Rate: 0.005667\n",
            "Epoch [71/100], Step [300/391], Loss: 0.0000, Learning Rate: 0.005623\n",
            "Accuracy of the network on the test images: 83.75 %\n",
            "Epoch [72/100], Step [100/391], Loss: 0.0000, Learning Rate: 0.005540\n",
            "Epoch [72/100], Step [200/391], Loss: 0.0000, Learning Rate: 0.005496\n",
            "Epoch [72/100], Step [300/391], Loss: 0.0000, Learning Rate: 0.005451\n",
            "Accuracy of the network on the test images: 83.65 %\n",
            "Epoch [73/100], Step [100/391], Loss: 0.0000, Learning Rate: 0.005367\n",
            "Epoch [73/100], Step [200/391], Loss: 0.0000, Learning Rate: 0.005322\n",
            "Epoch [73/100], Step [300/391], Loss: 0.0000, Learning Rate: 0.005278\n",
            "Accuracy of the network on the test images: 83.51 %\n",
            "Epoch [74/100], Step [100/391], Loss: 0.0000, Learning Rate: 0.005192\n",
            "Epoch [74/100], Step [200/391], Loss: 0.0000, Learning Rate: 0.005147\n",
            "Epoch [74/100], Step [300/391], Loss: 0.0000, Learning Rate: 0.005102\n",
            "Accuracy of the network on the test images: 83.46 %\n",
            "Epoch [75/100], Step [100/391], Loss: 0.0000, Learning Rate: 0.005015\n",
            "Epoch [75/100], Step [200/391], Loss: 0.0000, Learning Rate: 0.004969\n",
            "Epoch [75/100], Step [300/391], Loss: 0.0000, Learning Rate: 0.004924\n",
            "Accuracy of the network on the test images: 83.42 %\n",
            "Epoch [76/100], Step [100/391], Loss: 0.0000, Learning Rate: 0.004836\n",
            "Epoch [76/100], Step [200/391], Loss: 0.0000, Learning Rate: 0.004790\n",
            "Epoch [76/100], Step [300/391], Loss: 0.0000, Learning Rate: 0.004744\n",
            "Accuracy of the network on the test images: 83.23 %\n",
            "Epoch [77/100], Step [100/391], Loss: 0.0000, Learning Rate: 0.004656\n",
            "Epoch [77/100], Step [200/391], Loss: 0.0000, Learning Rate: 0.004609\n",
            "Epoch [77/100], Step [300/391], Loss: 0.0000, Learning Rate: 0.004562\n",
            "Accuracy of the network on the test images: 82.96 %\n",
            "Epoch [78/100], Step [100/391], Loss: 0.0000, Learning Rate: 0.004473\n",
            "Epoch [78/100], Step [200/391], Loss: 0.0000, Learning Rate: 0.004426\n",
            "Epoch [78/100], Step [300/391], Loss: 0.0000, Learning Rate: 0.004379\n",
            "Accuracy of the network on the test images: 82.98 %\n",
            "Epoch [79/100], Step [100/391], Loss: 0.0000, Learning Rate: 0.004289\n",
            "Epoch [79/100], Step [200/391], Loss: 0.0000, Learning Rate: 0.004241\n",
            "Epoch [79/100], Step [300/391], Loss: 0.0000, Learning Rate: 0.004194\n",
            "Accuracy of the network on the test images: 83.07 %\n",
            "Epoch [80/100], Step [100/391], Loss: 0.0000, Learning Rate: 0.004103\n",
            "Epoch [80/100], Step [200/391], Loss: 0.0000, Learning Rate: 0.004055\n",
            "Epoch [80/100], Step [300/391], Loss: 0.0000, Learning Rate: 0.004007\n",
            "Accuracy of the network on the test images: 82.73 %\n",
            "Epoch [81/100], Step [100/391], Loss: 0.0000, Learning Rate: 0.003916\n",
            "Epoch [81/100], Step [200/391], Loss: 0.0000, Learning Rate: 0.003867\n",
            "Epoch [81/100], Step [300/391], Loss: 0.0000, Learning Rate: 0.003819\n",
            "Accuracy of the network on the test images: 82.49 %\n",
            "Epoch [82/100], Step [100/391], Loss: 0.0000, Learning Rate: 0.003727\n",
            "Epoch [82/100], Step [200/391], Loss: 0.0000, Learning Rate: 0.003678\n",
            "Epoch [82/100], Step [300/391], Loss: 0.0000, Learning Rate: 0.003629\n",
            "Accuracy of the network on the test images: 82.48 %\n",
            "Epoch [83/100], Step [100/391], Loss: 0.0000, Learning Rate: 0.003536\n",
            "Epoch [83/100], Step [200/391], Loss: 0.0000, Learning Rate: 0.003487\n",
            "Epoch [83/100], Step [300/391], Loss: 0.0000, Learning Rate: 0.003438\n",
            "Accuracy of the network on the test images: 82.73 %\n",
            "Epoch [84/100], Step [100/391], Loss: 0.0000, Learning Rate: 0.003344\n",
            "Epoch [84/100], Step [200/391], Loss: 0.0000, Learning Rate: 0.003295\n",
            "Epoch [84/100], Step [300/391], Loss: 0.0000, Learning Rate: 0.003246\n",
            "Accuracy of the network on the test images: 82.61 %\n",
            "Epoch [85/100], Step [100/391], Loss: 0.0000, Learning Rate: 0.003151\n",
            "Epoch [85/100], Step [200/391], Loss: 0.0000, Learning Rate: 0.003102\n",
            "Epoch [85/100], Step [300/391], Loss: 0.0000, Learning Rate: 0.003052\n",
            "Accuracy of the network on the test images: 82.28 %\n",
            "Epoch [86/100], Step [100/391], Loss: 0.0000, Learning Rate: 0.002957\n",
            "Epoch [86/100], Step [200/391], Loss: 0.0000, Learning Rate: 0.002907\n",
            "Epoch [86/100], Step [300/391], Loss: 0.0000, Learning Rate: 0.002857\n",
            "Accuracy of the network on the test images: 82.45 %\n",
            "Epoch [87/100], Step [100/391], Loss: 0.0000, Learning Rate: 0.002762\n",
            "Epoch [87/100], Step [200/391], Loss: 0.0000, Learning Rate: 0.002712\n",
            "Epoch [87/100], Step [300/391], Loss: 0.0000, Learning Rate: 0.002661\n",
            "Accuracy of the network on the test images: 82.4 %\n",
            "Epoch [88/100], Step [100/391], Loss: 0.0000, Learning Rate: 0.002565\n",
            "Epoch [88/100], Step [200/391], Loss: 0.0000, Learning Rate: 0.002515\n",
            "Epoch [88/100], Step [300/391], Loss: 0.0000, Learning Rate: 0.002464\n",
            "Accuracy of the network on the test images: 82.15 %\n",
            "Epoch [89/100], Step [100/391], Loss: 0.0000, Learning Rate: 0.002368\n",
            "Epoch [89/100], Step [200/391], Loss: 0.0000, Learning Rate: 0.002317\n",
            "Epoch [89/100], Step [300/391], Loss: 0.0000, Learning Rate: 0.002267\n",
            "Accuracy of the network on the test images: 82.15 %\n",
            "Epoch [90/100], Step [100/391], Loss: 0.0000, Learning Rate: 0.002170\n",
            "Epoch [90/100], Step [200/391], Loss: 0.0000, Learning Rate: 0.002119\n",
            "Epoch [90/100], Step [300/391], Loss: 0.0000, Learning Rate: 0.002068\n",
            "Accuracy of the network on the test images: 82.33 %\n",
            "Epoch [91/100], Step [100/391], Loss: 0.0000, Learning Rate: 0.001970\n",
            "Epoch [91/100], Step [200/391], Loss: 0.0000, Learning Rate: 0.001919\n",
            "Epoch [91/100], Step [300/391], Loss: 0.0000, Learning Rate: 0.001868\n",
            "Accuracy of the network on the test images: 82.03 %\n",
            "Epoch [92/100], Step [100/391], Loss: 0.0000, Learning Rate: 0.001770\n",
            "Epoch [92/100], Step [200/391], Loss: 0.0000, Learning Rate: 0.001719\n",
            "Epoch [92/100], Step [300/391], Loss: 0.0000, Learning Rate: 0.001668\n",
            "Accuracy of the network on the test images: 82.24 %\n",
            "Epoch [93/100], Step [100/391], Loss: 0.0000, Learning Rate: 0.001570\n",
            "Epoch [93/100], Step [200/391], Loss: 0.0000, Learning Rate: 0.001518\n",
            "Epoch [93/100], Step [300/391], Loss: 0.0000, Learning Rate: 0.001467\n",
            "Accuracy of the network on the test images: 82.29 %\n",
            "Epoch [94/100], Step [100/391], Loss: 0.0000, Learning Rate: 0.001369\n",
            "Epoch [94/100], Step [200/391], Loss: 0.0000, Learning Rate: 0.001317\n",
            "Epoch [94/100], Step [300/391], Loss: 0.0000, Learning Rate: 0.001265\n",
            "Accuracy of the network on the test images: 82.19 %\n",
            "Epoch [95/100], Step [100/391], Loss: 0.0000, Learning Rate: 0.001167\n",
            "Epoch [95/100], Step [200/391], Loss: 0.0000, Learning Rate: 0.001115\n",
            "Epoch [95/100], Step [300/391], Loss: 0.0000, Learning Rate: 0.001063\n",
            "Accuracy of the network on the test images: 82.3 %\n",
            "Epoch [96/100], Step [100/391], Loss: 0.0000, Learning Rate: 0.000965\n",
            "Epoch [96/100], Step [200/391], Loss: 0.0000, Learning Rate: 0.000913\n",
            "Epoch [96/100], Step [300/391], Loss: 0.0000, Learning Rate: 0.000861\n",
            "Accuracy of the network on the test images: 82.08 %\n",
            "Epoch [97/100], Step [100/391], Loss: 0.0000, Learning Rate: 0.000762\n",
            "Epoch [97/100], Step [200/391], Loss: 0.0000, Learning Rate: 0.000710\n",
            "Epoch [97/100], Step [300/391], Loss: 0.0000, Learning Rate: 0.000658\n",
            "Accuracy of the network on the test images: 82.2 %\n",
            "Epoch [98/100], Step [100/391], Loss: 0.0000, Learning Rate: 0.000559\n",
            "Epoch [98/100], Step [200/391], Loss: 0.0000, Learning Rate: 0.000507\n",
            "Epoch [98/100], Step [300/391], Loss: 0.0000, Learning Rate: 0.000455\n",
            "Accuracy of the network on the test images: 82.06 %\n",
            "Epoch [99/100], Step [100/391], Loss: 0.0000, Learning Rate: 0.000356\n",
            "Epoch [99/100], Step [200/391], Loss: 0.0000, Learning Rate: 0.000304\n",
            "Epoch [99/100], Step [300/391], Loss: 0.0000, Learning Rate: 0.000252\n",
            "Accuracy of the network on the test images: 82.13 %\n",
            "Epoch [100/100], Step [100/391], Loss: 0.0000, Learning Rate: 0.000153\n",
            "Epoch [100/100], Step [200/391], Loss: 0.0000, Learning Rate: 0.000101\n",
            "Epoch [100/100], Step [300/391], Loss: 0.0000, Learning Rate: 0.000049\n",
            "Accuracy of the network on the test images: 82.16 %\n"
          ]
        }
      ],
      "source": [
        "# model = allcnn_t().to(device)\n",
        "epochs = 100\n",
        "# criterion = nn.CrossEntropyLoss()\n",
        "# optimizer = optim.SGD(model.parameters(), lr=0.1, momentum=0.9, weight_decay=0.0001, nesterov=True)\n",
        "val_error,val_loss_values,train_error,train_loss_values, learning_rate_list= train(model, optimizer, criterion, trainloader, testloader, epochs, 'cnn_curve', True)"
      ]
    },
    {
      "cell_type": "code",
      "execution_count": 46,
      "metadata": {
        "id": "vS5axAvF-Qja"
      },
      "outputs": [],
      "source": [
        "#torch.save(model, './Intital_hw2_p3_model/model3_100epoch_40lr_1e4wt.pt')\n",
        "torch.save(model, 'model1_100epoch_lr_hw4_p3.pt')"
      ]
    },
    {
      "cell_type": "code",
      "execution_count": 43,
      "metadata": {
        "id": "WBbGSV10BAMh"
      },
      "outputs": [],
      "source": [
        "## saving these for plotting val_error,val_loss_values,train_error,train_loss_values  \n",
        "import numpy as np\n",
        "np.save('val_error_hw4_p3.npy', np.array(val_error))\n",
        "np.save('val_loss_values_hw4_p3.npy', np.array(val_loss_values))\n",
        "np.save('train_error_hw4_p3.npy', np.array(train_error))\n",
        "np.save('train_loss_values_hw4_p3.npy', np.array(train_loss_values))\n",
        "np.save('learning_rate_list_hw4_p3.npy', np.array(learning_rate_list))"
      ]
    },
    {
      "cell_type": "code",
      "execution_count": 4,
      "metadata": {},
      "outputs": [],
      "source": [
        "val_error = np.load('val_error_hw4_p3.npy')"
      ]
    },
    {
      "cell_type": "code",
      "execution_count": 44,
      "metadata": {
        "colab": {
          "base_uri": "https://localhost:8080/"
        },
        "id": "1LIELRZWV3l4",
        "outputId": "41e883b3-dd9e-4bc7-c9d0-1c72a6f5c407"
      },
      "outputs": [
        {
          "data": {
            "text/plain": [
              "(0.0, 67.44791666666666)"
            ]
          },
          "execution_count": 44,
          "metadata": {},
          "output_type": "execute_result"
        }
      ],
      "source": [
        "np.array(train_error).min(), np.array(train_error).max()"
      ]
    },
    {
      "cell_type": "code",
      "execution_count": 45,
      "metadata": {
        "colab": {
          "base_uri": "https://localhost:8080/"
        },
        "id": "pEHfsXFZV8ME",
        "outputId": "b8d28120-d286-4204-df2d-940d1de77dfd"
      },
      "outputs": [
        {
          "data": {
            "text/plain": [
              "(15.719999999999999, 64.43)"
            ]
          },
          "execution_count": 45,
          "metadata": {},
          "output_type": "execute_result"
        }
      ],
      "source": [
        "np.array(val_error).min(), np.array(val_error).max()"
      ]
    },
    {
      "cell_type": "code",
      "execution_count": null,
      "metadata": {},
      "outputs": [
        {
          "data": {
            "text/plain": [
              "[<matplotlib.lines.Line2D at 0x2a369133a00>]"
            ]
          },
          "metadata": {},
          "output_type": "display_data"
        },
        {
          "data": {
            "image/png": "[encoded data removed]",
            "text/plain": [
              "<Figure size 640x480 with 1 Axes>"
            ]
          },
          "metadata": {},
          "output_type": "display_data"
        }
      ],
      "source": [
        "plt.plot(learning_rate_list)"
      ]
    },
    {
      "cell_type": "code",
      "execution_count": null,
      "metadata": {},
      "outputs": [
        {
          "data": {
            "text/plain": [
              "[<matplotlib.lines.Line2D at 0x2a36982c1c0>]"
            ]
          },
          "metadata": {},
          "output_type": "display_data"
        },
        {
          "data": {
            "image/png": "[encoded data removed]",
            "text/plain": [
              "<Figure size 640x480 with 1 Axes>"
            ]
          },
          "metadata": {},
          "output_type": "display_data"
        }
      ],
      "source": [
        "plt.plot(val_error)"
      ]
    },
    {
      "cell_type": "code",
      "execution_count": 5,
      "metadata": {},
      "outputs": [
        {
          "data": {
            "text/plain": [
              "[<matplotlib.lines.Line2D at 0x18f269a1b80>]"
            ]
          },
          "execution_count": 5,
          "metadata": {},
          "output_type": "execute_result"
        },
        {
          "data": {
            "image/png": "[encoded data removed]",
            "text/plain": [
              "<Figure size 640x480 with 1 Axes>"
            ]
          },
          "metadata": {},
          "output_type": "display_data"
        }
      ],
      "source": [
        "plt.plot(val_error/30)"
      ]
    },
    {
      "cell_type": "code",
      "execution_count": null,
      "metadata": {},
      "outputs": [
        {
          "data": {
            "text/plain": [
              "[<matplotlib.lines.Line2D at 0x2a36df22d30>]"
            ]
          },
          "metadata": {},
          "output_type": "display_data"
        },
        {
          "data": {
            "image/png": "[encoded data removed]",
            "text/plain": [
              "<Figure size 640x480 with 1 Axes>"
            ]
          },
          "metadata": {},
          "output_type": "display_data"
        }
      ],
      "source": [
        "mean_train_error = []\n",
        "for i in range(0,len(train_error), 391):\n",
        "    mean_train_error.append(np.mean(np.array(train_error[i:i+391])))\n",
        "plt.plot(mean_train_error)"
      ]
    },
    {
      "cell_type": "code",
      "execution_count": null,
      "metadata": {},
      "outputs": [
        {
          "data": {
            "text/plain": [
              "[<matplotlib.lines.Line2D at 0x2a36e4fa400>]"
            ]
          },
          "metadata": {},
          "output_type": "display_data"
        },
        {
          "data": {
            "image/png": "[encoded data removed]",
            "text/plain": [
              "<Figure size 640x480 with 1 Axes>"
            ]
          },
          "metadata": {},
          "output_type": "display_data"
        }
      ],
      "source": [
        "mean_train_loss_values = []\n",
        "for i in range(0,len(train_loss_values), 391):\n",
        "    mean_train_loss_values.append(np.mean(np.array(train_loss_values[i:i+391])))\n",
        "plt.plot(mean_train_loss_values)"
      ]
    },
    {
      "cell_type": "markdown",
      "metadata": {},
      "source": [
        "### 3.d"
      ]
    },
    {
      "cell_type": "markdown",
      "metadata": {},
      "source": [
        "##### First config : eta_max = eta_max and rho = 0.9 for momentum"
      ]
    },
    {
      "cell_type": "code",
      "execution_count": 53,
      "metadata": {},
      "outputs": [],
      "source": [
        "T = 50 * 391\n",
        "T_0 = T / 5\n",
        "def schedule_lr(epoch, itr):\n",
        "    t = epoch*391 + itr\n",
        "    if t <= T_0:\n",
        "        return (1e-4 + (t/T_0)*lr_max)\n",
        "    else:\n",
        "        return (1e-6 + (lr_max * (np.cos(np.pi/2*((t - T_0)/(T - T_0))))))"
      ]
    },
    {
      "cell_type": "code",
      "execution_count": 54,
      "metadata": {},
      "outputs": [],
      "source": [
        "lr_max = lr_opt / 10\n",
        "momentum = 0.9"
      ]
    },
    {
      "cell_type": "code",
      "execution_count": 55,
      "metadata": {},
      "outputs": [
        {
          "name": "stdout",
          "output_type": "stream",
          "text": [
            "Num parameters:  1667166\n",
            "Epoch [1/50], Step [100/391], Loss: 0.0172, Learning Rate: 0.000362\n",
            "Epoch [1/50], Step [200/391], Loss: 0.0165, Learning Rate: 0.000627\n",
            "Epoch [1/50], Step [300/391], Loss: 0.0159, Learning Rate: 0.000892\n",
            "Accuracy of the network on the test images: 23.74 %\n",
            "Epoch [2/50], Step [100/391], Loss: 0.0125, Learning Rate: 0.001398\n",
            "Epoch [2/50], Step [200/391], Loss: 0.0119, Learning Rate: 0.001662\n",
            "Epoch [2/50], Step [300/391], Loss: 0.0114, Learning Rate: 0.001927\n",
            "Accuracy of the network on the test images: 56.27 %\n",
            "Epoch [3/50], Step [100/391], Loss: 0.0088, Learning Rate: 0.002433\n",
            "Epoch [3/50], Step [200/391], Loss: 0.0085, Learning Rate: 0.002698\n",
            "Epoch [3/50], Step [300/391], Loss: 0.0083, Learning Rate: 0.002962\n",
            "Accuracy of the network on the test images: 63.88 %\n",
            "Epoch [4/50], Step [100/391], Loss: 0.0066, Learning Rate: 0.003468\n",
            "Epoch [4/50], Step [200/391], Loss: 0.0064, Learning Rate: 0.003733\n",
            "Epoch [4/50], Step [300/391], Loss: 0.0063, Learning Rate: 0.003998\n",
            "Accuracy of the network on the test images: 74.8 %\n",
            "Epoch [5/50], Step [100/391], Loss: 0.0049, Learning Rate: 0.004504\n",
            "Epoch [5/50], Step [200/391], Loss: 0.0049, Learning Rate: 0.004768\n",
            "Epoch [5/50], Step [300/391], Loss: 0.0049, Learning Rate: 0.005033\n",
            "Accuracy of the network on the test images: 74.36 %\n",
            "Epoch [6/50], Step [100/391], Loss: 0.0039, Learning Rate: 0.005539\n",
            "Epoch [6/50], Step [200/391], Loss: 0.0039, Learning Rate: 0.005804\n",
            "Epoch [6/50], Step [300/391], Loss: 0.0039, Learning Rate: 0.006069\n",
            "Accuracy of the network on the test images: 78.86 %\n",
            "Epoch [7/50], Step [100/391], Loss: 0.0031, Learning Rate: 0.006574\n",
            "Epoch [7/50], Step [200/391], Loss: 0.0031, Learning Rate: 0.006839\n",
            "Epoch [7/50], Step [300/391], Loss: 0.0032, Learning Rate: 0.007104\n",
            "Accuracy of the network on the test images: 81.02 %\n",
            "Epoch [8/50], Step [100/391], Loss: 0.0024, Learning Rate: 0.007610\n",
            "Epoch [8/50], Step [200/391], Loss: 0.0025, Learning Rate: 0.007874\n",
            "Epoch [8/50], Step [300/391], Loss: 0.0026, Learning Rate: 0.008139\n",
            "Accuracy of the network on the test images: 80.25 %\n",
            "Epoch [9/50], Step [100/391], Loss: 0.0020, Learning Rate: 0.008645\n",
            "Epoch [9/50], Step [200/391], Loss: 0.0021, Learning Rate: 0.008910\n",
            "Epoch [9/50], Step [300/391], Loss: 0.0022, Learning Rate: 0.009175\n",
            "Accuracy of the network on the test images: 81.15 %\n",
            "Epoch [10/50], Step [100/391], Loss: 0.0017, Learning Rate: 0.009680\n",
            "Epoch [10/50], Step [200/391], Loss: 0.0018, Learning Rate: 0.009945\n",
            "Epoch [10/50], Step [300/391], Loss: 0.0019, Learning Rate: 0.010210\n",
            "Accuracy of the network on the test images: 80.22 %\n",
            "Epoch [11/50], Step [100/391], Loss: 0.0014, Learning Rate: 0.010354\n",
            "Epoch [11/50], Step [200/391], Loss: 0.0015, Learning Rate: 0.010353\n",
            "Epoch [11/50], Step [300/391], Loss: 0.0015, Learning Rate: 0.010350\n",
            "Accuracy of the network on the test images: 81.61 %\n",
            "Epoch [12/50], Step [100/391], Loss: 0.0010, Learning Rate: 0.010342\n",
            "Epoch [12/50], Step [200/391], Loss: 0.0010, Learning Rate: 0.010336\n",
            "Epoch [12/50], Step [300/391], Loss: 0.0011, Learning Rate: 0.010330\n",
            "Accuracy of the network on the test images: 82.6 %\n",
            "Epoch [13/50], Step [100/391], Loss: 0.0007, Learning Rate: 0.010314\n",
            "Epoch [13/50], Step [200/391], Loss: 0.0008, Learning Rate: 0.010304\n",
            "Epoch [13/50], Step [300/391], Loss: 0.0008, Learning Rate: 0.010294\n",
            "Accuracy of the network on the test images: 82.41 %\n",
            "Epoch [14/50], Step [100/391], Loss: 0.0005, Learning Rate: 0.010270\n",
            "Epoch [14/50], Step [200/391], Loss: 0.0006, Learning Rate: 0.010256\n",
            "Epoch [14/50], Step [300/391], Loss: 0.0006, Learning Rate: 0.010242\n",
            "Accuracy of the network on the test images: 83.99 %\n",
            "Epoch [15/50], Step [100/391], Loss: 0.0004, Learning Rate: 0.010210\n",
            "Epoch [15/50], Step [200/391], Loss: 0.0004, Learning Rate: 0.010193\n",
            "Epoch [15/50], Step [300/391], Loss: 0.0004, Learning Rate: 0.010174\n",
            "Accuracy of the network on the test images: 84.54 %\n",
            "Epoch [16/50], Step [100/391], Loss: 0.0003, Learning Rate: 0.010135\n",
            "Epoch [16/50], Step [200/391], Loss: 0.0003, Learning Rate: 0.010113\n",
            "Epoch [16/50], Step [300/391], Loss: 0.0004, Learning Rate: 0.010090\n",
            "Accuracy of the network on the test images: 84.54 %\n",
            "Epoch [17/50], Step [100/391], Loss: 0.0003, Learning Rate: 0.010044\n",
            "Epoch [17/50], Step [200/391], Loss: 0.0002, Learning Rate: 0.010018\n",
            "Epoch [17/50], Step [300/391], Loss: 0.0003, Learning Rate: 0.009991\n",
            "Accuracy of the network on the test images: 84.74 %\n",
            "Epoch [18/50], Step [100/391], Loss: 0.0002, Learning Rate: 0.009937\n",
            "Epoch [18/50], Step [200/391], Loss: 0.0002, Learning Rate: 0.009908\n",
            "Epoch [18/50], Step [300/391], Loss: 0.0002, Learning Rate: 0.009877\n",
            "Accuracy of the network on the test images: 84.02 %\n",
            "Epoch [19/50], Step [100/391], Loss: 0.0002, Learning Rate: 0.009816\n",
            "Epoch [19/50], Step [200/391], Loss: 0.0002, Learning Rate: 0.009782\n",
            "Epoch [19/50], Step [300/391], Loss: 0.0002, Learning Rate: 0.009747\n",
            "Accuracy of the network on the test images: 84.99 %\n",
            "Epoch [20/50], Step [100/391], Loss: 0.0001, Learning Rate: 0.009679\n",
            "Epoch [20/50], Step [200/391], Loss: 0.0001, Learning Rate: 0.009641\n",
            "Epoch [20/50], Step [300/391], Loss: 0.0001, Learning Rate: 0.009603\n",
            "Accuracy of the network on the test images: 85.09 %\n",
            "Epoch [21/50], Step [100/391], Loss: 0.0001, Learning Rate: 0.009527\n",
            "Epoch [21/50], Step [200/391], Loss: 0.0001, Learning Rate: 0.009485\n",
            "Epoch [21/50], Step [300/391], Loss: 0.0001, Learning Rate: 0.009443\n",
            "Accuracy of the network on the test images: 85.24 %\n",
            "Epoch [22/50], Step [100/391], Loss: 0.0000, Learning Rate: 0.009360\n",
            "Epoch [22/50], Step [200/391], Loss: 0.0000, Learning Rate: 0.009315\n",
            "Epoch [22/50], Step [300/391], Loss: 0.0001, Learning Rate: 0.009269\n",
            "Accuracy of the network on the test images: 85.3 %\n",
            "Epoch [23/50], Step [100/391], Loss: 0.0001, Learning Rate: 0.009179\n",
            "Epoch [23/50], Step [200/391], Loss: 0.0001, Learning Rate: 0.009130\n",
            "Epoch [23/50], Step [300/391], Loss: 0.0001, Learning Rate: 0.009081\n",
            "Accuracy of the network on the test images: 85.27 %\n",
            "Epoch [24/50], Step [100/391], Loss: 0.0000, Learning Rate: 0.008984\n",
            "Epoch [24/50], Step [200/391], Loss: 0.0000, Learning Rate: 0.008932\n",
            "Epoch [24/50], Step [300/391], Loss: 0.0000, Learning Rate: 0.008878\n",
            "Accuracy of the network on the test images: 85.89 %\n",
            "Epoch [25/50], Step [100/391], Loss: 0.0000, Learning Rate: 0.008775\n",
            "Epoch [25/50], Step [200/391], Loss: 0.0000, Learning Rate: 0.008719\n",
            "Epoch [25/50], Step [300/391], Loss: 0.0000, Learning Rate: 0.008662\n",
            "Accuracy of the network on the test images: 85.57 %\n",
            "Epoch [26/50], Step [100/391], Loss: 0.0000, Learning Rate: 0.008552\n",
            "Epoch [26/50], Step [200/391], Loss: 0.0000, Learning Rate: 0.008493\n",
            "Epoch [26/50], Step [300/391], Loss: 0.0000, Learning Rate: 0.008433\n",
            "Accuracy of the network on the test images: 83.93 %\n",
            "Epoch [27/50], Step [100/391], Loss: 0.0001, Learning Rate: 0.008316\n",
            "Epoch [27/50], Step [200/391], Loss: 0.0002, Learning Rate: 0.008254\n",
            "Epoch [27/50], Step [300/391], Loss: 0.0003, Learning Rate: 0.008191\n",
            "Accuracy of the network on the test images: 83.57 %\n",
            "Epoch [28/50], Step [100/391], Loss: 0.0003, Learning Rate: 0.008068\n",
            "Epoch [28/50], Step [200/391], Loss: 0.0003, Learning Rate: 0.008002\n",
            "Epoch [28/50], Step [300/391], Loss: 0.0003, Learning Rate: 0.007936\n",
            "Accuracy of the network on the test images: 83.58 %\n",
            "Epoch [29/50], Step [100/391], Loss: 0.0002, Learning Rate: 0.007807\n",
            "Epoch [29/50], Step [200/391], Loss: 0.0002, Learning Rate: 0.007738\n",
            "Epoch [29/50], Step [300/391], Loss: 0.0002, Learning Rate: 0.007668\n",
            "Accuracy of the network on the test images: 83.95 %\n",
            "Epoch [30/50], Step [100/391], Loss: 0.0002, Learning Rate: 0.007534\n",
            "Epoch [30/50], Step [200/391], Loss: 0.0002, Learning Rate: 0.007462\n",
            "Epoch [30/50], Step [300/391], Loss: 0.0002, Learning Rate: 0.007389\n",
            "Accuracy of the network on the test images: 83.22 %\n",
            "Epoch [31/50], Step [100/391], Loss: 0.0001, Learning Rate: 0.007249\n",
            "Epoch [31/50], Step [200/391], Loss: 0.0001, Learning Rate: 0.007174\n",
            "Epoch [31/50], Step [300/391], Loss: 0.0001, Learning Rate: 0.007099\n",
            "Accuracy of the network on the test images: 84.95 %\n",
            "Epoch [32/50], Step [100/391], Loss: 0.0000, Learning Rate: 0.006953\n",
            "Epoch [32/50], Step [200/391], Loss: 0.0000, Learning Rate: 0.006876\n",
            "Epoch [32/50], Step [300/391], Loss: 0.0000, Learning Rate: 0.006798\n",
            "Accuracy of the network on the test images: 85.85 %\n",
            "Epoch [33/50], Step [100/391], Loss: 0.0000, Learning Rate: 0.006646\n",
            "Epoch [33/50], Step [200/391], Loss: 0.0000, Learning Rate: 0.006566\n",
            "Epoch [33/50], Step [300/391], Loss: 0.0000, Learning Rate: 0.006486\n",
            "Accuracy of the network on the test images: 85.7 %\n",
            "Epoch [34/50], Step [100/391], Loss: 0.0000, Learning Rate: 0.006330\n",
            "Epoch [34/50], Step [200/391], Loss: 0.0000, Learning Rate: 0.006247\n",
            "Epoch [34/50], Step [300/391], Loss: 0.0000, Learning Rate: 0.006164\n",
            "Accuracy of the network on the test images: 85.57 %\n",
            "Epoch [35/50], Step [100/391], Loss: 0.0000, Learning Rate: 0.006003\n",
            "Epoch [35/50], Step [200/391], Loss: 0.0000, Learning Rate: 0.005918\n",
            "Epoch [35/50], Step [300/391], Loss: 0.0000, Learning Rate: 0.005832\n",
            "Accuracy of the network on the test images: 85.35 %\n",
            "Epoch [36/50], Step [100/391], Loss: 0.0000, Learning Rate: 0.005667\n",
            "Epoch [36/50], Step [200/391], Loss: 0.0000, Learning Rate: 0.005580\n",
            "Epoch [36/50], Step [300/391], Loss: 0.0000, Learning Rate: 0.005492\n",
            "Accuracy of the network on the test images: 85.15 %\n",
            "Epoch [37/50], Step [100/391], Loss: 0.0000, Learning Rate: 0.005323\n",
            "Epoch [37/50], Step [200/391], Loss: 0.0000, Learning Rate: 0.005233\n",
            "Epoch [37/50], Step [300/391], Loss: 0.0000, Learning Rate: 0.005143\n",
            "Accuracy of the network on the test images: 84.86 %\n",
            "Epoch [38/50], Step [100/391], Loss: 0.0000, Learning Rate: 0.004970\n",
            "Epoch [38/50], Step [200/391], Loss: 0.0000, Learning Rate: 0.004878\n",
            "Epoch [38/50], Step [300/391], Loss: 0.0000, Learning Rate: 0.004786\n",
            "Accuracy of the network on the test images: 84.91 %\n",
            "Epoch [39/50], Step [100/391], Loss: 0.0000, Learning Rate: 0.004609\n",
            "Epoch [39/50], Step [200/391], Loss: 0.0000, Learning Rate: 0.004516\n",
            "Epoch [39/50], Step [300/391], Loss: 0.0000, Learning Rate: 0.004422\n",
            "Accuracy of the network on the test images: 84.59 %\n",
            "Epoch [40/50], Step [100/391], Loss: 0.0000, Learning Rate: 0.004242\n",
            "Epoch [40/50], Step [200/391], Loss: 0.0000, Learning Rate: 0.004147\n",
            "Epoch [40/50], Step [300/391], Loss: 0.0000, Learning Rate: 0.004051\n",
            "Accuracy of the network on the test images: 84.91 %\n",
            "Epoch [41/50], Step [100/391], Loss: 0.0000, Learning Rate: 0.003868\n",
            "Epoch [41/50], Step [200/391], Loss: 0.0000, Learning Rate: 0.003771\n",
            "Epoch [41/50], Step [300/391], Loss: 0.0000, Learning Rate: 0.003674\n",
            "Accuracy of the network on the test images: 84.81 %\n",
            "Epoch [42/50], Step [100/391], Loss: 0.0000, Learning Rate: 0.003488\n",
            "Epoch [42/50], Step [200/391], Loss: 0.0000, Learning Rate: 0.003390\n",
            "Epoch [42/50], Step [300/391], Loss: 0.0000, Learning Rate: 0.003291\n",
            "Accuracy of the network on the test images: 84.47 %\n",
            "Epoch [43/50], Step [100/391], Loss: 0.0000, Learning Rate: 0.003102\n",
            "Epoch [43/50], Step [200/391], Loss: 0.0000, Learning Rate: 0.003003\n",
            "Epoch [43/50], Step [300/391], Loss: 0.0000, Learning Rate: 0.002903\n",
            "Accuracy of the network on the test images: 84.58 %\n",
            "Epoch [44/50], Step [100/391], Loss: 0.0000, Learning Rate: 0.002712\n",
            "Epoch [44/50], Step [200/391], Loss: 0.0000, Learning Rate: 0.002612\n",
            "Epoch [44/50], Step [300/391], Loss: 0.0000, Learning Rate: 0.002511\n",
            "Accuracy of the network on the test images: 84.48 %\n",
            "Epoch [45/50], Step [100/391], Loss: 0.0000, Learning Rate: 0.002318\n",
            "Epoch [45/50], Step [200/391], Loss: 0.0000, Learning Rate: 0.002216\n",
            "Epoch [45/50], Step [300/391], Loss: 0.0000, Learning Rate: 0.002115\n",
            "Accuracy of the network on the test images: 84.54 %\n",
            "Epoch [46/50], Step [100/391], Loss: 0.0000, Learning Rate: 0.001920\n",
            "Epoch [46/50], Step [200/391], Loss: 0.0000, Learning Rate: 0.001818\n",
            "Epoch [46/50], Step [300/391], Loss: 0.0000, Learning Rate: 0.001715\n",
            "Accuracy of the network on the test images: 84.49 %\n",
            "Epoch [47/50], Step [100/391], Loss: 0.0000, Learning Rate: 0.001519\n",
            "Epoch [47/50], Step [200/391], Loss: 0.0000, Learning Rate: 0.001416\n",
            "Epoch [47/50], Step [300/391], Loss: 0.0000, Learning Rate: 0.001313\n",
            "Accuracy of the network on the test images: 84.35 %\n",
            "Epoch [48/50], Step [100/391], Loss: 0.0000, Learning Rate: 0.001116\n",
            "Epoch [48/50], Step [200/391], Loss: 0.0000, Learning Rate: 0.001012\n",
            "Epoch [48/50], Step [300/391], Loss: 0.0000, Learning Rate: 0.000909\n",
            "Accuracy of the network on the test images: 84.31 %\n",
            "Epoch [49/50], Step [100/391], Loss: 0.0000, Learning Rate: 0.000711\n",
            "Epoch [49/50], Step [200/391], Loss: 0.0000, Learning Rate: 0.000607\n",
            "Epoch [49/50], Step [300/391], Loss: 0.0000, Learning Rate: 0.000503\n",
            "Accuracy of the network on the test images: 84.27 %\n",
            "Epoch [50/50], Step [100/391], Loss: 0.0000, Learning Rate: 0.000305\n",
            "Epoch [50/50], Step [200/391], Loss: 0.0000, Learning Rate: 0.000201\n",
            "Epoch [50/50], Step [300/391], Loss: 0.0000, Learning Rate: 0.000097\n",
            "Accuracy of the network on the test images: 84.42 %\n"
          ]
        }
      ],
      "source": [
        "model = allcnn_t().to(device)\n",
        "epochs = 50\n",
        "criterion = nn.CrossEntropyLoss()\n",
        "optimizer = optim.SGD(model.parameters(), lr=0.1, momentum=momentum, weight_decay=0.001, nesterov=True)\n",
        "val_error,val_loss_values,train_error,train_loss_values, learning_rate_list= train(model, optimizer, criterion, trainloader, testloader, epochs, 'cnn_curve', True)"
      ]
    },
    {
      "cell_type": "code",
      "execution_count": 57,
      "metadata": {},
      "outputs": [],
      "source": [
        "torch.save(model, 'model1_100epoch_lr_hw4_p4_setting1.pt')"
      ]
    },
    {
      "cell_type": "code",
      "execution_count": 56,
      "metadata": {},
      "outputs": [
        {
          "data": {
            "text/plain": [
              "14.11"
            ]
          },
          "execution_count": 56,
          "metadata": {},
          "output_type": "execute_result"
        }
      ],
      "source": [
        "### eta_max = eta_max, rho = 0.9 for momentum\n",
        "np.array(val_error).min()"
      ]
    },
    {
      "cell_type": "markdown",
      "metadata": {},
      "source": [
        "##### Second config : eta_max = 5 * eta_max and rho = 0.5 for momentum"
      ]
    },
    {
      "cell_type": "code",
      "execution_count": 74,
      "metadata": {},
      "outputs": [],
      "source": [
        "lr_max = lr_opt / 10\n",
        "lr_max = lr_max * 5\n",
        "momentum = 0.5"
      ]
    },
    {
      "cell_type": "code",
      "execution_count": 75,
      "metadata": {},
      "outputs": [
        {
          "name": "stdout",
          "output_type": "stream",
          "text": [
            "Num parameters:  1667166\n",
            "Epoch [1/50], Step [100/391], Loss: 0.0176, Learning Rate: 0.001411\n",
            "Epoch [1/50], Step [200/391], Loss: 0.0169, Learning Rate: 0.002735\n",
            "Epoch [1/50], Step [300/391], Loss: 0.0162, Learning Rate: 0.004059\n",
            "Accuracy of the network on the test images: 22.79 %\n",
            "Epoch [2/50], Step [100/391], Loss: 0.0137, Learning Rate: 0.006588\n",
            "Epoch [2/50], Step [200/391], Loss: 0.0129, Learning Rate: 0.007912\n",
            "Epoch [2/50], Step [300/391], Loss: 0.0123, Learning Rate: 0.009236\n",
            "Accuracy of the network on the test images: 53.65 %\n",
            "Epoch [3/50], Step [100/391], Loss: 0.0100, Learning Rate: 0.011764\n",
            "Epoch [3/50], Step [200/391], Loss: 0.0097, Learning Rate: 0.013088\n",
            "Epoch [3/50], Step [300/391], Loss: 0.0095, Learning Rate: 0.014412\n",
            "Accuracy of the network on the test images: 62.68 %\n",
            "Epoch [4/50], Step [100/391], Loss: 0.0080, Learning Rate: 0.016941\n",
            "Epoch [4/50], Step [200/391], Loss: 0.0078, Learning Rate: 0.018265\n",
            "Epoch [4/50], Step [300/391], Loss: 0.0076, Learning Rate: 0.019589\n",
            "Accuracy of the network on the test images: 63.13 %\n",
            "Epoch [5/50], Step [100/391], Loss: nan, Learning Rate: 0.022118\n",
            "Epoch [5/50], Step [200/391], Loss: nan, Learning Rate: 0.023442\n",
            "Epoch [5/50], Step [300/391], Loss: nan, Learning Rate: 0.024766\n",
            "Accuracy of the network on the test images: 10.0 %\n",
            "Epoch [6/50], Step [100/391], Loss: nan, Learning Rate: 0.027295\n",
            "Epoch [6/50], Step [200/391], Loss: nan, Learning Rate: 0.028619\n",
            "Epoch [6/50], Step [300/391], Loss: nan, Learning Rate: 0.029943\n",
            "Accuracy of the network on the test images: 10.0 %\n",
            "Epoch [7/50], Step [100/391], Loss: nan, Learning Rate: 0.032471\n",
            "Epoch [7/50], Step [200/391], Loss: nan, Learning Rate: 0.033795\n",
            "Epoch [7/50], Step [300/391], Loss: nan, Learning Rate: 0.035119\n",
            "Accuracy of the network on the test images: 10.0 %\n",
            "Epoch [8/50], Step [100/391], Loss: nan, Learning Rate: 0.037648\n",
            "Epoch [8/50], Step [200/391], Loss: nan, Learning Rate: 0.038972\n",
            "Epoch [8/50], Step [300/391], Loss: nan, Learning Rate: 0.040296\n",
            "Accuracy of the network on the test images: 10.0 %\n",
            "Epoch [9/50], Step [100/391], Loss: nan, Learning Rate: 0.042825\n",
            "Epoch [9/50], Step [200/391], Loss: nan, Learning Rate: 0.044149\n",
            "Epoch [9/50], Step [300/391], Loss: nan, Learning Rate: 0.045473\n",
            "Accuracy of the network on the test images: 10.0 %\n",
            "Epoch [10/50], Step [100/391], Loss: nan, Learning Rate: 0.048002\n",
            "Epoch [10/50], Step [200/391], Loss: nan, Learning Rate: 0.049326\n",
            "Epoch [10/50], Step [300/391], Loss: nan, Learning Rate: 0.050650\n",
            "Accuracy of the network on the test images: 10.0 %\n",
            "Epoch [11/50], Step [100/391], Loss: nan, Learning Rate: 0.051766\n",
            "Epoch [11/50], Step [200/391], Loss: nan, Learning Rate: 0.051759\n",
            "Epoch [11/50], Step [300/391], Loss: nan, Learning Rate: 0.051746\n",
            "Accuracy of the network on the test images: 10.0 %\n",
            "Epoch [12/50], Step [100/391], Loss: nan, Learning Rate: 0.051706\n",
            "Epoch [12/50], Step [200/391], Loss: nan, Learning Rate: 0.051678\n",
            "Epoch [12/50], Step [300/391], Loss: nan, Learning Rate: 0.051645\n",
            "Accuracy of the network on the test images: 10.0 %\n",
            "Epoch [13/50], Step [100/391], Loss: nan, Learning Rate: 0.051566\n",
            "Epoch [13/50], Step [200/391], Loss: nan, Learning Rate: 0.051518\n",
            "Epoch [13/50], Step [300/391], Loss: nan, Learning Rate: 0.051464\n",
            "Accuracy of the network on the test images: 10.0 %\n",
            "Epoch [14/50], Step [100/391], Loss: nan, Learning Rate: 0.051347\n",
            "Epoch [14/50], Step [200/391], Loss: nan, Learning Rate: 0.051278\n",
            "Epoch [14/50], Step [300/391], Loss: nan, Learning Rate: 0.051204\n",
            "Accuracy of the network on the test images: 10.0 %\n",
            "Epoch [15/50], Step [100/391], Loss: nan, Learning Rate: 0.051048\n",
            "Epoch [15/50], Step [200/391], Loss: nan, Learning Rate: 0.050959\n",
            "Epoch [15/50], Step [300/391], Loss: nan, Learning Rate: 0.050865\n",
            "Accuracy of the network on the test images: 10.0 %\n",
            "Epoch [16/50], Step [100/391], Loss: nan, Learning Rate: 0.050671\n",
            "Epoch [16/50], Step [200/391], Loss: nan, Learning Rate: 0.050562\n",
            "Epoch [16/50], Step [300/391], Loss: nan, Learning Rate: 0.050448\n",
            "Accuracy of the network on the test images: 10.0 %\n"
          ]
        }
      ],
      "source": [
        "model = allcnn_t().to(device)\n",
        "epochs = 50\n",
        "criterion = nn.CrossEntropyLoss()\n",
        "optimizer = optim.SGD(model.parameters(), lr=0.1, momentum=momentum, weight_decay=0.001, nesterov=True)\n",
        "val_error,val_loss_values,train_error,train_loss_values, learning_rate_list= train(model, optimizer, criterion, trainloader, testloader, epochs, 'cnn_curve', True)"
      ]
    },
    {
      "cell_type": "code",
      "execution_count": 77,
      "metadata": {},
      "outputs": [
        {
          "name": "stdout",
          "output_type": "stream",
          "text": [
            "15.02\n"
          ]
        }
      ],
      "source": [
        "np.array(val_error).min()"
      ]
    },
    {
      "cell_type": "code",
      "execution_count": null,
      "metadata": {},
      "outputs": [],
      "source": [
        "torch.save(model, 'model1_100epoch_lr_hw4_p4_setting2.pt')"
      ]
    },
    {
      "cell_type": "markdown",
      "metadata": {},
      "source": [
        "##### Third config : eta_max = eta_max and rho = 0.5 for momentum"
      ]
    },
    {
      "cell_type": "code",
      "execution_count": 78,
      "metadata": {},
      "outputs": [],
      "source": [
        "lr_max = lr_opt / 10\n",
        "momentum = 0.5"
      ]
    },
    {
      "cell_type": "code",
      "execution_count": 79,
      "metadata": {},
      "outputs": [
        {
          "name": "stdout",
          "output_type": "stream",
          "text": [
            "Num parameters:  1667166\n",
            "Epoch [1/50], Step [100/391], Loss: 0.0181, Learning Rate: 0.000362\n",
            "Epoch [1/50], Step [200/391], Loss: 0.0177, Learning Rate: 0.000627\n",
            "Epoch [1/50], Step [300/391], Loss: 0.0173, Learning Rate: 0.000892\n",
            "Accuracy of the network on the test images: 16.43 %\n",
            "Epoch [2/50], Step [100/391], Loss: 0.0143, Learning Rate: 0.001398\n",
            "Epoch [2/50], Step [200/391], Loss: 0.0137, Learning Rate: 0.001662\n",
            "Epoch [2/50], Step [300/391], Loss: 0.0133, Learning Rate: 0.001927\n",
            "Accuracy of the network on the test images: 44.16 %\n",
            "Epoch [3/50], Step [100/391], Loss: 0.0115, Learning Rate: 0.002433\n",
            "Epoch [3/50], Step [200/391], Loss: 0.0112, Learning Rate: 0.002698\n",
            "Epoch [3/50], Step [300/391], Loss: 0.0109, Learning Rate: 0.002962\n",
            "Accuracy of the network on the test images: 53.93 %\n",
            "Epoch [4/50], Step [100/391], Loss: 0.0096, Learning Rate: 0.003468\n",
            "Epoch [4/50], Step [200/391], Loss: 0.0094, Learning Rate: 0.003733\n",
            "Epoch [4/50], Step [300/391], Loss: 0.0092, Learning Rate: 0.003998\n",
            "Accuracy of the network on the test images: 62.69 %\n",
            "Epoch [5/50], Step [100/391], Loss: 0.0080, Learning Rate: 0.004504\n",
            "Epoch [5/50], Step [200/391], Loss: 0.0078, Learning Rate: 0.004768\n",
            "Epoch [5/50], Step [300/391], Loss: 0.0078, Learning Rate: 0.005033\n",
            "Accuracy of the network on the test images: 63.24 %\n",
            "Epoch [6/50], Step [100/391], Loss: 0.0066, Learning Rate: 0.005539\n",
            "Epoch [6/50], Step [200/391], Loss: 0.0066, Learning Rate: 0.005804\n",
            "Epoch [6/50], Step [300/391], Loss: 0.0066, Learning Rate: 0.006069\n",
            "Accuracy of the network on the test images: 67.51 %\n",
            "Epoch [7/50], Step [100/391], Loss: 0.0057, Learning Rate: 0.006574\n",
            "Epoch [7/50], Step [200/391], Loss: 0.0057, Learning Rate: 0.006839\n",
            "Epoch [7/50], Step [300/391], Loss: 0.0056, Learning Rate: 0.007104\n",
            "Accuracy of the network on the test images: 72.87 %\n",
            "Epoch [8/50], Step [100/391], Loss: 0.0047, Learning Rate: 0.007610\n",
            "Epoch [8/50], Step [200/391], Loss: 0.0048, Learning Rate: 0.007874\n",
            "Epoch [8/50], Step [300/391], Loss: 0.0048, Learning Rate: 0.008139\n",
            "Accuracy of the network on the test images: 75.8 %\n",
            "Epoch [9/50], Step [100/391], Loss: 0.0040, Learning Rate: 0.008645\n",
            "Epoch [9/50], Step [200/391], Loss: 0.0041, Learning Rate: 0.008910\n",
            "Epoch [9/50], Step [300/391], Loss: 0.0041, Learning Rate: 0.009175\n",
            "Accuracy of the network on the test images: 72.82 %\n",
            "Epoch [10/50], Step [100/391], Loss: 0.0032, Learning Rate: 0.009680\n",
            "Epoch [10/50], Step [200/391], Loss: 0.0033, Learning Rate: 0.009945\n",
            "Epoch [10/50], Step [300/391], Loss: 0.0034, Learning Rate: 0.010210\n",
            "Accuracy of the network on the test images: 73.18 %\n",
            "Epoch [11/50], Step [100/391], Loss: 0.0026, Learning Rate: 0.010354\n",
            "Epoch [11/50], Step [200/391], Loss: 0.0027, Learning Rate: 0.010353\n",
            "Epoch [11/50], Step [300/391], Loss: 0.0028, Learning Rate: 0.010350\n",
            "Accuracy of the network on the test images: 75.36 %\n",
            "Epoch [12/50], Step [100/391], Loss: 0.0018, Learning Rate: 0.010342\n",
            "Epoch [12/50], Step [200/391], Loss: 0.0021, Learning Rate: 0.010336\n",
            "Epoch [12/50], Step [300/391], Loss: 0.0021, Learning Rate: 0.010330\n",
            "Accuracy of the network on the test images: 75.18 %\n",
            "Epoch [13/50], Step [100/391], Loss: 0.0012, Learning Rate: 0.010314\n",
            "Epoch [13/50], Step [200/391], Loss: 0.0013, Learning Rate: 0.010304\n",
            "Epoch [13/50], Step [300/391], Loss: 0.0013, Learning Rate: 0.010294\n",
            "Accuracy of the network on the test images: 77.19 %\n",
            "Epoch [14/50], Step [100/391], Loss: 0.0008, Learning Rate: 0.010270\n",
            "Epoch [14/50], Step [200/391], Loss: 0.0008, Learning Rate: 0.010256\n",
            "Epoch [14/50], Step [300/391], Loss: 0.0010, Learning Rate: 0.010242\n",
            "Accuracy of the network on the test images: 79.2 %\n",
            "Epoch [15/50], Step [100/391], Loss: 0.0005, Learning Rate: 0.010210\n",
            "Epoch [15/50], Step [200/391], Loss: 0.0006, Learning Rate: 0.010193\n",
            "Epoch [15/50], Step [300/391], Loss: 0.0007, Learning Rate: 0.010174\n",
            "Accuracy of the network on the test images: 78.95 %\n",
            "Epoch [16/50], Step [100/391], Loss: 0.0003, Learning Rate: 0.010135\n",
            "Epoch [16/50], Step [200/391], Loss: 0.0004, Learning Rate: 0.010113\n",
            "Epoch [16/50], Step [300/391], Loss: 0.0004, Learning Rate: 0.010090\n",
            "Accuracy of the network on the test images: 75.75 %\n"
          ]
        }
      ],
      "source": [
        "model = allcnn_t().to(device)\n",
        "epochs = 50\n",
        "criterion = nn.CrossEntropyLoss()\n",
        "optimizer = optim.SGD(model.parameters(), lr=0.1, momentum=momentum, weight_decay=0.001, nesterov=True)\n",
        "val_error,val_loss_values,train_error,train_loss_values, learning_rate_list= train(model, optimizer, criterion, trainloader, testloader, epochs, 'cnn_curve', True)"
      ]
    },
    {
      "cell_type": "code",
      "execution_count": null,
      "metadata": {},
      "outputs": [],
      "source": [
        "torch.save(model, 'model1_100epoch_lr_hw4_p4_setting3.pt')"
      ]
    },
    {
      "cell_type": "code",
      "execution_count": 80,
      "metadata": {},
      "outputs": [
        {
          "data": {
            "text/plain": [
              "20.799999999999997"
            ]
          },
          "execution_count": 80,
          "metadata": {},
          "output_type": "execute_result"
        }
      ],
      "source": [
        "np.array(val_error).min()"
      ]
    }
  ],
  "metadata": {
    "accelerator": "GPU",
    "colab": {
      "gpuType": "T4",
      "provenance": []
    },
    "kernelspec": {
      "display_name": "Python 3",
      "name": "python3"
    },
    "language_info": {
      "codemirror_mode": {
        "name": "ipython",
        "version": 3
      },
      "file_extension": ".py",
      "mimetype": "text/x-python",
      "name": "python",
      "nbconvert_exporter": "python",
      "pygments_lexer": "ipython3",
      "version": "3.9.17"
    }
  },
  "nbformat": 4,
  "nbformat_minor": 0
}
