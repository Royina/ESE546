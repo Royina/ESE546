{
  "cells": [
    {
      "cell_type": "code",
      "execution_count": 2,
      "metadata": {},
      "outputs": [],
      "source": [
        "import os\n",
        "os.environ['KMP_DUPLICATE_LIB_OK'] = 'True'"
      ]
    },
    {
      "cell_type": "markdown",
      "metadata": {},
      "source": [
        "### 2.a. Preparing dataset"
      ]
    },
    {
      "cell_type": "code",
      "execution_count": 3,
      "metadata": {
        "colab": {
          "base_uri": "https://localhost:8080/"
        },
        "id": "CArD73uar-KS",
        "outputId": "20979a77-954b-4c8b-e75d-1ef866cf8e1f"
      },
      "outputs": [
        {
          "name": "stdout",
          "output_type": "stream",
          "text": [
            "train dataset :  torch.Size([60000, 28, 28]) 60000\n",
            "val dataset :  torch.Size([10000, 28, 28]) 10000\n"
          ]
        }
      ],
      "source": [
        "# torch and torchvision imports\n",
        "import torch\n",
        "import torchvision as thv\n",
        "import torch.nn as nn\n",
        "import torchvision.transforms as transforms\n",
        "import torch.optim as optim\n",
        "import matplotlib.pyplot as plt\n",
        "\n",
        "train = thv.datasets.MNIST('./', download=True, train=True)\n",
        "val = thv.datasets.MNIST('./', download=True, train=False)\n",
        "print('train dataset : ', train.data.shape, len(train.targets))\n",
        "print('val dataset : ', val.data.shape, len(val.targets))"
      ]
    },
    {
      "cell_type": "code",
      "execution_count": 4,
      "metadata": {
        "colab": {
          "base_uri": "https://localhost:8080/"
        },
        "id": "0Vl4pXO7r-KU",
        "outputId": "db343abd-87e8-4d3d-8ec6-37d743c7f0e0"
      },
      "outputs": [
        {
          "data": {
            "text/plain": [
              "(60000,)"
            ]
          },
          "execution_count": 4,
          "metadata": {},
          "output_type": "execute_result"
        }
      ],
      "source": [
        "train.targets.numpy().shape"
      ]
    },
    {
      "cell_type": "code",
      "execution_count": 5,
      "metadata": {
        "colab": {
          "base_uri": "https://localhost:8080/"
        },
        "id": "DXQzS1Jcr-KU",
        "outputId": "2857bacb-65a7-4455-dcc9-d391a86dc049"
      },
      "outputs": [
        {
          "data": {
            "text/plain": [
              "array([0, 1, 2, 3, 4, 5, 6, 7, 8, 9], dtype=int64)"
            ]
          },
          "execution_count": 5,
          "metadata": {},
          "output_type": "execute_result"
        }
      ],
      "source": [
        "import numpy as np\n",
        "np.unique(train.targets.numpy())"
      ]
    },
    {
      "cell_type": "code",
      "execution_count": 6,
      "metadata": {
        "colab": {
          "base_uri": "https://localhost:8080/"
        },
        "id": "PyWL8pG1r-KV",
        "outputId": "8a8a6239-5fdc-4b36-b96d-ef5ec1f459ff"
      },
      "outputs": [
        {
          "name": "stdout",
          "output_type": "stream",
          "text": [
            "(60000, 28, 28) (60000,)\n"
          ]
        },
        {
          "data": {
            "text/plain": [
              "(array([-1,  1]), (12665,), (12665, 28, 28))"
            ]
          },
          "execution_count": 6,
          "metadata": {},
          "output_type": "execute_result"
        }
      ],
      "source": [
        "x = train.data.numpy()\n",
        "y = train.targets.numpy()\n",
        "print(x.shape, y.shape)\n",
        "idx = np.argwhere(y < 2)\n",
        "y = np.squeeze(y[idx])\n",
        "x = np.squeeze(x[idx])\n",
        "y = np.where(y==1,-1,1)\n",
        "np.unique(y), y.shape, x.shape"
      ]
    },
    {
      "cell_type": "code",
      "execution_count": 7,
      "metadata": {
        "colab": {
          "base_uri": "https://localhost:8080/"
        },
        "id": "WmAYW4jUr-KV",
        "outputId": "c5e3a76c-0fe2-424a-e85b-2da28a3fc57a"
      },
      "outputs": [
        {
          "name": "stdout",
          "output_type": "stream",
          "text": [
            "(10000, 28, 28) (10000,)\n"
          ]
        },
        {
          "data": {
            "text/plain": [
              "(array([-1,  1]), (2115,), (2115, 28, 28))"
            ]
          },
          "execution_count": 7,
          "metadata": {},
          "output_type": "execute_result"
        }
      ],
      "source": [
        "x_val = val.data.numpy()\n",
        "y_val = val.targets.numpy()\n",
        "print(x_val.shape, y_val.shape)\n",
        "idx_val = np.argwhere(y_val < 2)\n",
        "y_val = np.squeeze(y_val[idx_val])\n",
        "x_val = np.squeeze(x_val[idx_val])\n",
        "y_val = np.where(y_val==1, -1, 1)\n",
        "np.unique(y_val), y_val.shape, x_val.shape"
      ]
    },
    {
      "cell_type": "code",
      "execution_count": 8,
      "metadata": {
        "colab": {
          "base_uri": "https://localhost:8080/"
        },
        "id": "k-x-zbIdr-KV",
        "outputId": "0c045359-bd04-4542-d4eb-e8ba389318aa"
      },
      "outputs": [
        {
          "data": {
            "text/plain": [
              "784"
            ]
          },
          "execution_count": 8,
          "metadata": {},
          "output_type": "execute_result"
        }
      ],
      "source": [
        "28*28"
      ]
    },
    {
      "cell_type": "code",
      "execution_count": 9,
      "metadata": {
        "id": "smwn5bdzr-KW"
      },
      "outputs": [],
      "source": [
        "# initialize to appropriate sizes, fill with Gaussian entries\n",
        "# normalize to make the Frobenius norm of w, b equal to 1\n",
        "mu = 0\n",
        "sigma = 1\n",
        "weights_init = np.random.normal(mu, sigma, 1*784).reshape((1, 784))\n",
        "weights_init = weights_init / np.linalg.norm(weights_init)\n",
        "bias_init = np.random.normal(mu, sigma, (1,1))\n",
        "bias_init = bias_init / np.linalg.norm(bias_init)"
      ]
    },
    {
      "cell_type": "code",
      "execution_count": 10,
      "metadata": {
        "id": "m2DBMEIkr-KW"
      },
      "outputs": [],
      "source": [
        "import copy"
      ]
    },
    {
      "cell_type": "markdown",
      "metadata": {},
      "source": [
        "### 2.b. Gradient Descent without Nesterov"
      ]
    },
    {
      "cell_type": "code",
      "execution_count": 11,
      "metadata": {
        "id": "HWrIuNckr-KW"
      },
      "outputs": [],
      "source": [
        "class logistic_t:\n",
        "    def __init__(self, w, b, lambda_1) :\n",
        "\n",
        "        self.w = w\n",
        "        self.b = b\n",
        "        self.dw = np.zeros((1,784))\n",
        "        self.db = np.zeros((1,1))\n",
        "        self.lambda_1 = lambda_1\n",
        "\n",
        "    def forward(self,x, y):\n",
        "        hl = np.matmul(x, self.w.T) + self.b\n",
        "        # cache h^l in forward because we will need it to compute\n",
        "        # dw in backward\n",
        "        self.x = x\n",
        "        self.hl = hl\n",
        "        self.y = y\n",
        "        ell = np.mean(np.log(1 + np.exp(-y * hl))) + (self.lambda_1 / 2) * (np.sum(self.w**2) + self.b**2)\n",
        "        # print(self.y.shape, self.hl.shape)\n",
        "        ## for error we need tanh\n",
        "        hl1 = (np.exp(hl) - np.exp(-hl)) / (np.exp(hl) + np.exp(-hl)) ## tanh to get categorical -1, 1 as output for error calculation\n",
        "        output_cat = np.where(hl1>=0, 1, -1)\n",
        "        error = (1/hl.shape[0]) * ((output_cat!=y).sum())\n",
        "        return ell[0][0], error\n",
        "\n",
        "    def backward(self):\n",
        "        error = -self.y / (1 + np.exp(self.y * self.hl))\n",
        "        self.dw = (np.dot(error.T, self.x) / self.y.shape[0]) + (self.lambda_1 * self.w)\n",
        "        self.db = np.sum(error) / self.y.shape[0]\n",
        "        # self.dw = np.matmul((-y/(1+self.exp_hl)).T, self.x)\n",
        "        # self.db = np.sum(1/(1+self.exp_hl))\n",
        "        # notice that there is no need to cache dhl\n",
        "        return\n",
        "\n",
        "    def zero_grad(self):\n",
        "        # useful to delete the stored backprop gradients of the\n",
        "        # previous mini-batch before you start a new mini-batch\n",
        "        self.dw, self.db = 0*self.dw, 0*self.db"
      ]
    },
    {
      "cell_type": "code",
      "execution_count": 12,
      "metadata": {
        "colab": {
          "base_uri": "https://localhost:8080/"
        },
        "id": "-r0-aKmfr-KX",
        "outputId": "1d27fef0-04e2-45d4-b11d-84acc46b08f1"
      },
      "outputs": [
        {
          "data": {
            "text/plain": [
              "((12665, 784), 1.0, (12665, 1))"
            ]
          },
          "execution_count": 12,
          "metadata": {},
          "output_type": "execute_result"
        }
      ],
      "source": [
        "x = x/255\n",
        "x = x.reshape((x.shape[0], 28*28))\n",
        "y = y.reshape((-1,1))\n",
        "x.shape, x.max(), y.shape"
      ]
    },
    {
      "cell_type": "code",
      "execution_count": 13,
      "metadata": {
        "colab": {
          "base_uri": "https://localhost:8080/"
        },
        "id": "tHdpbi1br-KX",
        "outputId": "0d7fd305-f629-429c-9661-3a2f6288c7ea"
      },
      "outputs": [
        {
          "name": "stdout",
          "output_type": "stream",
          "text": [
            "0 0.5323332017370707 0.7978531854746824\n",
            "1 0.5323332017370707 0.7943181406106213\n",
            "2 0.5323332017370707 0.7908041507681924\n",
            "3 0.5323332017370707 0.7873111480467374\n",
            "4 0.5323332017370707 0.7838390632455614\n",
            "5 0.5323332017370707 0.7803878258876061\n",
            "6 0.5323332017370707 0.7769573642434451\n",
            "7 0.5323332017370707 0.7735476053555761\n",
            "8 0.5323332017370707 0.7701584750629978\n",
            "9 0.5323332017370707 0.7667898980260458\n",
            "10 0.5323332017370707 0.7634417977514754\n",
            "11 0.5323332017370707 0.760114096617767\n",
            "12 0.5323332017370707 0.7568067159006387\n",
            "13 0.5323332017370707 0.7535195757987466\n",
            "14 0.5323332017370707 0.7502525954595525\n",
            "15 0.5323332017370707 0.7470056930053425\n",
            "16 0.5323332017370707 0.743778785559378\n",
            "17 0.5323332017370707 0.7405717892721595\n",
            "18 0.5323332017370707 0.7373846193477847\n",
            "19 0.5323332017370707 0.7342171900703859\n",
            "20 0.5323332017370707 0.7310694148306258\n",
            "21 0.5323332017370707 0.7279412061522352\n",
            "22 0.5323332017370707 0.7248324757185767\n",
            "23 0.5323332017370707 0.7217431343992138\n",
            "24 0.5323332017370707 0.7186730922764742\n",
            "25 0.5323332017370707 0.7156222586719853\n",
            "26 0.5323332017370707 0.7125905421731681\n",
            "27 0.5323332017370707 0.7095778506596752\n",
            "28 0.5323332017370707 0.7065840913297543\n",
            "29 0.5323332017370707 0.7036091707265235\n",
            "30 0.5323332017370707 0.7006529947641459\n",
            "31 0.5323332017370707 0.6977154687538828\n",
            "32 0.5323332017370707 0.6947964974300193\n",
            "33 0.5323332017370707 0.6918959849756412\n",
            "34 0.5323332017370707 0.6890138350482579\n",
            "35 0.5323332017370707 0.6861499508052477\n",
            "36 0.5323332017370707 0.6833042349291257\n",
            "37 0.5323332017370707 0.6804765896526109\n",
            "38 0.5323332017370707 0.6776669167834876\n",
            "39 0.5323332017370707 0.6748751177292481\n",
            "40 0.5323332017370707 0.6721010935215058\n",
            "41 0.5323332017370707 0.6693447448401668\n",
            "42 0.5323332017370707 0.6666059720373532\n",
            "43 0.5323332017370707 0.6638846751610659\n",
            "44 0.5323332017370707 0.6611807539785791\n",
            "45 0.5323332017370707 0.6584941079995574\n",
            "46 0.5323332017370707 0.655824636498888\n",
            "47 0.5323332017370707 0.6531722385392175\n",
            "48 0.5323332017370707 0.6505368129931915\n",
            "49 0.532254243979471 0.6479182585653838\n",
            "50 0.532254243979471 0.6453164738139123\n",
            "51 0.532254243979471 0.6427313571717351\n",
            "52 0.532254243979471 0.6401628069676197\n",
            "53 0.5320963284642716 0.6376107214467831\n",
            "54 0.5320963284642716 0.6350749987911929\n",
            "55 0.5320963284642716 0.6325555371395302\n",
            "56 0.5317804974338729 0.6300522346068073\n",
            "57 0.5315436241610738 0.6275649893036365\n",
            "58 0.5314646664034741 0.6250936993551482\n",
            "59 0.5313067508882747 0.6226382629195537\n",
            "60 0.530990919857876 0.6201985782063513\n",
            "61 0.5308330043426767 0.6177745434941727\n",
            "62 0.5305171733122779 0.615366057148269\n",
            "63 0.5299644690090801 0.6129730176376332\n",
            "64 0.5295696802210818 0.6105953235517584\n",
            "65 0.5285432293722858 0.6082328736170328\n",
            "66 0.5279905250690881 0.6058855667127672\n",
            "67 0.5273588630082906 0.603553301886859\n",
            "68 0.526727200947493 0.601235978371089\n",
            "69 0.5257797078562969 0.5989334955960536\n",
            "70 0.5249901302803001 0.5966457532057323\n",
            "71 0.523726806158705 0.5943726510716921\n",
            "72 0.5228582708251086 0.5921140893069278\n",
            "73 0.5215159889459139 0.5898699682793422\n",
            "74 0.5197789182787209 0.5876401886248671\n",
            "75 0.5180418476115278 0.5854246512602247\n",
            "76 0.516225819186735 0.5832232573953356\n",
            "77 0.5144887485195421 0.5810359085453719\n",
            "78 0.5119621002763521 0.5788625065424597\n",
            "79 0.508724832214765 0.5767029535470347\n",
            "80 0.5058823529411764 0.5745571520588502\n",
            "81 0.5032767469403869 0.5724250049276445\n",
            "82 0.5010659297275958 0.5703064153634693\n",
            "83 0.4987761547572049 0.5682012869466817\n",
            "84 0.49545992893801816 0.5661095236376048\n",
            "85 0.4911962100276352 0.5640310297858586\n",
            "86 0.48787998420844847 0.5619657101393681\n",
            "87 0.48440584287406235 0.559913469853049\n",
            "88 0.48108961705487563 0.5578742144971779\n",
            "89 0.47548361626529806 0.5558478500654486\n",
            "90 0.4701144887485195 0.5538342829827221\n",
            "91 0.4639557836557442 0.5518334201124702\n",
            "92 0.46056060007895777 0.5498451687639212\n",
            "93 0.45558626135017766 0.547869436698911\n",
            "94 0.4501381760757994 0.545906132138441\n",
            "95 0.4443742597710225 0.5439551637689535\n",
            "96 0.43868930122384525 0.5420164407483236\n",
            "97 0.43237268061587053 0.5400898727115759\n",
            "98 0.4268456375838926 0.5381753697763287\n",
            "99 0.42163442558231345 0.5362728425479717\n"
          ]
        }
      ],
      "source": [
        "# initialize all the layers\n",
        "lambda_1 = 1e-4\n",
        "l1 = logistic_t(copy.deepcopy(weights_init), copy.deepcopy(bias_init), lambda_1)\n",
        "net = [l1]\n",
        "lr = 1e-3\n",
        "error_list = []\n",
        "loss_list = []\n",
        "\n",
        "# train for at least 1000 iterations\n",
        "for t in range(100):\n",
        "    # 1. sample a mini-batch of size =32\n",
        "    # each image in the mini - batch is chosen uniformly randomly from the\n",
        "    # training dataset\n",
        "    # index = np.random.choice(30000, 32)\n",
        "    # x, y = X_train[index], y_train[index]\n",
        "\n",
        "    # 2. zero gradient buffer\n",
        "    for l in net:\n",
        "        l.zero_grad()\n",
        "\n",
        "    # 3. forward pass\n",
        "    ell , error  = l1.forward(x, y)\n",
        "    error_list += [error]\n",
        "    loss_list += [ell]\n",
        "    # print(np.max(l1.w), np.max(l1.b))\n",
        "    # 4. backward pass\n",
        "    dx = l1.backward()\n",
        "\n",
        "    # 5. gather backprop gradients\n",
        "    dw, db = l1.dw , l1.db\n",
        "\n",
        "    # 6. print some quantities for logging\n",
        "    # and debugging\n",
        "    print(t, error, ell)\n",
        "    # print(l1.w, l1.b)\n",
        "    # print(dw.shape,db)\n",
        "    # print(t, np.linalg.norm(dw/l1.w), np.linalg.norm(db/l1.b))\n",
        "\n",
        "    # 7. one step of SGD\n",
        "    l1.w = l1.w - lr * dw\n",
        "    l1.b = l1.b - lr * db"
      ]
    },
    {
      "cell_type": "code",
      "execution_count": 14,
      "metadata": {
        "colab": {
          "base_uri": "https://localhost:8080/"
        },
        "id": "AWiTLW6h82k9",
        "outputId": "a49d4f4c-db38-47eb-eb65-8de73b846a9e"
      },
      "outputs": [
        {
          "data": {
            "text/plain": [
              "100"
            ]
          },
          "execution_count": 14,
          "metadata": {},
          "output_type": "execute_result"
        }
      ],
      "source": [
        "len(loss_list)"
      ]
    },
    {
      "cell_type": "code",
      "execution_count": 15,
      "metadata": {
        "colab": {
          "base_uri": "https://localhost:8080/",
          "height": 450
        },
        "id": "jcIqZWq28-X0",
        "outputId": "999de870-dc04-49c3-b308-3894a66943f2"
      },
      "outputs": [
        {
          "data": {
            "text/plain": [
              "[<matplotlib.lines.Line2D at 0x18e763b9df0>]"
            ]
          },
          "execution_count": 15,
          "metadata": {},
          "output_type": "execute_result"
        },
        {
          "data": {
            "image/png": "[encoded data removed]",
            "text/plain": [
              "<Figure size 640x480 with 1 Axes>"
            ]
          },
          "metadata": {},
          "output_type": "display_data"
        }
      ],
      "source": [
        "import matplotlib.pyplot as plt\n",
        "plt.plot(np.log(loss_list))"
      ]
    },
    {
      "cell_type": "code",
      "execution_count": 16,
      "metadata": {
        "colab": {
          "base_uri": "https://localhost:8080/"
        },
        "id": "1u-cnTOoAHvK",
        "outputId": "9481211a-0f7e-4154-e7eb-8ea600bb5e32"
      },
      "outputs": [
        {
          "data": {
            "text/plain": [
              "-0.004017217146114877"
            ]
          },
          "execution_count": 16,
          "metadata": {},
          "output_type": "execute_result"
        }
      ],
      "source": [
        "slope_b, intercept = np.polyfit(np.arange(0,100,1), np.log(loss_list), 1)\n",
        "slope_b"
      ]
    },
    {
      "cell_type": "code",
      "execution_count": 17,
      "metadata": {
        "colab": {
          "base_uri": "https://localhost:8080/"
        },
        "id": "B0p6gCcpBbDm",
        "outputId": "a6854e8f-bc2d-48e6-e957-839c797048f6"
      },
      "outputs": [
        {
          "data": {
            "text/plain": [
              "248.92854023764136"
            ]
          },
          "execution_count": 17,
          "metadata": {},
          "output_type": "execute_result"
        }
      ],
      "source": [
        "k_b = -1/slope_b\n",
        "k_b"
      ]
    },
    {
      "cell_type": "markdown",
      "metadata": {},
      "source": [
        "### 2.d. Gradient Descent with Nesterov"
      ]
    },
    {
      "cell_type": "code",
      "execution_count": 18,
      "metadata": {},
      "outputs": [],
      "source": [
        "class logistic_t:\n",
        "    def __init__(self, w, b, lambda_1, rho, lr) :\n",
        "        self.w = w\n",
        "        self.b = b\n",
        "        self.dw = np.zeros((1,784))\n",
        "        self.db = np.zeros((1,1))\n",
        "        self.lambda_1 = lambda_1\n",
        "        self.u_w = w\n",
        "        self.u_b = b\n",
        "        self.rho = rho\n",
        "        self.eta = lr\n",
        "\n",
        "    def forward(self,x, y):\n",
        "        hl = np.matmul(x, self.w.T) + self.b\n",
        "        # cache h^l in forward because we will need it to compute\n",
        "        # dw in backward\n",
        "        self.x = x\n",
        "        self.hl = hl\n",
        "        self.y = y\n",
        "        ell = np.mean(np.log(1 + np.exp(-y * hl))) + (self.lambda_1 / 2) * (np.sum(self.w**2) + self.b**2)\n",
        "        # print(self.y.shape, self.hl.shape)\n",
        "        ## for error we need tanh\n",
        "        hl1 = (np.exp(hl) - np.exp(-hl)) / (np.exp(hl) + np.exp(-hl)) ## tanh to get categorical -1, 1 as output for error calculation\n",
        "        output_cat = np.where(hl1>=0, 1, -1)\n",
        "        error = (1/hl.shape[0]) * ((output_cat!=y).sum())\n",
        "        return ell[0][0], error\n",
        "\n",
        "    def backward(self):\n",
        "        temp_w = self.w + self.rho * self.eta * self.u_w\n",
        "        temp_b = self.b + self.rho * self.eta * self.u_b\n",
        "        self.hu = np.matmul(self.x, temp_w.T) + temp_b\n",
        "        error = -self.y / (1 + np.exp(self.y * self.hu))\n",
        "        self.dw = (np.dot(error.T, self.x) / self.y.shape[0]) + (self.lambda_1 * temp_w)\n",
        "        self.db = np.sum(error) / self.y.shape[0]\n",
        "        self.u_w = self.rho * self.u_w - self.dw\n",
        "        self.u_b = self.rho * self.u_b - self.db\n",
        "        # self.dw = np.matmul((-y/(1+self.exp_hl)).T, self.x)\n",
        "        # self.db = np.sum(1/(1+self.exp_hl))\n",
        "        # notice that there is no need to cache dhl\n",
        "        return\n",
        "\n",
        "    def zero_grad(self):\n",
        "        # useful to delete the stored backprop gradients of the\n",
        "        # previous mini-batch before you start a new mini-batch\n",
        "        self.dw, self.db = 0*self.dw, 0*self.db"
      ]
    },
    {
      "cell_type": "code",
      "execution_count": 19,
      "metadata": {},
      "outputs": [
        {
          "name": "stdout",
          "output_type": "stream",
          "text": [
            "0 100 0.5323332017370707 0.7978531854746824\n",
            "1 100 0.5323332017370707 0.762991717029663\n",
            "2 100 0.5323332017370707 0.7301176102380466\n",
            "3 100 0.5323332017370707 0.699263044889122\n",
            "4 100 0.5323332017370707 0.670333725230676\n",
            "5 100 0.532254243979471 0.6432283103804737\n",
            "6 100 0.5308330043426767 0.6178415171142763\n",
            "7 100 0.5234109751283064 0.5940666229883065\n",
            "8 100 0.5019344650611922 0.5717976145422269\n",
            "9 100 0.46103434662455584 0.5509309357163084\n",
            "10 100 0.40465850769838135 0.5313668311271985\n",
            "11 100 0.34433478089222264 0.5130103091402564\n",
            "12 100 0.2871693643900513 0.49577176912657883\n",
            "13 100 0.23703118831425188 0.4795673470560819\n",
            "14 100 0.1966048164232136 0.4643190357638777\n",
            "15 100 0.16170548756415318 0.44995463318839374\n",
            "16 100 0.13335965258586657 0.43640756575027156\n",
            "17 100 0.1117252270035531 0.4236166265094264\n",
            "18 100 0.09427556257402289 0.4115256599937083\n",
            "19 100 0.07998420844848006 0.4000832183787184\n",
            "20 100 0.06798262929332807 0.3892422074056342\n",
            "21 100 0.05858665613896565 0.3789595351959592\n",
            "22 100 0.04942755625740229 0.36919577294537786\n",
            "23 100 0.043663639952625344 0.359914833252184\n",
            "24 100 0.03947887879984208 0.35108366941874714\n",
            "25 100 0.0348993288590604 0.3426719973085209\n",
            "26 100 0.031188314251875248 0.3346520401067868\n",
            "27 100 0.028266877220686933 0.3269982954990629\n",
            "28 100 0.026213975523095144 0.31968732424587465\n",
            "29 100 0.023924200552704302 0.3126975588154865\n",
            "30 100 0.02139755230951441 0.306009130574236\n",
            "31 100 0.019976312672720094 0.29960371397945257\n",
            "32 100 0.01871298855112515 0.2934643862369767\n",
            "33 100 0.017370706671930518 0.28757550094805673\n",
            "34 100 0.01610738255033557 0.28192257436035034\n",
            "35 100 0.015080931701539676 0.27649218294190736\n",
            "36 100 0.014923016186340309 0.2712718711065159\n",
            "37 100 0.01421239636794315 0.2662500680278054\n",
            "38 100 0.013422818791946308 0.2614160125843199\n",
            "39 100 0.012949072246348203 0.2567596855762117\n",
            "40 100 0.0124753257007501 0.25227174844511446\n",
            "41 100 0.012159494670351363 0.24794348781170958\n",
            "42 100 0.01192262139755231 0.24376676522049617\n",
            "43 100 0.011212001579155152 0.23973397154864204\n",
            "44 100 0.011054086063955783 0.23583798559599586\n",
            "45 100 0.0109751283063561 0.23207213642694582\n",
            "46 100 0.010264508487958943 0.2284301690824097\n",
            "47 100 0.01002763521515989 0.22490621332243654\n",
            "48 100 0.00986971969996052 0.22149475509724414\n",
            "49 100 0.0094749309119621 0.218190610477561\n",
            "50 100 0.0094749309119621 0.21498890180435423\n",
            "51 100 0.009317015396762732 0.21188503584386165\n",
            "52 100 0.009238057639163048 0.20887468375670012\n",
            "53 100 0.009317015396762732 0.2059537627100445\n",
            "54 100 0.009001184366363995 0.20311841897978306\n",
            "55 100 0.008369522305566523 0.20036501240542418\n",
            "56 100 0.00813264903276747 0.19769010207461324\n",
            "57 100 0.008211606790367153 0.19509043312661595\n",
            "58 100 0.0079747335175681 0.19256292457523888\n",
            "59 100 0.0079747335175681 0.19010465806154817\n",
            "60 100 0.007816818002368733 0.18771286745555255\n",
            "61 100 0.007737860244769049 0.18538492923388047\n",
            "62 100 0.007500986971969996 0.18311835356749098\n",
            "63 100 0.007500986971969996 0.18091077605973713\n",
            "64 100 0.007500986971969996 0.17875995008071224\n",
            "65 100 0.007264113699170943 0.17666373964884385\n",
            "66 100 0.007106198183971575 0.17462011281521295\n",
            "67 100 0.006948282668772207 0.17262713551013575\n",
            "68 100 0.006948282668772207 0.1706829658151897\n",
            "69 100 0.006869324911172522 0.16878584862715187\n",
            "70 100 0.006790367153572839 0.16693411068327768\n",
            "71 100 0.006790367153572839 0.16512615592001978\n",
            "72 100 0.0066324516383734705 0.16336046113970018\n",
            "73 100 0.0066324516383734705 0.1616355719618318\n",
            "74 100 0.0066324516383734705 0.15995009903776028\n",
            "75 100 0.0066324516383734705 0.15830271450908978\n",
            "76 100 0.0066324516383734705 0.15669214869197856\n",
            "77 100 0.006711409395973154 0.15511718697086616\n",
            "78 100 0.006553493880773786 0.1535766668865357\n",
            "79 100 0.006553493880773786 0.15206947540463187\n",
            "80 100 0.0064745361231741015 0.15059454635186945\n",
            "81 100 0.0064745361231741015 0.14915085800817632\n",
            "82 100 0.0064745361231741015 0.14773743084394095\n",
            "83 100 0.00623766285037505 0.1463533253923761\n",
            "84 100 0.006158705092775365 0.14499764024778308\n",
            "85 100 0.006158705092775365 0.14366951018120283\n",
            "86 100 0.006000789577575997 0.142368104365589\n",
            "87 100 0.005921831819976312 0.1410926247032265\n",
            "88 100 0.005921831819976312 0.1398423042486629\n",
            "89 100 0.005921831819976312 0.13861640572091574\n",
            "90 100 0.005842874062376629 0.13741422009917773\n",
            "91 100 0.005842874062376629 0.1362350652966592\n",
            "92 100 0.005842874062376629 0.13507828490759477\n",
            "93 100 0.005763916304776944 0.13394324702279622\n",
            "94 100 0.005763916304776944 0.13282934310945954\n",
            "95 100 0.005763916304776944 0.1317359869512378\n",
            "96 100 0.005606000789577576 0.13066261364486706\n",
            "97 100 0.005606000789577576 0.1296086786498913\n",
            "98 100 0.005606000789577576 0.12857365688826816\n",
            "99 100 0.005527043031977891 0.12755704189085657\n",
            "Slope of  0.75  is  -0.016958227605169424\n",
            "0 50 0.5323332017370707 0.7978531854746824\n",
            "1 50 0.5323332017370707 0.762991717029663\n",
            "2 50 0.5323332017370707 0.7301176102380466\n",
            "3 50 0.5323332017370707 0.699263044889122\n",
            "4 50 0.5323332017370707 0.670333725230676\n",
            "5 50 0.532254243979471 0.6432283103804737\n",
            "6 50 0.5308330043426767 0.6178415171142763\n",
            "7 50 0.5234109751283064 0.5940666229883065\n",
            "8 50 0.5019344650611922 0.5717976145422269\n",
            "9 50 0.46103434662455584 0.5509309357163084\n",
            "10 50 0.40465850769838135 0.5313668311271985\n",
            "11 50 0.34433478089222264 0.5130103091402564\n",
            "12 50 0.2871693643900513 0.49577176912657883\n",
            "13 50 0.23703118831425188 0.4795673470560819\n",
            "14 50 0.1966048164232136 0.4643190357638777\n",
            "15 50 0.16170548756415318 0.44995463318839374\n",
            "16 50 0.13335965258586657 0.43640756575027156\n",
            "17 50 0.1117252270035531 0.4236166265094264\n",
            "18 50 0.09427556257402289 0.4115256599937083\n",
            "19 50 0.07998420844848006 0.4000832183787184\n",
            "20 50 0.06798262929332807 0.3892422074056342\n",
            "21 50 0.05858665613896565 0.3789595351959592\n",
            "22 50 0.04942755625740229 0.36919577294537786\n",
            "23 50 0.043663639952625344 0.359914833252184\n",
            "24 50 0.03947887879984208 0.35108366941874714\n",
            "25 50 0.0348993288590604 0.3426719973085209\n",
            "26 50 0.031188314251875248 0.3346520401067868\n",
            "27 50 0.028266877220686933 0.3269982954990629\n",
            "28 50 0.026213975523095144 0.31968732424587465\n",
            "29 50 0.023924200552704302 0.3126975588154865\n",
            "30 50 0.02139755230951441 0.306009130574236\n",
            "31 50 0.019976312672720094 0.29960371397945257\n",
            "32 50 0.01871298855112515 0.2934643862369767\n",
            "33 50 0.017370706671930518 0.28757550094805673\n",
            "34 50 0.01610738255033557 0.28192257436035034\n",
            "35 50 0.015080931701539676 0.27649218294190736\n",
            "36 50 0.014923016186340309 0.2712718711065159\n",
            "37 50 0.01421239636794315 0.2662500680278054\n",
            "38 50 0.013422818791946308 0.2614160125843199\n",
            "39 50 0.012949072246348203 0.2567596855762117\n",
            "40 50 0.0124753257007501 0.25227174844511446\n",
            "41 50 0.012159494670351363 0.24794348781170958\n",
            "42 50 0.01192262139755231 0.24376676522049617\n",
            "43 50 0.011212001579155152 0.23973397154864204\n",
            "44 50 0.011054086063955783 0.23583798559599586\n",
            "45 50 0.0109751283063561 0.23207213642694582\n",
            "46 50 0.010264508487958943 0.2284301690824097\n",
            "47 50 0.01002763521515989 0.22490621332243654\n",
            "48 50 0.00986971969996052 0.22149475509724414\n",
            "49 50 0.0094749309119621 0.218190610477561\n",
            "Slope of  0.75  is  -0.025679089010583092\n",
            "0 100 0.5323332017370707 0.7978531854746824\n",
            "1 100 0.5323332017370707 0.7629926468242152\n",
            "2 100 0.5323332017370707 0.7301055146530816\n",
            "3 100 0.5323332017370707 0.6992394484832745\n",
            "4 100 0.5323332017370707 0.670300129676279\n",
            "5 100 0.532254243979471 0.6431860887090263\n",
            "6 100 0.5308330043426767 0.6177919096734518\n",
            "7 100 0.5234109751283064 0.5940107385676683\n",
            "8 100 0.5019344650611922 0.5717364352531338\n",
            "9 100 0.4608764311093565 0.5508653245993557\n",
            "10 100 0.4044216344255823 0.5312975415194403\n",
            "11 100 0.344255823134623 0.5129379949661617\n",
            "12 100 0.2867745756020529 0.49569699544436036\n",
            "13 100 0.23687327279905251 0.47949060036423874\n",
            "14 100 0.1964469009080142 0.4642407337311773\n",
            "15 100 0.16138965653375445 0.44987513360323333\n",
            "16 100 0.13328069482826688 0.4363271745888032\n",
            "17 100 0.1117252270035531 0.4235356050972266\n",
            "18 100 0.09419660481642321 0.41144423128694435\n",
            "19 100 0.07990525069088038 0.4000015724225522\n",
            "20 100 0.0678247137781287 0.3891605060448274\n",
            "21 100 0.05858665613896565 0.3788779161195414\n",
            "22 100 0.04942755625740229 0.369114353147251\n",
            "23 100 0.043663639952625344 0.3598337119852928\n",
            "24 100 0.03947887879984208 0.3510029307138427\n",
            "25 100 0.0348993288590604 0.3425917121208934\n",
            "26 100 0.031188314251875248 0.33457226814649804\n",
            "27 100 0.028266877220686933 0.3269190867926863\n",
            "28 100 0.026213975523095144 0.3196087204708415\n",
            "29 100 0.02384524279510462 0.31261959444196863\n",
            "30 100 0.02139755230951441 0.3059318338441046\n",
            "31 100 0.019976312672720094 0.29952710774720853\n",
            "32 100 0.01871298855112515 0.2933884886935878\n",
            "33 100 0.017370706671930518 0.2875003262452944\n",
            "34 100 0.01610738255033557 0.2818481331504039\n",
            "35 100 0.015080931701539676 0.27641848284469933\n",
            "36 100 0.014844058428740623 0.2711989171151747\n",
            "37 100 0.014133438610343467 0.2661778628611123\n",
            "38 100 0.013343861034346625 0.2613445569935755\n",
            "39 100 0.012949072246348203 0.2566889786128282\n",
            "40 100 0.0124753257007501 0.2522017876942852\n",
            "41 100 0.012159494670351363 0.2478742695967114\n",
            "42 100 0.01192262139755231 0.24369828478151007\n",
            "43 100 0.011212001579155152 0.23966622319941708\n",
            "44 100 0.011054086063955783 0.23577096286120938\n",
            "45 100 0.0109751283063561 0.23200583216271328\n",
            "46 100 0.010264508487958943 0.22836457558206066\n",
            "47 100 0.01002763521515989 0.2248413224093843\n",
            "48 100 0.00986971969996052 0.2214305582065361\n",
            "49 100 0.0094749309119621 0.21812709872748498\n",
            "50 100 0.0094749309119621 0.2149260660592995\n",
            "51 100 0.009317015396762732 0.21182286676947965\n",
            "52 100 0.009238057639163048 0.20881317186827786\n",
            "53 100 0.009317015396762732 0.20589289841489006\n",
            "54 100 0.009001184366363995 0.20305819261432412\n",
            "55 100 0.008369522305566523 0.20030541426763543\n",
            "56 100 0.00813264903276747 0.1976311224523132\n",
            "57 100 0.008211606790367153 0.1950320623221107\n",
            "58 100 0.0079747335175681 0.19250515292673334\n",
            "59 100 0.0079747335175681 0.19004747596169494\n",
            "60 100 0.007816818002368733 0.18765626536746802\n",
            "61 100 0.007737860244769049 0.1853288977049162\n",
            "62 100 0.007500986971969996 0.18306288324101957\n",
            "63 100 0.007500986971969996 0.18085585768517862\n",
            "64 100 0.007500986971969996 0.17870557452200372\n",
            "65 100 0.007264113699170943 0.176609897891531\n",
            "66 100 0.007106198183971575 0.17456679597232322\n",
            "67 100 0.006948282668772207 0.17257433482697423\n",
            "68 100 0.006948282668772207 0.17063067267318313\n",
            "69 100 0.006869324911172522 0.168734054546853\n",
            "70 100 0.006790367153572839 0.1668828073266293\n",
            "71 100 0.006790367153572839 0.16507533509196662\n",
            "72 100 0.0066324516383734705 0.1633101147892281\n",
            "73 100 0.0066324516383734705 0.1615856921825033\n",
            "74 100 0.0066324516383734705 0.15990067806781022\n",
            "75 100 0.0066324516383734705 0.1582537447311358\n",
            "76 100 0.0066324516383734705 0.15664362263239578\n",
            "77 100 0.0066324516383734705 0.15506909729887128\n",
            "78 100 0.006553493880773786 0.15352900641301814\n",
            "79 100 0.006553493880773786 0.1520222370807685\n",
            "80 100 0.0064745361231741015 0.1505477232675528\n",
            "81 100 0.0064745361231741015 0.14910444339028447\n",
            "82 100 0.0064745361231741015 0.14769141805447347\n",
            "83 100 0.00623766285037505 0.14630770792647835\n",
            "84 100 0.006158705092775365 0.14495241173167728\n",
            "85 100 0.006079747335175681 0.1436246643700441\n",
            "86 100 0.006000789577575997 0.14232363514126098\n",
            "87 100 0.005921831819976312 0.14104852607209037\n",
            "88 100 0.005921831819976312 0.1397985703392714\n",
            "89 100 0.005921831819976312 0.1385730307817032\n",
            "90 100 0.005842874062376629 0.13737119849613455\n",
            "91 100 0.005842874062376629 0.13619239151100018\n",
            "92 100 0.005842874062376629 0.13503595353342707\n",
            "93 100 0.005763916304776944 0.1339012527647942\n",
            "94 100 0.005763916304776944 0.13278768078055164\n",
            "95 100 0.0056849585471772605 0.13169465147030987\n",
            "96 100 0.005606000789577576 0.13062160003448678\n",
            "97 100 0.005606000789577576 0.12956798203405714\n",
            "98 100 0.005606000789577576 0.12853327249018548\n",
            "99 100 0.005527043031977891 0.1275169650307437\n",
            "Slope of  0.85  is  -0.01696055650068773\n",
            "0 50 0.5323332017370707 0.7978531854746824\n",
            "1 50 0.5323332017370707 0.7629926468242152\n",
            "2 50 0.5323332017370707 0.7301055146530816\n",
            "3 50 0.5323332017370707 0.6992394484832745\n",
            "4 50 0.5323332017370707 0.670300129676279\n",
            "5 50 0.532254243979471 0.6431860887090263\n",
            "6 50 0.5308330043426767 0.6177919096734518\n",
            "7 50 0.5234109751283064 0.5940107385676683\n",
            "8 50 0.5019344650611922 0.5717364352531338\n",
            "9 50 0.4608764311093565 0.5508653245993557\n",
            "10 50 0.4044216344255823 0.5312975415194403\n",
            "11 50 0.344255823134623 0.5129379949661617\n",
            "12 50 0.2867745756020529 0.49569699544436036\n",
            "13 50 0.23687327279905251 0.47949060036423874\n",
            "14 50 0.1964469009080142 0.4642407337311773\n",
            "15 50 0.16138965653375445 0.44987513360323333\n",
            "16 50 0.13328069482826688 0.4363271745888032\n",
            "17 50 0.1117252270035531 0.4235356050972266\n",
            "18 50 0.09419660481642321 0.41144423128694435\n",
            "19 50 0.07990525069088038 0.4000015724225522\n",
            "20 50 0.0678247137781287 0.3891605060448274\n",
            "21 50 0.05858665613896565 0.3788779161195414\n",
            "22 50 0.04942755625740229 0.369114353147251\n",
            "23 50 0.043663639952625344 0.3598337119852928\n",
            "24 50 0.03947887879984208 0.3510029307138427\n",
            "25 50 0.0348993288590604 0.3425917121208934\n",
            "26 50 0.031188314251875248 0.33457226814649804\n",
            "27 50 0.028266877220686933 0.3269190867926863\n",
            "28 50 0.026213975523095144 0.3196087204708415\n",
            "29 50 0.02384524279510462 0.31261959444196863\n",
            "30 50 0.02139755230951441 0.3059318338441046\n",
            "31 50 0.019976312672720094 0.29952710774720853\n",
            "32 50 0.01871298855112515 0.2933884886935878\n",
            "33 50 0.017370706671930518 0.2875003262452944\n",
            "34 50 0.01610738255033557 0.2818481331504039\n",
            "35 50 0.015080931701539676 0.27641848284469933\n",
            "36 50 0.014844058428740623 0.2711989171151747\n",
            "37 50 0.014133438610343467 0.2661778628611123\n",
            "38 50 0.013343861034346625 0.2613445569935755\n",
            "39 50 0.012949072246348203 0.2566889786128282\n",
            "40 50 0.0124753257007501 0.2522017876942852\n",
            "41 50 0.012159494670351363 0.2478742695967114\n",
            "42 50 0.01192262139755231 0.24369828478151007\n",
            "43 50 0.011212001579155152 0.23966622319941708\n",
            "44 50 0.011054086063955783 0.23577096286120938\n",
            "45 50 0.0109751283063561 0.23200583216271328\n",
            "46 50 0.010264508487958943 0.22836457558206066\n",
            "47 50 0.01002763521515989 0.2248413224093843\n",
            "48 50 0.00986971969996052 0.2214305582065361\n",
            "49 50 0.0094749309119621 0.21812709872748498\n",
            "Slope of  0.85  is  -0.025684622221268286\n",
            "0 100 0.5323332017370707 0.7978531854746824\n",
            "1 100 0.5323332017370707 0.762993576622409\n",
            "2 100 0.5323332017370707 0.7300934198937405\n",
            "3 100 0.5323332017370707 0.6992158435388226\n",
            "4 100 0.5323332017370707 0.6702665179194104\n",
            "5 100 0.532254243979471 0.6431438447749113\n",
            "6 100 0.5308330043426767 0.6177422752941905\n",
            "7 100 0.5233320173707067 0.5939548237047034\n",
            "8 100 0.5019344650611922 0.5716752229924457\n",
            "9 100 0.4607185155941571 0.5507996787790682\n",
            "10 100 0.40426371891038293 0.5312282161195128\n",
            "11 100 0.3440979076194236 0.5128656444220915\n",
            "12 100 0.28653770232925385 0.4956221852151218\n",
            "13 100 0.23679431504145282 0.47941381725841903\n",
            "14 100 0.19628898539281484 0.4641623956541079\n",
            "15 100 0.16123174101855509 0.44979559852094797\n",
            "16 100 0.13304382155546782 0.43624674860831836\n",
            "17 100 0.11156731148835373 0.4234545496381551\n",
            "18 100 0.09419660481642321 0.41136276937068456\n",
            "19 100 0.07990525069088038 0.39991989413709367\n",
            "20 100 0.06766679826292933 0.38907877326042256\n",
            "21 100 0.0583497828661666 0.3787962665373577\n",
            "22 100 0.04942755625740229 0.36903290376309494\n",
            "23 100 0.04358468219502566 0.35975256204621636\n",
            "24 100 0.03947887879984208 0.35092216423880684\n",
            "25 100 0.0348993288590604 0.3425114000489818\n",
            "26 100 0.031188314251875248 0.33449247016830547\n",
            "27 100 0.028266877220686933 0.32683985291296136\n",
            "28 100 0.026213975523095144 0.3195300923435379\n",
            "29 100 0.02384524279510462 0.31254160651268104\n",
            "30 100 0.02139755230951441 0.3058545143294615\n",
            "31 100 0.019976312672720094 0.2994504794761416\n",
            "32 100 0.01871298855112515 0.29331256983143633\n",
            "33 100 0.017370706671930518 0.2874251309183501\n",
            "34 100 0.01610738255033557 0.28177367198568687\n",
            "35 100 0.015080931701539676 0.2763447634373991\n",
            "36 100 0.014844058428740623 0.27112594443421917\n",
            "37 100 0.014133438610343467 0.2661056396016858\n",
            "38 100 0.013343861034346625 0.26127308388403875\n",
            "39 100 0.012949072246348203 0.2566182546823472\n",
            "40 100 0.0124753257007501 0.25213181050652667\n",
            "41 100 0.012159494670351363 0.24780503545415905\n",
            "42 100 0.01192262139755231 0.243629788904291\n",
            "43 100 0.011133043821555468 0.23959845988196582\n",
            "44 100 0.011054086063955783 0.23570392560962244\n",
            "45 100 0.0109751283063561 0.2319395138152488\n",
            "46 100 0.010264508487958943 0.22829896841490055\n",
            "47 100 0.01002763521515989 0.22477641822948852\n",
            "48 100 0.00986971969996052 0.22136634843317438\n",
            "49 100 0.0094749309119621 0.2180635744638239\n",
            "50 100 0.0094749309119621 0.21486321815524265\n",
            "51 100 0.009238057639163048 0.21176068587680705\n",
            "52 100 0.009238057639163048 0.20875164848899738\n",
            "53 100 0.009317015396762732 0.20583202294360137\n",
            "54 100 0.008922226608764312 0.20299795537529502\n",
            "55 100 0.008290564547966837 0.20024580554720703\n",
            "56 100 0.00813264903276747 0.19757213252717584\n",
            "57 100 0.008211606790367153 0.19497368148392652\n",
            "58 100 0.0079747335175681 0.1924473715035266\n",
            "59 100 0.0079747335175681 0.18999028433638127\n",
            "60 100 0.007816818002368733 0.18759965399385042\n",
            "61 100 0.007737860244769049 0.18527285712143843\n",
            "62 100 0.007500986971969996 0.1830074040825332\n",
            "63 100 0.007500986971969996 0.1808009306929521\n",
            "64 100 0.007500986971969996 0.17865119055217532\n",
            "65 100 0.007264113699170943 0.17655604792218402\n",
            "66 100 0.007106198183971575 0.17451347110934376\n",
            "67 100 0.006948282668772207 0.17252152630883194\n",
            "68 100 0.006948282668772207 0.17057837187476152\n",
            "69 100 0.006869324911172522 0.16868225298243986\n",
            "70 100 0.006790367153572839 0.16683149665216782\n",
            "71 100 0.006711409395973154 0.1650245071066551\n",
            "72 100 0.0066324516383734705 0.16325976143654702\n",
            "73 100 0.0066324516383734705 0.1615358055507401\n",
            "74 100 0.0066324516383734705 0.15985125039014383\n",
            "75 100 0.0066324516383734705 0.15820476838533687\n",
            "76 100 0.0066324516383734705 0.15659509014019216\n",
            "77 100 0.0066324516383734705 0.15502100132502222\n",
            "78 100 0.006553493880773786 0.15348133976413725\n",
            "79 100 0.006553493880773786 0.15197499270392964\n",
            "80 100 0.0064745361231741015 0.1505008942487106\n",
            "81 100 0.0064745361231741015 0.14905802295253648\n",
            "82 100 0.006395578365574418 0.14764539955618916\n",
            "83 100 0.00623766285037505 0.14626208485931627\n",
            "84 100 0.006158705092775365 0.14490717771850975\n",
            "85 100 0.006079747335175681 0.1435798131628071\n",
            "86 100 0.006000789577575997 0.14227916061874388\n",
            "87 100 0.005921831819976312 0.14100442223767926\n",
            "88 100 0.005921831819976312 0.13975483131865787\n",
            "89 100 0.005921831819976312 0.1385296508205692\n",
            "90 100 0.005842874062376629 0.13732817195782238\n",
            "91 100 0.005842874062376629 0.13614971287417568\n",
            "92 100 0.005842874062376629 0.13499361738974378\n",
            "93 100 0.005763916304776944 0.1338592538165637\n",
            "94 100 0.005763916304776944 0.13274601383842652\n",
            "95 100 0.0056849585471772605 0.1316533114509836\n",
            "96 100 0.005606000789577576 0.1305805819584143\n",
            "97 100 0.005606000789577576 0.12952728102320032\n",
            "98 100 0.005606000789577576 0.12849288376578608\n",
            "99 100 0.005527043031977891 0.1274768839111267\n",
            "Slope of  0.95  is  -0.016962886083846575\n",
            "0 50 0.5323332017370707 0.7978531854746824\n",
            "1 50 0.5323332017370707 0.762993576622409\n",
            "2 50 0.5323332017370707 0.7300934198937405\n",
            "3 50 0.5323332017370707 0.6992158435388226\n",
            "4 50 0.5323332017370707 0.6702665179194104\n",
            "5 50 0.532254243979471 0.6431438447749113\n",
            "6 50 0.5308330043426767 0.6177422752941905\n",
            "7 50 0.5233320173707067 0.5939548237047034\n",
            "8 50 0.5019344650611922 0.5716752229924457\n",
            "9 50 0.4607185155941571 0.5507996787790682\n",
            "10 50 0.40426371891038293 0.5312282161195128\n",
            "11 50 0.3440979076194236 0.5128656444220915\n",
            "12 50 0.28653770232925385 0.4956221852151218\n",
            "13 50 0.23679431504145282 0.47941381725841903\n",
            "14 50 0.19628898539281484 0.4641623956541079\n",
            "15 50 0.16123174101855509 0.44979559852094797\n",
            "16 50 0.13304382155546782 0.43624674860831836\n",
            "17 50 0.11156731148835373 0.4234545496381551\n",
            "18 50 0.09419660481642321 0.41136276937068456\n",
            "19 50 0.07990525069088038 0.39991989413709367\n",
            "20 50 0.06766679826292933 0.38907877326042256\n",
            "21 50 0.0583497828661666 0.3787962665373577\n",
            "22 50 0.04942755625740229 0.36903290376309494\n",
            "23 50 0.04358468219502566 0.35975256204621636\n",
            "24 50 0.03947887879984208 0.35092216423880684\n",
            "25 50 0.0348993288590604 0.3425114000489818\n",
            "26 50 0.031188314251875248 0.33449247016830547\n",
            "27 50 0.028266877220686933 0.32683985291296136\n",
            "28 50 0.026213975523095144 0.3195300923435379\n",
            "29 50 0.02384524279510462 0.31254160651268104\n",
            "30 50 0.02139755230951441 0.3058545143294615\n",
            "31 50 0.019976312672720094 0.2994504794761416\n",
            "32 50 0.01871298855112515 0.29331256983143633\n",
            "33 50 0.017370706671930518 0.2874251309183501\n",
            "34 50 0.01610738255033557 0.28177367198568687\n",
            "35 50 0.015080931701539676 0.2763447634373991\n",
            "36 50 0.014844058428740623 0.27112594443421917\n",
            "37 50 0.014133438610343467 0.2661056396016858\n",
            "38 50 0.013343861034346625 0.26127308388403875\n",
            "39 50 0.012949072246348203 0.2566182546823472\n",
            "40 50 0.0124753257007501 0.25213181050652667\n",
            "41 50 0.012159494670351363 0.24780503545415905\n",
            "42 50 0.01192262139755231 0.243629788904291\n",
            "43 50 0.011133043821555468 0.23959845988196582\n",
            "44 50 0.011054086063955783 0.23570392560962244\n",
            "45 50 0.0109751283063561 0.2319395138152488\n",
            "46 50 0.010264508487958943 0.22829896841490055\n",
            "47 50 0.01002763521515989 0.22477641822948852\n",
            "48 50 0.00986971969996052 0.22136634843317438\n",
            "49 50 0.0094749309119621 0.2180635744638239\n",
            "Slope of  0.95  is  -0.025690157976130366\n"
          ]
        }
      ],
      "source": [
        "# initialize all the layers\n",
        "lambda_1 = 1e-4\n",
        "L = [0.75, 0.85, 0.95]\n",
        "final_loss_list = []\n",
        "final_error_list = []\n",
        "slope_list = []\n",
        "t_list = [100,50]\n",
        "for L_i in L:\n",
        "    # train for at least 1000 iterations\n",
        "    for t in t_list:\n",
        "        # print(t)\n",
        "        error_list = []\n",
        "        loss_list = []\n",
        "        rho = L_i/k_b\n",
        "        lr = 1e-3\n",
        "        l1 = logistic_t(copy.deepcopy(weights_init), copy.deepcopy(bias_init), lambda_1, rho, lr)\n",
        "        net = [l1]\n",
        "        for i in range(t):\n",
        "            # 1. sample a mini-batch of size =32\n",
        "            # each image in the mini - batch is chosen uniformly randomly from the\n",
        "            # training dataset\n",
        "            # index = np.random.choice(30000, 32)\n",
        "            # x, y = X_train[index], y_train[index]\n",
        "\n",
        "            # 2. zero gradient buffer\n",
        "            for l in net:\n",
        "                l.zero_grad()\n",
        "\n",
        "            # 3. forward pass\n",
        "            ell , error  = l1.forward(x, y)\n",
        "            error_list += [error]\n",
        "            loss_list += [ell]\n",
        "            # print(np.max(l1.w), np.max(l1.b))\n",
        "            # 4. backward pass\n",
        "            dx = l1.backward()\n",
        "\n",
        "            # 5. gather backprop gradients\n",
        "            dw, db = l1.dw , l1.db\n",
        "\n",
        "            # 6. print some quantities for logging\n",
        "            # and debugging\n",
        "            print(i,t, error, ell)\n",
        "            # print(l1.w, l1.b)\n",
        "            # print(dw.shape,db)\n",
        "            # print(t, np.linalg.norm(dw/l1.w), np.linalg.norm(db/l1.b))\n",
        "\n",
        "            # 7. one step of SGD\n",
        "            l1.w = l1.w + lr * l1.u_w\n",
        "            l1.b = l1.b + lr * l1.u_b\n",
        "        # print(len(loss_list))\n",
        "        final_loss_list.append(loss_list)\n",
        "        final_error_list.append(error_list)\n",
        "        slope, _ = np.polyfit(np.arange(0,t,1), np.log(loss_list), 1)\n",
        "        slope_list.append(slope)\n",
        "        print('Slope of ', L_i, ' is ', slope)"
      ]
    },
    {
      "cell_type": "code",
      "execution_count": 20,
      "metadata": {},
      "outputs": [
        {
          "data": {
            "text/plain": [
              "[-0.016958227605169424,\n",
              " -0.025679089010583092,\n",
              " -0.01696055650068773,\n",
              " -0.025684622221268286,\n",
              " -0.016962886083846575,\n",
              " -0.025690157976130366]"
            ]
          },
          "execution_count": 20,
          "metadata": {},
          "output_type": "execute_result"
        }
      ],
      "source": [
        "slope_list"
      ]
    },
    {
      "cell_type": "code",
      "execution_count": 21,
      "metadata": {},
      "outputs": [
        {
          "data": {
            "text/plain": [
              "[<matplotlib.lines.Line2D at 0x18e000ccc10>]"
            ]
          },
          "execution_count": 21,
          "metadata": {},
          "output_type": "execute_result"
        },
        {
          "data": {
            "image/png": "[encoded data removed]",
            "text/plain": [
              "<Figure size 640x480 with 1 Axes>"
            ]
          },
          "metadata": {},
          "output_type": "display_data"
        }
      ],
      "source": [
        "plt.plot(np.log(final_loss_list[-1]))"
      ]
    },
    {
      "cell_type": "code",
      "execution_count": 22,
      "metadata": {},
      "outputs": [
        {
          "data": {
            "text/plain": [
              "[<matplotlib.lines.Line2D at 0x18e0010ba90>]"
            ]
          },
          "execution_count": 22,
          "metadata": {},
          "output_type": "execute_result"
        },
        {
          "data": {
            "image/png": "[encoded data removed]",
            "text/plain": [
              "<Figure size 640x480 with 1 Axes>"
            ]
          },
          "metadata": {},
          "output_type": "display_data"
        }
      ],
      "source": [
        "plt.plot(np.log(final_loss_list[-2]))"
      ]
    },
    {
      "cell_type": "code",
      "execution_count": 23,
      "metadata": {},
      "outputs": [
        {
          "data": {
            "text/plain": [
              "-0.025690157976130366"
            ]
          },
          "execution_count": 23,
          "metadata": {},
          "output_type": "execute_result"
        }
      ],
      "source": [
        "slope, intercept = np.polyfit(np.arange(0,50,1), np.log(final_loss_list[-1]), 1)\n",
        "slope"
      ]
    },
    {
      "cell_type": "code",
      "execution_count": 24,
      "metadata": {},
      "outputs": [
        {
          "data": {
            "text/plain": [
              "-0.016962886083846575"
            ]
          },
          "execution_count": 24,
          "metadata": {},
          "output_type": "execute_result"
        }
      ],
      "source": [
        "slope, intercept = np.polyfit(np.arange(0,100,1), np.log(final_loss_list[-2]), 1)\n",
        "slope"
      ]
    },
    {
      "cell_type": "markdown",
      "metadata": {},
      "source": [
        "### 2.e"
      ]
    },
    {
      "cell_type": "markdown",
      "metadata": {},
      "source": [
        "### SGD without nesterov"
      ]
    },
    {
      "cell_type": "code",
      "execution_count": 25,
      "metadata": {},
      "outputs": [],
      "source": [
        "class logistic_t:\n",
        "    def __init__(self, w, b, lambda_1) :\n",
        "\n",
        "        self.w = w\n",
        "        self.b = b\n",
        "        self.dw = np.zeros((1,784))\n",
        "        self.db = np.zeros((1,1))\n",
        "        self.lambda_1 = lambda_1\n",
        "\n",
        "    def forward(self,x, y):\n",
        "        hl = np.matmul(x, self.w.T) + self.b\n",
        "        # cache h^l in forward because we will need it to compute\n",
        "        # dw in backward\n",
        "        self.x = x\n",
        "        self.hl = hl\n",
        "        self.y = y\n",
        "        ell = np.mean(np.log(1 + np.exp(-y * hl))) + (self.lambda_1 / 2) * (np.sum(self.w**2) + self.b**2)\n",
        "        # print(self.y.shape, self.hl.shape)\n",
        "        ## for error we need tanh\n",
        "        hl1 = (np.exp(hl) - np.exp(-hl)) / (np.exp(hl) + np.exp(-hl)) ## tanh to get categorical -1, 1 as output for error calculation\n",
        "        output_cat = np.where(hl1>=0, 1, -1)\n",
        "        error = (1/hl.shape[0]) * ((output_cat!=y).sum())\n",
        "        return ell[0][0], error\n",
        "\n",
        "    def backward(self):\n",
        "        error = -self.y / (1 + np.exp(self.y * self.hl))\n",
        "        self.dw = (np.dot(error.T, self.x) / self.y.shape[0]) + (self.lambda_1 * self.w)\n",
        "        self.db = np.sum(error) / self.y.shape[0]\n",
        "        # self.dw = np.matmul((-y/(1+self.exp_hl)).T, self.x)\n",
        "        # self.db = np.sum(1/(1+self.exp_hl))\n",
        "        # notice that there is no need to cache dhl\n",
        "        return\n",
        "\n",
        "    def zero_grad(self):\n",
        "        # useful to delete the stored backprop gradients of the\n",
        "        # previous mini-batch before you start a new mini-batch\n",
        "        self.dw, self.db = 0*self.dw, 0*self.db"
      ]
    },
    {
      "cell_type": "code",
      "execution_count": 26,
      "metadata": {},
      "outputs": [
        {
          "name": "stdout",
          "output_type": "stream",
          "text": [
            "0 0.5078125 0.7826411604761799\n",
            "1 0.515625 0.7644169711109047\n",
            "2 0.5703125 0.8345507888120188\n",
            "3 0.59375 0.8362048928353333\n",
            "4 0.5625 0.8128714095407665\n",
            "5 0.5859375 0.8336709131766833\n",
            "6 0.5859375 0.836060971127163\n",
            "7 0.46875 0.7124280763018389\n",
            "8 0.4921875 0.728289178409\n",
            "9 0.5078125 0.7447321972603299\n",
            "10 0.46875 0.7033003148462901\n",
            "11 0.5234375 0.7484397407626342\n",
            "12 0.640625 0.859874694541136\n",
            "13 0.625 0.8380126549728194\n",
            "14 0.5078125 0.7161145667052814\n",
            "15 0.5 0.7332108227391532\n",
            "16 0.5078125 0.731821448480233\n",
            "17 0.5 0.7075975214458432\n",
            "18 0.5234375 0.7250170901446051\n",
            "19 0.4921875 0.7007277215309831\n",
            "20 0.4921875 0.7124846780029523\n",
            "21 0.53125 0.7286573269093506\n",
            "22 0.453125 0.6363232062603751\n",
            "23 0.6171875 0.7859154083584214\n",
            "24 0.5859375 0.7722293527331024\n",
            "25 0.515625 0.7089632717192456\n",
            "26 0.578125 0.7497428945393089\n",
            "27 0.46875 0.6574530149524446\n",
            "28 0.4921875 0.6678100612629485\n",
            "29 0.5703125 0.733989339389015\n",
            "30 0.4921875 0.6726461346105188\n",
            "31 0.5859375 0.7567217003959676\n",
            "32 0.5234375 0.6828747828547381\n",
            "33 0.484375 0.6588450948823408\n",
            "34 0.5546875 0.6916555291201887\n",
            "35 0.5625 0.7186348909379225\n",
            "36 0.53125 0.6864778086986532\n",
            "37 0.5546875 0.692430578859916\n",
            "38 0.5625 0.7091270437362025\n",
            "39 0.546875 0.6937362132477742\n",
            "40 0.46875 0.610606072860322\n",
            "41 0.53125 0.6728711371954059\n",
            "42 0.515625 0.6500491556198467\n",
            "43 0.5546875 0.6890423709587815\n",
            "44 0.5703125 0.7061118235172522\n",
            "45 0.5859375 0.6993350484927232\n",
            "46 0.53125 0.656766456599891\n",
            "47 0.5546875 0.6763094851214487\n",
            "48 0.609375 0.7228686281663581\n",
            "49 0.40625 0.5437046899239709\n",
            "50 0.4453125 0.5799066886071376\n",
            "51 0.5625 0.6544830650473996\n",
            "52 0.515625 0.6251106551689644\n",
            "53 0.5625 0.6540208279236993\n",
            "54 0.6015625 0.6809019685874859\n",
            "55 0.609375 0.706419320595429\n",
            "56 0.53125 0.6287885917617739\n",
            "57 0.4609375 0.5721989775657091\n",
            "58 0.4765625 0.5994327571872066\n",
            "59 0.5 0.5809151519583181\n",
            "60 0.5625 0.6439952109893233\n",
            "61 0.53125 0.6055124836410279\n",
            "62 0.4765625 0.5830922082653326\n",
            "63 0.5 0.5949887118838535\n",
            "64 0.6015625 0.6594204221326343\n",
            "65 0.6015625 0.6603335241836111\n",
            "66 0.5078125 0.5961842671024503\n",
            "67 0.5390625 0.6141751670562603\n",
            "68 0.5 0.5923314044330473\n",
            "69 0.4140625 0.5378308274716386\n",
            "70 0.5390625 0.6205389866066499\n",
            "71 0.5625 0.6445890906641478\n",
            "72 0.5 0.5666523179045161\n",
            "73 0.5078125 0.5730525180603432\n",
            "74 0.46875 0.557039957467476\n",
            "75 0.4921875 0.558931869797075\n",
            "76 0.515625 0.5886215603718051\n",
            "77 0.5625 0.6152195144588352\n",
            "78 0.4453125 0.5380463587708874\n",
            "79 0.5 0.5760834068629677\n",
            "80 0.4765625 0.5639803175624168\n",
            "81 0.484375 0.557492665334337\n",
            "82 0.5546875 0.6088013538574737\n",
            "83 0.4296875 0.5216859432434471\n",
            "84 0.46875 0.547814834031729\n",
            "85 0.4609375 0.5327238347410967\n",
            "86 0.5 0.5688643475251877\n",
            "87 0.5234375 0.5672820904756422\n",
            "88 0.46875 0.5420375651894943\n",
            "89 0.546875 0.6257134532636518\n",
            "90 0.4296875 0.5250795564962008\n",
            "91 0.453125 0.5444577628580237\n",
            "92 0.4296875 0.5379300330808084\n",
            "93 0.453125 0.5356045000638104\n",
            "94 0.4609375 0.528234919136443\n",
            "95 0.359375 0.5104185420304481\n",
            "96 0.5078125 0.5613048982435342\n",
            "97 0.421875 0.517668911139285\n",
            "98 0.390625 0.5466591623478211\n",
            "99 0.4296875 0.535469027809412\n"
          ]
        }
      ],
      "source": [
        "# initialize all the layers\n",
        "lambda_1 = 1e-4\n",
        "l1 = logistic_t(copy.deepcopy(weights_init), copy.deepcopy(bias_init), lambda_1)\n",
        "net = [l1]\n",
        "lr = 1e-3\n",
        "\n",
        "final_error_list = []\n",
        "final_loss_list = []\n",
        "\n",
        "# train for at least 1000 iterations\n",
        "for t in range(100):\n",
        "    # 1. sample a mini-batch of size =32\n",
        "    # each image in the mini - batch is chosen uniformly randomly from the\n",
        "    # training dataset\n",
        "    index = np.random.choice(x.shape[0], 128)\n",
        "    x_train, y_train = x[index], y[index]\n",
        "\n",
        "    # 2. zero gradient buffer\n",
        "    for l in net:\n",
        "        l.zero_grad()\n",
        "\n",
        "    # 3. forward pass\n",
        "    ell , error  = l1.forward(x_train, y_train)\n",
        "    final_error_list += [error]\n",
        "    final_loss_list += [ell]\n",
        "    # print(np.max(l1.w), np.max(l1.b))\n",
        "    # 4. backward pass\n",
        "    dx = l1.backward()\n",
        "\n",
        "    # 5. gather backprop gradients\n",
        "    dw, db = l1.dw , l1.db\n",
        "\n",
        "    # 6. print some quantities for logging\n",
        "    # and debugging\n",
        "    print(t, error, ell)\n",
        "    # print(t, error/150, ell/150)\n",
        "    # final_loss_list += [ell/150]\n",
        "    # final_error_list += [error/150]\n",
        "    # print(l1.w, l1.b)\n",
        "    # print(dw.shape,db)\n",
        "    # print(t, np.linalg.norm(dw/l1.w), np.linalg.norm(db/l1.b))\n",
        "\n",
        "    # 7. one step of SGD\n",
        "    l1.w = l1.w - lr * dw\n",
        "    l1.b = l1.b - lr * db"
      ]
    },
    {
      "cell_type": "code",
      "execution_count": 27,
      "metadata": {},
      "outputs": [
        {
          "data": {
            "text/plain": [
              "[<matplotlib.lines.Line2D at 0x18e0018d8b0>]"
            ]
          },
          "execution_count": 27,
          "metadata": {},
          "output_type": "execute_result"
        },
        {
          "data": {
            "image/png": "[encoded data removed]",
            "text/plain": [
              "<Figure size 640x480 with 1 Axes>"
            ]
          },
          "metadata": {},
          "output_type": "display_data"
        }
      ],
      "source": [
        "plt.plot(np.log(final_loss_list))"
      ]
    },
    {
      "cell_type": "code",
      "execution_count": 28,
      "metadata": {},
      "outputs": [
        {
          "data": {
            "text/plain": [
              "-0.004197421556830829"
            ]
          },
          "execution_count": 28,
          "metadata": {},
          "output_type": "execute_result"
        }
      ],
      "source": [
        "slope, intercept = np.polyfit(np.arange(0,100,1), np.log(final_loss_list), 1)\n",
        "slope"
      ]
    },
    {
      "cell_type": "code",
      "execution_count": 29,
      "metadata": {},
      "outputs": [
        {
          "data": {
            "text/plain": [
              "238.24149813416125"
            ]
          },
          "execution_count": 29,
          "metadata": {},
          "output_type": "execute_result"
        }
      ],
      "source": [
        "k_b_sgd = -1/slope\n",
        "k_b_sgd"
      ]
    },
    {
      "cell_type": "markdown",
      "metadata": {},
      "source": [
        "### SGD with Nesterov"
      ]
    },
    {
      "cell_type": "code",
      "execution_count": 30,
      "metadata": {},
      "outputs": [],
      "source": [
        "class logistic_t:\n",
        "    def __init__(self, w, b, lambda_1, rho, lr) :\n",
        "        self.w = w\n",
        "        self.b = b\n",
        "        self.dw = np.zeros((1,784))\n",
        "        self.db = np.zeros((1,1))\n",
        "        self.lambda_1 = lambda_1\n",
        "        self.u_w = w\n",
        "        self.u_b = b\n",
        "        self.rho = rho\n",
        "        self.eta = lr\n",
        "\n",
        "    def forward(self,x, y):\n",
        "        hl = np.matmul(x, self.w.T) + self.b\n",
        "        # cache h^l in forward because we will need it to compute\n",
        "        # dw in backward\n",
        "        self.x = x\n",
        "        self.hl = hl\n",
        "        self.y = y\n",
        "        ell = np.mean(np.log(1 + np.exp(-y * hl))) + (self.lambda_1 / 2) * (np.sum(self.w**2) + self.b**2)\n",
        "        # print(self.y.shape, self.hl.shape)\n",
        "        ## for error we need tanh\n",
        "        hl1 = (np.exp(hl) - np.exp(-hl)) / (np.exp(hl) + np.exp(-hl)) ## tanh to get categorical -1, 1 as output for error calculation\n",
        "        output_cat = np.where(hl1>=0, 1, -1)\n",
        "        error = (1/hl.shape[0]) * ((output_cat!=y).sum())\n",
        "        return ell[0][0], error\n",
        "\n",
        "    def backward(self):\n",
        "        temp_w = self.w + self.rho * self.eta * self.u_w\n",
        "        temp_b = self.b + self.rho * self.eta * self.u_b\n",
        "        self.hu = np.matmul(self.x, temp_w.T) + temp_b\n",
        "        error = -self.y / (1 + np.exp(self.y * self.hu))\n",
        "        self.dw = (np.dot(error.T, self.x) / self.y.shape[0]) + (self.lambda_1 * temp_w)\n",
        "        self.db = np.sum(error) / self.y.shape[0]\n",
        "        self.u_w = self.rho * self.u_w - self.dw\n",
        "        self.u_b = self.rho * self.u_b - self.db\n",
        "        # self.dw = np.matmul((-y/(1+self.exp_hl)).T, self.x)\n",
        "        # self.db = np.sum(1/(1+self.exp_hl))\n",
        "        # notice that there is no need to cache dhl\n",
        "        return\n",
        "\n",
        "    def zero_grad(self):\n",
        "        # useful to delete the stored backprop gradients of the\n",
        "        # previous mini-batch before you start a new mini-batch\n",
        "        self.dw, self.db = 0*self.dw, 0*self.db"
      ]
    },
    {
      "cell_type": "code",
      "execution_count": 31,
      "metadata": {},
      "outputs": [
        {
          "name": "stdout",
          "output_type": "stream",
          "text": [
            "0 100 0.4765625 0.7519041915909073\n",
            "1 100 0.5078125 0.7464493579925305\n",
            "2 100 0.453125 0.6533558842830627\n",
            "3 100 0.515625 0.7044179991670373\n",
            "4 100 0.5078125 0.6554438583119405\n",
            "5 100 0.546875 0.6704280489391551\n",
            "6 100 0.546875 0.6367821681701079\n",
            "7 100 0.4921875 0.5851752744373789\n",
            "8 100 0.5234375 0.5856017592081316\n",
            "9 100 0.5078125 0.5507314563437171\n",
            "10 100 0.4375 0.5361895047728913\n",
            "11 100 0.4296875 0.5203860152110923\n",
            "12 100 0.296875 0.46669409189729477\n",
            "13 100 0.2890625 0.4832567908734511\n",
            "14 100 0.234375 0.4776558133150809\n",
            "15 100 0.1875 0.4473637418816033\n",
            "16 100 0.171875 0.46168314637148394\n",
            "17 100 0.1171875 0.4116673315354366\n",
            "18 100 0.0859375 0.4158738646395364\n",
            "19 100 0.078125 0.4302876194594206\n",
            "20 100 0.0546875 0.3827817331471454\n",
            "21 100 0.03125 0.3613148929755341\n",
            "22 100 0.09375 0.370982552919159\n",
            "23 100 0.0546875 0.38943137647610687\n",
            "24 100 0.0390625 0.35257900881628407\n",
            "25 100 0.046875 0.3271274764621433\n",
            "26 100 0.0234375 0.331759312253548\n",
            "27 100 0.0390625 0.3475981269302664\n",
            "28 100 0.046875 0.32027720173404967\n",
            "29 100 0.015625 0.30526966038800435\n",
            "30 100 0.0390625 0.33266861289516464\n",
            "31 100 0.0234375 0.2810505309213778\n",
            "32 100 0.015625 0.2913277292814276\n",
            "33 100 0.0234375 0.2920186124353864\n",
            "34 100 0.0078125 0.2759358813738942\n",
            "35 100 0.0234375 0.2945092330894107\n",
            "36 100 0.0078125 0.2779413863285695\n",
            "37 100 0.0 0.26376458446514284\n",
            "38 100 0.0234375 0.25687852952621265\n",
            "39 100 0.0078125 0.2569251837280909\n",
            "40 100 0.03125 0.2718637519802935\n",
            "41 100 0.0078125 0.2565489339019817\n",
            "42 100 0.0078125 0.24785516211276634\n",
            "43 100 0.015625 0.22529441170395897\n",
            "44 100 0.03125 0.2410138848498348\n",
            "45 100 0.0078125 0.23467048489935544\n",
            "46 100 0.0078125 0.222743792727971\n",
            "47 100 0.0078125 0.21688270890894812\n",
            "48 100 0.0078125 0.21376572304877506\n",
            "49 100 0.0 0.20758967946558324\n",
            "50 100 0.0 0.19755831221627002\n",
            "51 100 0.015625 0.19996201690221146\n",
            "52 100 0.0 0.20955667688673116\n",
            "53 100 0.03125 0.23356916151192147\n",
            "54 100 0.015625 0.21656391386517446\n",
            "55 100 0.03125 0.21905615130971048\n",
            "56 100 0.0 0.18334208259686652\n",
            "57 100 0.0078125 0.202461120199274\n",
            "58 100 0.0 0.18302698715232485\n",
            "59 100 0.0 0.18325270064907884\n",
            "60 100 0.015625 0.18723309989127546\n",
            "61 100 0.0 0.16509646219593876\n",
            "62 100 0.015625 0.17892293218149086\n",
            "63 100 0.0234375 0.1907985524972686\n",
            "64 100 0.0 0.16969352749605224\n",
            "65 100 0.0 0.17753542634908764\n",
            "66 100 0.015625 0.1658373516693174\n",
            "67 100 0.0078125 0.1600091910813414\n",
            "68 100 0.0 0.1667058656446359\n",
            "69 100 0.0 0.16822658682852246\n",
            "70 100 0.0234375 0.1786157997679814\n",
            "71 100 0.0078125 0.17318472146306504\n",
            "72 100 0.0 0.1599131371098789\n",
            "73 100 0.0078125 0.1688528816288642\n",
            "74 100 0.0 0.14564883545038454\n",
            "75 100 0.0234375 0.1691710965798147\n",
            "76 100 0.0 0.15275943067422468\n",
            "77 100 0.0078125 0.16281416697495318\n",
            "78 100 0.0 0.13914150470110764\n",
            "79 100 0.0 0.15493269280000177\n",
            "80 100 0.0078125 0.15584289573690152\n",
            "81 100 0.0078125 0.13978747590605659\n",
            "82 100 0.0 0.1584397455925909\n",
            "83 100 0.0 0.11662176464427897\n",
            "84 100 0.0 0.14624577823895413\n",
            "85 100 0.0078125 0.1545124422652839\n",
            "86 100 0.0 0.1397480261349679\n",
            "87 100 0.015625 0.16266666595906992\n",
            "88 100 0.0 0.12594451579056198\n",
            "89 100 0.0 0.14509037862439575\n",
            "90 100 0.0 0.13384119836508154\n",
            "91 100 0.0078125 0.1480017149005193\n",
            "92 100 0.015625 0.13977496426987343\n",
            "93 100 0.0234375 0.1588788636403255\n",
            "94 100 0.015625 0.1415267012156078\n",
            "95 100 0.015625 0.1402556083322254\n",
            "96 100 0.0078125 0.13598704252114874\n",
            "97 100 0.0 0.1286923118374934\n",
            "98 100 0.0 0.11273453237651722\n",
            "99 100 0.0 0.12794653098402858\n",
            "Slope of  0.75  is  -0.016848592994713054\n",
            "0 50 0.5078125 0.7587395396679599\n",
            "1 50 0.609375 0.8343455053638243\n",
            "2 50 0.5546875 0.7479009783514359\n",
            "3 50 0.5078125 0.6824516208782588\n",
            "4 50 0.515625 0.6513834709797617\n",
            "5 50 0.515625 0.6217228889885983\n",
            "6 50 0.515625 0.6157714782186864\n",
            "7 50 0.546875 0.6186257245567753\n",
            "8 50 0.5390625 0.5948563692766395\n",
            "9 50 0.453125 0.5418847793590694\n",
            "10 50 0.3828125 0.5316268515674047\n",
            "11 50 0.3828125 0.5425649970277749\n",
            "12 50 0.28125 0.5057835308805286\n",
            "13 50 0.21875 0.4558697116039785\n",
            "14 50 0.2109375 0.46866735433416856\n",
            "15 50 0.140625 0.44471539194279525\n",
            "16 50 0.0234375 0.37458549262967306\n",
            "17 50 0.078125 0.40490951564703054\n",
            "18 50 0.0546875 0.3850545343861529\n",
            "19 50 0.0703125 0.3856550319692252\n",
            "20 50 0.046875 0.37441142567544167\n",
            "21 50 0.0546875 0.3910417305734995\n",
            "22 50 0.0234375 0.37135930983417004\n",
            "23 50 0.0390625 0.3529022069973857\n",
            "24 50 0.0390625 0.35259968311705925\n",
            "25 50 0.015625 0.34099659792877746\n",
            "26 50 0.0234375 0.3105676445136753\n",
            "27 50 0.015625 0.32917328114184013\n",
            "28 50 0.046875 0.3292765031562866\n",
            "29 50 0.0234375 0.3081084829827744\n",
            "30 50 0.0234375 0.3173563826307384\n",
            "31 50 0.03125 0.28877595627153374\n",
            "32 50 0.0234375 0.2890812473246477\n",
            "33 50 0.0078125 0.2912651653617981\n",
            "34 50 0.0 0.2675410891649311\n",
            "35 50 0.0 0.24532891536782706\n",
            "36 50 0.0078125 0.2765212692317374\n",
            "37 50 0.03125 0.2775459559247351\n",
            "38 50 0.0078125 0.25356368671345636\n",
            "39 50 0.015625 0.25834613687950875\n",
            "40 50 0.015625 0.2645985086090094\n",
            "41 50 0.0 0.25610919370238994\n",
            "42 50 0.0390625 0.2551521437961376\n",
            "43 50 0.015625 0.2574280673091435\n",
            "44 50 0.0078125 0.2145460076432477\n",
            "45 50 0.015625 0.2105339542963033\n",
            "46 50 0.0078125 0.22123396676333482\n",
            "47 50 0.0 0.20467987721955422\n",
            "48 50 0.0078125 0.21008832260683005\n",
            "49 50 0.03125 0.23764850137010193\n",
            "Slope of  0.75  is  -0.025928488591694915\n",
            "0 100 0.53125 0.7930776373362167\n",
            "1 100 0.4609375 0.7074122536295314\n",
            "2 100 0.53125 0.7375334377210931\n",
            "3 100 0.5390625 0.6954343975531141\n",
            "4 100 0.5234375 0.6674491772578622\n",
            "5 100 0.515625 0.6370389875207721\n",
            "6 100 0.5234375 0.593551695478151\n",
            "7 100 0.4921875 0.5736258787689512\n",
            "8 100 0.5078125 0.581407281420887\n",
            "9 100 0.4453125 0.5488352704149736\n",
            "10 100 0.4765625 0.5600347000471116\n",
            "11 100 0.3515625 0.5151657872559703\n",
            "12 100 0.3125 0.5043530663322777\n",
            "13 100 0.203125 0.4740941415169259\n",
            "14 100 0.1953125 0.4765075078031701\n",
            "15 100 0.140625 0.4302349239140476\n",
            "16 100 0.171875 0.4463645582414036\n",
            "17 100 0.1484375 0.44334644590294303\n",
            "18 100 0.1015625 0.4258943622147635\n",
            "19 100 0.0625 0.3910532556559936\n",
            "20 100 0.0703125 0.4042221461362853\n",
            "21 100 0.0546875 0.3794924323613939\n",
            "22 100 0.0625 0.3863153594548165\n",
            "23 100 0.0234375 0.33819898825274797\n",
            "24 100 0.03125 0.3440176909913345\n",
            "25 100 0.0 0.3261113875238087\n",
            "26 100 0.0078125 0.32625448874525986\n",
            "27 100 0.03125 0.3172155713258885\n",
            "28 100 0.03125 0.31878937829136617\n",
            "29 100 0.046875 0.2871623222352434\n",
            "30 100 0.0 0.3030769088791557\n",
            "31 100 0.046875 0.30365191609239117\n",
            "32 100 0.0390625 0.3185599924295435\n",
            "33 100 0.0234375 0.30528384836458183\n",
            "34 100 0.0234375 0.2751560015347809\n",
            "35 100 0.015625 0.2851644276088375\n",
            "36 100 0.0 0.2820939649403475\n",
            "37 100 0.015625 0.2762716572711164\n",
            "38 100 0.0 0.2418475003964811\n",
            "39 100 0.0234375 0.2733805441794606\n",
            "40 100 0.0078125 0.2444909015551887\n",
            "41 100 0.015625 0.26200296838718184\n",
            "42 100 0.0 0.2352349100281806\n",
            "43 100 0.015625 0.23432641268438797\n",
            "44 100 0.0078125 0.22176833650759104\n",
            "45 100 0.0078125 0.22439102351993215\n",
            "46 100 0.015625 0.24356551565384438\n",
            "47 100 0.0234375 0.22696056202279294\n",
            "48 100 0.0 0.22082870582815942\n",
            "49 100 0.0078125 0.22140917401157156\n",
            "50 100 0.0390625 0.2221390279123211\n",
            "51 100 0.015625 0.2220984850507446\n",
            "52 100 0.0078125 0.20800333873395474\n",
            "53 100 0.0078125 0.18636732490994512\n",
            "54 100 0.0 0.2219253571047911\n",
            "55 100 0.0 0.19577335987172276\n",
            "56 100 0.0234375 0.2451843586830607\n",
            "57 100 0.0078125 0.17315138247902928\n",
            "58 100 0.0078125 0.18182577223528387\n",
            "59 100 0.0078125 0.19675443394485723\n",
            "60 100 0.015625 0.2128365188277002\n",
            "61 100 0.015625 0.17643911440927487\n",
            "62 100 0.015625 0.18856347875452456\n",
            "63 100 0.0 0.18783758322006974\n",
            "64 100 0.0 0.16291006646432202\n",
            "65 100 0.0 0.1748214923199807\n",
            "66 100 0.0078125 0.17872081380914084\n",
            "67 100 0.0390625 0.18290751558658314\n",
            "68 100 0.0 0.1654610590975257\n",
            "69 100 0.0 0.15624229738455248\n",
            "70 100 0.0 0.14593031973100204\n",
            "71 100 0.0078125 0.16309653542362518\n",
            "72 100 0.0 0.1540123714739731\n",
            "73 100 0.015625 0.1904111885148988\n",
            "74 100 0.0078125 0.15977745448840994\n",
            "75 100 0.015625 0.161492692832927\n",
            "76 100 0.015625 0.16758954373137902\n",
            "77 100 0.0078125 0.14855224903219091\n",
            "78 100 0.0078125 0.15763735626817788\n",
            "79 100 0.0234375 0.13117311873198814\n",
            "80 100 0.0234375 0.15112297834891397\n",
            "81 100 0.0078125 0.16379551218206045\n",
            "82 100 0.0 0.1404613069228206\n",
            "83 100 0.0 0.1510593689138461\n",
            "84 100 0.0 0.14258599974357755\n",
            "85 100 0.0078125 0.1398264398557569\n",
            "86 100 0.0 0.11982600808706713\n",
            "87 100 0.015625 0.1486032149936704\n",
            "88 100 0.0234375 0.16272868632864865\n",
            "89 100 0.0 0.14016832075545055\n",
            "90 100 0.0 0.1337419058244682\n",
            "91 100 0.0 0.13909107748911667\n",
            "92 100 0.0078125 0.1303402473868137\n",
            "93 100 0.0 0.11975872554377218\n",
            "94 100 0.015625 0.13721789736826653\n",
            "95 100 0.0078125 0.12930903549798706\n",
            "96 100 0.0078125 0.1371872493032388\n",
            "97 100 0.0 0.14372215841232727\n",
            "98 100 0.0 0.12323694597582095\n",
            "99 100 0.0078125 0.12785522701615692\n",
            "Slope of  0.85  is  -0.016926321300999417\n",
            "0 50 0.515625 0.7922422179271812\n",
            "1 50 0.484375 0.7251617331698266\n",
            "2 50 0.453125 0.6351783720942616\n",
            "3 50 0.484375 0.6674027769434495\n",
            "4 50 0.46875 0.6213741027708771\n",
            "5 50 0.59375 0.6960749259243639\n",
            "6 50 0.484375 0.5862434049751549\n",
            "7 50 0.546875 0.6238007524049358\n",
            "8 50 0.46875 0.5485626921795448\n",
            "9 50 0.53125 0.5743254845179201\n",
            "10 50 0.40625 0.5219036760659228\n",
            "11 50 0.421875 0.547003256403403\n",
            "12 50 0.28125 0.4909775645848777\n",
            "13 50 0.21875 0.4259780253234437\n",
            "14 50 0.3203125 0.5049153866164654\n",
            "15 50 0.1484375 0.4303333284066787\n",
            "16 50 0.109375 0.4278047121501868\n",
            "17 50 0.1015625 0.41972990837646973\n",
            "18 50 0.0859375 0.4283953280685222\n",
            "19 50 0.0625 0.3985438092913742\n",
            "20 50 0.03125 0.3522933069918759\n",
            "21 50 0.0390625 0.391200156050062\n",
            "22 50 0.0546875 0.3873009760292269\n",
            "23 50 0.015625 0.33880479639950245\n",
            "24 50 0.0703125 0.35344864491671013\n",
            "25 50 0.0390625 0.3340421627455053\n",
            "26 50 0.0234375 0.33870188272634\n",
            "27 50 0.015625 0.3071202779236048\n",
            "28 50 0.03125 0.3320664637761347\n",
            "29 50 0.015625 0.31754791950572775\n",
            "30 50 0.03125 0.307042013432424\n",
            "31 50 0.0 0.3014187866232953\n",
            "32 50 0.03125 0.2920243598907545\n",
            "33 50 0.0234375 0.2758145830942306\n",
            "34 50 0.0078125 0.27708833634698116\n",
            "35 50 0.015625 0.271694676307184\n",
            "36 50 0.0234375 0.27323175263586763\n",
            "37 50 0.0234375 0.27513123472741136\n",
            "38 50 0.015625 0.27836452612901236\n",
            "39 50 0.03125 0.26458784989849315\n",
            "40 50 0.0 0.2422369270139019\n",
            "41 50 0.0 0.24011242610390363\n",
            "42 50 0.0078125 0.24921375860949652\n",
            "43 50 0.0078125 0.23439837147361015\n",
            "44 50 0.015625 0.24266052359186444\n",
            "45 50 0.015625 0.21710707206549018\n",
            "46 50 0.0078125 0.2224609183268308\n",
            "47 50 0.0078125 0.22964839985557917\n",
            "48 50 0.0078125 0.22854473533783548\n",
            "49 50 0.015625 0.2233437860083119\n",
            "Slope of  0.85  is  -0.025030185697337407\n",
            "0 100 0.5 0.7470458181410741\n",
            "1 100 0.546875 0.7686913484638033\n",
            "2 100 0.6015625 0.7932526687772972\n",
            "3 100 0.6171875 0.7567186154180181\n",
            "4 100 0.5703125 0.6878748564697648\n",
            "5 100 0.5234375 0.6136494320333313\n",
            "6 100 0.5546875 0.647020147421657\n",
            "7 100 0.46875 0.5562203805045838\n",
            "8 100 0.5546875 0.6132182508124389\n",
            "9 100 0.46875 0.5822795378354698\n",
            "10 100 0.421875 0.5630584958733647\n",
            "11 100 0.265625 0.5067237399916726\n",
            "12 100 0.25 0.5091834010174962\n",
            "13 100 0.203125 0.4906725174749198\n",
            "14 100 0.1328125 0.4514919651971228\n",
            "15 100 0.1640625 0.4891559549903722\n",
            "16 100 0.125 0.44414860819880386\n",
            "17 100 0.078125 0.3914057123493184\n",
            "18 100 0.1328125 0.46557054721290836\n",
            "19 100 0.0625 0.3939133979858706\n",
            "20 100 0.09375 0.3814007561363913\n",
            "21 100 0.0859375 0.3827010451884058\n",
            "22 100 0.0390625 0.36567196958721554\n",
            "23 100 0.046875 0.3467967096628289\n",
            "24 100 0.015625 0.33240330958948616\n",
            "25 100 0.0625 0.35800883699956554\n",
            "26 100 0.0 0.3094228133024023\n",
            "27 100 0.046875 0.34858856103490826\n",
            "28 100 0.046875 0.3227951313903711\n",
            "29 100 0.0234375 0.3072665799330088\n",
            "30 100 0.0078125 0.26532282942528446\n",
            "31 100 0.0234375 0.29652809725869617\n",
            "32 100 0.0078125 0.27917579036464585\n",
            "33 100 0.03125 0.27195415786595023\n",
            "34 100 0.0078125 0.27933867002641954\n",
            "35 100 0.0234375 0.27996118013521887\n",
            "36 100 0.015625 0.26493478032826995\n",
            "37 100 0.03125 0.2692656758501383\n",
            "38 100 0.0078125 0.2503721610140031\n",
            "39 100 0.0 0.265851085097146\n",
            "40 100 0.0078125 0.24521705906434393\n",
            "41 100 0.0234375 0.2602040005967677\n",
            "42 100 0.015625 0.25626319276266607\n",
            "43 100 0.0078125 0.23509005678943756\n",
            "44 100 0.0 0.24133292603635814\n",
            "45 100 0.0 0.24790841253573123\n",
            "46 100 0.0 0.22827619395809792\n",
            "47 100 0.0078125 0.21143371099222913\n",
            "48 100 0.0 0.21640892107400558\n",
            "49 100 0.0 0.21918915042468815\n",
            "50 100 0.015625 0.2367813411538822\n",
            "51 100 0.0234375 0.20513417412600596\n",
            "52 100 0.015625 0.22201886223295975\n",
            "53 100 0.0 0.1799869430450307\n",
            "54 100 0.0078125 0.1904587969120028\n",
            "55 100 0.0078125 0.20340886055345345\n",
            "56 100 0.015625 0.18138384747253194\n",
            "57 100 0.0234375 0.18758153998101929\n",
            "58 100 0.0 0.20656344102077046\n",
            "59 100 0.0 0.18184906125245429\n",
            "60 100 0.015625 0.17915742064710652\n",
            "61 100 0.0 0.16395384147468128\n",
            "62 100 0.0 0.17270422222431378\n",
            "63 100 0.0 0.16943772798319753\n",
            "64 100 0.0078125 0.17056893679933569\n",
            "65 100 0.015625 0.17923378272636264\n",
            "66 100 0.0078125 0.16530371142772507\n",
            "67 100 0.0 0.1705789818257859\n",
            "68 100 0.0078125 0.16307442598349106\n",
            "69 100 0.0 0.1756167467758898\n",
            "70 100 0.0234375 0.1710438627539881\n",
            "71 100 0.0 0.16264770911690848\n",
            "72 100 0.0078125 0.1773512801323139\n",
            "73 100 0.0 0.1615101137734206\n",
            "74 100 0.0078125 0.16689335315595408\n",
            "75 100 0.0078125 0.16137512738641285\n",
            "76 100 0.0234375 0.15922075510557332\n",
            "77 100 0.0078125 0.15286404089598601\n",
            "78 100 0.0078125 0.1480816749578516\n",
            "79 100 0.0 0.14500822248242318\n",
            "80 100 0.0 0.14847949115315315\n",
            "81 100 0.0078125 0.1623614283369972\n",
            "82 100 0.0078125 0.1445942919754332\n",
            "83 100 0.015625 0.1477455117141297\n",
            "84 100 0.015625 0.14566579068642643\n",
            "85 100 0.0078125 0.14749512121344638\n",
            "86 100 0.0078125 0.14291856900353395\n",
            "87 100 0.0078125 0.1495928881939725\n",
            "88 100 0.0 0.13669664805273904\n",
            "89 100 0.0 0.12372779514648585\n",
            "90 100 0.0078125 0.1413114912334235\n",
            "91 100 0.0 0.12673619980313422\n",
            "92 100 0.0 0.13305407135408695\n",
            "93 100 0.0078125 0.15093009637861898\n",
            "94 100 0.015625 0.1386381513124376\n",
            "95 100 0.0 0.1404879431922006\n",
            "96 100 0.0078125 0.12807477963978567\n",
            "97 100 0.0 0.1254950693583269\n",
            "98 100 0.0 0.12607306321333578\n",
            "99 100 0.0078125 0.12072472523659815\n",
            "Slope of  0.95  is  -0.01710471997114275\n",
            "0 50 0.4921875 0.7580963591713022\n",
            "1 50 0.515625 0.7536397134399145\n",
            "2 50 0.5 0.7077939351502281\n",
            "3 50 0.4609375 0.639610926616734\n",
            "4 50 0.5546875 0.7008316392534254\n",
            "5 50 0.5546875 0.6815130768307078\n",
            "6 50 0.5859375 0.6671778430303723\n",
            "7 50 0.546875 0.5997765521914113\n",
            "8 50 0.46875 0.5517241570206076\n",
            "9 50 0.4296875 0.5244639808694984\n",
            "10 50 0.484375 0.5774028774188453\n",
            "11 50 0.328125 0.47780941827040097\n",
            "12 50 0.2578125 0.45944234299964154\n",
            "13 50 0.2421875 0.476891034492303\n",
            "14 50 0.203125 0.435567238812498\n",
            "15 50 0.1796875 0.45213939818555277\n",
            "16 50 0.1796875 0.45687335734368145\n",
            "17 50 0.1171875 0.39124803104708245\n",
            "18 50 0.09375 0.4092206983886257\n",
            "19 50 0.15625 0.41502591057201665\n",
            "20 50 0.1015625 0.4101236907775645\n",
            "21 50 0.078125 0.41837474233104044\n",
            "22 50 0.0703125 0.3771083483992539\n",
            "23 50 0.03125 0.3606696675457342\n",
            "24 50 0.03125 0.35438922836339887\n",
            "25 50 0.03125 0.352014207556862\n",
            "26 50 0.015625 0.36116415580594957\n",
            "27 50 0.015625 0.31122780292854463\n",
            "28 50 0.03125 0.2856376802626387\n",
            "29 50 0.015625 0.3196691414865823\n",
            "30 50 0.03125 0.31852293878664\n",
            "31 50 0.0078125 0.3129204537672311\n",
            "32 50 0.03125 0.29759712013346773\n",
            "33 50 0.0234375 0.3059035551836029\n",
            "34 50 0.0 0.2948080260943035\n",
            "35 50 0.0234375 0.2996075755285339\n",
            "36 50 0.015625 0.2692532243863102\n",
            "37 50 0.0234375 0.27666516059589563\n",
            "38 50 0.0078125 0.2677178051432928\n",
            "39 50 0.0078125 0.2764456129967426\n",
            "40 50 0.0 0.22112181119179972\n",
            "41 50 0.0234375 0.2399791991833225\n",
            "42 50 0.0 0.23424293927594061\n",
            "43 50 0.0078125 0.23998965794404362\n",
            "44 50 0.0078125 0.24458636105227308\n",
            "45 50 0.0078125 0.2494758485600021\n",
            "46 50 0.015625 0.2500674132363984\n",
            "47 50 0.015625 0.23029269343033903\n",
            "48 50 0.0078125 0.2226120263544775\n",
            "49 50 0.0 0.22266262984768784\n",
            "Slope of  0.95  is  -0.02485306778363618\n"
          ]
        }
      ],
      "source": [
        "# initialize all the layers\n",
        "lambda_1 = 1e-4\n",
        "L = [0.75, 0.85, 0.95]\n",
        "final_loss_list = []\n",
        "final_error_list = []\n",
        "slope_list = []\n",
        "t_list = [100,50]\n",
        "for L_i in L:\n",
        "    # train for at least 1000 iterations\n",
        "    for t in t_list:\n",
        "        # print(t)\n",
        "        error_list = []\n",
        "        loss_list = []\n",
        "        rho = L_i/k_b_sgd\n",
        "        lr = 1e-3\n",
        "        l1 = logistic_t(copy.deepcopy(weights_init), copy.deepcopy(bias_init), lambda_1, rho, lr)\n",
        "        net = [l1]\n",
        "        for i in range(t):\n",
        "            # 1. sample a mini-batch of size =32\n",
        "            # each image in the mini - batch is chosen uniformly randomly from the\n",
        "            # training dataset\n",
        "            # index = np.random.choice(30000, 32)\n",
        "            # x, y = X_train[index], y_train[index]\n",
        "            index = np.random.choice(x.shape[0], 128)\n",
        "            x_train, y_train = x[index], y[index]\n",
        "\n",
        "            # 2. zero gradient buffer\n",
        "            for l in net:\n",
        "                l.zero_grad()\n",
        "\n",
        "            # 3. forward pass\n",
        "            ell , error  = l1.forward(x_train, y_train)\n",
        "            error_list += [error]\n",
        "            loss_list += [ell]\n",
        "            # print(np.max(l1.w), np.max(l1.b))\n",
        "            # 4. backward pass\n",
        "            dx = l1.backward()\n",
        "\n",
        "            # 5. gather backprop gradients\n",
        "            dw, db = l1.dw , l1.db\n",
        "\n",
        "            # 6. print some quantities for logging\n",
        "            # and debugging\n",
        "            print(i,t, error, ell)\n",
        "            # print(l1.w, l1.b)\n",
        "            # print(dw.shape,db)\n",
        "            # print(t, np.linalg.norm(dw/l1.w), np.linalg.norm(db/l1.b))\n",
        "\n",
        "            # 7. one step of SGD\n",
        "            l1.w = l1.w + lr * l1.u_w\n",
        "            l1.b = l1.b + lr * l1.u_b\n",
        "        # print(len(loss_list))\n",
        "        final_loss_list.append(loss_list)\n",
        "        final_error_list.append(error_list)\n",
        "        slope, _ = np.polyfit(np.arange(0,t,1), np.log(loss_list), 1)\n",
        "        slope_list.append(slope)\n",
        "        print('Slope of ', L_i, ' is ', slope)"
      ]
    },
    {
      "cell_type": "code",
      "execution_count": 32,
      "metadata": {},
      "outputs": [
        {
          "data": {
            "text/plain": [
              "[-0.016848592994713054,\n",
              " -0.025928488591694915,\n",
              " -0.016926321300999417,\n",
              " -0.025030185697337407,\n",
              " -0.01710471997114275,\n",
              " -0.02485306778363618]"
            ]
          },
          "execution_count": 32,
          "metadata": {},
          "output_type": "execute_result"
        }
      ],
      "source": [
        "slope_list"
      ]
    },
    {
      "cell_type": "code",
      "execution_count": 33,
      "metadata": {},
      "outputs": [
        {
          "data": {
            "text/plain": [
              "[<matplotlib.lines.Line2D at 0x18e00206df0>]"
            ]
          },
          "execution_count": 33,
          "metadata": {},
          "output_type": "execute_result"
        },
        {
          "data": {
            "image/png": "[encoded data removed]",
            "text/plain": [
              "<Figure size 640x480 with 1 Axes>"
            ]
          },
          "metadata": {},
          "output_type": "display_data"
        }
      ],
      "source": [
        "plt.plot(np.log(final_loss_list[-1]))"
      ]
    },
    {
      "cell_type": "code",
      "execution_count": 34,
      "metadata": {},
      "outputs": [
        {
          "data": {
            "text/plain": [
              "[<matplotlib.lines.Line2D at 0x18e002825b0>]"
            ]
          },
          "execution_count": 34,
          "metadata": {},
          "output_type": "execute_result"
        },
        {
          "data": {
            "image/png": "[encoded data removed]",
            "text/plain": [
              "<Figure size 640x480 with 1 Axes>"
            ]
          },
          "metadata": {},
          "output_type": "display_data"
        }
      ],
      "source": [
        "plt.plot(np.log(final_loss_list[-2]))"
      ]
    },
    {
      "cell_type": "code",
      "execution_count": 35,
      "metadata": {},
      "outputs": [
        {
          "data": {
            "text/plain": [
              "-0.02485306778363618"
            ]
          },
          "execution_count": 35,
          "metadata": {},
          "output_type": "execute_result"
        }
      ],
      "source": [
        "slope, intercept = np.polyfit(np.arange(0,50,1), np.log(final_loss_list[-1]), 1)\n",
        "slope"
      ]
    },
    {
      "cell_type": "code",
      "execution_count": 36,
      "metadata": {},
      "outputs": [
        {
          "data": {
            "text/plain": [
              "-0.01710471997114275"
            ]
          },
          "execution_count": 36,
          "metadata": {},
          "output_type": "execute_result"
        }
      ],
      "source": [
        "slope, intercept = np.polyfit(np.arange(0,100,1), np.log(final_loss_list[-2]), 1)\n",
        "slope"
      ]
    }
  ],
  "metadata": {
    "colab": {
      "provenance": []
    },
    "kernelspec": {
      "display_name": "pytorch-tlio",
      "language": "python",
      "name": "python3"
    },
    "language_info": {
      "codemirror_mode": {
        "name": "ipython",
        "version": 3
      },
      "file_extension": ".py",
      "mimetype": "text/x-python",
      "name": "python",
      "nbconvert_exporter": "python",
      "pygments_lexer": "ipython3",
      "version": "3.9.17"
    }
  },
  "nbformat": 4,
  "nbformat_minor": 0
}
