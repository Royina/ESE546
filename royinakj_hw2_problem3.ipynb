{
  "cells": [
    {
      "cell_type": "code",
      "execution_count": 1,
      "metadata": {
        "id": "WB7znsvhyuRH"
      },
      "outputs": [],
      "source": [
        "# torch and torchvision imports\n",
        "import torch\n",
        "import torchvision\n",
        "import torch.nn as nn\n",
        "import torchvision.transforms as transforms\n",
        "import torch.optim as optim\n",
        "import matplotlib.pyplot as plt\n",
        "\n",
        "device = torch.device('cuda' if torch.cuda.is_available() else 'cpu')"
      ]
    },
    {
      "cell_type": "code",
      "execution_count": 3,
      "metadata": {
        "colab": {
          "base_uri": "https://localhost:8080/"
        },
        "id": "WQJkYeBg-xiT",
        "outputId": "bec12392-bccc-4e00-de2e-7f3995687992"
      },
      "outputs": [
        {
          "data": {
            "text/plain": [
              "device(type='cuda')"
            ]
          },
          "execution_count": 3,
          "metadata": {},
          "output_type": "execute_result"
        }
      ],
      "source": [
        "device"
      ]
    },
    {
      "cell_type": "markdown",
      "metadata": {
        "id": "TI6XEXSGyYkh"
      },
      "source": [
        "### (a) Plot the training and validation losses and errors as a function of the number of epochs\n",
        "\n",
        "\n",
        " The model currently does not achieve less than 12% validation error, you have to tweak the parameters to get it."
      ]
    },
    {
      "cell_type": "code",
      "execution_count": 125,
      "metadata": {
        "colab": {
          "base_uri": "https://localhost:8080/"
        },
        "id": "AaNQQai_wON0",
        "outputId": "1da25f72-4a2c-478c-ebb4-a2ffd954e9f4"
      },
      "outputs": [
        {
          "name": "stdout",
          "output_type": "stream",
          "text": [
            "Files already downloaded and verified\n",
            "Files already downloaded and verified\n"
          ]
        }
      ],
      "source": [
        "# Reading in the dataset\n",
        "transform = transforms.Compose(\n",
        "    [transforms.ToTensor(),\n",
        "     transforms.Normalize((0.5, 0.5, 0.5), (0.5, 0.5, 0.5))])\n",
        "\n",
        "trainset = torchvision.datasets.CIFAR10(root='./data', train=True,\n",
        "                                        download=True, transform=transform)\n",
        "trainloader = torch.utils.data.DataLoader(trainset, batch_size=16,\n",
        "                                          shuffle=True)\n",
        "\n",
        "testset = torchvision.datasets.CIFAR10(root='./data', train=False,\n",
        "                                       download=True, transform=transform)\n",
        "testloader = torch.utils.data.DataLoader(testset, batch_size=16,\n",
        "                                         shuffle=False)\n",
        "\n",
        "classes = ('plane', 'car', 'bird', 'cat',\n",
        "           'deer', 'dog', 'frog', 'horse', 'ship', 'truck')\n",
        "\n",
        "\n",
        "# Defining the model\n",
        "class View(nn.Module):\n",
        "    def __init__(self,o):\n",
        "        super().__init__()\n",
        "        self.o = o\n",
        "\n",
        "    def forward(self,x):\n",
        "        return x.view(-1, self.o)\n",
        "\n",
        "class allcnn_t(nn.Module):\n",
        "    def __init__(self, c1=96, c2= 192):\n",
        "        super().__init__()\n",
        "        d = 0.5\n",
        "\n",
        "        def convbn(ci,co,ksz,s=1,pz=0):\n",
        "            return nn.Sequential(\n",
        "                nn.Conv2d(ci,co,ksz,stride=s,padding=pz),\n",
        "                nn.ReLU(True),\n",
        "                nn.BatchNorm2d(co))\n",
        "\n",
        "        self.m = nn.Sequential(\n",
        "            nn.Dropout(0.2),\n",
        "            convbn(3,c1,3,1,1),\n",
        "            convbn(c1,c1,3,1,1),\n",
        "            convbn(c1,c1,3,2,1),\n",
        "            nn.Dropout(d),\n",
        "            convbn(c1,c2,3,1,1),\n",
        "            convbn(c2,c2,3,1,1),\n",
        "            convbn(c2,c2,3,2,1),\n",
        "            nn.Dropout(d),\n",
        "            convbn(c2,c2,3,1,1),\n",
        "            convbn(c2,c2,3,1,1),\n",
        "            convbn(c2,10,1,1),\n",
        "            nn.AvgPool2d(8),\n",
        "            View(10))\n",
        "\n",
        "        print('Num parameters: ', sum([p.numel() for p in self.m.parameters()]))\n",
        "\n",
        "    def forward(self, x):\n",
        "        return self.m(x)"
      ]
    },
    {
      "cell_type": "code",
      "execution_count": null,
      "metadata": {
        "id": "34JavUIgRpcP"
      },
      "outputs": [],
      "source": [
        "# The training loop\n",
        "\n",
        "def train(net, optimizer, criterion, train_loader, test_loader, epochs, model_name, plot):\n",
        "    model = net.to(device)\n",
        "    total_step = len(train_loader)\n",
        "    overall_step = 0\n",
        "    train_loss_values = []\n",
        "    train_error = []\n",
        "    val_loss_values = []\n",
        "    val_error = []\n",
        "    for epoch in range(epochs):\n",
        "        correct = 0\n",
        "        total = 0\n",
        "        flag = 0\n",
        "        running_loss = 0.0\n",
        "        if epoch == 25 and flag == 0:\n",
        "          for op_params in optimizer.param_groups:\n",
        "            op_params['lr'] = 0.001\n",
        "          flag = 1\n",
        "        for i, (images, labels) in enumerate(train_loader):\n",
        "            # Move tensors to configured device\n",
        "            images = images.to(device)\n",
        "            labels = labels.to(device)\n",
        "            #Forward Pass\n",
        "            outputs = model(images)\n",
        "            loss = criterion(outputs, labels)\n",
        "            optimizer.zero_grad()\n",
        "            loss.backward()\n",
        "            running_loss += loss.item()\n",
        "            _, predicted = torch.max(outputs.data, 1)\n",
        "            total += labels.size(0)\n",
        "            correct += (predicted == labels).sum().item()\n",
        "            optimizer.step()\n",
        "            if (i+1) % 1000 == 0:\n",
        "              print ('Epoch [{}/{}], Step [{}/{}], Loss: {:.4f}'.format(epoch+1, epochs, i+1, total_step, loss.item()))\n",
        "            if plot:\n",
        "              info = { ('loss_' + model_name): loss.item() }\n",
        "\n",
        "              # for tag, value in info.items():\n",
        "              #   logger.scalar_summary(tag, value, overall_step+1)\n",
        "        train_loss_values.append(running_loss)\n",
        "        train_error.append(100-100*correct/total)\n",
        "\n",
        "        model.eval()\n",
        "        with torch.no_grad():\n",
        "            correct = 0\n",
        "            total = 0\n",
        "            for i, (images, labels) in enumerate(test_loader):\n",
        "                images = images.to(device)\n",
        "                labels = labels.to(device)\n",
        "                outputs = model(images)\n",
        "                _, predicted = torch.max(outputs.data, 1)\n",
        "                total += labels.size(0)\n",
        "                correct += (predicted == labels).sum().item()\n",
        "\n",
        "        print('Accuracy of the network on the test images: {} %'.format(100 * correct / total))\n",
        "        val_error.append(100-100*correct/total)\n",
        "        val_loss_values.append(running_loss)\n",
        "    return val_error,val_loss_values,train_error,train_loss_values\n"
      ]
    },
    {
      "cell_type": "code",
      "execution_count": null,
      "metadata": {
        "colab": {
          "base_uri": "https://localhost:8080/",
          "height": 1000
        },
        "id": "Y7YvtAlERz61",
        "outputId": "9be29ece-8f71-4f4f-b8e2-77cf6c6fee8f"
      },
      "outputs": [
        {
          "name": "stdout",
          "output_type": "stream",
          "text": [
            "Num parameters:  1667166\n",
            "Epoch [1/50], Step [1000/3125], Loss: 1.6618\n",
            "Epoch [1/50], Step [2000/3125], Loss: 1.8104\n",
            "Epoch [1/50], Step [3000/3125], Loss: 1.0856\n",
            "Accuracy of the network on the test images: 53.01 %\n",
            "Epoch [2/50], Step [1000/3125], Loss: 1.0043\n",
            "Epoch [2/50], Step [2000/3125], Loss: 1.0001\n",
            "Epoch [2/50], Step [3000/3125], Loss: 0.6464\n",
            "Accuracy of the network on the test images: 71.14 %\n",
            "Epoch [3/50], Step [1000/3125], Loss: 0.6538\n",
            "Epoch [3/50], Step [2000/3125], Loss: 0.3558\n",
            "Epoch [3/50], Step [3000/3125], Loss: 0.3802\n",
            "Accuracy of the network on the test images: 78.98 %\n",
            "Epoch [4/50], Step [1000/3125], Loss: 0.5748\n",
            "Epoch [4/50], Step [2000/3125], Loss: 0.2281\n",
            "Epoch [4/50], Step [3000/3125], Loss: 0.7438\n",
            "Accuracy of the network on the test images: 79.24 %\n",
            "Epoch [5/50], Step [1000/3125], Loss: 0.3864\n",
            "Epoch [5/50], Step [2000/3125], Loss: 0.3971\n",
            "Epoch [5/50], Step [3000/3125], Loss: 0.1077\n",
            "Accuracy of the network on the test images: 80.28 %\n",
            "Epoch [6/50], Step [1000/3125], Loss: 0.7298\n",
            "Epoch [6/50], Step [2000/3125], Loss: 0.4561\n",
            "Epoch [6/50], Step [3000/3125], Loss: 0.1519\n",
            "Accuracy of the network on the test images: 82.6 %\n",
            "Epoch [7/50], Step [1000/3125], Loss: 0.3378\n",
            "Epoch [7/50], Step [2000/3125], Loss: 0.4617\n",
            "Epoch [7/50], Step [3000/3125], Loss: 0.0703\n",
            "Accuracy of the network on the test images: 82.44 %\n",
            "Epoch [8/50], Step [1000/3125], Loss: 0.0313\n",
            "Epoch [8/50], Step [2000/3125], Loss: 0.2172\n",
            "Epoch [8/50], Step [3000/3125], Loss: 0.3340\n",
            "Accuracy of the network on the test images: 82.66 %\n",
            "Epoch [9/50], Step [1000/3125], Loss: 0.0956\n",
            "Epoch [9/50], Step [2000/3125], Loss: 0.0072\n",
            "Epoch [9/50], Step [3000/3125], Loss: 0.3017\n",
            "Accuracy of the network on the test images: 82.8 %\n",
            "Epoch [10/50], Step [1000/3125], Loss: 0.0492\n",
            "Epoch [10/50], Step [2000/3125], Loss: 0.0350\n",
            "Epoch [10/50], Step [3000/3125], Loss: 0.0596\n",
            "Accuracy of the network on the test images: 83.46 %\n",
            "Epoch [11/50], Step [1000/3125], Loss: 0.3725\n",
            "Epoch [11/50], Step [2000/3125], Loss: 0.1403\n",
            "Epoch [11/50], Step [3000/3125], Loss: 0.0285\n",
            "Accuracy of the network on the test images: 82.04 %\n",
            "Epoch [12/50], Step [1000/3125], Loss: 0.0122\n",
            "Epoch [12/50], Step [2000/3125], Loss: 0.4662\n",
            "Epoch [12/50], Step [3000/3125], Loss: 0.6066\n",
            "Accuracy of the network on the test images: 84.01 %\n",
            "Epoch [13/50], Step [1000/3125], Loss: 0.2561\n",
            "Epoch [13/50], Step [2000/3125], Loss: 0.0063\n",
            "Epoch [13/50], Step [3000/3125], Loss: 0.1643\n",
            "Accuracy of the network on the test images: 83.58 %\n",
            "Epoch [14/50], Step [1000/3125], Loss: 0.0519\n",
            "Epoch [14/50], Step [2000/3125], Loss: 0.0647\n",
            "Epoch [14/50], Step [3000/3125], Loss: 0.0779\n",
            "Accuracy of the network on the test images: 84.13 %\n",
            "Epoch [15/50], Step [1000/3125], Loss: 0.0009\n",
            "Epoch [15/50], Step [2000/3125], Loss: 0.1265\n",
            "Epoch [15/50], Step [3000/3125], Loss: 0.0126\n",
            "Accuracy of the network on the test images: 83.37 %\n",
            "Epoch [16/50], Step [1000/3125], Loss: 0.1204\n",
            "Epoch [16/50], Step [2000/3125], Loss: 0.0125\n",
            "Epoch [16/50], Step [3000/3125], Loss: 0.0071\n",
            "Accuracy of the network on the test images: 83.0 %\n",
            "Epoch [17/50], Step [1000/3125], Loss: 0.0163\n",
            "Epoch [17/50], Step [2000/3125], Loss: 0.0033\n",
            "Epoch [17/50], Step [3000/3125], Loss: 0.0818\n",
            "Accuracy of the network on the test images: 83.06 %\n",
            "Epoch [18/50], Step [1000/3125], Loss: 0.2765\n",
            "Epoch [18/50], Step [2000/3125], Loss: 0.0372\n",
            "Epoch [18/50], Step [3000/3125], Loss: 0.0369\n",
            "Accuracy of the network on the test images: 84.36 %\n",
            "Epoch [19/50], Step [1000/3125], Loss: 0.0036\n",
            "Epoch [19/50], Step [2000/3125], Loss: 0.0055\n",
            "Epoch [19/50], Step [3000/3125], Loss: 0.0071\n",
            "Accuracy of the network on the test images: 83.94 %\n",
            "Epoch [20/50], Step [1000/3125], Loss: 0.0382\n",
            "Epoch [20/50], Step [2000/3125], Loss: 0.0069\n",
            "Epoch [20/50], Step [3000/3125], Loss: 0.0953\n",
            "Accuracy of the network on the test images: 82.32 %\n",
            "Epoch [21/50], Step [1000/3125], Loss: 0.0132\n",
            "Epoch [21/50], Step [2000/3125], Loss: 0.0028\n",
            "Epoch [21/50], Step [3000/3125], Loss: 0.0041\n",
            "Accuracy of the network on the test images: 82.92 %\n",
            "Epoch [22/50], Step [1000/3125], Loss: 0.0008\n",
            "Epoch [22/50], Step [2000/3125], Loss: 0.0002\n",
            "Epoch [22/50], Step [3000/3125], Loss: 0.0014\n",
            "Accuracy of the network on the test images: 84.83 %\n",
            "Epoch [23/50], Step [1000/3125], Loss: 0.0508\n",
            "Epoch [23/50], Step [2000/3125], Loss: 0.0012\n",
            "Epoch [23/50], Step [3000/3125], Loss: 0.0079\n",
            "Accuracy of the network on the test images: 84.81 %\n",
            "Epoch [24/50], Step [1000/3125], Loss: 0.0017\n",
            "Epoch [24/50], Step [2000/3125], Loss: 0.0284\n",
            "Epoch [24/50], Step [3000/3125], Loss: 0.0022\n",
            "Accuracy of the network on the test images: 83.43 %\n",
            "Epoch [25/50], Step [1000/3125], Loss: 0.0073\n",
            "Epoch [25/50], Step [2000/3125], Loss: 0.0065\n",
            "Epoch [25/50], Step [3000/3125], Loss: 0.0076\n",
            "Accuracy of the network on the test images: 83.58 %\n",
            "Epoch [26/50], Step [1000/3125], Loss: 0.0002\n",
            "Epoch [26/50], Step [2000/3125], Loss: 0.0000\n",
            "Epoch [26/50], Step [3000/3125], Loss: 0.0094\n",
            "Accuracy of the network on the test images: 85.76 %\n",
            "Epoch [27/50], Step [1000/3125], Loss: 0.0011\n",
            "Epoch [27/50], Step [2000/3125], Loss: 0.0002\n",
            "Epoch [27/50], Step [3000/3125], Loss: 0.0040\n",
            "Accuracy of the network on the test images: 85.87 %\n",
            "Epoch [28/50], Step [1000/3125], Loss: 0.0003\n",
            "Epoch [28/50], Step [2000/3125], Loss: 0.0000\n",
            "Epoch [28/50], Step [3000/3125], Loss: 0.0013\n",
            "Accuracy of the network on the test images: 85.95 %\n",
            "Epoch [29/50], Step [1000/3125], Loss: 0.0000\n",
            "Epoch [29/50], Step [2000/3125], Loss: 0.0000\n",
            "Epoch [29/50], Step [3000/3125], Loss: 0.0001\n",
            "Accuracy of the network on the test images: 85.96 %\n",
            "Epoch [30/50], Step [1000/3125], Loss: 0.0000\n",
            "Epoch [30/50], Step [2000/3125], Loss: 0.0005\n",
            "Epoch [30/50], Step [3000/3125], Loss: 0.0004\n",
            "Accuracy of the network on the test images: 85.96 %\n",
            "Epoch [31/50], Step [1000/3125], Loss: 0.0001\n",
            "Epoch [31/50], Step [2000/3125], Loss: 0.0018\n",
            "Epoch [31/50], Step [3000/3125], Loss: 0.0002\n",
            "Accuracy of the network on the test images: 85.95 %\n",
            "Epoch [32/50], Step [1000/3125], Loss: 0.0001\n",
            "Epoch [32/50], Step [2000/3125], Loss: 0.0007\n",
            "Epoch [32/50], Step [3000/3125], Loss: 0.0003\n",
            "Accuracy of the network on the test images: 86.03 %\n",
            "Epoch [33/50], Step [1000/3125], Loss: 0.0000\n",
            "Epoch [33/50], Step [2000/3125], Loss: 0.0000\n",
            "Epoch [33/50], Step [3000/3125], Loss: 0.0001\n",
            "Accuracy of the network on the test images: 86.06 %\n",
            "Epoch [34/50], Step [1000/3125], Loss: 0.0001\n",
            "Epoch [34/50], Step [2000/3125], Loss: 0.0000\n",
            "Epoch [34/50], Step [3000/3125], Loss: 0.0000\n",
            "Accuracy of the network on the test images: 86.06 %\n",
            "Epoch [35/50], Step [1000/3125], Loss: 0.0000\n",
            "Epoch [35/50], Step [2000/3125], Loss: 0.0000\n",
            "Epoch [35/50], Step [3000/3125], Loss: 0.0010\n",
            "Accuracy of the network on the test images: 86.12 %\n",
            "Epoch [36/50], Step [1000/3125], Loss: 0.0000\n",
            "Epoch [36/50], Step [2000/3125], Loss: 0.0000\n",
            "Epoch [36/50], Step [3000/3125], Loss: 0.0001\n",
            "Accuracy of the network on the test images: 86.1 %\n",
            "Epoch [37/50], Step [1000/3125], Loss: 0.0003\n",
            "Epoch [37/50], Step [2000/3125], Loss: 0.0000\n",
            "Epoch [37/50], Step [3000/3125], Loss: 0.0002\n",
            "Accuracy of the network on the test images: 86.07 %\n",
            "Epoch [38/50], Step [1000/3125], Loss: 0.0000\n",
            "Epoch [38/50], Step [2000/3125], Loss: 0.0001\n",
            "Epoch [38/50], Step [3000/3125], Loss: 0.0000\n",
            "Accuracy of the network on the test images: 86.08 %\n",
            "Epoch [39/50], Step [1000/3125], Loss: 0.0002\n",
            "Epoch [39/50], Step [2000/3125], Loss: 0.0000\n",
            "Epoch [39/50], Step [3000/3125], Loss: 0.0003\n",
            "Accuracy of the network on the test images: 86.07 %\n",
            "Epoch [40/50], Step [1000/3125], Loss: 0.0000\n",
            "Epoch [40/50], Step [2000/3125], Loss: 0.0002\n",
            "Epoch [40/50], Step [3000/3125], Loss: 0.0001\n",
            "Accuracy of the network on the test images: 86.07 %\n",
            "Epoch [41/50], Step [1000/3125], Loss: 0.0001\n",
            "Epoch [41/50], Step [2000/3125], Loss: 0.0000\n",
            "Epoch [41/50], Step [3000/3125], Loss: 0.0001\n",
            "Accuracy of the network on the test images: 86.1 %\n",
            "Epoch [42/50], Step [1000/3125], Loss: 0.0000\n",
            "Epoch [42/50], Step [2000/3125], Loss: 0.0000\n",
            "Epoch [42/50], Step [3000/3125], Loss: 0.0001\n",
            "Accuracy of the network on the test images: 86.11 %\n",
            "Epoch [43/50], Step [1000/3125], Loss: 0.0000\n",
            "Epoch [43/50], Step [2000/3125], Loss: 0.0008\n",
            "Epoch [43/50], Step [3000/3125], Loss: 0.0001\n",
            "Accuracy of the network on the test images: 86.14 %\n",
            "Epoch [44/50], Step [1000/3125], Loss: 0.0005\n",
            "Epoch [44/50], Step [2000/3125], Loss: 0.0003\n",
            "Epoch [44/50], Step [3000/3125], Loss: 0.0004\n",
            "Accuracy of the network on the test images: 86.15 %\n",
            "Epoch [45/50], Step [1000/3125], Loss: 0.0002\n",
            "Epoch [45/50], Step [2000/3125], Loss: 0.0001\n",
            "Epoch [45/50], Step [3000/3125], Loss: 0.0000\n",
            "Accuracy of the network on the test images: 86.17 %\n",
            "Epoch [46/50], Step [1000/3125], Loss: 0.0000\n",
            "Epoch [46/50], Step [2000/3125], Loss: 0.0000\n",
            "Epoch [46/50], Step [3000/3125], Loss: 0.0000\n",
            "Accuracy of the network on the test images: 86.18 %\n",
            "Epoch [47/50], Step [1000/3125], Loss: 0.0000\n",
            "Epoch [47/50], Step [2000/3125], Loss: 0.0001\n",
            "Epoch [47/50], Step [3000/3125], Loss: 0.0003\n",
            "Accuracy of the network on the test images: 86.2 %\n",
            "Epoch [48/50], Step [1000/3125], Loss: 0.0003\n",
            "Epoch [48/50], Step [2000/3125], Loss: 0.0000\n",
            "Epoch [48/50], Step [3000/3125], Loss: 0.0000\n",
            "Accuracy of the network on the test images: 86.19 %\n",
            "Epoch [49/50], Step [1000/3125], Loss: 0.0000\n",
            "Epoch [49/50], Step [2000/3125], Loss: 0.0000\n",
            "Epoch [49/50], Step [3000/3125], Loss: 0.0000\n",
            "Accuracy of the network on the test images: 86.19 %\n",
            "Epoch [50/50], Step [1000/3125], Loss: 0.0003\n",
            "Epoch [50/50], Step [2000/3125], Loss: 0.0000\n",
            "Epoch [50/50], Step [3000/3125], Loss: 0.0001\n",
            "Accuracy of the network on the test images: 86.18 %\n"
          ]
        }
      ],
      "source": [
        "model = allcnn_t().to(device)\n",
        "epochs = 50\n",
        "criterion = nn.CrossEntropyLoss()\n",
        "optimizer = optim.SGD(model.parameters(), lr=0.01, momentum=0.9, weight_decay=0.00001, nesterov=True)\n",
        "val_error,val_loss_values,train_error,train_loss_values= train(model, optimizer, criterion, trainloader, testloader, epochs, 'cnn_curve', True)"
      ]
    },
    {
      "cell_type": "code",
      "execution_count": null,
      "metadata": {
        "id": "TOK4nt5t-QjY"
      },
      "outputs": [],
      "source": [
        "torch.save(model, './Intital_hw2_p3_model/model1.pt')"
      ]
    },
    {
      "cell_type": "markdown",
      "metadata": {
        "id": "2oY1LKaa-QjY"
      },
      "source": [
        "### Increasing the number of epochs"
      ]
    },
    {
      "cell_type": "code",
      "execution_count": null,
      "metadata": {
        "id": "hhUAp1Gg-QjZ"
      },
      "outputs": [],
      "source": [
        "# The training loop\n",
        "\n",
        "def train(net, optimizer, criterion, train_loader, test_loader, epochs, model_name, plot):\n",
        "    model = net.to(device)\n",
        "    total_step = len(train_loader)\n",
        "    overall_step = 0\n",
        "    train_loss_values = []\n",
        "    train_error = []\n",
        "    val_loss_values = []\n",
        "    val_error = []\n",
        "    for epoch in range(epochs):\n",
        "        correct = 0\n",
        "        total = 0\n",
        "        flag = 0\n",
        "        running_loss = 0.0\n",
        "        if epoch == 40 and flag == 0:\n",
        "          for op_params in optimizer.param_groups:\n",
        "            op_params['lr'] = 0.001\n",
        "          flag = 1\n",
        "        for i, (images, labels) in enumerate(train_loader):\n",
        "            # Move tensors to configured device\n",
        "            images = images.to(device)\n",
        "            labels = labels.to(device)\n",
        "            #Forward Pass\n",
        "            outputs = model(images)\n",
        "            loss = criterion(outputs, labels)\n",
        "            optimizer.zero_grad()\n",
        "            loss.backward()\n",
        "            running_loss += loss.item()\n",
        "            _, predicted = torch.max(outputs.data, 1)\n",
        "            total += labels.size(0)\n",
        "            correct += (predicted == labels).sum().item()\n",
        "            optimizer.step()\n",
        "            if (i+1) % 1000 == 0:\n",
        "              print ('Epoch [{}/{}], Step [{}/{}], Loss: {:.4f}'.format(epoch+1, epochs, i+1, total_step, loss.item()))\n",
        "            if plot:\n",
        "              info = { ('loss_' + model_name): loss.item() }\n",
        "\n",
        "              # for tag, value in info.items():\n",
        "              #   logger.scalar_summary(tag, value, overall_step+1)\n",
        "        train_loss_values.append(running_loss)\n",
        "        train_error.append(100-100*correct/total)\n",
        "\n",
        "        model.eval()\n",
        "        with torch.no_grad():\n",
        "            correct = 0\n",
        "            total = 0\n",
        "            for i, (images, labels) in enumerate(test_loader):\n",
        "                images = images.to(device)\n",
        "                labels = labels.to(device)\n",
        "                outputs = model(images)\n",
        "                _, predicted = torch.max(outputs.data, 1)\n",
        "                total += labels.size(0)\n",
        "                correct += (predicted == labels).sum().item()\n",
        "\n",
        "        print('Accuracy of the network on the test images: {} %'.format(100 * correct / total))\n",
        "        val_error.append(100-100*correct/total)\n",
        "        val_loss_values.append(running_loss)\n",
        "    return val_error,val_loss_values,train_error,train_loss_values"
      ]
    },
    {
      "cell_type": "code",
      "execution_count": null,
      "metadata": {
        "id": "wZ1WW5CV-QjZ",
        "outputId": "f28e3eca-1906-4674-dd41-8d3b678b3a00"
      },
      "outputs": [
        {
          "name": "stdout",
          "output_type": "stream",
          "text": [
            "Num parameters:  1667166\n",
            "Epoch [1/100], Step [1000/3125], Loss: 1.9664\n",
            "Epoch [1/100], Step [2000/3125], Loss: 1.1284\n",
            "Epoch [1/100], Step [3000/3125], Loss: 1.0749\n",
            "Accuracy of the network on the test images: 53.77 %\n",
            "Epoch [2/100], Step [1000/3125], Loss: 1.2159\n",
            "Epoch [2/100], Step [2000/3125], Loss: 0.6642\n",
            "Epoch [2/100], Step [3000/3125], Loss: 0.8375\n",
            "Accuracy of the network on the test images: 71.08 %\n",
            "Epoch [3/100], Step [1000/3125], Loss: 1.0900\n",
            "Epoch [3/100], Step [2000/3125], Loss: 0.5668\n",
            "Epoch [3/100], Step [3000/3125], Loss: 0.6083\n",
            "Accuracy of the network on the test images: 72.67 %\n",
            "Epoch [4/100], Step [1000/3125], Loss: 0.5771\n",
            "Epoch [4/100], Step [2000/3125], Loss: 0.3854\n",
            "Epoch [4/100], Step [3000/3125], Loss: 0.6999\n",
            "Accuracy of the network on the test images: 78.71 %\n",
            "Epoch [5/100], Step [1000/3125], Loss: 0.5968\n",
            "Epoch [5/100], Step [2000/3125], Loss: 0.7876\n",
            "Epoch [5/100], Step [3000/3125], Loss: 0.3321\n",
            "Accuracy of the network on the test images: 81.44 %\n",
            "Epoch [6/100], Step [1000/3125], Loss: 0.3018\n",
            "Epoch [6/100], Step [2000/3125], Loss: 0.4041\n",
            "Epoch [6/100], Step [3000/3125], Loss: 0.1392\n",
            "Accuracy of the network on the test images: 81.89 %\n",
            "Epoch [7/100], Step [1000/3125], Loss: 0.1525\n",
            "Epoch [7/100], Step [2000/3125], Loss: 0.2214\n",
            "Epoch [7/100], Step [3000/3125], Loss: 0.5576\n",
            "Accuracy of the network on the test images: 82.46 %\n",
            "Epoch [8/100], Step [1000/3125], Loss: 0.1357\n",
            "Epoch [8/100], Step [2000/3125], Loss: 0.1143\n",
            "Epoch [8/100], Step [3000/3125], Loss: 0.0156\n",
            "Accuracy of the network on the test images: 83.03 %\n",
            "Epoch [9/100], Step [1000/3125], Loss: 0.0280\n",
            "Epoch [9/100], Step [2000/3125], Loss: 0.2056\n",
            "Epoch [9/100], Step [3000/3125], Loss: 0.1561\n",
            "Accuracy of the network on the test images: 83.14 %\n",
            "Epoch [10/100], Step [1000/3125], Loss: 0.0388\n",
            "Epoch [10/100], Step [2000/3125], Loss: 0.0021\n",
            "Epoch [10/100], Step [3000/3125], Loss: 0.1850\n",
            "Accuracy of the network on the test images: 83.6 %\n",
            "Epoch [11/100], Step [1000/3125], Loss: 0.2336\n",
            "Epoch [11/100], Step [2000/3125], Loss: 0.0067\n",
            "Epoch [11/100], Step [3000/3125], Loss: 0.1092\n",
            "Accuracy of the network on the test images: 83.5 %\n",
            "Epoch [12/100], Step [1000/3125], Loss: 0.0004\n",
            "Epoch [12/100], Step [2000/3125], Loss: 0.1159\n",
            "Epoch [12/100], Step [3000/3125], Loss: 0.2172\n",
            "Accuracy of the network on the test images: 82.8 %\n",
            "Epoch [13/100], Step [1000/3125], Loss: 0.0081\n",
            "Epoch [13/100], Step [2000/3125], Loss: 0.1063\n",
            "Epoch [13/100], Step [3000/3125], Loss: 0.0259\n",
            "Accuracy of the network on the test images: 84.05 %\n",
            "Epoch [14/100], Step [1000/3125], Loss: 0.0009\n",
            "Epoch [14/100], Step [2000/3125], Loss: 0.0359\n",
            "Epoch [14/100], Step [3000/3125], Loss: 0.2704\n",
            "Accuracy of the network on the test images: 82.38 %\n",
            "Epoch [15/100], Step [1000/3125], Loss: 0.0002\n",
            "Epoch [15/100], Step [2000/3125], Loss: 0.0019\n",
            "Epoch [15/100], Step [3000/3125], Loss: 0.0209\n",
            "Accuracy of the network on the test images: 82.63 %\n",
            "Epoch [16/100], Step [1000/3125], Loss: 0.0075\n",
            "Epoch [16/100], Step [2000/3125], Loss: 0.0278\n",
            "Epoch [16/100], Step [3000/3125], Loss: 0.0325\n",
            "Accuracy of the network on the test images: 83.46 %\n",
            "Epoch [17/100], Step [1000/3125], Loss: 0.0004\n",
            "Epoch [17/100], Step [2000/3125], Loss: 0.0064\n",
            "Epoch [17/100], Step [3000/3125], Loss: 0.1307\n",
            "Accuracy of the network on the test images: 83.53 %\n",
            "Epoch [18/100], Step [1000/3125], Loss: 0.0012\n",
            "Epoch [18/100], Step [2000/3125], Loss: 0.0029\n",
            "Epoch [18/100], Step [3000/3125], Loss: 0.2344\n",
            "Accuracy of the network on the test images: 84.22 %\n",
            "Epoch [19/100], Step [1000/3125], Loss: 0.0087\n",
            "Epoch [19/100], Step [2000/3125], Loss: 0.0156\n",
            "Epoch [19/100], Step [3000/3125], Loss: 0.1884\n",
            "Accuracy of the network on the test images: 84.06 %\n",
            "Epoch [20/100], Step [1000/3125], Loss: 0.0026\n",
            "Epoch [20/100], Step [2000/3125], Loss: 0.0247\n",
            "Epoch [20/100], Step [3000/3125], Loss: 0.1329\n",
            "Accuracy of the network on the test images: 83.6 %\n",
            "Epoch [21/100], Step [1000/3125], Loss: 0.0027\n",
            "Epoch [21/100], Step [2000/3125], Loss: 0.0049\n",
            "Epoch [21/100], Step [3000/3125], Loss: 0.0004\n",
            "Accuracy of the network on the test images: 83.88 %\n",
            "Epoch [22/100], Step [1000/3125], Loss: 0.0077\n",
            "Epoch [22/100], Step [2000/3125], Loss: 0.0006\n",
            "Epoch [22/100], Step [3000/3125], Loss: 0.0291\n",
            "Accuracy of the network on the test images: 83.72 %\n",
            "Epoch [23/100], Step [1000/3125], Loss: 0.1185\n",
            "Epoch [23/100], Step [2000/3125], Loss: 0.0002\n",
            "Epoch [23/100], Step [3000/3125], Loss: 0.0009\n",
            "Accuracy of the network on the test images: 84.62 %\n",
            "Epoch [24/100], Step [1000/3125], Loss: 0.0014\n",
            "Epoch [24/100], Step [2000/3125], Loss: 0.0002\n",
            "Epoch [24/100], Step [3000/3125], Loss: 0.0030\n",
            "Accuracy of the network on the test images: 82.6 %\n",
            "Epoch [25/100], Step [1000/3125], Loss: 0.0003\n",
            "Epoch [25/100], Step [2000/3125], Loss: 0.0023\n",
            "Epoch [25/100], Step [3000/3125], Loss: 0.0290\n",
            "Accuracy of the network on the test images: 84.93 %\n",
            "Epoch [26/100], Step [1000/3125], Loss: 0.0044\n",
            "Epoch [26/100], Step [2000/3125], Loss: 0.0047\n",
            "Epoch [26/100], Step [3000/3125], Loss: 0.0046\n",
            "Accuracy of the network on the test images: 83.55 %\n",
            "Epoch [27/100], Step [1000/3125], Loss: 0.0011\n",
            "Epoch [27/100], Step [2000/3125], Loss: 0.0005\n",
            "Epoch [27/100], Step [3000/3125], Loss: 0.0002\n",
            "Accuracy of the network on the test images: 84.63 %\n",
            "Epoch [28/100], Step [1000/3125], Loss: 0.0000\n",
            "Epoch [28/100], Step [2000/3125], Loss: 0.0011\n",
            "Epoch [28/100], Step [3000/3125], Loss: 0.0044\n",
            "Accuracy of the network on the test images: 84.96 %\n",
            "Epoch [29/100], Step [1000/3125], Loss: 0.0001\n",
            "Epoch [29/100], Step [2000/3125], Loss: 0.0001\n",
            "Epoch [29/100], Step [3000/3125], Loss: 0.0001\n",
            "Accuracy of the network on the test images: 85.05 %\n",
            "Epoch [30/100], Step [1000/3125], Loss: 0.0011\n",
            "Epoch [30/100], Step [2000/3125], Loss: 0.0004\n",
            "Epoch [30/100], Step [3000/3125], Loss: 0.0003\n",
            "Accuracy of the network on the test images: 84.08 %\n",
            "Epoch [31/100], Step [1000/3125], Loss: 0.0000\n",
            "Epoch [31/100], Step [2000/3125], Loss: 0.0022\n",
            "Epoch [31/100], Step [3000/3125], Loss: 0.0001\n",
            "Accuracy of the network on the test images: 84.98 %\n",
            "Epoch [32/100], Step [1000/3125], Loss: 0.0003\n",
            "Epoch [32/100], Step [2000/3125], Loss: 0.0004\n",
            "Epoch [32/100], Step [3000/3125], Loss: 0.0033\n",
            "Accuracy of the network on the test images: 84.23 %\n",
            "Epoch [33/100], Step [1000/3125], Loss: 0.0000\n",
            "Epoch [33/100], Step [2000/3125], Loss: 0.0001\n",
            "Epoch [33/100], Step [3000/3125], Loss: 0.0001\n",
            "Accuracy of the network on the test images: 85.36 %\n",
            "Epoch [34/100], Step [1000/3125], Loss: 0.0031\n",
            "Epoch [34/100], Step [2000/3125], Loss: 0.0000\n",
            "Epoch [34/100], Step [3000/3125], Loss: 0.0009\n",
            "Accuracy of the network on the test images: 84.97 %\n",
            "Epoch [35/100], Step [1000/3125], Loss: 0.0013\n",
            "Epoch [35/100], Step [2000/3125], Loss: 0.0003\n",
            "Epoch [35/100], Step [3000/3125], Loss: 0.0001\n",
            "Accuracy of the network on the test images: 84.6 %\n",
            "Epoch [36/100], Step [1000/3125], Loss: 0.0000\n",
            "Epoch [36/100], Step [2000/3125], Loss: 0.0001\n",
            "Epoch [36/100], Step [3000/3125], Loss: 0.0000\n",
            "Accuracy of the network on the test images: 85.12 %\n",
            "Epoch [37/100], Step [1000/3125], Loss: 0.0006\n",
            "Epoch [37/100], Step [2000/3125], Loss: 0.0002\n",
            "Epoch [37/100], Step [3000/3125], Loss: 0.0002\n",
            "Accuracy of the network on the test images: 85.76 %\n",
            "Epoch [38/100], Step [1000/3125], Loss: 0.0035\n",
            "Epoch [38/100], Step [2000/3125], Loss: 0.0000\n",
            "Epoch [38/100], Step [3000/3125], Loss: 0.0001\n",
            "Accuracy of the network on the test images: 84.8 %\n",
            "Epoch [39/100], Step [1000/3125], Loss: 0.0000\n",
            "Epoch [39/100], Step [2000/3125], Loss: 0.0002\n",
            "Epoch [39/100], Step [3000/3125], Loss: 0.0000\n",
            "Accuracy of the network on the test images: 86.05 %\n",
            "Epoch [40/100], Step [1000/3125], Loss: 0.0000\n",
            "Epoch [40/100], Step [2000/3125], Loss: 0.0002\n",
            "Epoch [40/100], Step [3000/3125], Loss: 0.0000\n",
            "Accuracy of the network on the test images: 86.39 %\n",
            "Epoch [41/100], Step [1000/3125], Loss: 0.0002\n",
            "Epoch [41/100], Step [2000/3125], Loss: 0.0001\n",
            "Epoch [41/100], Step [3000/3125], Loss: 0.0000\n",
            "Accuracy of the network on the test images: 86.36 %\n",
            "Epoch [42/100], Step [1000/3125], Loss: 0.0000\n",
            "Epoch [42/100], Step [2000/3125], Loss: 0.0000\n",
            "Epoch [42/100], Step [3000/3125], Loss: 0.0000\n",
            "Accuracy of the network on the test images: 86.37 %\n",
            "Epoch [43/100], Step [1000/3125], Loss: 0.0000\n",
            "Epoch [43/100], Step [2000/3125], Loss: 0.0000\n",
            "Epoch [43/100], Step [3000/3125], Loss: 0.0000\n",
            "Accuracy of the network on the test images: 86.43 %\n",
            "Epoch [44/100], Step [1000/3125], Loss: 0.0001\n",
            "Epoch [44/100], Step [2000/3125], Loss: 0.0000\n",
            "Epoch [44/100], Step [3000/3125], Loss: 0.0000\n",
            "Accuracy of the network on the test images: 86.4 %\n",
            "Epoch [45/100], Step [1000/3125], Loss: 0.0000\n",
            "Epoch [45/100], Step [2000/3125], Loss: 0.0000\n",
            "Epoch [45/100], Step [3000/3125], Loss: 0.0000\n",
            "Accuracy of the network on the test images: 86.4 %\n",
            "Epoch [46/100], Step [1000/3125], Loss: 0.0000\n",
            "Epoch [46/100], Step [2000/3125], Loss: 0.0000\n",
            "Epoch [46/100], Step [3000/3125], Loss: 0.0000\n",
            "Accuracy of the network on the test images: 86.41 %\n",
            "Epoch [47/100], Step [1000/3125], Loss: 0.0000\n",
            "Epoch [47/100], Step [2000/3125], Loss: 0.0001\n",
            "Epoch [47/100], Step [3000/3125], Loss: 0.0000\n",
            "Accuracy of the network on the test images: 86.41 %\n",
            "Epoch [48/100], Step [1000/3125], Loss: 0.0001\n",
            "Epoch [48/100], Step [2000/3125], Loss: 0.0000\n",
            "Epoch [48/100], Step [3000/3125], Loss: 0.0000\n",
            "Accuracy of the network on the test images: 86.43 %\n",
            "Epoch [49/100], Step [1000/3125], Loss: 0.0000\n",
            "Epoch [49/100], Step [2000/3125], Loss: 0.0000\n",
            "Epoch [49/100], Step [3000/3125], Loss: 0.0000\n",
            "Accuracy of the network on the test images: 86.42 %\n",
            "Epoch [50/100], Step [1000/3125], Loss: 0.0000\n",
            "Epoch [50/100], Step [2000/3125], Loss: 0.0000\n",
            "Epoch [50/100], Step [3000/3125], Loss: 0.0001\n",
            "Accuracy of the network on the test images: 86.41 %\n",
            "Epoch [51/100], Step [1000/3125], Loss: 0.0000\n",
            "Epoch [51/100], Step [2000/3125], Loss: 0.0000\n",
            "Epoch [51/100], Step [3000/3125], Loss: 0.0000\n",
            "Accuracy of the network on the test images: 86.42 %\n",
            "Epoch [52/100], Step [1000/3125], Loss: 0.0000\n",
            "Epoch [52/100], Step [2000/3125], Loss: 0.0000\n",
            "Epoch [52/100], Step [3000/3125], Loss: 0.0000\n",
            "Accuracy of the network on the test images: 86.45 %\n",
            "Epoch [53/100], Step [1000/3125], Loss: 0.0000\n",
            "Epoch [53/100], Step [2000/3125], Loss: 0.0001\n",
            "Epoch [53/100], Step [3000/3125], Loss: 0.0001\n",
            "Accuracy of the network on the test images: 86.46 %\n",
            "Epoch [54/100], Step [1000/3125], Loss: 0.0000\n",
            "Epoch [54/100], Step [2000/3125], Loss: 0.0000\n",
            "Epoch [54/100], Step [3000/3125], Loss: 0.0000\n",
            "Accuracy of the network on the test images: 86.44 %\n",
            "Epoch [55/100], Step [1000/3125], Loss: 0.0000\n",
            "Epoch [55/100], Step [2000/3125], Loss: 0.0000\n",
            "Epoch [55/100], Step [3000/3125], Loss: 0.0000\n",
            "Accuracy of the network on the test images: 86.43 %\n",
            "Epoch [56/100], Step [1000/3125], Loss: 0.0000\n",
            "Epoch [56/100], Step [2000/3125], Loss: 0.0000\n",
            "Epoch [56/100], Step [3000/3125], Loss: 0.0000\n",
            "Accuracy of the network on the test images: 86.43 %\n",
            "Epoch [57/100], Step [1000/3125], Loss: 0.0000\n",
            "Epoch [57/100], Step [2000/3125], Loss: 0.0001\n",
            "Epoch [57/100], Step [3000/3125], Loss: 0.0000\n",
            "Accuracy of the network on the test images: 86.44 %\n",
            "Epoch [58/100], Step [1000/3125], Loss: 0.0000\n",
            "Epoch [58/100], Step [2000/3125], Loss: 0.0000\n",
            "Epoch [58/100], Step [3000/3125], Loss: 0.0000\n",
            "Accuracy of the network on the test images: 86.43 %\n",
            "Epoch [59/100], Step [1000/3125], Loss: 0.0000\n",
            "Epoch [59/100], Step [2000/3125], Loss: 0.0000\n",
            "Epoch [59/100], Step [3000/3125], Loss: 0.0000\n",
            "Accuracy of the network on the test images: 86.43 %\n",
            "Epoch [60/100], Step [1000/3125], Loss: 0.0000\n",
            "Epoch [60/100], Step [2000/3125], Loss: 0.0000\n",
            "Epoch [60/100], Step [3000/3125], Loss: 0.0001\n",
            "Accuracy of the network on the test images: 86.45 %\n",
            "Epoch [61/100], Step [1000/3125], Loss: 0.0001\n",
            "Epoch [61/100], Step [2000/3125], Loss: 0.0000\n",
            "Epoch [61/100], Step [3000/3125], Loss: 0.0000\n",
            "Accuracy of the network on the test images: 86.45 %\n",
            "Epoch [62/100], Step [1000/3125], Loss: 0.0000\n",
            "Epoch [62/100], Step [2000/3125], Loss: 0.0000\n",
            "Epoch [62/100], Step [3000/3125], Loss: 0.0001\n",
            "Accuracy of the network on the test images: 86.44 %\n",
            "Epoch [63/100], Step [1000/3125], Loss: 0.0002\n",
            "Epoch [63/100], Step [2000/3125], Loss: 0.0000\n",
            "Epoch [63/100], Step [3000/3125], Loss: 0.0000\n",
            "Accuracy of the network on the test images: 86.44 %\n",
            "Epoch [64/100], Step [1000/3125], Loss: 0.0001\n",
            "Epoch [64/100], Step [2000/3125], Loss: 0.0001\n",
            "Epoch [64/100], Step [3000/3125], Loss: 0.0001\n",
            "Accuracy of the network on the test images: 86.42 %\n",
            "Epoch [65/100], Step [1000/3125], Loss: 0.0000\n",
            "Epoch [65/100], Step [2000/3125], Loss: 0.0000\n",
            "Epoch [65/100], Step [3000/3125], Loss: 0.0000\n",
            "Accuracy of the network on the test images: 86.42 %\n",
            "Epoch [66/100], Step [1000/3125], Loss: 0.0000\n",
            "Epoch [66/100], Step [2000/3125], Loss: 0.0002\n",
            "Epoch [66/100], Step [3000/3125], Loss: 0.0000\n",
            "Accuracy of the network on the test images: 86.46 %\n",
            "Epoch [67/100], Step [1000/3125], Loss: 0.0000\n",
            "Epoch [67/100], Step [2000/3125], Loss: 0.0000\n",
            "Epoch [67/100], Step [3000/3125], Loss: 0.0000\n",
            "Accuracy of the network on the test images: 86.46 %\n",
            "Epoch [68/100], Step [1000/3125], Loss: 0.0000\n",
            "Epoch [68/100], Step [2000/3125], Loss: 0.0000\n",
            "Epoch [68/100], Step [3000/3125], Loss: 0.0000\n",
            "Accuracy of the network on the test images: 86.47 %\n",
            "Epoch [69/100], Step [1000/3125], Loss: 0.0000\n",
            "Epoch [69/100], Step [2000/3125], Loss: 0.0000\n",
            "Epoch [69/100], Step [3000/3125], Loss: 0.0000\n",
            "Accuracy of the network on the test images: 86.48 %\n",
            "Epoch [70/100], Step [1000/3125], Loss: 0.0000\n",
            "Epoch [70/100], Step [2000/3125], Loss: 0.0001\n",
            "Epoch [70/100], Step [3000/3125], Loss: 0.0000\n",
            "Accuracy of the network on the test images: 86.47 %\n",
            "Epoch [71/100], Step [1000/3125], Loss: 0.0000\n",
            "Epoch [71/100], Step [2000/3125], Loss: 0.0001\n",
            "Epoch [71/100], Step [3000/3125], Loss: 0.0000\n",
            "Accuracy of the network on the test images: 86.47 %\n",
            "Epoch [72/100], Step [1000/3125], Loss: 0.0000\n",
            "Epoch [72/100], Step [2000/3125], Loss: 0.0000\n",
            "Epoch [72/100], Step [3000/3125], Loss: 0.0002\n",
            "Accuracy of the network on the test images: 86.47 %\n",
            "Epoch [73/100], Step [1000/3125], Loss: 0.0000\n",
            "Epoch [73/100], Step [2000/3125], Loss: 0.0000\n",
            "Epoch [73/100], Step [3000/3125], Loss: 0.0001\n",
            "Accuracy of the network on the test images: 86.5 %\n",
            "Epoch [74/100], Step [1000/3125], Loss: 0.0000\n",
            "Epoch [74/100], Step [2000/3125], Loss: 0.0000\n",
            "Epoch [74/100], Step [3000/3125], Loss: 0.0000\n",
            "Accuracy of the network on the test images: 86.5 %\n",
            "Epoch [75/100], Step [1000/3125], Loss: 0.0005\n",
            "Epoch [75/100], Step [2000/3125], Loss: 0.0000\n",
            "Epoch [75/100], Step [3000/3125], Loss: 0.0000\n",
            "Accuracy of the network on the test images: 86.49 %\n",
            "Epoch [76/100], Step [1000/3125], Loss: 0.0000\n",
            "Epoch [76/100], Step [2000/3125], Loss: 0.0001\n",
            "Epoch [76/100], Step [3000/3125], Loss: 0.0000\n",
            "Accuracy of the network on the test images: 86.5 %\n",
            "Epoch [77/100], Step [1000/3125], Loss: 0.0001\n",
            "Epoch [77/100], Step [2000/3125], Loss: 0.0000\n",
            "Epoch [77/100], Step [3000/3125], Loss: 0.0000\n",
            "Accuracy of the network on the test images: 86.5 %\n",
            "Epoch [78/100], Step [1000/3125], Loss: 0.0000\n",
            "Epoch [78/100], Step [2000/3125], Loss: 0.0001\n",
            "Epoch [78/100], Step [3000/3125], Loss: 0.0000\n",
            "Accuracy of the network on the test images: 86.48 %\n",
            "Epoch [79/100], Step [1000/3125], Loss: 0.0000\n",
            "Epoch [79/100], Step [2000/3125], Loss: 0.0000\n",
            "Epoch [79/100], Step [3000/3125], Loss: 0.0000\n",
            "Accuracy of the network on the test images: 86.48 %\n",
            "Epoch [80/100], Step [1000/3125], Loss: 0.0000\n",
            "Epoch [80/100], Step [2000/3125], Loss: 0.0000\n",
            "Epoch [80/100], Step [3000/3125], Loss: 0.0000\n",
            "Accuracy of the network on the test images: 86.49 %\n",
            "Epoch [81/100], Step [1000/3125], Loss: 0.0000\n",
            "Epoch [81/100], Step [2000/3125], Loss: 0.0000\n",
            "Epoch [81/100], Step [3000/3125], Loss: 0.0000\n",
            "Accuracy of the network on the test images: 86.5 %\n",
            "Epoch [82/100], Step [1000/3125], Loss: 0.0000\n",
            "Epoch [82/100], Step [2000/3125], Loss: 0.0000\n",
            "Epoch [82/100], Step [3000/3125], Loss: 0.0001\n",
            "Accuracy of the network on the test images: 86.5 %\n",
            "Epoch [83/100], Step [1000/3125], Loss: 0.0001\n",
            "Epoch [83/100], Step [2000/3125], Loss: 0.0000\n",
            "Epoch [83/100], Step [3000/3125], Loss: 0.0000\n",
            "Accuracy of the network on the test images: 86.5 %\n",
            "Epoch [84/100], Step [1000/3125], Loss: 0.0000\n",
            "Epoch [84/100], Step [2000/3125], Loss: 0.0002\n",
            "Epoch [84/100], Step [3000/3125], Loss: 0.0001\n",
            "Accuracy of the network on the test images: 86.48 %\n",
            "Epoch [85/100], Step [1000/3125], Loss: 0.0000\n",
            "Epoch [85/100], Step [2000/3125], Loss: 0.0000\n",
            "Epoch [85/100], Step [3000/3125], Loss: 0.0000\n",
            "Accuracy of the network on the test images: 86.49 %\n",
            "Epoch [86/100], Step [1000/3125], Loss: 0.0000\n",
            "Epoch [86/100], Step [2000/3125], Loss: 0.0001\n",
            "Epoch [86/100], Step [3000/3125], Loss: 0.0000\n",
            "Accuracy of the network on the test images: 86.5 %\n",
            "Epoch [87/100], Step [1000/3125], Loss: 0.0000\n",
            "Epoch [87/100], Step [2000/3125], Loss: 0.0000\n",
            "Epoch [87/100], Step [3000/3125], Loss: 0.0000\n",
            "Accuracy of the network on the test images: 86.52 %\n",
            "Epoch [88/100], Step [1000/3125], Loss: 0.0000\n",
            "Epoch [88/100], Step [2000/3125], Loss: 0.0000\n",
            "Epoch [88/100], Step [3000/3125], Loss: 0.0000\n",
            "Accuracy of the network on the test images: 86.54 %\n",
            "Epoch [89/100], Step [1000/3125], Loss: 0.0000\n",
            "Epoch [89/100], Step [2000/3125], Loss: 0.0001\n",
            "Epoch [89/100], Step [3000/3125], Loss: 0.0000\n",
            "Accuracy of the network on the test images: 86.54 %\n",
            "Epoch [90/100], Step [1000/3125], Loss: 0.0000\n",
            "Epoch [90/100], Step [2000/3125], Loss: 0.0000\n",
            "Epoch [90/100], Step [3000/3125], Loss: 0.0001\n",
            "Accuracy of the network on the test images: 86.56 %\n",
            "Epoch [91/100], Step [1000/3125], Loss: 0.0000\n",
            "Epoch [91/100], Step [2000/3125], Loss: 0.0000\n",
            "Epoch [91/100], Step [3000/3125], Loss: 0.0000\n",
            "Accuracy of the network on the test images: 86.55 %\n",
            "Epoch [92/100], Step [1000/3125], Loss: 0.0000\n",
            "Epoch [92/100], Step [2000/3125], Loss: 0.0000\n",
            "Epoch [92/100], Step [3000/3125], Loss: 0.0000\n",
            "Accuracy of the network on the test images: 86.55 %\n",
            "Epoch [93/100], Step [1000/3125], Loss: 0.0000\n",
            "Epoch [93/100], Step [2000/3125], Loss: 0.0000\n",
            "Epoch [93/100], Step [3000/3125], Loss: 0.0000\n",
            "Accuracy of the network on the test images: 86.55 %\n",
            "Epoch [94/100], Step [1000/3125], Loss: 0.0002\n",
            "Epoch [94/100], Step [2000/3125], Loss: 0.0000\n",
            "Epoch [94/100], Step [3000/3125], Loss: 0.0000\n",
            "Accuracy of the network on the test images: 86.57 %\n",
            "Epoch [95/100], Step [1000/3125], Loss: 0.0000\n",
            "Epoch [95/100], Step [2000/3125], Loss: 0.0001\n",
            "Epoch [95/100], Step [3000/3125], Loss: 0.0001\n",
            "Accuracy of the network on the test images: 86.57 %\n",
            "Epoch [96/100], Step [1000/3125], Loss: 0.0000\n",
            "Epoch [96/100], Step [2000/3125], Loss: 0.0000\n",
            "Epoch [96/100], Step [3000/3125], Loss: 0.0000\n",
            "Accuracy of the network on the test images: 86.57 %\n",
            "Epoch [97/100], Step [1000/3125], Loss: 0.0000\n",
            "Epoch [97/100], Step [2000/3125], Loss: 0.0000\n",
            "Epoch [97/100], Step [3000/3125], Loss: 0.0001\n",
            "Accuracy of the network on the test images: 86.57 %\n",
            "Epoch [98/100], Step [1000/3125], Loss: 0.0000\n",
            "Epoch [98/100], Step [2000/3125], Loss: 0.0000\n",
            "Epoch [98/100], Step [3000/3125], Loss: 0.0000\n",
            "Accuracy of the network on the test images: 86.57 %\n",
            "Epoch [99/100], Step [1000/3125], Loss: 0.0000\n",
            "Epoch [99/100], Step [2000/3125], Loss: 0.0000\n",
            "Epoch [99/100], Step [3000/3125], Loss: 0.0000\n",
            "Accuracy of the network on the test images: 86.58 %\n",
            "Epoch [100/100], Step [1000/3125], Loss: 0.0000\n",
            "Epoch [100/100], Step [2000/3125], Loss: 0.0000\n",
            "Epoch [100/100], Step [3000/3125], Loss: 0.0001\n",
            "Accuracy of the network on the test images: 86.58 %\n"
          ]
        }
      ],
      "source": [
        "model = allcnn_t().to(device)\n",
        "epochs = 100\n",
        "criterion = nn.CrossEntropyLoss()\n",
        "optimizer = optim.SGD(model.parameters(), lr=0.01, momentum=0.9, weight_decay=0.00001, nesterov=True)\n",
        "val_error,val_loss_values,train_error,train_loss_values= train(model, optimizer, criterion, trainloader, testloader, epochs, 'cnn_curve', True)"
      ]
    },
    {
      "cell_type": "code",
      "execution_count": null,
      "metadata": {
        "id": "HnodJwl2-QjZ"
      },
      "outputs": [],
      "source": [
        "torch.save(model, './Intital_hw2_p3_model/model1_100epoch_40lr.pt')"
      ]
    },
    {
      "cell_type": "code",
      "execution_count": null,
      "metadata": {
        "id": "jhMIucaO-QjZ"
      },
      "outputs": [],
      "source": [
        "plt.plot(train_error)"
      ]
    },
    {
      "cell_type": "markdown",
      "metadata": {
        "id": "HaRYev7cQnwE"
      },
      "source": [
        "### Part 3.a."
      ]
    },
    {
      "cell_type": "markdown",
      "metadata": {
        "id": "ZLdxvPMb-QjZ"
      },
      "source": [
        "### Changing the learning rate and weight decay in train code"
      ]
    },
    {
      "cell_type": "code",
      "execution_count": 26,
      "metadata": {
        "id": "L6VZFN36-Qja"
      },
      "outputs": [],
      "source": [
        "# The training loop - changing the learning rate and weight decay as per suggestion given in the document\n",
        "\n",
        "def train(net, optimizer, criterion, train_loader, test_loader, epochs, model_name, plot):\n",
        "    model = net.to(device)\n",
        "    total_step = len(train_loader)\n",
        "    overall_step = 0\n",
        "    train_loss_values = []\n",
        "    train_error = []\n",
        "    val_loss_values = []\n",
        "    val_error = []\n",
        "    schedule_lr = 0.1\n",
        "    for epoch in range(epochs):\n",
        "        correct = 0\n",
        "        total = 0\n",
        "        # flag = 0\n",
        "        running_loss = 0.0\n",
        "        # if epoch == 25 and flag == 0:\n",
        "        #   for op_params in optimizer.param_groups:\n",
        "        #     op_params['lr'] = 0.001\n",
        "        #   flag = 1\n",
        "        if epoch % 40 == 0 and epoch!=0:\n",
        "           schedule_lr = schedule_lr * 0.1\n",
        "           for op_params in optimizer.param_groups:\n",
        "                op_params['lr'] = schedule_lr\n",
        "        # print(schedule_lr)\n",
        "        for i, (images, labels) in enumerate(train_loader):\n",
        "            # Move tensors to configured device\n",
        "            images = images.to(device)\n",
        "            labels = labels.to(device)\n",
        "            #Forward Pass\n",
        "            outputs = model(images)\n",
        "            loss = criterion(outputs, labels)\n",
        "            optimizer.zero_grad()\n",
        "            loss.backward()\n",
        "            running_loss += loss.item()\n",
        "            _, predicted = torch.max(outputs.data, 1)\n",
        "            total += labels.size(0)\n",
        "            correct += (predicted == labels).sum().item()\n",
        "            optimizer.step()\n",
        "            if (i+1) % 1000 == 0:\n",
        "              print ('Epoch [{}/{}], Step [{}/{}], Loss: {:.4f}'.format(epoch+1, epochs, i+1, total_step, loss.item()))\n",
        "            if plot:\n",
        "              info = { ('loss_' + model_name): loss.item() }\n",
        "\n",
        "              # for tag, value in info.items():\n",
        "              #   logger.scalar_summary(tag, value, overall_step+1)\n",
        "        train_loss_values.append(running_loss)\n",
        "        train_error.append(100-100*correct/total)\n",
        "\n",
        "        running_loss = 0.0\n",
        "\n",
        "        model.eval()\n",
        "        with torch.no_grad():\n",
        "            correct = 0\n",
        "            total = 0\n",
        "            for i, (images, labels) in enumerate(test_loader):\n",
        "                images = images.to(device)\n",
        "                labels = labels.to(device)\n",
        "                outputs = model(images)\n",
        "                loss = criterion(outputs, labels)\n",
        "                running_loss += loss.item()\n",
        "                _, predicted = torch.max(outputs.data, 1)\n",
        "                total += labels.size(0)\n",
        "                correct += (predicted == labels).sum().item()\n",
        "\n",
        "        print('Accuracy of the network on the test images: {} %'.format(100 * correct / total))\n",
        "        val_error.append(100-100*correct/total)\n",
        "        val_loss_values.append(running_loss)\n",
        "    return val_error,val_loss_values,train_error,train_loss_values"
      ]
    },
    {
      "cell_type": "code",
      "execution_count": 28,
      "metadata": {
        "colab": {
          "base_uri": "https://localhost:8080/"
        },
        "id": "OTuYfFAS-Qja",
        "outputId": "e426420d-8055-4424-da89-d61e386f9dc8"
      },
      "outputs": [
        {
          "name": "stdout",
          "output_type": "stream",
          "text": [
            "Num parameters:  1667166\n",
            "Epoch [1/100], Step [1000/3125], Loss: 1.9352\n",
            "Epoch [1/100], Step [2000/3125], Loss: 1.5120\n",
            "Epoch [1/100], Step [3000/3125], Loss: 1.1957\n",
            "Accuracy of the network on the test images: 51.93 %\n",
            "Epoch [2/100], Step [1000/3125], Loss: 1.2702\n",
            "Epoch [2/100], Step [2000/3125], Loss: 1.0516\n",
            "Epoch [2/100], Step [3000/3125], Loss: 1.2834\n",
            "Accuracy of the network on the test images: 64.97 %\n",
            "Epoch [3/100], Step [1000/3125], Loss: 1.1534\n",
            "Epoch [3/100], Step [2000/3125], Loss: 1.0696\n",
            "Epoch [3/100], Step [3000/3125], Loss: 0.5838\n",
            "Accuracy of the network on the test images: 73.52 %\n",
            "Epoch [4/100], Step [1000/3125], Loss: 0.6224\n",
            "Epoch [4/100], Step [2000/3125], Loss: 0.7867\n",
            "Epoch [4/100], Step [3000/3125], Loss: 1.0041\n",
            "Accuracy of the network on the test images: 76.08 %\n",
            "Epoch [5/100], Step [1000/3125], Loss: 0.7433\n",
            "Epoch [5/100], Step [2000/3125], Loss: 1.4335\n",
            "Epoch [5/100], Step [3000/3125], Loss: 0.5215\n",
            "Accuracy of the network on the test images: 75.83 %\n",
            "Epoch [6/100], Step [1000/3125], Loss: 0.4450\n",
            "Epoch [6/100], Step [2000/3125], Loss: 1.0055\n",
            "Epoch [6/100], Step [3000/3125], Loss: 0.6811\n",
            "Accuracy of the network on the test images: 79.13 %\n",
            "Epoch [7/100], Step [1000/3125], Loss: 0.4347\n",
            "Epoch [7/100], Step [2000/3125], Loss: 0.5664\n",
            "Epoch [7/100], Step [3000/3125], Loss: 0.4314\n",
            "Accuracy of the network on the test images: 76.91 %\n",
            "Epoch [8/100], Step [1000/3125], Loss: 0.1867\n",
            "Epoch [8/100], Step [2000/3125], Loss: 0.1966\n",
            "Epoch [8/100], Step [3000/3125], Loss: 0.2513\n",
            "Accuracy of the network on the test images: 80.2 %\n",
            "Epoch [9/100], Step [1000/3125], Loss: 0.4837\n",
            "Epoch [9/100], Step [2000/3125], Loss: 0.4254\n",
            "Epoch [9/100], Step [3000/3125], Loss: 0.1016\n",
            "Accuracy of the network on the test images: 79.71 %\n",
            "Epoch [10/100], Step [1000/3125], Loss: 0.5756\n",
            "Epoch [10/100], Step [2000/3125], Loss: 0.2884\n",
            "Epoch [10/100], Step [3000/3125], Loss: 0.3613\n",
            "Accuracy of the network on the test images: 80.54 %\n",
            "Epoch [11/100], Step [1000/3125], Loss: 0.7931\n",
            "Epoch [11/100], Step [2000/3125], Loss: 0.5971\n",
            "Epoch [11/100], Step [3000/3125], Loss: 0.5942\n",
            "Accuracy of the network on the test images: 80.23 %\n",
            "Epoch [12/100], Step [1000/3125], Loss: 0.5994\n",
            "Epoch [12/100], Step [2000/3125], Loss: 0.3117\n",
            "Epoch [12/100], Step [3000/3125], Loss: 0.5725\n",
            "Accuracy of the network on the test images: 77.03 %\n",
            "Epoch [13/100], Step [1000/3125], Loss: 0.2065\n",
            "Epoch [13/100], Step [2000/3125], Loss: 0.3340\n",
            "Epoch [13/100], Step [3000/3125], Loss: 0.3648\n",
            "Accuracy of the network on the test images: 80.56 %\n",
            "Epoch [14/100], Step [1000/3125], Loss: 0.3354\n",
            "Epoch [14/100], Step [2000/3125], Loss: 0.1243\n",
            "Epoch [14/100], Step [3000/3125], Loss: 0.5722\n",
            "Accuracy of the network on the test images: 79.62 %\n",
            "Epoch [15/100], Step [1000/3125], Loss: 0.1335\n",
            "Epoch [15/100], Step [2000/3125], Loss: 0.7077\n",
            "Epoch [15/100], Step [3000/3125], Loss: 0.2801\n",
            "Accuracy of the network on the test images: 77.11 %\n",
            "Epoch [16/100], Step [1000/3125], Loss: 0.2038\n",
            "Epoch [16/100], Step [2000/3125], Loss: 0.3762\n",
            "Epoch [16/100], Step [3000/3125], Loss: 0.5270\n",
            "Accuracy of the network on the test images: 79.69 %\n",
            "Epoch [17/100], Step [1000/3125], Loss: 0.2957\n",
            "Epoch [17/100], Step [2000/3125], Loss: 0.4645\n",
            "Epoch [17/100], Step [3000/3125], Loss: 0.3755\n",
            "Accuracy of the network on the test images: 81.23 %\n",
            "Epoch [18/100], Step [1000/3125], Loss: 0.5358\n",
            "Epoch [18/100], Step [2000/3125], Loss: 0.3959\n",
            "Epoch [18/100], Step [3000/3125], Loss: 0.5833\n",
            "Accuracy of the network on the test images: 82.5 %\n",
            "Epoch [19/100], Step [1000/3125], Loss: 0.6456\n",
            "Epoch [19/100], Step [2000/3125], Loss: 0.5871\n",
            "Epoch [19/100], Step [3000/3125], Loss: 0.1867\n",
            "Accuracy of the network on the test images: 81.24 %\n",
            "Epoch [20/100], Step [1000/3125], Loss: 0.3318\n",
            "Epoch [20/100], Step [2000/3125], Loss: 0.2609\n",
            "Epoch [20/100], Step [3000/3125], Loss: 0.2016\n",
            "Accuracy of the network on the test images: 81.42 %\n",
            "Epoch [21/100], Step [1000/3125], Loss: 0.6470\n",
            "Epoch [21/100], Step [2000/3125], Loss: 0.6240\n",
            "Epoch [21/100], Step [3000/3125], Loss: 0.3482\n",
            "Accuracy of the network on the test images: 81.82 %\n",
            "Epoch [22/100], Step [1000/3125], Loss: 0.6399\n",
            "Epoch [22/100], Step [2000/3125], Loss: 0.9150\n",
            "Epoch [22/100], Step [3000/3125], Loss: 0.4253\n",
            "Accuracy of the network on the test images: 80.94 %\n",
            "Epoch [23/100], Step [1000/3125], Loss: 0.5223\n",
            "Epoch [23/100], Step [2000/3125], Loss: 0.5502\n",
            "Epoch [23/100], Step [3000/3125], Loss: 0.4710\n",
            "Accuracy of the network on the test images: 82.51 %\n",
            "Epoch [24/100], Step [1000/3125], Loss: 0.7755\n",
            "Epoch [24/100], Step [2000/3125], Loss: 0.1025\n",
            "Epoch [24/100], Step [3000/3125], Loss: 0.2222\n",
            "Accuracy of the network on the test images: 78.46 %\n",
            "Epoch [25/100], Step [1000/3125], Loss: 0.3069\n",
            "Epoch [25/100], Step [2000/3125], Loss: 0.0663\n",
            "Epoch [25/100], Step [3000/3125], Loss: 0.3512\n",
            "Accuracy of the network on the test images: 80.46 %\n",
            "Epoch [26/100], Step [1000/3125], Loss: 0.4957\n",
            "Epoch [26/100], Step [2000/3125], Loss: 0.5907\n",
            "Epoch [26/100], Step [3000/3125], Loss: 0.3757\n",
            "Accuracy of the network on the test images: 82.97 %\n",
            "Epoch [27/100], Step [1000/3125], Loss: 0.2246\n",
            "Epoch [27/100], Step [2000/3125], Loss: 0.4306\n",
            "Epoch [27/100], Step [3000/3125], Loss: 0.2753\n",
            "Accuracy of the network on the test images: 82.56 %\n",
            "Epoch [28/100], Step [1000/3125], Loss: 0.7883\n",
            "Epoch [28/100], Step [2000/3125], Loss: 0.5354\n",
            "Epoch [28/100], Step [3000/3125], Loss: 0.2919\n",
            "Accuracy of the network on the test images: 81.78 %\n",
            "Epoch [29/100], Step [1000/3125], Loss: 0.2072\n",
            "Epoch [29/100], Step [2000/3125], Loss: 0.4343\n",
            "Epoch [29/100], Step [3000/3125], Loss: 0.2064\n",
            "Accuracy of the network on the test images: 83.31 %\n",
            "Epoch [30/100], Step [1000/3125], Loss: 0.2975\n",
            "Epoch [30/100], Step [2000/3125], Loss: 0.2172\n",
            "Epoch [30/100], Step [3000/3125], Loss: 0.1050\n",
            "Accuracy of the network on the test images: 83.18 %\n",
            "Epoch [31/100], Step [1000/3125], Loss: 0.2695\n",
            "Epoch [31/100], Step [2000/3125], Loss: 0.1521\n",
            "Epoch [31/100], Step [3000/3125], Loss: 0.3408\n",
            "Accuracy of the network on the test images: 81.75 %\n",
            "Epoch [32/100], Step [1000/3125], Loss: 0.3865\n",
            "Epoch [32/100], Step [2000/3125], Loss: 0.2470\n",
            "Epoch [32/100], Step [3000/3125], Loss: 0.4017\n",
            "Accuracy of the network on the test images: 82.97 %\n",
            "Epoch [33/100], Step [1000/3125], Loss: 0.5684\n",
            "Epoch [33/100], Step [2000/3125], Loss: 0.2451\n",
            "Epoch [33/100], Step [3000/3125], Loss: 0.2834\n",
            "Accuracy of the network on the test images: 82.41 %\n",
            "Epoch [34/100], Step [1000/3125], Loss: 0.2936\n",
            "Epoch [34/100], Step [2000/3125], Loss: 0.1254\n",
            "Epoch [34/100], Step [3000/3125], Loss: 0.0850\n",
            "Accuracy of the network on the test images: 82.02 %\n",
            "Epoch [35/100], Step [1000/3125], Loss: 0.3509\n",
            "Epoch [35/100], Step [2000/3125], Loss: 0.1746\n",
            "Epoch [35/100], Step [3000/3125], Loss: 0.1986\n",
            "Accuracy of the network on the test images: 81.19 %\n",
            "Epoch [36/100], Step [1000/3125], Loss: 0.4848\n",
            "Epoch [36/100], Step [2000/3125], Loss: 0.3351\n",
            "Epoch [36/100], Step [3000/3125], Loss: 0.2794\n",
            "Accuracy of the network on the test images: 82.13 %\n",
            "Epoch [37/100], Step [1000/3125], Loss: 0.2760\n",
            "Epoch [37/100], Step [2000/3125], Loss: 0.0261\n",
            "Epoch [37/100], Step [3000/3125], Loss: 0.0737\n",
            "Accuracy of the network on the test images: 83.57 %\n",
            "Epoch [38/100], Step [1000/3125], Loss: 0.6449\n",
            "Epoch [38/100], Step [2000/3125], Loss: 0.5503\n",
            "Epoch [38/100], Step [3000/3125], Loss: 0.2369\n",
            "Accuracy of the network on the test images: 83.02 %\n",
            "Epoch [39/100], Step [1000/3125], Loss: 0.4617\n",
            "Epoch [39/100], Step [2000/3125], Loss: 0.2467\n",
            "Epoch [39/100], Step [3000/3125], Loss: 0.3119\n",
            "Accuracy of the network on the test images: 81.32 %\n",
            "Epoch [40/100], Step [1000/3125], Loss: 0.2458\n",
            "Epoch [40/100], Step [2000/3125], Loss: 0.2343\n",
            "Epoch [40/100], Step [3000/3125], Loss: 0.3447\n",
            "Accuracy of the network on the test images: 80.14 %\n",
            "Epoch [41/100], Step [1000/3125], Loss: 0.1032\n",
            "Epoch [41/100], Step [2000/3125], Loss: 0.1540\n",
            "Epoch [41/100], Step [3000/3125], Loss: 0.1357\n",
            "Accuracy of the network on the test images: 88.9 %\n",
            "Epoch [42/100], Step [1000/3125], Loss: 0.0195\n",
            "Epoch [42/100], Step [2000/3125], Loss: 0.0263\n",
            "Epoch [42/100], Step [3000/3125], Loss: 0.0090\n",
            "Accuracy of the network on the test images: 89.18 %\n",
            "Epoch [43/100], Step [1000/3125], Loss: 0.0021\n",
            "Epoch [43/100], Step [2000/3125], Loss: 0.0108\n",
            "Epoch [43/100], Step [3000/3125], Loss: 0.0159\n",
            "Accuracy of the network on the test images: 89.19 %\n",
            "Epoch [44/100], Step [1000/3125], Loss: 0.0068\n",
            "Epoch [44/100], Step [2000/3125], Loss: 0.0083\n",
            "Epoch [44/100], Step [3000/3125], Loss: 0.0036\n",
            "Accuracy of the network on the test images: 89.2 %\n",
            "Epoch [45/100], Step [1000/3125], Loss: 0.0365\n",
            "Epoch [45/100], Step [2000/3125], Loss: 0.0038\n",
            "Epoch [45/100], Step [3000/3125], Loss: 0.0026\n",
            "Accuracy of the network on the test images: 89.19 %\n",
            "Epoch [46/100], Step [1000/3125], Loss: 0.0034\n",
            "Epoch [46/100], Step [2000/3125], Loss: 0.0039\n",
            "Epoch [46/100], Step [3000/3125], Loss: 0.0100\n",
            "Accuracy of the network on the test images: 89.07 %\n",
            "Epoch [47/100], Step [1000/3125], Loss: 0.0004\n",
            "Epoch [47/100], Step [2000/3125], Loss: 0.0053\n",
            "Epoch [47/100], Step [3000/3125], Loss: 0.0059\n",
            "Accuracy of the network on the test images: 89.06 %\n",
            "Epoch [48/100], Step [1000/3125], Loss: 0.0028\n",
            "Epoch [48/100], Step [2000/3125], Loss: 0.0004\n",
            "Epoch [48/100], Step [3000/3125], Loss: 0.0000\n",
            "Accuracy of the network on the test images: 89.14 %\n",
            "Epoch [49/100], Step [1000/3125], Loss: 0.0040\n",
            "Epoch [49/100], Step [2000/3125], Loss: 0.0027\n",
            "Epoch [49/100], Step [3000/3125], Loss: 0.0126\n",
            "Accuracy of the network on the test images: 89.12 %\n",
            "Epoch [50/100], Step [1000/3125], Loss: 0.0042\n",
            "Epoch [50/100], Step [2000/3125], Loss: 0.0087\n",
            "Epoch [50/100], Step [3000/3125], Loss: 0.0009\n",
            "Accuracy of the network on the test images: 89.1 %\n",
            "Epoch [51/100], Step [1000/3125], Loss: 0.0107\n",
            "Epoch [51/100], Step [2000/3125], Loss: 0.0006\n",
            "Epoch [51/100], Step [3000/3125], Loss: 0.0008\n",
            "Accuracy of the network on the test images: 88.89 %\n",
            "Epoch [52/100], Step [1000/3125], Loss: 0.0001\n",
            "Epoch [52/100], Step [2000/3125], Loss: 0.0083\n",
            "Epoch [52/100], Step [3000/3125], Loss: 0.0008\n",
            "Accuracy of the network on the test images: 88.89 %\n",
            "Epoch [53/100], Step [1000/3125], Loss: 0.0070\n",
            "Epoch [53/100], Step [2000/3125], Loss: 0.0025\n",
            "Epoch [53/100], Step [3000/3125], Loss: 0.0047\n",
            "Accuracy of the network on the test images: 88.75 %\n",
            "Epoch [54/100], Step [1000/3125], Loss: 0.0021\n",
            "Epoch [54/100], Step [2000/3125], Loss: 0.0042\n",
            "Epoch [54/100], Step [3000/3125], Loss: 0.0085\n",
            "Accuracy of the network on the test images: 88.85 %\n",
            "Epoch [55/100], Step [1000/3125], Loss: 0.0064\n",
            "Epoch [55/100], Step [2000/3125], Loss: 0.0059\n",
            "Epoch [55/100], Step [3000/3125], Loss: 0.0002\n",
            "Accuracy of the network on the test images: 88.66 %\n",
            "Epoch [56/100], Step [1000/3125], Loss: 0.0008\n",
            "Epoch [56/100], Step [2000/3125], Loss: 0.0060\n",
            "Epoch [56/100], Step [3000/3125], Loss: 0.0113\n",
            "Accuracy of the network on the test images: 88.69 %\n",
            "Epoch [57/100], Step [1000/3125], Loss: 0.0069\n",
            "Epoch [57/100], Step [2000/3125], Loss: 0.0012\n",
            "Epoch [57/100], Step [3000/3125], Loss: 0.0052\n",
            "Accuracy of the network on the test images: 88.75 %\n",
            "Epoch [58/100], Step [1000/3125], Loss: 0.0057\n",
            "Epoch [58/100], Step [2000/3125], Loss: 0.0032\n",
            "Epoch [58/100], Step [3000/3125], Loss: 0.0039\n",
            "Accuracy of the network on the test images: 88.46 %\n",
            "Epoch [59/100], Step [1000/3125], Loss: 0.0043\n",
            "Epoch [59/100], Step [2000/3125], Loss: 0.0089\n",
            "Epoch [59/100], Step [3000/3125], Loss: 0.0036\n",
            "Accuracy of the network on the test images: 88.6 %\n",
            "Epoch [60/100], Step [1000/3125], Loss: 0.0077\n",
            "Epoch [60/100], Step [2000/3125], Loss: 0.0030\n",
            "Epoch [60/100], Step [3000/3125], Loss: 0.0195\n",
            "Accuracy of the network on the test images: 88.55 %\n",
            "Epoch [61/100], Step [1000/3125], Loss: 0.0001\n",
            "Epoch [61/100], Step [2000/3125], Loss: 0.0071\n",
            "Epoch [61/100], Step [3000/3125], Loss: 0.0513\n",
            "Accuracy of the network on the test images: 87.85 %\n",
            "Epoch [62/100], Step [1000/3125], Loss: 0.0032\n",
            "Epoch [62/100], Step [2000/3125], Loss: 0.0035\n",
            "Epoch [62/100], Step [3000/3125], Loss: 0.0660\n",
            "Accuracy of the network on the test images: 87.45 %\n",
            "Epoch [63/100], Step [1000/3125], Loss: 0.0047\n",
            "Epoch [63/100], Step [2000/3125], Loss: 0.0088\n",
            "Epoch [63/100], Step [3000/3125], Loss: 0.0047\n",
            "Accuracy of the network on the test images: 87.1 %\n",
            "Epoch [64/100], Step [1000/3125], Loss: 0.0041\n",
            "Epoch [64/100], Step [2000/3125], Loss: 0.0185\n",
            "Epoch [64/100], Step [3000/3125], Loss: 0.0002\n",
            "Accuracy of the network on the test images: 88.38 %\n",
            "Epoch [65/100], Step [1000/3125], Loss: 0.0022\n",
            "Epoch [65/100], Step [2000/3125], Loss: 0.0059\n",
            "Epoch [65/100], Step [3000/3125], Loss: 0.0005\n",
            "Accuracy of the network on the test images: 88.09 %\n",
            "Epoch [66/100], Step [1000/3125], Loss: 0.0048\n",
            "Epoch [66/100], Step [2000/3125], Loss: 0.0100\n",
            "Epoch [66/100], Step [3000/3125], Loss: 0.0015\n",
            "Accuracy of the network on the test images: 87.55 %\n",
            "Epoch [67/100], Step [1000/3125], Loss: 0.0013\n",
            "Epoch [67/100], Step [2000/3125], Loss: 0.0161\n",
            "Epoch [67/100], Step [3000/3125], Loss: 0.0313\n",
            "Accuracy of the network on the test images: 87.81 %\n",
            "Epoch [68/100], Step [1000/3125], Loss: 0.0024\n",
            "Epoch [68/100], Step [2000/3125], Loss: 0.0024\n",
            "Epoch [68/100], Step [3000/3125], Loss: 0.0306\n",
            "Accuracy of the network on the test images: 87.95 %\n",
            "Epoch [69/100], Step [1000/3125], Loss: 0.0083\n",
            "Epoch [69/100], Step [2000/3125], Loss: 0.0202\n",
            "Epoch [69/100], Step [3000/3125], Loss: 0.0012\n",
            "Accuracy of the network on the test images: 86.99 %\n",
            "Epoch [70/100], Step [1000/3125], Loss: 0.0021\n",
            "Epoch [70/100], Step [2000/3125], Loss: 0.0047\n",
            "Epoch [70/100], Step [3000/3125], Loss: 0.0027\n",
            "Accuracy of the network on the test images: 87.27 %\n",
            "Epoch [71/100], Step [1000/3125], Loss: 0.0872\n",
            "Epoch [71/100], Step [2000/3125], Loss: 0.0027\n",
            "Epoch [71/100], Step [3000/3125], Loss: 0.0150\n",
            "Accuracy of the network on the test images: 87.22 %\n",
            "Epoch [72/100], Step [1000/3125], Loss: 0.0121\n",
            "Epoch [72/100], Step [2000/3125], Loss: 0.0077\n",
            "Epoch [72/100], Step [3000/3125], Loss: 0.3000\n",
            "Accuracy of the network on the test images: 87.26 %\n",
            "Epoch [73/100], Step [1000/3125], Loss: 0.0091\n",
            "Epoch [73/100], Step [2000/3125], Loss: 0.0223\n",
            "Epoch [73/100], Step [3000/3125], Loss: 0.0216\n",
            "Accuracy of the network on the test images: 88.1 %\n",
            "Epoch [74/100], Step [1000/3125], Loss: 0.0021\n",
            "Epoch [74/100], Step [2000/3125], Loss: 0.0045\n",
            "Epoch [74/100], Step [3000/3125], Loss: 0.0013\n",
            "Accuracy of the network on the test images: 86.85 %\n",
            "Epoch [75/100], Step [1000/3125], Loss: 0.0005\n",
            "Epoch [75/100], Step [2000/3125], Loss: 0.0066\n",
            "Epoch [75/100], Step [3000/3125], Loss: 0.0010\n",
            "Accuracy of the network on the test images: 88.4 %\n",
            "Epoch [76/100], Step [1000/3125], Loss: 0.0012\n",
            "Epoch [76/100], Step [2000/3125], Loss: 0.0023\n",
            "Epoch [76/100], Step [3000/3125], Loss: 0.0084\n",
            "Accuracy of the network on the test images: 86.94 %\n",
            "Epoch [77/100], Step [1000/3125], Loss: 0.0138\n",
            "Epoch [77/100], Step [2000/3125], Loss: 0.0037\n",
            "Epoch [77/100], Step [3000/3125], Loss: 0.0250\n",
            "Accuracy of the network on the test images: 85.78 %\n",
            "Epoch [78/100], Step [1000/3125], Loss: 0.0034\n",
            "Epoch [78/100], Step [2000/3125], Loss: 0.0117\n",
            "Epoch [78/100], Step [3000/3125], Loss: 0.0787\n",
            "Accuracy of the network on the test images: 85.56 %\n",
            "Epoch [79/100], Step [1000/3125], Loss: 0.0097\n",
            "Epoch [79/100], Step [2000/3125], Loss: 0.0809\n",
            "Epoch [79/100], Step [3000/3125], Loss: 0.0127\n",
            "Accuracy of the network on the test images: 87.18 %\n",
            "Epoch [80/100], Step [1000/3125], Loss: 0.0042\n",
            "Epoch [80/100], Step [2000/3125], Loss: 0.0462\n",
            "Epoch [80/100], Step [3000/3125], Loss: 0.0163\n",
            "Accuracy of the network on the test images: 85.09 %\n",
            "Epoch [81/100], Step [1000/3125], Loss: 0.0004\n",
            "Epoch [81/100], Step [2000/3125], Loss: 0.0008\n",
            "Epoch [81/100], Step [3000/3125], Loss: 0.0007\n",
            "Accuracy of the network on the test images: 88.23 %\n",
            "Epoch [82/100], Step [1000/3125], Loss: 0.0048\n",
            "Epoch [82/100], Step [2000/3125], Loss: 0.0040\n",
            "Epoch [82/100], Step [3000/3125], Loss: 0.0034\n",
            "Accuracy of the network on the test images: 88.35 %\n",
            "Epoch [83/100], Step [1000/3125], Loss: 0.0015\n",
            "Epoch [83/100], Step [2000/3125], Loss: 0.0027\n",
            "Epoch [83/100], Step [3000/3125], Loss: 0.0005\n",
            "Accuracy of the network on the test images: 88.5 %\n",
            "Epoch [84/100], Step [1000/3125], Loss: 0.0000\n",
            "Epoch [84/100], Step [2000/3125], Loss: 0.0029\n",
            "Epoch [84/100], Step [3000/3125], Loss: 0.0002\n",
            "Accuracy of the network on the test images: 88.56 %\n",
            "Epoch [85/100], Step [1000/3125], Loss: 0.0053\n",
            "Epoch [85/100], Step [2000/3125], Loss: 0.0009\n",
            "Epoch [85/100], Step [3000/3125], Loss: 0.0012\n",
            "Accuracy of the network on the test images: 88.58 %\n",
            "Epoch [86/100], Step [1000/3125], Loss: 0.0001\n",
            "Epoch [86/100], Step [2000/3125], Loss: 0.0005\n",
            "Epoch [86/100], Step [3000/3125], Loss: 0.0017\n",
            "Accuracy of the network on the test images: 88.41 %\n",
            "Epoch [87/100], Step [1000/3125], Loss: 0.0011\n",
            "Epoch [87/100], Step [2000/3125], Loss: 0.0021\n",
            "Epoch [87/100], Step [3000/3125], Loss: 0.0026\n",
            "Accuracy of the network on the test images: 88.43 %\n",
            "Epoch [88/100], Step [1000/3125], Loss: 0.0010\n",
            "Epoch [88/100], Step [2000/3125], Loss: 0.0012\n",
            "Epoch [88/100], Step [3000/3125], Loss: 0.0016\n",
            "Accuracy of the network on the test images: 88.51 %\n",
            "Epoch [89/100], Step [1000/3125], Loss: 0.0017\n",
            "Epoch [89/100], Step [2000/3125], Loss: 0.0020\n",
            "Epoch [89/100], Step [3000/3125], Loss: 0.0027\n",
            "Accuracy of the network on the test images: 88.44 %\n",
            "Epoch [90/100], Step [1000/3125], Loss: 0.0014\n",
            "Epoch [90/100], Step [2000/3125], Loss: 0.0024\n",
            "Epoch [90/100], Step [3000/3125], Loss: 0.0010\n",
            "Accuracy of the network on the test images: 88.49 %\n",
            "Epoch [91/100], Step [1000/3125], Loss: 0.0006\n",
            "Epoch [91/100], Step [2000/3125], Loss: 0.0001\n",
            "Epoch [91/100], Step [3000/3125], Loss: 0.0002\n",
            "Accuracy of the network on the test images: 88.52 %\n",
            "Epoch [92/100], Step [1000/3125], Loss: 0.0004\n",
            "Epoch [92/100], Step [2000/3125], Loss: 0.0011\n",
            "Epoch [92/100], Step [3000/3125], Loss: 0.0002\n",
            "Accuracy of the network on the test images: 88.48 %\n",
            "Epoch [93/100], Step [1000/3125], Loss: 0.0013\n",
            "Epoch [93/100], Step [2000/3125], Loss: 0.0037\n",
            "Epoch [93/100], Step [3000/3125], Loss: 0.0019\n",
            "Accuracy of the network on the test images: 88.41 %\n",
            "Epoch [94/100], Step [1000/3125], Loss: 0.0007\n",
            "Epoch [94/100], Step [2000/3125], Loss: 0.0012\n",
            "Epoch [94/100], Step [3000/3125], Loss: 0.0008\n",
            "Accuracy of the network on the test images: 88.5 %\n",
            "Epoch [95/100], Step [1000/3125], Loss: 0.0010\n",
            "Epoch [95/100], Step [2000/3125], Loss: 0.0020\n",
            "Epoch [95/100], Step [3000/3125], Loss: 0.0015\n",
            "Accuracy of the network on the test images: 88.45 %\n",
            "Epoch [96/100], Step [1000/3125], Loss: 0.0016\n",
            "Epoch [96/100], Step [2000/3125], Loss: 0.0023\n",
            "Epoch [96/100], Step [3000/3125], Loss: 0.0044\n",
            "Accuracy of the network on the test images: 88.45 %\n",
            "Epoch [97/100], Step [1000/3125], Loss: 0.0014\n",
            "Epoch [97/100], Step [2000/3125], Loss: 0.0010\n",
            "Epoch [97/100], Step [3000/3125], Loss: 0.0041\n",
            "Accuracy of the network on the test images: 88.46 %\n",
            "Epoch [98/100], Step [1000/3125], Loss: 0.0031\n",
            "Epoch [98/100], Step [2000/3125], Loss: 0.0019\n",
            "Epoch [98/100], Step [3000/3125], Loss: 0.0001\n",
            "Accuracy of the network on the test images: 88.38 %\n",
            "Epoch [99/100], Step [1000/3125], Loss: 0.0013\n",
            "Epoch [99/100], Step [2000/3125], Loss: 0.0002\n",
            "Epoch [99/100], Step [3000/3125], Loss: 0.0008\n",
            "Accuracy of the network on the test images: 88.38 %\n",
            "Epoch [100/100], Step [1000/3125], Loss: 0.0024\n",
            "Epoch [100/100], Step [2000/3125], Loss: 0.0003\n",
            "Epoch [100/100], Step [3000/3125], Loss: 0.0035\n",
            "Accuracy of the network on the test images: 88.36 %\n"
          ]
        }
      ],
      "source": [
        "model = allcnn_t().to(device)\n",
        "epochs = 100\n",
        "criterion = nn.CrossEntropyLoss()\n",
        "optimizer = optim.SGD(model.parameters(), lr=0.1, momentum=0.9, weight_decay=0.0001, nesterov=True)\n",
        "val_error,val_loss_values,train_error,train_loss_values= train(model, optimizer, criterion, trainloader, testloader, epochs, 'cnn_curve', True)"
      ]
    },
    {
      "cell_type": "code",
      "execution_count": 29,
      "metadata": {
        "id": "vS5axAvF-Qja"
      },
      "outputs": [],
      "source": [
        "#torch.save(model, './Intital_hw2_p3_model/model3_100epoch_40lr_1e4wt.pt')\n",
        "torch.save(model, 'model4_100epoch_40lr_1e4wt.pt')"
      ]
    },
    {
      "cell_type": "code",
      "execution_count": 30,
      "metadata": {
        "id": "WBbGSV10BAMh"
      },
      "outputs": [],
      "source": [
        "## saving these for plotting val_error,val_loss_values,train_error,train_loss_values\n",
        "import numpy as np\n",
        "np.save('val_error4.npy', np.array(val_error))\n",
        "np.save('val_loss_values4.npy', np.array(val_loss_values))\n",
        "np.save('train_error4.npy', np.array(train_error))\n",
        "np.save('train_loss_values4.npy', np.array(train_loss_values))"
      ]
    },
    {
      "cell_type": "code",
      "execution_count": 31,
      "metadata": {
        "colab": {
          "base_uri": "https://localhost:8080/"
        },
        "id": "1LIELRZWV3l4",
        "outputId": "41e883b3-dd9e-4bc7-c9d0-1c72a6f5c407"
      },
      "outputs": [
        {
          "data": {
            "text/plain": [
              "(0.0, 59.788)"
            ]
          },
          "execution_count": 31,
          "metadata": {},
          "output_type": "execute_result"
        }
      ],
      "source": [
        "np.array(train_error).min(), np.array(train_error).max()"
      ]
    },
    {
      "cell_type": "code",
      "execution_count": 32,
      "metadata": {
        "colab": {
          "base_uri": "https://localhost:8080/"
        },
        "id": "pEHfsXFZV8ME",
        "outputId": "b8d28120-d286-4204-df2d-940d1de77dfd"
      },
      "outputs": [
        {
          "data": {
            "text/plain": [
              "(10.799999999999997, 48.07)"
            ]
          },
          "execution_count": 32,
          "metadata": {},
          "output_type": "execute_result"
        }
      ],
      "source": [
        "np.array(val_error).min(), np.array(val_error).max()"
      ]
    },
    {
      "cell_type": "code",
      "execution_count": 33,
      "metadata": {
        "colab": {
          "base_uri": "https://localhost:8080/",
          "height": 448
        },
        "id": "uZDQ2knyV9r4",
        "outputId": "ea4dbc89-f77d-452c-f251-5d30b06e243c"
      },
      "outputs": [
        {
          "data": {
            "text/plain": [
              "[<matplotlib.lines.Line2D at 0x7b8fe6a3f2e0>]"
            ]
          },
          "execution_count": 33,
          "metadata": {},
          "output_type": "execute_result"
        },
        {
          "data": {
            "image/png": "[encoded data removed]",
            "text/plain": [
              "<Figure size 640x480 with 1 Axes>"
            ]
          },
          "metadata": {},
          "output_type": "display_data"
        }
      ],
      "source": [
        "plt.plot(train_error)"
      ]
    },
    {
      "cell_type": "code",
      "execution_count": 34,
      "metadata": {
        "colab": {
          "base_uri": "https://localhost:8080/",
          "height": 448
        },
        "id": "EuLYUAQxWAWB",
        "outputId": "8440de9d-23ab-4ef2-8fa7-cead531ba7d1"
      },
      "outputs": [
        {
          "data": {
            "text/plain": [
              "[<matplotlib.lines.Line2D at 0x7b8fe68c8700>]"
            ]
          },
          "execution_count": 34,
          "metadata": {},
          "output_type": "execute_result"
        },
        {
          "data": {
            "image/png": "[encoded data removed]",
            "text/plain": [
              "<Figure size 640x480 with 1 Axes>"
            ]
          },
          "metadata": {},
          "output_type": "display_data"
        }
      ],
      "source": [
        "plt.plot(train_loss_values)"
      ]
    },
    {
      "cell_type": "code",
      "execution_count": 35,
      "metadata": {
        "colab": {
          "base_uri": "https://localhost:8080/",
          "height": 448
        },
        "id": "SMHY9csRWCmk",
        "outputId": "b18fc1aa-7d61-463d-f44c-8a17d62d8b97"
      },
      "outputs": [
        {
          "data": {
            "text/plain": [
              "[<matplotlib.lines.Line2D at 0x7b8fe6925ab0>]"
            ]
          },
          "execution_count": 35,
          "metadata": {},
          "output_type": "execute_result"
        },
        {
          "data": {
            "image/png": "[encoded data removed]",
            "text/plain": [
              "<Figure size 640x480 with 1 Axes>"
            ]
          },
          "metadata": {},
          "output_type": "display_data"
        }
      ],
      "source": [
        "plt.plot(val_error)"
      ]
    },
    {
      "cell_type": "code",
      "execution_count": 36,
      "metadata": {
        "colab": {
          "base_uri": "https://localhost:8080/",
          "height": 448
        },
        "id": "DyLOy0XMWFDZ",
        "outputId": "5c7e4d8f-4a54-43ca-f3ec-2b1b1dce8b7d"
      },
      "outputs": [
        {
          "data": {
            "text/plain": [
              "[<matplotlib.lines.Line2D at 0x7b8fe678baf0>]"
            ]
          },
          "execution_count": 36,
          "metadata": {},
          "output_type": "execute_result"
        },
        {
          "data": {
            "image/png": "[encoded data removed]",
            "text/plain": [
              "<Figure size 640x480 with 1 Axes>"
            ]
          },
          "metadata": {},
          "output_type": "display_data"
        }
      ],
      "source": [
        "plt.plot(val_loss_values)"
      ]
    },
    {
      "cell_type": "code",
      "execution_count": null,
      "metadata": {
        "id": "jSd-7cYjWJBv"
      },
      "outputs": [],
      "source": []
    },
    {
      "cell_type": "code",
      "execution_count": null,
      "metadata": {
        "id": "RFLlwJ8aSCLS"
      },
      "outputs": [],
      "source": [
        "final_model = torch.load('model4_100epoch_40lr_1e4wt.pt') ## checking if the model got stored\n",
        "for parameter in final_model.parameters():\n",
        "    print(parameter)"
      ]
    },
    {
      "cell_type": "code",
      "execution_count": 38,
      "metadata": {
        "colab": {
          "base_uri": "https://localhost:8080/"
        },
        "id": "xtcxrr5pSRDq",
        "outputId": "3b1c0c24-fd74-4e08-b1b0-7366cd4483c3"
      },
      "outputs": [
        {
          "data": {
            "text/plain": [
              "(10.799999999999997, 48.07)"
            ]
          },
          "execution_count": 38,
          "metadata": {},
          "output_type": "execute_result"
        }
      ],
      "source": [
        "np.array(np.load('val_error4.npy')).min(), np.array(np.load('val_error4.npy')).max() ## checking if losses and error got stored"
      ]
    },
    {
      "cell_type": "markdown",
      "metadata": {
        "id": "12gENzeiQXuD"
      },
      "source": [
        "### Part 3.b."
      ]
    },
    {
      "cell_type": "code",
      "execution_count": 76,
      "metadata": {
        "id": "TZjM4An6noR4"
      },
      "outputs": [],
      "source": [
        "valloader_perturb = torch.utils.data.DataLoader(testset, batch_size=100,\n",
        "                                          shuffle=True)"
      ]
    },
    {
      "cell_type": "code",
      "execution_count": 78,
      "metadata": {
        "colab": {
          "base_uri": "https://localhost:8080/"
        },
        "id": "kr42AwQkoTFL",
        "outputId": "8eb0e77b-b648-4c92-8e7c-8fa65caec6ff"
      },
      "outputs": [
        {
          "name": "stdout",
          "output_type": "stream",
          "text": [
            "100\n"
          ]
        }
      ],
      "source": [
        "images, labels = next(iter(valloader_perturb))\n",
        "print(len(labels))"
      ]
    },
    {
      "cell_type": "code",
      "execution_count": 79,
      "metadata": {
        "id": "lJB62KBioWcU"
      },
      "outputs": [],
      "source": [
        "criterion = nn.CrossEntropyLoss()\n",
        "optimizer = optim.SGD(final_model.parameters(), lr=0.1, momentum=0.9, weight_decay=0.0001, nesterov=True)"
      ]
    },
    {
      "cell_type": "code",
      "execution_count": 80,
      "metadata": {
        "id": "I_1UqUeuoYcY"
      },
      "outputs": [],
      "source": [
        "# Move tensors to configured device\n",
        "images = images.to(device)\n",
        "labels = labels.to(device)\n",
        "#Forward Pass\n",
        "images.requires_grad_()\n",
        "outputs = final_model(images)\n",
        "loss = criterion(outputs, labels)\n",
        "optimizer.zero_grad()\n",
        "loss.backward()\n",
        "dx = images.grad.data.clone()"
      ]
    },
    {
      "cell_type": "code",
      "execution_count": 81,
      "metadata": {
        "id": "Mf0pKDRKoZjd"
      },
      "outputs": [],
      "source": [
        "_, predicted = torch.max(outputs.data, 1)"
      ]
    },
    {
      "cell_type": "code",
      "execution_count": 82,
      "metadata": {
        "colab": {
          "base_uri": "https://localhost:8080/"
        },
        "id": "e4znAB3QocVE",
        "outputId": "59e0e8c9-e76a-4825-97f3-d43d3d9c4025"
      },
      "outputs": [
        {
          "data": {
            "text/plain": [
              "(87, 13)"
            ]
          },
          "execution_count": 82,
          "metadata": {},
          "output_type": "execute_result"
        }
      ],
      "source": [
        "pred_np = predicted.cpu().numpy()\n",
        "labels_np = labels.cpu().numpy()\n",
        "correct_list =  np.argwhere(pred_np==labels_np)\n",
        "incorrect_list = np.argwhere(pred_np!=labels_np)\n",
        "len(correct_list), len(incorrect_list)"
      ]
    },
    {
      "cell_type": "code",
      "execution_count": 61,
      "metadata": {
        "colab": {
          "base_uri": "https://localhost:8080/"
        },
        "id": "WAuKhLhyosJs",
        "outputId": "8331186f-9742-41af-9b62-c4539f4e8ad1"
      },
      "outputs": [
        {
          "data": {
            "text/plain": [
              "(100, 3, 32, 32)"
            ]
          },
          "execution_count": 61,
          "metadata": {},
          "output_type": "execute_result"
        }
      ],
      "source": [
        "grad_images = dx.cpu().detach().numpy()\n",
        "grad_images.shape"
      ]
    },
    {
      "cell_type": "code",
      "execution_count": 87,
      "metadata": {
        "colab": {
          "base_uri": "https://localhost:8080/"
        },
        "id": "-bJX4e10xViq",
        "outputId": "b46c4a81-3f60-45e8-f61f-c8065dfa8a12"
      },
      "outputs": [
        {
          "data": {
            "text/plain": [
              "array([[[-2.2954197e-07, -3.6932423e-07, -5.3539776e-07, ...,\n",
              "         -2.4761562e-06, -2.1135188e-06,  1.0691587e-06],\n",
              "        [-3.0954146e-07,  5.5469638e-07,  3.4660695e-07, ...,\n",
              "          8.0297281e-07,  3.4435952e-06, -3.0790754e-06],\n",
              "        [-3.6810181e-07,  5.2060255e-07, -1.3039865e-07, ...,\n",
              "         -1.5888264e-07,  1.2268226e-06, -4.3964569e-06],\n",
              "        ...,\n",
              "        [-9.4273213e-07,  1.3156865e-06, -8.5363638e-07, ...,\n",
              "         -3.5474909e-07,  2.7809955e-07,  5.4960253e-08],\n",
              "        [ 4.5706034e-07,  8.7817671e-07, -1.8635291e-07, ...,\n",
              "         -3.1044780e-07,  1.5510227e-07, -1.1233990e-08],\n",
              "        [-6.2467080e-07, -2.3304196e-08,  1.0674343e-06, ...,\n",
              "          7.2952723e-08,  5.2107740e-08, -1.7199664e-09]],\n",
              "\n",
              "       [[-2.1403960e-07, -2.5057659e-07, -3.0784571e-07, ...,\n",
              "         -1.5302224e-06, -1.8854701e-06,  6.6390862e-07],\n",
              "        [-2.5065205e-07,  8.5156319e-07,  1.0004476e-06, ...,\n",
              "          2.4340586e-06,  4.6497303e-06, -3.1669676e-06],\n",
              "        [-6.1819247e-07,  3.7551226e-07,  3.4032769e-07, ...,\n",
              "          3.7368802e-06,  3.9146266e-06, -4.0780401e-06],\n",
              "        ...,\n",
              "        [-3.2315060e-07,  1.3830135e-06, -2.1401559e-06, ...,\n",
              "         -3.3430717e-07,  1.8087816e-07,  1.4395951e-09],\n",
              "        [ 6.5450683e-07,  6.2982525e-07, -9.6400754e-07, ...,\n",
              "         -3.2977266e-07,  7.8082351e-08, -9.3703925e-08],\n",
              "        [-6.6082623e-07, -3.1448161e-07,  5.8566650e-07, ...,\n",
              "          3.9216292e-08,  3.9210718e-08, -2.4782336e-08]],\n",
              "\n",
              "       [[-9.0032344e-08, -2.0353683e-07, -2.7939336e-07, ...,\n",
              "         -9.6816643e-07, -1.9313734e-06,  7.2374678e-07],\n",
              "        [-1.5739408e-07,  5.3990641e-07,  7.4505084e-07, ...,\n",
              "          1.4843168e-06,  3.2630057e-06, -2.2413853e-06],\n",
              "        [-5.3466761e-07, -8.2798849e-08, -1.2968908e-08, ...,\n",
              "          3.0297933e-06,  4.1632402e-06, -3.3703741e-06],\n",
              "        ...,\n",
              "        [-3.9511789e-07,  1.1656689e-06, -1.6192367e-06, ...,\n",
              "         -1.2303481e-07,  2.0187602e-07,  5.0098123e-08],\n",
              "        [ 4.7322519e-07,  4.3565632e-07, -1.0866084e-06, ...,\n",
              "         -2.9128140e-07,  1.0320810e-07, -3.6504392e-08],\n",
              "        [-5.3968245e-07, -4.1571397e-07,  1.9954508e-07, ...,\n",
              "          1.6826192e-08,  4.7992291e-08,  1.0344094e-08]]], dtype=float32)"
            ]
          },
          "execution_count": 87,
          "metadata": {},
          "output_type": "execute_result"
        }
      ],
      "source": [
        "grad_images[0]"
      ]
    },
    {
      "cell_type": "code",
      "execution_count": 108,
      "metadata": {
        "id": "F5QS4Bz7vQRo"
      },
      "outputs": [],
      "source": [
        "from sklearn.preprocessing import StandardScaler\n",
        "scaler = StandardScaler()"
      ]
    },
    {
      "cell_type": "code",
      "execution_count": 101,
      "metadata": {
        "colab": {
          "base_uri": "https://localhost:8080/"
        },
        "id": "QSrpGZPwyAJU",
        "outputId": "08b71f69-f076-4e86-b13c-d8ecb5bf25d1"
      },
      "outputs": [
        {
          "data": {
            "text/plain": [
              "1.0"
            ]
          },
          "execution_count": 101,
          "metadata": {},
          "output_type": "execute_result"
        }
      ],
      "source": [
        "np.squeeze(scaler.fit_transform(grad_images_transformed[0].T.flatten().reshape((-1,1)))).reshape((32,32,3)).max()"
      ]
    },
    {
      "cell_type": "code",
      "execution_count": 109,
      "metadata": {
        "colab": {
          "base_uri": "https://localhost:8080/"
        },
        "id": "sWUS-PdKxYmO",
        "outputId": "0a50ff4e-54f2-4257-93d6-c514177430ca"
      },
      "outputs": [
        {
          "data": {
            "text/plain": [
              "0.4530796"
            ]
          },
          "execution_count": 109,
          "metadata": {},
          "output_type": "execute_result"
        }
      ],
      "source": [
        "grad_images_transformed[0].max()"
      ]
    },
    {
      "cell_type": "code",
      "execution_count": 115,
      "metadata": {
        "colab": {
          "base_uri": "https://localhost:8080/",
          "height": 1000
        },
        "id": "zuSBULZ_pKl2",
        "outputId": "0ed756b5-ef27-4ba3-fbf1-946444903abb"
      },
      "outputs": [
        {
          "name": "stderr",
          "output_type": "stream",
          "text": [
            "WARNING:matplotlib.image:Clipping input data to the valid range for imshow with RGB data ([0..1] for floats or [0..255] for integers).\n",
            "WARNING:matplotlib.image:Clipping input data to the valid range for imshow with RGB data ([0..1] for floats or [0..255] for integers).\n",
            "WARNING:matplotlib.image:Clipping input data to the valid range for imshow with RGB data ([0..1] for floats or [0..255] for integers).\n",
            "WARNING:matplotlib.image:Clipping input data to the valid range for imshow with RGB data ([0..1] for floats or [0..255] for integers).\n",
            "WARNING:matplotlib.image:Clipping input data to the valid range for imshow with RGB data ([0..1] for floats or [0..255] for integers).\n",
            "WARNING:matplotlib.image:Clipping input data to the valid range for imshow with RGB data ([0..1] for floats or [0..255] for integers).\n",
            "WARNING:matplotlib.image:Clipping input data to the valid range for imshow with RGB data ([0..1] for floats or [0..255] for integers).\n",
            "WARNING:matplotlib.image:Clipping input data to the valid range for imshow with RGB data ([0..1] for floats or [0..255] for integers).\n",
            "WARNING:matplotlib.image:Clipping input data to the valid range for imshow with RGB data ([0..1] for floats or [0..255] for integers).\n",
            "WARNING:matplotlib.image:Clipping input data to the valid range for imshow with RGB data ([0..1] for floats or [0..255] for integers).\n",
            "WARNING:matplotlib.image:Clipping input data to the valid range for imshow with RGB data ([0..1] for floats or [0..255] for integers).\n",
            "WARNING:matplotlib.image:Clipping input data to the valid range for imshow with RGB data ([0..1] for floats or [0..255] for integers).\n",
            "WARNING:matplotlib.image:Clipping input data to the valid range for imshow with RGB data ([0..1] for floats or [0..255] for integers).\n",
            "WARNING:matplotlib.image:Clipping input data to the valid range for imshow with RGB data ([0..1] for floats or [0..255] for integers).\n",
            "WARNING:matplotlib.image:Clipping input data to the valid range for imshow with RGB data ([0..1] for floats or [0..255] for integers).\n",
            "WARNING:matplotlib.image:Clipping input data to the valid range for imshow with RGB data ([0..1] for floats or [0..255] for integers).\n",
            "WARNING:matplotlib.image:Clipping input data to the valid range for imshow with RGB data ([0..1] for floats or [0..255] for integers).\n",
            "WARNING:matplotlib.image:Clipping input data to the valid range for imshow with RGB data ([0..1] for floats or [0..255] for integers).\n",
            "WARNING:matplotlib.image:Clipping input data to the valid range for imshow with RGB data ([0..1] for floats or [0..255] for integers).\n",
            "WARNING:matplotlib.image:Clipping input data to the valid range for imshow with RGB data ([0..1] for floats or [0..255] for integers).\n"
          ]
        },
        {
          "name": "stdout",
          "output_type": "stream",
          "text": [
            "(32, 32, 3)\n",
            "(32, 32, 3)\n",
            "(32, 32, 3)\n",
            "(32, 32, 3)\n",
            "(32, 32, 3)\n",
            "(32, 32, 3)\n",
            "(32, 32, 3)\n",
            "(32, 32, 3)\n",
            "(32, 32, 3)\n",
            "(32, 32, 3)\n"
          ]
        },
        {
          "data": {
            "image/png": "[encoded data removed]",
            "text/plain": [
              "<Figure size 1200x1000 with 20 Axes>"
            ]
          },
          "metadata": {},
          "output_type": "display_data"
        }
      ],
      "source": [
        "import matplotlib.pyplot as plt\n",
        "import numpy as np\n",
        "\n",
        "# Create some data for plotting\n",
        "x = np.linspace(0, 2 * np.pi, 100)\n",
        "y = np.sin(x)\n",
        "\n",
        "# Create a 5x4 grid of subplots\n",
        "fig, axes = plt.subplots(5, 4, figsize=(12, 10))\n",
        "\n",
        "# Loop to populate each subplot with data\n",
        "for i in range(5):\n",
        "    for j in range(2):\n",
        "        ax = axes[i, j]\n",
        "        print(np.squeeze(grad_images_transformed[incorrect_list[(i*2)+j]]).T.shape)\n",
        "        ax.imshow((np.squeeze(scaler.fit_transform(grad_images[incorrect_list[(i*2)+j]].T.flatten().reshape((-1,1)))).reshape((32,32,3))*255).astype(int))\n",
        "        ax.set_title(f'Incorrect label of : {labels_np[incorrect_list[(i*2)+j]]}')\n",
        "        ax.grid(True)\n",
        "\n",
        "# Loop to populate each subplot with data\n",
        "for i in range(5):\n",
        "    for j in range(2, 4):\n",
        "        ax = axes[i, j]\n",
        "        ax.imshow((np.squeeze(scaler.fit_transform(grad_images[correct_list[(i*2)+j]].T.flatten().reshape((-1,1)))).reshape((32,32,3))*255).astype(int))\n",
        "        ax.set_title(f'correct label of : {labels_np[correct_list[(i*2)+j]]}')\n",
        "        ax.grid(True)\n",
        "\n",
        "\n",
        "# Adjust layout for better spacing\n",
        "plt.tight_layout()\n",
        "\n",
        "# Show the plots\n",
        "plt.show()"
      ]
    },
    {
      "cell_type": "code",
      "execution_count": 121,
      "metadata": {
        "colab": {
          "base_uri": "https://localhost:8080/"
        },
        "id": "SW6YRHjJtVrn",
        "outputId": "df9c63ae-0f17-4941-946d-e998a1b8966d"
      },
      "outputs": [
        {
          "name": "stdout",
          "output_type": "stream",
          "text": [
            "100\n"
          ]
        }
      ],
      "source": [
        "## 5 step perturbation\n",
        "eps = 8\n",
        "loss_list_perturb = []\n",
        "images, labels = next(iter(valloader_perturb))\n",
        "print(len(labels))\n",
        "# Move tensors to configured device\n",
        "images = images.to(device)\n",
        "labels = labels.to(device)\n",
        "\n",
        "\n",
        "for i in range(5):\n",
        "  #Forward Pass\n",
        "  images.requires_grad_()\n",
        "  outputs = final_model(images)\n",
        "  loss = criterion(outputs, labels)\n",
        "  optimizer.zero_grad()\n",
        "  loss.backward()\n",
        "  dx = images.grad.data.clone()\n",
        "  loss_list_perturb.append(loss.item())\n",
        "  with torch.no_grad():\n",
        "    images += eps*torch.sign(dx)\n"
      ]
    },
    {
      "cell_type": "code",
      "execution_count": 122,
      "metadata": {
        "colab": {
          "base_uri": "https://localhost:8080/"
        },
        "id": "rKfeHgRA3mMh",
        "outputId": "c41cdc2e-a846-49f6-e973-8c9365b65f81"
      },
      "outputs": [
        {
          "data": {
            "text/plain": [
              "array([2.28495598e-01, 3.58503265e+01, 2.56252625e+02, 7.91883362e+02,\n",
              "       1.57389417e+03])"
            ]
          },
          "execution_count": 122,
          "metadata": {},
          "output_type": "execute_result"
        }
      ],
      "source": [
        "np.array(loss_list_perturb)"
      ]
    },
    {
      "cell_type": "code",
      "execution_count": 123,
      "metadata": {
        "colab": {
          "base_uri": "https://localhost:8080/",
          "height": 448
        },
        "id": "Ha3z10jO4n-U",
        "outputId": "39258cf1-f18e-48b5-df79-bb98bf160332"
      },
      "outputs": [
        {
          "data": {
            "text/plain": [
              "[<matplotlib.lines.Line2D at 0x7b8f18a8d210>]"
            ]
          },
          "execution_count": 123,
          "metadata": {},
          "output_type": "execute_result"
        },
        {
          "data": {
            "image/png": "[encoded data removed]",
            "text/plain": [
              "<Figure size 640x480 with 1 Axes>"
            ]
          },
          "metadata": {},
          "output_type": "display_data"
        }
      ],
      "source": [
        "plt.plot(np.array(loss_list_perturb))"
      ]
    },
    {
      "cell_type": "markdown",
      "metadata": {
        "id": "nFHyZKtU5gFc"
      },
      "source": [
        "## Part 3.c."
      ]
    },
    {
      "cell_type": "code",
      "execution_count": 128,
      "metadata": {
        "colab": {
          "base_uri": "https://localhost:8080/"
        },
        "id": "_xK2cOGt7KP_",
        "outputId": "16cfa359-977d-4b72-c8d6-a22978d1956a"
      },
      "outputs": [
        {
          "name": "stdout",
          "output_type": "stream",
          "text": [
            "Accuracy of the network on the test images: 88.36 %\n"
          ]
        }
      ],
      "source": [
        "## original validation images\n",
        "\n",
        "correct = 0\n",
        "total = 0\n",
        "final_model.eval()\n",
        "for i, (images, labels) in enumerate(testloader):\n",
        "    images = images.to(device)\n",
        "    labels = labels.to(device)\n",
        "    outputs = final_model(images)\n",
        "    loss = criterion(outputs, labels)\n",
        "\n",
        "    _, predicted = torch.max(outputs.data, 1)\n",
        "    total += labels.size(0)\n",
        "    correct += (predicted == labels).sum().item()\n",
        "\n",
        "print('Accuracy of the network on the test images: {} %'.format(100 * correct / total))\n"
      ]
    },
    {
      "cell_type": "code",
      "execution_count": 129,
      "metadata": {
        "colab": {
          "base_uri": "https://localhost:8080/"
        },
        "id": "je6CnHlY5eCI",
        "outputId": "bfaed4c5-3162-4179-f05e-699a95e72fec"
      },
      "outputs": [
        {
          "name": "stdout",
          "output_type": "stream",
          "text": [
            "Accuracy of the network on the test images: 9.21 %\n"
          ]
        }
      ],
      "source": [
        "## 1 step perturbation to validation images\n",
        "\n",
        "correct = 0\n",
        "total = 0\n",
        "for i, (images, labels) in enumerate(testloader):\n",
        "    images = images.to(device)\n",
        "    labels = labels.to(device)\n",
        "    images.requires_grad_()\n",
        "    outputs = final_model(images)\n",
        "    loss = criterion(outputs, labels)\n",
        "    optimizer.zero_grad()\n",
        "    loss.backward()\n",
        "    dx = images.grad.data.clone()\n",
        "\n",
        "    ## 1 step perturbation\n",
        "    with torch.no_grad():\n",
        "      images += eps*torch.sign(dx)\n",
        "\n",
        "    outputs = final_model(images)\n",
        "    loss = criterion(outputs, labels)\n",
        "    _, predicted = torch.max(outputs.data, 1)\n",
        "    total += labels.size(0)\n",
        "    correct += (predicted == labels).sum().item()\n",
        "\n",
        "print('Accuracy of the network on the test images: {} %'.format(100 * correct / total))\n"
      ]
    }
  ],
  "metadata": {
    "accelerator": "GPU",
    "colab": {
      "gpuType": "T4",
      "provenance": []
    },
    "kernelspec": {
      "display_name": "Python 3",
      "name": "python3"
    },
    "language_info": {
      "codemirror_mode": {
        "name": "ipython",
        "version": 3
      },
      "file_extension": ".py",
      "mimetype": "text/x-python",
      "name": "python",
      "nbconvert_exporter": "python",
      "pygments_lexer": "ipython3",
      "version": "3.9.17"
    }
  },
  "nbformat": 4,
  "nbformat_minor": 0
}
