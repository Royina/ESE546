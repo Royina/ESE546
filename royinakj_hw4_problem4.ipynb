{
 "cells": [
  {
   "cell_type": "code",
   "execution_count": 2,
   "metadata": {},
   "outputs": [],
   "source": [
    "import numpy as np\n",
    "import torch\n",
    "import torch.optim as optim"
   ]
  },
  {
   "cell_type": "markdown",
   "metadata": {},
   "source": [
    "### Part 4.a"
   ]
  },
  {
   "cell_type": "code",
   "execution_count": 19,
   "metadata": {},
   "outputs": [
    {
     "name": "stdout",
     "output_type": "stream",
     "text": [
      "torch.Size([10000]) tensor([0.8962, 0.1216])\n"
     ]
    }
   ],
   "source": [
    "x = torch.ones(10000)\n",
    "x = x.uniform_(0.0, 1.0)\n",
    "print(x.size(), x[:2])"
   ]
  },
  {
   "cell_type": "code",
   "execution_count": 20,
   "metadata": {},
   "outputs": [
    {
     "data": {
      "text/plain": [
       "(torch.Size([10000]), tensor([0.9878, 0.0069]))"
      ]
     },
     "execution_count": 20,
     "metadata": {},
     "output_type": "execute_result"
    }
   ],
   "source": [
    "y = torch.sin(10*torch.pi*torch.pow(x, 4))\n",
    "y.size(), y[:2]"
   ]
  },
  {
   "cell_type": "code",
   "execution_count": 10,
   "metadata": {},
   "outputs": [
    {
     "data": {
      "text/plain": [
       "(tensor(-1.), tensor(1.0000))"
      ]
     },
     "execution_count": 10,
     "metadata": {},
     "output_type": "execute_result"
    }
   ],
   "source": [
    "y.min(), y.max()"
   ]
  },
  {
   "cell_type": "code",
   "execution_count": 7,
   "metadata": {},
   "outputs": [],
   "source": [
    "# x = x.reshape((64,128))\n",
    "# y = y.reshape((64,128))"
   ]
  },
  {
   "cell_type": "markdown",
   "metadata": {},
   "source": [
    "### Part 4.b"
   ]
  },
  {
   "cell_type": "code",
   "execution_count": 3,
   "metadata": {},
   "outputs": [],
   "source": [
    "from torch import nn"
   ]
  },
  {
   "cell_type": "code",
   "execution_count": 4,
   "metadata": {},
   "outputs": [
    {
     "name": "stdout",
     "output_type": "stream",
     "text": [
      "Using cpu device\n",
      "NeuralNetwork(\n",
      "  (first_layer): Linear(in_features=1, out_features=128, bias=True)\n",
      "  (relu_layer): ReLU()\n",
      "  (second_layer): Linear(in_features=128, out_features=256, bias=True)\n",
      "  (fc_layer): Linear(in_features=256, out_features=256, bias=True)\n",
      "  (third_layer): Linear(in_features=256, out_features=128, bias=True)\n",
      "  (output_layer): Linear(in_features=128, out_features=1, bias=True)\n",
      "  (bn_layer1): BatchNorm1d(128, eps=1e-05, momentum=0.1, affine=True, track_running_stats=True)\n",
      "  (bn_layer2): BatchNorm1d(256, eps=1e-05, momentum=0.1, affine=True, track_running_stats=True)\n",
      "  (tanh_layer): Tanh()\n",
      ")\n"
     ]
    }
   ],
   "source": [
    "device='cpu'\n",
    "print(\"Using {} device\".format(device))\n",
    "\n",
    "# Define model\n",
    "class NeuralNetwork(nn.Module):\n",
    "    def __init__(self):\n",
    "        super(NeuralNetwork, self).__init__()\n",
    "        # self.flatten = nn.Flatten()\n",
    "        self.first_layer = nn.Linear(1,128)\n",
    "        self.relu_layer = nn.ReLU()\n",
    "        self.second_layer = nn.Linear(128,256)\n",
    "        self.fc_layer = nn.Linear(256,256)\n",
    "        self.third_layer = nn.Linear(256, 128)\n",
    "        self.output_layer = nn.Linear(128,1)\n",
    "        self.bn_layer1 = nn.BatchNorm1d(128)\n",
    "        self.bn_layer2 = nn.BatchNorm1d(256)\n",
    "        self.tanh_layer = nn.Tanh()\n",
    "\n",
    "    # def forward(self, x):\n",
    "    #     x = self.first_layer(x)\n",
    "    #     x = self.relu_layer(x)\n",
    "    #     x = self.bn_layer(x)\n",
    "    #     x = self.second_layer(x)\n",
    "    #     x = self.relu_layer(x)\n",
    "    #     x = self.bn_layer(x)\n",
    "    #     output = self.output_layer(x)\n",
    "\n",
    "    #     return output\n",
    "\n",
    "    def forward(self, x):\n",
    "        x = self.first_layer(x)\n",
    "        x = self.relu_layer(x)\n",
    "        x = self.bn_layer1(x)\n",
    "        x = self.second_layer(x)\n",
    "        x = self.relu_layer(x)\n",
    "        x = self.bn_layer2(x)\n",
    "        # x = self.fc_layer(x)\n",
    "        # x = self.relu_layer(x)\n",
    "        # x = self.bn_layer2(x)\n",
    "        x = self.third_layer(x)\n",
    "        x = self.relu_layer(x)\n",
    "        x = self.bn_layer1(x)\n",
    "        output = self.output_layer(x)\n",
    "        return output\n",
    "\n",
    "model = NeuralNetwork().to(device)\n",
    "print(model)"
   ]
  },
  {
   "cell_type": "code",
   "execution_count": 26,
   "metadata": {},
   "outputs": [
    {
     "data": {
      "text/plain": [
       "128"
      ]
     },
     "execution_count": 26,
     "metadata": {},
     "output_type": "execute_result"
    }
   ],
   "source": [
    "batch_size = 64\n",
    "n_batches = 128\n",
    "n_batches"
   ]
  },
  {
   "cell_type": "code",
   "execution_count": 137,
   "metadata": {},
   "outputs": [
    {
     "data": {
      "text/plain": [
       "8192"
      ]
     },
     "execution_count": 137,
     "metadata": {},
     "output_type": "execute_result"
    }
   ],
   "source": [
    "64*128"
   ]
  },
  {
   "cell_type": "code",
   "execution_count": 135,
   "metadata": {},
   "outputs": [
    {
     "data": {
      "text/plain": [
       "array([1970, 4028, 1516, 8561,  762, 4105, 8871, 8605, 3905, 3016, 7172,\n",
       "       8073, 8251,  853, 5700, 3923, 8752, 5478, 3243, 1284, 2981, 3328,\n",
       "       9068, 8066, 1935, 8862, 2958, 2592, 1305, 2847, 7339, 9572])"
      ]
     },
     "execution_count": 135,
     "metadata": {},
     "output_type": "execute_result"
    }
   ],
   "source": [
    "np.random.choice(np.arange(0,10000),batch_size)"
   ]
  },
  {
   "cell_type": "code",
   "execution_count": 96,
   "metadata": {},
   "outputs": [],
   "source": [
    "def train(net, optimizer, criterion, batch_size, n_batches, x, y, epochs, model_name, plot):\n",
    "    model = net.to(device)\n",
    "    total_step = n_batches\n",
    "    train_loss_values = []\n",
    "    schedule_lr = 1e-2\n",
    "    for epoch in range(epochs):\n",
    "        correct = 0\n",
    "        total = 0\n",
    "        running_loss = 0.0\n",
    "        # print(schedule_lr)\n",
    "        # if epoch % 20==0 and epoch>0 and epoch <61:\n",
    "        #     schedule_lr = schedule_lr * 0.1\n",
    "        #     for op_params in optimizer.param_groups:\n",
    "        #         op_params['lr'] = schedule_lr\n",
    "        # if epoch % 5==0 and epoch>60 and epoch <120:\n",
    "        #     schedule_lr = schedule_lr * 0.1\n",
    "        #     for op_params in optimizer.param_groups:\n",
    "        #         op_params['lr'] = schedule_lr\n",
    "        for i in range(n_batches):\n",
    "            idx = np.random.choice(np.arange(0,10000),batch_size)\n",
    "            input = x[idx].reshape((-1,1)).to(device)\n",
    "            # print(input.shape)\n",
    "            labels = y[idx].reshape((-1,1)).to(device)\n",
    "            # Move tensors to configured device\n",
    "            # input = x[:,i].reshape((-1,1)).to(device)\n",
    "            # labels = y[:,i].reshape((-1,1)).to(device)\n",
    "            #Forward Pass\n",
    "            outputs = model(input)\n",
    "            loss = criterion(outputs, labels)\n",
    "            optimizer.zero_grad()\n",
    "            loss.backward()\n",
    "            running_loss += loss.item()*batch_size\n",
    "            total += batch_size\n",
    "            optimizer.step()\n",
    "        # if epoch % 50 == 0: \n",
    "        print ('Epoch [{}/{}], Step [{}/{}], Loss: {:.4f}'.format(epoch+1, epochs, i+1, total_step, running_loss/total))\n",
    "        train_loss_values.append(running_loss/total)\n",
    "\n",
    "    return train_loss_values"
   ]
  },
  {
   "cell_type": "code",
   "execution_count": 97,
   "metadata": {},
   "outputs": [],
   "source": [
    "batch_size = 512\n",
    "n_batches = 10000//batch_size"
   ]
  },
  {
   "cell_type": "code",
   "execution_count": 98,
   "metadata": {},
   "outputs": [
    {
     "data": {
      "text/plain": [
       "19"
      ]
     },
     "execution_count": 98,
     "metadata": {},
     "output_type": "execute_result"
    }
   ],
   "source": [
    "n_batches"
   ]
  },
  {
   "cell_type": "code",
   "execution_count": 138,
   "metadata": {},
   "outputs": [
    {
     "name": "stdout",
     "output_type": "stream",
     "text": [
      "Epoch [1/100], Step [19/19], Loss: 0.2243\n",
      "Epoch [2/100], Step [19/19], Loss: 0.1514\n",
      "Epoch [3/100], Step [19/19], Loss: 0.1214\n",
      "Epoch [4/100], Step [19/19], Loss: 0.1001\n",
      "Epoch [5/100], Step [19/19], Loss: 0.1019\n",
      "Epoch [6/100], Step [19/19], Loss: 0.0888\n",
      "Epoch [7/100], Step [19/19], Loss: 0.0787\n",
      "Epoch [8/100], Step [19/19], Loss: 0.0712\n",
      "Epoch [9/100], Step [19/19], Loss: 0.0575\n",
      "Epoch [10/100], Step [19/19], Loss: 0.0645\n",
      "Epoch [11/100], Step [19/19], Loss: 0.0478\n",
      "Epoch [12/100], Step [19/19], Loss: 0.0598\n",
      "Epoch [13/100], Step [19/19], Loss: 0.0385\n",
      "Epoch [14/100], Step [19/19], Loss: 0.0463\n",
      "Epoch [15/100], Step [19/19], Loss: 0.0396\n",
      "Epoch [16/100], Step [19/19], Loss: 0.0396\n",
      "Epoch [17/100], Step [19/19], Loss: 0.0403\n",
      "Epoch [18/100], Step [19/19], Loss: 0.0391\n",
      "Epoch [19/100], Step [19/19], Loss: 0.0339\n",
      "Epoch [20/100], Step [19/19], Loss: 0.0282\n",
      "Epoch [21/100], Step [19/19], Loss: 0.0279\n",
      "Epoch [22/100], Step [19/19], Loss: 0.0340\n",
      "Epoch [23/100], Step [19/19], Loss: 0.0276\n",
      "Epoch [24/100], Step [19/19], Loss: 0.0291\n",
      "Epoch [25/100], Step [19/19], Loss: 0.0224\n",
      "Epoch [26/100], Step [19/19], Loss: 0.0292\n",
      "Epoch [27/100], Step [19/19], Loss: 0.0213\n",
      "Epoch [28/100], Step [19/19], Loss: 0.0250\n",
      "Epoch [29/100], Step [19/19], Loss: 0.0151\n",
      "Epoch [30/100], Step [19/19], Loss: 0.0191\n",
      "Epoch [31/100], Step [19/19], Loss: 0.0204\n",
      "Epoch [32/100], Step [19/19], Loss: 0.0274\n",
      "Epoch [33/100], Step [19/19], Loss: 0.0205\n",
      "Epoch [34/100], Step [19/19], Loss: 0.0186\n",
      "Epoch [35/100], Step [19/19], Loss: 0.0174\n",
      "Epoch [36/100], Step [19/19], Loss: 0.0224\n",
      "Epoch [37/100], Step [19/19], Loss: 0.0224\n",
      "Epoch [38/100], Step [19/19], Loss: 0.0152\n",
      "Epoch [39/100], Step [19/19], Loss: 0.0147\n",
      "Epoch [40/100], Step [19/19], Loss: 0.0183\n",
      "Epoch [41/100], Step [19/19], Loss: 0.0207\n",
      "Epoch [42/100], Step [19/19], Loss: 0.0173\n",
      "Epoch [43/100], Step [19/19], Loss: 0.0171\n",
      "Epoch [44/100], Step [19/19], Loss: 0.0137\n",
      "Epoch [45/100], Step [19/19], Loss: 0.0176\n",
      "Epoch [46/100], Step [19/19], Loss: 0.0212\n",
      "Epoch [47/100], Step [19/19], Loss: 0.0155\n",
      "Epoch [48/100], Step [19/19], Loss: 0.0177\n",
      "Epoch [49/100], Step [19/19], Loss: 0.0183\n",
      "Epoch [50/100], Step [19/19], Loss: 0.0175\n",
      "Epoch [51/100], Step [19/19], Loss: 0.0165\n",
      "Epoch [52/100], Step [19/19], Loss: 0.0136\n",
      "Epoch [53/100], Step [19/19], Loss: 0.0170\n",
      "Epoch [54/100], Step [19/19], Loss: 0.0169\n",
      "Epoch [55/100], Step [19/19], Loss: 0.0152\n",
      "Epoch [56/100], Step [19/19], Loss: 0.0144\n",
      "Epoch [57/100], Step [19/19], Loss: 0.0183\n",
      "Epoch [58/100], Step [19/19], Loss: 0.0115\n",
      "Epoch [59/100], Step [19/19], Loss: 0.0152\n",
      "Epoch [60/100], Step [19/19], Loss: 0.0126\n",
      "Epoch [61/100], Step [19/19], Loss: 0.0203\n",
      "Epoch [62/100], Step [19/19], Loss: 0.0193\n",
      "Epoch [63/100], Step [19/19], Loss: 0.0160\n",
      "Epoch [64/100], Step [19/19], Loss: 0.0132\n",
      "Epoch [65/100], Step [19/19], Loss: 0.0169\n",
      "Epoch [66/100], Step [19/19], Loss: 0.0158\n",
      "Epoch [67/100], Step [19/19], Loss: 0.0133\n",
      "Epoch [68/100], Step [19/19], Loss: 0.0131\n",
      "Epoch [69/100], Step [19/19], Loss: 0.0161\n",
      "Epoch [70/100], Step [19/19], Loss: 0.0184\n",
      "Epoch [71/100], Step [19/19], Loss: 0.0158\n",
      "Epoch [72/100], Step [19/19], Loss: 0.0170\n",
      "Epoch [73/100], Step [19/19], Loss: 0.0145\n",
      "Epoch [74/100], Step [19/19], Loss: 0.0119\n",
      "Epoch [75/100], Step [19/19], Loss: 0.0134\n",
      "Epoch [76/100], Step [19/19], Loss: 0.0183\n",
      "Epoch [77/100], Step [19/19], Loss: 0.0195\n",
      "Epoch [78/100], Step [19/19], Loss: 0.0139\n",
      "Epoch [79/100], Step [19/19], Loss: 0.0135\n",
      "Epoch [80/100], Step [19/19], Loss: 0.0104\n",
      "Epoch [81/100], Step [19/19], Loss: 0.0170\n",
      "Epoch [82/100], Step [19/19], Loss: 0.0110\n",
      "Epoch [83/100], Step [19/19], Loss: 0.0122\n",
      "Epoch [84/100], Step [19/19], Loss: 0.0113\n",
      "Epoch [85/100], Step [19/19], Loss: 0.0117\n",
      "Epoch [86/100], Step [19/19], Loss: 0.0125\n",
      "Epoch [87/100], Step [19/19], Loss: 0.0153\n",
      "Epoch [88/100], Step [19/19], Loss: 0.0130\n",
      "Epoch [89/100], Step [19/19], Loss: 0.0111\n",
      "Epoch [90/100], Step [19/19], Loss: 0.0121\n",
      "Epoch [91/100], Step [19/19], Loss: 0.0131\n",
      "Epoch [92/100], Step [19/19], Loss: 0.0125\n",
      "Epoch [93/100], Step [19/19], Loss: 0.0118\n",
      "Epoch [94/100], Step [19/19], Loss: 0.0086\n",
      "Epoch [95/100], Step [19/19], Loss: 0.0135\n",
      "Epoch [96/100], Step [19/19], Loss: 0.0145\n",
      "Epoch [97/100], Step [19/19], Loss: 0.0106\n",
      "Epoch [98/100], Step [19/19], Loss: 0.0202\n",
      "Epoch [99/100], Step [19/19], Loss: 0.0106\n",
      "Epoch [100/100], Step [19/19], Loss: 0.0129\n"
     ]
    }
   ],
   "source": [
    "model = NeuralNetwork().to(device) ## scheduler 500\n",
    "epochs = 100\n",
    "criterion = nn.MSELoss()\n",
    "optimizer = optim.SGD(model.parameters(), lr=1e-3, momentum=0.0, weight_decay=0.002, nesterov=False)\n",
    "train_loss_values= train(model, optimizer, criterion, batch_size, n_batches, x, y, epochs, 'nn_curve', True)"
   ]
  },
  {
   "cell_type": "code",
   "execution_count": 174,
   "metadata": {},
   "outputs": [
    {
     "name": "stdout",
     "output_type": "stream",
     "text": [
      "Epoch [1/100], Step [19/19], Loss: 0.2640\n",
      "Epoch [2/100], Step [19/19], Loss: 0.1127\n",
      "Epoch [3/100], Step [19/19], Loss: 0.0712\n",
      "Epoch [4/100], Step [19/19], Loss: 0.0348\n",
      "Epoch [5/100], Step [19/19], Loss: 0.0423\n",
      "Epoch [6/100], Step [19/19], Loss: 0.0299\n",
      "Epoch [7/100], Step [19/19], Loss: 0.0223\n",
      "Epoch [8/100], Step [19/19], Loss: 0.0210\n",
      "Epoch [9/100], Step [19/19], Loss: 0.0239\n",
      "Epoch [10/100], Step [19/19], Loss: 0.0235\n",
      "Epoch [11/100], Step [19/19], Loss: 0.0208\n",
      "Epoch [12/100], Step [19/19], Loss: 0.0176\n",
      "Epoch [13/100], Step [19/19], Loss: 0.0183\n",
      "Epoch [14/100], Step [19/19], Loss: 0.0190\n",
      "Epoch [15/100], Step [19/19], Loss: 0.0241\n",
      "Epoch [16/100], Step [19/19], Loss: 0.0196\n",
      "Epoch [17/100], Step [19/19], Loss: 0.0152\n",
      "Epoch [18/100], Step [19/19], Loss: 0.0154\n",
      "Epoch [19/100], Step [19/19], Loss: 0.0186\n",
      "Epoch [20/100], Step [19/19], Loss: 0.0136\n",
      "Epoch [21/100], Step [19/19], Loss: 0.0123\n",
      "Epoch [22/100], Step [19/19], Loss: 0.0131\n",
      "Epoch [23/100], Step [19/19], Loss: 0.0118\n",
      "Epoch [24/100], Step [19/19], Loss: 0.0120\n",
      "Epoch [25/100], Step [19/19], Loss: 0.0111\n",
      "Epoch [26/100], Step [19/19], Loss: 0.0120\n",
      "Epoch [27/100], Step [19/19], Loss: 0.0100\n",
      "Epoch [28/100], Step [19/19], Loss: 0.0157\n",
      "Epoch [29/100], Step [19/19], Loss: 0.0185\n",
      "Epoch [30/100], Step [19/19], Loss: 0.0127\n",
      "Epoch [31/100], Step [19/19], Loss: 0.0112\n",
      "Epoch [32/100], Step [19/19], Loss: 0.0095\n",
      "Epoch [33/100], Step [19/19], Loss: 0.0103\n",
      "Epoch [34/100], Step [19/19], Loss: 0.0112\n",
      "Epoch [35/100], Step [19/19], Loss: 0.0096\n",
      "Epoch [36/100], Step [19/19], Loss: 0.0103\n",
      "Epoch [37/100], Step [19/19], Loss: 0.0158\n",
      "Epoch [38/100], Step [19/19], Loss: 0.0133\n",
      "Epoch [39/100], Step [19/19], Loss: 0.0133\n",
      "Epoch [40/100], Step [19/19], Loss: 0.0113\n",
      "Epoch [41/100], Step [19/19], Loss: 0.0099\n",
      "Epoch [42/100], Step [19/19], Loss: 0.0088\n",
      "Epoch [43/100], Step [19/19], Loss: 0.0105\n",
      "Epoch [44/100], Step [19/19], Loss: 0.0117\n",
      "Epoch [45/100], Step [19/19], Loss: 0.0098\n",
      "Epoch [46/100], Step [19/19], Loss: 0.0101\n",
      "Epoch [47/100], Step [19/19], Loss: 0.0108\n",
      "Epoch [48/100], Step [19/19], Loss: 0.0120\n",
      "Epoch [49/100], Step [19/19], Loss: 0.0090\n",
      "Epoch [50/100], Step [19/19], Loss: 0.0094\n",
      "Epoch [51/100], Step [19/19], Loss: 0.0109\n",
      "Epoch [52/100], Step [19/19], Loss: 0.0102\n",
      "Epoch [53/100], Step [19/19], Loss: 0.0095\n",
      "Epoch [54/100], Step [19/19], Loss: 0.0102\n",
      "Epoch [55/100], Step [19/19], Loss: 0.0110\n",
      "Epoch [56/100], Step [19/19], Loss: 0.0101\n",
      "Epoch [57/100], Step [19/19], Loss: 0.0103\n",
      "Epoch [58/100], Step [19/19], Loss: 0.0140\n",
      "Epoch [59/100], Step [19/19], Loss: 0.0088\n",
      "Epoch [60/100], Step [19/19], Loss: 0.0094\n",
      "Epoch [61/100], Step [19/19], Loss: 0.0099\n",
      "Epoch [62/100], Step [19/19], Loss: 0.0113\n",
      "Epoch [63/100], Step [19/19], Loss: 0.0089\n",
      "Epoch [64/100], Step [19/19], Loss: 0.0108\n",
      "Epoch [65/100], Step [19/19], Loss: 0.0084\n",
      "Epoch [66/100], Step [19/19], Loss: 0.0121\n",
      "Epoch [67/100], Step [19/19], Loss: 0.0109\n",
      "Epoch [68/100], Step [19/19], Loss: 0.0102\n",
      "Epoch [69/100], Step [19/19], Loss: 0.0110\n",
      "Epoch [70/100], Step [19/19], Loss: 0.0110\n",
      "Epoch [71/100], Step [19/19], Loss: 0.0094\n",
      "Epoch [72/100], Step [19/19], Loss: 0.0142\n",
      "Epoch [73/100], Step [19/19], Loss: 0.0127\n",
      "Epoch [74/100], Step [19/19], Loss: 0.0101\n",
      "Epoch [75/100], Step [19/19], Loss: 0.0117\n",
      "Epoch [76/100], Step [19/19], Loss: 0.0092\n",
      "Epoch [77/100], Step [19/19], Loss: 0.0087\n",
      "Epoch [78/100], Step [19/19], Loss: 0.0074\n",
      "Epoch [79/100], Step [19/19], Loss: 0.0094\n",
      "Epoch [80/100], Step [19/19], Loss: 0.0155\n",
      "Epoch [81/100], Step [19/19], Loss: 0.0129\n",
      "Epoch [82/100], Step [19/19], Loss: 0.0124\n",
      "Epoch [83/100], Step [19/19], Loss: 0.0108\n",
      "Epoch [84/100], Step [19/19], Loss: 0.0076\n",
      "Epoch [85/100], Step [19/19], Loss: 0.0073\n",
      "Epoch [86/100], Step [19/19], Loss: 0.0074\n",
      "Epoch [87/100], Step [19/19], Loss: 0.0085\n",
      "Epoch [88/100], Step [19/19], Loss: 0.0097\n",
      "Epoch [89/100], Step [19/19], Loss: 0.0080\n",
      "Epoch [90/100], Step [19/19], Loss: 0.0077\n",
      "Epoch [91/100], Step [19/19], Loss: 0.0082\n",
      "Epoch [92/100], Step [19/19], Loss: 0.0089\n",
      "Epoch [93/100], Step [19/19], Loss: 0.0097\n",
      "Epoch [94/100], Step [19/19], Loss: 0.0081\n",
      "Epoch [95/100], Step [19/19], Loss: 0.0073\n",
      "Epoch [96/100], Step [19/19], Loss: 0.0085\n",
      "Epoch [97/100], Step [19/19], Loss: 0.0060\n",
      "Epoch [98/100], Step [19/19], Loss: 0.0066\n",
      "Epoch [99/100], Step [19/19], Loss: 0.0088\n",
      "Epoch [100/100], Step [19/19], Loss: 0.0095\n"
     ]
    }
   ],
   "source": [
    "model = NeuralNetwork().to(device)\n",
    "epochs = 100\n",
    "criterion = nn.MSELoss()\n",
    "optimizer = optim.Adam(model.parameters(), lr=1e-3,weight_decay=1e-3) #, weight_decay=0.0001\n",
    "train_loss_values= train(model, optimizer, criterion, batch_size, n_batches, x, y, epochs, 'nn_curve', True)"
   ]
  },
  {
   "cell_type": "code",
   "execution_count": 145,
   "metadata": {},
   "outputs": [
    {
     "name": "stdout",
     "output_type": "stream",
     "text": [
      "Epoch [1/100], Step [128/128], Loss: 0.1799\n",
      "Epoch [2/100], Step [128/128], Loss: 0.1184\n",
      "Epoch [3/100], Step [128/128], Loss: 0.1057\n",
      "Epoch [4/100], Step [128/128], Loss: 0.0779\n",
      "Epoch [5/100], Step [128/128], Loss: 0.0938\n",
      "Epoch [6/100], Step [128/128], Loss: 0.0738\n",
      "Epoch [7/100], Step [128/128], Loss: 0.0653\n",
      "Epoch [8/100], Step [128/128], Loss: 0.0672\n",
      "Epoch [9/100], Step [128/128], Loss: 0.0628\n",
      "Epoch [10/100], Step [128/128], Loss: 0.0658\n",
      "Epoch [11/100], Step [128/128], Loss: 0.0599\n",
      "Epoch [12/100], Step [128/128], Loss: 0.0624\n",
      "Epoch [13/100], Step [128/128], Loss: 0.0620\n",
      "Epoch [14/100], Step [128/128], Loss: 0.0734\n",
      "Epoch [15/100], Step [128/128], Loss: 0.0498\n",
      "Epoch [16/100], Step [128/128], Loss: 0.0586\n",
      "Epoch [17/100], Step [128/128], Loss: 0.0601\n",
      "Epoch [18/100], Step [128/128], Loss: 0.0509\n",
      "Epoch [19/100], Step [128/128], Loss: 0.0389\n",
      "Epoch [20/100], Step [128/128], Loss: 0.0398\n",
      "Epoch [21/100], Step [128/128], Loss: 0.0234\n",
      "Epoch [22/100], Step [128/128], Loss: 0.0249\n",
      "Epoch [23/100], Step [128/128], Loss: 0.0249\n",
      "Epoch [24/100], Step [128/128], Loss: 0.0229\n",
      "Epoch [25/100], Step [128/128], Loss: 0.0224\n",
      "Epoch [26/100], Step [128/128], Loss: 0.0212\n",
      "Epoch [27/100], Step [128/128], Loss: 0.0230\n",
      "Epoch [28/100], Step [128/128], Loss: 0.0211\n",
      "Epoch [29/100], Step [128/128], Loss: 0.0248\n",
      "Epoch [30/100], Step [128/128], Loss: 0.0214\n",
      "Epoch [31/100], Step [128/128], Loss: 0.0223\n",
      "Epoch [32/100], Step [128/128], Loss: 0.0188\n",
      "Epoch [33/100], Step [128/128], Loss: 0.0205\n",
      "Epoch [34/100], Step [128/128], Loss: 0.0210\n",
      "Epoch [35/100], Step [128/128], Loss: 0.0196\n",
      "Epoch [36/100], Step [128/128], Loss: 0.0196\n",
      "Epoch [37/100], Step [128/128], Loss: 0.0203\n",
      "Epoch [38/100], Step [128/128], Loss: 0.0192\n",
      "Epoch [39/100], Step [128/128], Loss: 0.0181\n",
      "Epoch [40/100], Step [128/128], Loss: 0.0185\n",
      "Epoch [41/100], Step [128/128], Loss: 0.0179\n",
      "Epoch [42/100], Step [128/128], Loss: 0.0172\n",
      "Epoch [43/100], Step [128/128], Loss: 0.0172\n",
      "Epoch [44/100], Step [128/128], Loss: 0.0168\n",
      "Epoch [45/100], Step [128/128], Loss: 0.0185\n",
      "Epoch [46/100], Step [128/128], Loss: 0.0170\n",
      "Epoch [47/100], Step [128/128], Loss: 0.0177\n",
      "Epoch [48/100], Step [128/128], Loss: 0.0153\n",
      "Epoch [49/100], Step [128/128], Loss: 0.0173\n",
      "Epoch [50/100], Step [128/128], Loss: 0.0157\n",
      "Epoch [51/100], Step [128/128], Loss: 0.0180\n",
      "Epoch [52/100], Step [128/128], Loss: 0.0191\n",
      "Epoch [53/100], Step [128/128], Loss: 0.0171\n",
      "Epoch [54/100], Step [128/128], Loss: 0.0165\n",
      "Epoch [55/100], Step [128/128], Loss: 0.0164\n",
      "Epoch [56/100], Step [128/128], Loss: 0.0157\n",
      "Epoch [57/100], Step [128/128], Loss: 0.0151\n",
      "Epoch [58/100], Step [128/128], Loss: 0.0185\n",
      "Epoch [59/100], Step [128/128], Loss: 0.0154\n",
      "Epoch [60/100], Step [128/128], Loss: 0.0157\n",
      "Epoch [61/100], Step [128/128], Loss: 0.0177\n",
      "Epoch [62/100], Step [128/128], Loss: 0.0144\n",
      "Epoch [63/100], Step [128/128], Loss: 0.0163\n",
      "Epoch [64/100], Step [128/128], Loss: 0.0150\n",
      "Epoch [65/100], Step [128/128], Loss: 0.0151\n",
      "Epoch [66/100], Step [128/128], Loss: 0.0173\n",
      "Epoch [67/100], Step [128/128], Loss: 0.0154\n",
      "Epoch [68/100], Step [128/128], Loss: 0.0153\n",
      "Epoch [69/100], Step [128/128], Loss: 0.0159\n",
      "Epoch [70/100], Step [128/128], Loss: 0.0153\n",
      "Epoch [71/100], Step [128/128], Loss: 0.0164\n",
      "Epoch [72/100], Step [128/128], Loss: 0.0144\n",
      "Epoch [73/100], Step [128/128], Loss: 0.0161\n",
      "Epoch [74/100], Step [128/128], Loss: 0.0152\n",
      "Epoch [75/100], Step [128/128], Loss: 0.0152\n",
      "Epoch [76/100], Step [128/128], Loss: 0.0162\n",
      "Epoch [77/100], Step [128/128], Loss: 0.0161\n",
      "Epoch [78/100], Step [128/128], Loss: 0.0169\n",
      "Epoch [79/100], Step [128/128], Loss: 0.0167\n",
      "Epoch [80/100], Step [128/128], Loss: 0.0160\n",
      "Epoch [81/100], Step [128/128], Loss: 0.0154\n",
      "Epoch [82/100], Step [128/128], Loss: 0.0152\n",
      "Epoch [83/100], Step [128/128], Loss: 0.0172\n",
      "Epoch [84/100], Step [128/128], Loss: 0.0169\n",
      "Epoch [85/100], Step [128/128], Loss: 0.0147\n",
      "Epoch [86/100], Step [128/128], Loss: 0.0159\n",
      "Epoch [87/100], Step [128/128], Loss: 0.0170\n",
      "Epoch [88/100], Step [128/128], Loss: 0.0164\n",
      "Epoch [89/100], Step [128/128], Loss: 0.0152\n",
      "Epoch [90/100], Step [128/128], Loss: 0.0159\n",
      "Epoch [91/100], Step [128/128], Loss: 0.0161\n",
      "Epoch [92/100], Step [128/128], Loss: 0.0155\n",
      "Epoch [93/100], Step [128/128], Loss: 0.0169\n",
      "Epoch [94/100], Step [128/128], Loss: 0.0148\n",
      "Epoch [95/100], Step [128/128], Loss: 0.0157\n",
      "Epoch [96/100], Step [128/128], Loss: 0.0169\n",
      "Epoch [97/100], Step [128/128], Loss: 0.0146\n",
      "Epoch [98/100], Step [128/128], Loss: 0.0157\n",
      "Epoch [99/100], Step [128/128], Loss: 0.0159\n",
      "Epoch [100/100], Step [128/128], Loss: 0.0162\n"
     ]
    }
   ],
   "source": [
    "model = NeuralNetwork().to(device)\n",
    "epochs = 100\n",
    "criterion = nn.MSELoss()\n",
    "optimizer = optim.Adam(model.parameters(), lr=1e-3,weight_decay=1e-3) #, weight_decay=0.0001\n",
    "train_loss_values= train(model, optimizer, criterion, batch_size, n_batches, x, y, epochs, 'nn_curve', True)"
   ]
  },
  {
   "cell_type": "code",
   "execution_count": 180,
   "metadata": {},
   "outputs": [],
   "source": [
    "torch.save(model, 'model1_100epoch_hw4_p4.pt')\n",
    "np.save('train_loss_values_hw4_p4_pb.npy', np.array(train_loss_values))"
   ]
  },
  {
   "cell_type": "code",
   "execution_count": 67,
   "metadata": {},
   "outputs": [],
   "source": [
    "model = torch.load('model1_100epoch_hw4_p4.pt')\n",
    "train_loss_values = np.load('train_loss_values_hw4_p4_pb.npy')"
   ]
  },
  {
   "cell_type": "code",
   "execution_count": 181,
   "metadata": {},
   "outputs": [
    {
     "data": {
      "text/plain": [
       "(0.0060130440335916845, 0.2640358366464314)"
      ]
     },
     "execution_count": 181,
     "metadata": {},
     "output_type": "execute_result"
    }
   ],
   "source": [
    "np.array(train_loss_values).min(), np.array(train_loss_values).max()"
   ]
  },
  {
   "cell_type": "code",
   "execution_count": null,
   "metadata": {},
   "outputs": [
    {
     "data": {
      "text/plain": [
       "[<matplotlib.lines.Line2D at 0x2a369229a60>]"
      ]
     },
     "metadata": {},
     "output_type": "display_data"
    },
    {
     "data": {
      "image/png": "[encoded data removed]",
      "text/plain": [
       "<Figure size 640x480 with 1 Axes>"
      ]
     },
     "metadata": {},
     "output_type": "display_data"
    }
   ],
   "source": [
    "import matplotlib.pyplot as plt\n",
    "plt.plot(np.array(train_loss_values))"
   ]
  },
  {
   "cell_type": "code",
   "execution_count": 175,
   "metadata": {},
   "outputs": [
    {
     "name": "stdout",
     "output_type": "stream",
     "text": [
      "torch.Size([1000]) tensor([0.6471, 0.4676])\n"
     ]
    },
    {
     "data": {
      "text/plain": [
       "(torch.Size([1000]), tensor([-0.7006,  0.9976]), tensor(-1.0000), tensor(1.))"
      ]
     },
     "execution_count": 175,
     "metadata": {},
     "output_type": "execute_result"
    }
   ],
   "source": [
    "x_in = torch.ones(1000)\n",
    "x_in = x_in.uniform_(0.0, 1.0)\n",
    "print(x_in.size(), x_in[:2])\n",
    "y_in = torch.sin(10*torch.pi*torch.pow(x_in, 4))\n",
    "y_in.size(), y_in[:2], y_in.min(), y_in.max()"
   ]
  },
  {
   "cell_type": "code",
   "execution_count": 182,
   "metadata": {},
   "outputs": [
    {
     "name": "stdout",
     "output_type": "stream",
     "text": [
      "torch.Size([1000]) tensor([2.0440, 2.2353])\n"
     ]
    },
    {
     "data": {
      "text/plain": [
       "(torch.Size([1000]),\n",
       " tensor([ 0.9788, -0.8952]),\n",
       " tensor(-1.0000),\n",
       " tensor(0.9999))"
      ]
     },
     "execution_count": 182,
     "metadata": {},
     "output_type": "execute_result"
    }
   ],
   "source": [
    "x_out = torch.ones(1000)\n",
    "x_out = x_out.uniform_(0.0, 1.5)\n",
    "print(x_out.size(), x_out[:2])\n",
    "y_out = torch.sin(10*torch.pi*torch.pow(x_out, 4))\n",
    "y_out.size(), y_out[:2], y_out.min(), y_out.max()"
   ]
  },
  {
   "cell_type": "code",
   "execution_count": 177,
   "metadata": {},
   "outputs": [
    {
     "data": {
      "text/plain": [
       "NeuralNetwork(\n",
       "  (first_layer): Linear(in_features=1, out_features=128, bias=True)\n",
       "  (relu_layer): ReLU()\n",
       "  (second_layer): Linear(in_features=128, out_features=256, bias=True)\n",
       "  (fc_layer): Linear(in_features=256, out_features=256, bias=True)\n",
       "  (third_layer): Linear(in_features=256, out_features=128, bias=True)\n",
       "  (output_layer): Linear(in_features=128, out_features=1, bias=True)\n",
       "  (bn_layer1): BatchNorm1d(128, eps=1e-05, momentum=0.1, affine=True, track_running_stats=True)\n",
       "  (bn_layer2): BatchNorm1d(256, eps=1e-05, momentum=0.1, affine=True, track_running_stats=True)\n",
       "  (tanh_layer): Tanh()\n",
       ")"
      ]
     },
     "execution_count": 177,
     "metadata": {},
     "output_type": "execute_result"
    }
   ],
   "source": [
    "model.eval()"
   ]
  },
  {
   "cell_type": "code",
   "execution_count": 183,
   "metadata": {},
   "outputs": [
    {
     "data": {
      "text/plain": [
       "(torch.Size([1000]), torch.Size([1000]))"
      ]
     },
     "execution_count": 183,
     "metadata": {},
     "output_type": "execute_result"
    }
   ],
   "source": [
    "pred_y_in = torch.squeeze(model(x_in.reshape((-1,1))).detach())\n",
    "pred_y_out = torch.squeeze(model(x_out.reshape((-1,1))).detach())\n",
    "pred_y_in.shape, pred_y_out.shape"
   ]
  },
  {
   "cell_type": "code",
   "execution_count": 184,
   "metadata": {},
   "outputs": [
    {
     "name": "stdout",
     "output_type": "stream",
     "text": [
      "Largest discrepancy within the support is: 4.299516\n",
      "Largest discrepancy outside the support is: 22.104202\n"
     ]
    }
   ],
   "source": [
    "print('Largest discrepancy within the support is:', torch.abs(pred_y_in - y_in).numpy().max())\n",
    "print('Largest discrepancy outside the support is:', torch.abs(pred_y_out - y_out).numpy().max())"
   ]
  },
  {
   "cell_type": "markdown",
   "metadata": {},
   "source": [
    "### Part 4.c"
   ]
  },
  {
   "cell_type": "code",
   "execution_count": 6,
   "metadata": {},
   "outputs": [],
   "source": [
    "model = NeuralNetwork().to(device)\n",
    "epochs = 100\n",
    "criterion = nn.MSELoss()\n",
    "optimizer = optim.Adam(model.parameters(), lr=1e-3,weight_decay=1e-3) #, weight_decay=0.0001"
   ]
  },
  {
   "cell_type": "code",
   "execution_count": 8,
   "metadata": {},
   "outputs": [
    {
     "data": {
      "text/plain": [
       "array([  10,   12,   16,   20,   26,   33,   42,   54,   69,   88,  112,\n",
       "        143,  183,  233,  297,  379,  483,  615,  784, 1000])"
      ]
     },
     "execution_count": 8,
     "metadata": {},
     "output_type": "execute_result"
    }
   ],
   "source": [
    "ns = np.logspace(1,3,20).astype(int)\n",
    "ns"
   ]
  },
  {
   "cell_type": "code",
   "execution_count": 7,
   "metadata": {},
   "outputs": [
    {
     "data": {
      "text/plain": [
       "100"
      ]
     },
     "execution_count": 7,
     "metadata": {},
     "output_type": "execute_result"
    }
   ],
   "source": [
    "epochs"
   ]
  },
  {
   "cell_type": "code",
   "execution_count": 11,
   "metadata": {},
   "outputs": [],
   "source": [
    "def train(net, optimizer, criterion, batch_size, n_batches, x, y, epochs, model_name, plot, n):\n",
    "    model = net.to(device)\n",
    "    total_step = n_batches\n",
    "    train_loss_values = []\n",
    "    schedule_lr = 1e-3\n",
    "    for epoch in range(epochs):\n",
    "        correct = 0\n",
    "        total = 0\n",
    "        running_loss = 0.0\n",
    "        # print(schedule_lr)\n",
    "        if epoch % 20==0 and epoch>0 and epoch <61:\n",
    "            schedule_lr = schedule_lr * 0.1\n",
    "            for op_params in optimizer.param_groups:\n",
    "                op_params['lr'] = schedule_lr\n",
    "        if epoch % 5==0 and epoch>60 and epoch <120:\n",
    "            schedule_lr = schedule_lr * 0.1\n",
    "            for op_params in optimizer.param_groups:\n",
    "                op_params['lr'] = schedule_lr\n",
    "        for i in range(n_batches):\n",
    "            idx = np.random.choice(np.arange(0,n),batch_size)\n",
    "            input = x[idx].reshape((-1,1)).to(device)\n",
    "            # print(input.shape)\n",
    "            labels = y[idx].reshape((-1,1)).to(device)\n",
    "            # Move tensors to configured device\n",
    "            # input = x[:,i].reshape((-1,1)).to(device)\n",
    "            # labels = y[:,i].reshape((-1,1)).to(device)\n",
    "            #Forward Pass\n",
    "            outputs = model(input)\n",
    "            loss = criterion(outputs, labels)\n",
    "            optimizer.zero_grad()\n",
    "            loss.backward()\n",
    "            running_loss += loss.item()*batch_size\n",
    "            total += batch_size\n",
    "            optimizer.step()\n",
    "        # if epoch % 50 == 0: \n",
    "        #     print ('Epoch [{}/{}], Step [{}/{}], Loss: {:.4f}'.format(epoch+1, epochs, i+1, total_step, running_loss/total))\n",
    "        train_loss_values.append(running_loss/total)\n",
    "\n",
    "    return train_loss_values"
   ]
  },
  {
   "cell_type": "code",
   "execution_count": 15,
   "metadata": {},
   "outputs": [
    {
     "name": "stdout",
     "output_type": "stream",
     "text": [
      "2 4 8\n",
      "2 4 8\n",
      "2 4 8\n",
      "2 4 8\n",
      "2 4 8\n",
      "4 8 32\n",
      "4 8 32\n",
      "4 8 32\n",
      "4 8 32\n",
      "4 8 32\n",
      "4 8 32\n",
      "8 16 128\n",
      "8 16 128\n",
      "8 16 128\n",
      "8 16 128\n",
      "8 16 128\n",
      "8 16 128\n",
      "16 32 512\n",
      "16 32 512\n",
      "16 32 512\n",
      "CPU times: total: 1min 10s\n",
      "Wall time: 10min 41s\n"
     ]
    }
   ],
   "source": [
    "%%time\n",
    "mean_dis_in_list = []\n",
    "std_dis_in_list = []\n",
    "mean_dis_out_list = []\n",
    "std_dis_out_list = []\n",
    "for n in ns:\n",
    "    i = ((np.log2(n)-1)/2).astype(int)\n",
    "    batch_size = 2**i\n",
    "    n_batches = 2**(i+1)\n",
    "    print(batch_size, n_batches, batch_size*n_batches)\n",
    "    dis_in_list = []\n",
    "    dis_out_list = []\n",
    "    for rerun_i in range(5):\n",
    "        ## train dataset\n",
    "        x_train = torch.ones(n)\n",
    "        x_train = x_train.uniform_(0.0, 1.0)\n",
    "        y_train = torch.sin(10*torch.pi*torch.pow(x_train, 4))\n",
    "        ## model training\n",
    "        model = NeuralNetwork().to(device)\n",
    "        # epochs = 100\n",
    "        # criterion = nn.MSELoss()\n",
    "        optimizer = optim.Adam(model.parameters(), lr=1e-3,weight_decay=1e-3) #, weight_decay=0.0001\n",
    "        train_loss_values= train(model, optimizer, criterion, batch_size, n_batches, x_train, y_train, epochs, 'nn_curve', True, n)\n",
    "        ## discrepancy data\n",
    "        x_in = torch.ones(1000)\n",
    "        x_in = x_in.uniform_(0.0, 1.0)\n",
    "        y_in = torch.sin(10*torch.pi*torch.pow(x_in, 4))\n",
    "        x_out = torch.ones(1000)\n",
    "        x_out = x_out.uniform_(0.0, 1.5)\n",
    "        y_out = torch.sin(10*torch.pi*torch.pow(x_out, 4))\n",
    "\n",
    "        pred_y_in = torch.squeeze(model(x_in.reshape((-1,1))).detach())\n",
    "        pred_y_out = torch.squeeze(model(x_out.reshape((-1,1))).detach())\n",
    "\n",
    "        dis_in_list.append(torch.abs(pred_y_in - y_in).detach().numpy().max())\n",
    "        dis_out_list.append(torch.abs(pred_y_out - y_out).detach().numpy().max())\n",
    "\n",
    "        # print('Largest discrepancy within the support is:', torch.abs(pred_y_in - y_in).detach().numpy().max())\n",
    "        # print('Largest discrepancy outside the support is:', torch.abs(pred_y_out - y_out).detach().numpy().max())  \n",
    "\n",
    "    mean_dis_in_list.append(np.array(dis_in_list).mean())\n",
    "    std_dis_in_list.append(np.array(dis_in_list).std())\n",
    "    mean_dis_out_list.append(np.array(dis_out_list).mean())\n",
    "    std_dis_out_list.append(np.array(dis_out_list).std())"
   ]
  },
  {
   "cell_type": "code",
   "execution_count": 13,
   "metadata": {},
   "outputs": [],
   "source": [
    "np.save('mean_dis_in_list_hw4_p4_pb.npy', np.array(mean_dis_in_list))\n",
    "np.save('std_dis_in_list_hw4_p4_pb.npy', np.array(std_dis_in_list))\n",
    "np.save('mean_dis_out_list_hw4_p4_pb.npy', np.array(mean_dis_out_list))\n",
    "np.save('std_dis_out_list_hw4_p4_pb.npy', np.array(std_dis_out_list))"
   ]
  },
  {
   "cell_type": "code",
   "execution_count": 146,
   "metadata": {},
   "outputs": [],
   "source": [
    "np.save('ns_hw4_p4_pc.npy', ns)"
   ]
  },
  {
   "cell_type": "code",
   "execution_count": null,
   "metadata": {},
   "outputs": [
    {
     "data": {
      "image/png": "[encoded data removed]",
      "text/plain": [
       "<Figure size 640x480 with 1 Axes>"
      ]
     },
     "metadata": {},
     "output_type": "display_data"
    }
   ],
   "source": [
    "import matplotlib.pyplot as plt\n",
    "plt.plot(ns,np.log(np.array(mean_dis_in_list)), label = 'mean within support')\n",
    "plt.plot(ns,np.log(np.array(std_dis_in_list)), label = 'std within support')\n",
    "plt.plot(ns,np.log(np.array(mean_dis_out_list)), label = 'mean outside support')\n",
    "plt.plot(ns,np.log(np.array(std_dis_out_list)), label = 'std outside support')\n",
    "plt.legend(loc='upper center', bbox_to_anchor=(0.5, -0.05),\n",
    "          fancybox=True, shadow=True, ncol=5)\n",
    "plt.show()"
   ]
  }
 ],
 "metadata": {
  "kernelspec": {
   "display_name": "pytorch-tlio",
   "language": "python",
   "name": "python3"
  },
  "language_info": {
   "codemirror_mode": {
    "name": "ipython",
    "version": 3
   },
   "file_extension": ".py",
   "mimetype": "text/x-python",
   "name": "python",
   "nbconvert_exporter": "python",
   "pygments_lexer": "ipython3",
   "version": "3.9.17"
  }
 },
 "nbformat": 4,
 "nbformat_minor": 2
}
